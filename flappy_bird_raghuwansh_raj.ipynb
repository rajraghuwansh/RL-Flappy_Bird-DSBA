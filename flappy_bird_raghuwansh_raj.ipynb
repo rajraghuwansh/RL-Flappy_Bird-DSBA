{
 "cells": [
  {
   "cell_type": "code",
   "execution_count": 1,
   "id": "b21140d7",
   "metadata": {},
   "outputs": [],
   "source": [
    "#pip install git+https://gitlab-research.centralesupelec.fr/stergios.christodoulidis/text-flappy-bird-gym.git"
   ]
  },
  {
   "cell_type": "markdown",
   "id": "b49bf42f",
   "metadata": {},
   "source": [
    "### Import Libraries"
   ]
  },
  {
   "cell_type": "code",
   "execution_count": 1,
   "id": "34ac5d90",
   "metadata": {},
   "outputs": [],
   "source": [
    "import numpy as np\n",
    "from scipy.stats import sem\n",
    "import matplotlib.pyplot as plt\n",
    "import agent\n",
    "from tqdm import tqdm\n",
    "import pickle\n",
    "from collections import defaultdict\n",
    "import sys\n",
    "import itertools\n",
    "import os, sys\n",
    "import gym\n",
    "import time\n",
    "import pandas as pd\n",
    "import text_flappy_bird_gym\n",
    "import matplotlib.pyplot as plt\n",
    "from text_flappy_bird_env_screen import TextFlappyBirdEnvScreen\n",
    "from text_flappy_bird_logic import FlappyBirdLogic\n",
    "from text_flappy_bird_env_simple import TextFlappyBirdEnvSimple"
   ]
  },
  {
   "cell_type": "code",
   "execution_count": 2,
   "id": "f642560e",
   "metadata": {},
   "outputs": [
    {
     "name": "stdout",
     "output_type": "stream",
     "text": [
      "Tuple(Discrete(15), Discrete(22))\n",
      "Discrete(2)\n"
     ]
    }
   ],
   "source": [
    "env = gym.make('TextFlappyBird-v0', height = 15, width = 20, pipe_gap = 4)\n",
    "print(env.observation_space)\n",
    "print(env.action_space)"
   ]
  },
  {
   "cell_type": "markdown",
   "id": "7703b755",
   "metadata": {},
   "source": [
    "# Helper functions:\n",
    "#### 1. generate rewards per 500 episodes\n",
    "#### 2. plot reward with episode\n",
    "#### 3. plot State Values"
   ]
  },
  {
   "cell_type": "code",
   "execution_count": 11,
   "id": "8e14a20c",
   "metadata": {},
   "outputs": [],
   "source": [
    "def generate_rewards(R):\n",
    "    for i in range(10):\n",
    "        print((i + 1) * 5000, \":mean episode reward \",np.mean(R[5000*i:5000*(i+1)]))\n",
    "    "
   ]
  },
  {
   "cell_type": "code",
   "execution_count": 12,
   "id": "33e6350d",
   "metadata": {},
   "outputs": [],
   "source": [
    "def plot_rewards(reward,agent):\n",
    "    plt.plot(reward, label = agent)\n",
    "    plt.xlabel(\"Episodes\")\n",
    "    plt.ylabel(\"Sum of\\n rewards\\n during\\n episode\",rotation=0, labelpad=40)\n",
    "    plt.xlim(0,5000)\n",
    "    plt.ylim(0,1000)\n",
    "    plt.legend()\n",
    "    plt.show()"
   ]
  },
  {
   "cell_type": "code",
   "execution_count": 13,
   "id": "5884e2b9",
   "metadata": {},
   "outputs": [],
   "source": [
    "def plot_state_values(V):\n",
    "\n",
    "    def get_Z(x, y):\n",
    "        if (x,y) in V:\n",
    "            return V[x,y]\n",
    "        else:\n",
    "            return 0\n",
    "\n",
    "    def get_figure(ax):\n",
    "        x_range = np.arange(0, 7)\n",
    "        y_range = np.arange(-7, 9)\n",
    "        X, Y = np.meshgrid(x_range, y_range)\n",
    "        \n",
    "        Z = np.array([get_Z(x,y) for x,y in zip(np.ravel(X), np.ravel(Y))]).reshape(X.shape)\n",
    "\n",
    "        surf = ax.plot_surface(X, Y, Z, rstride=1, cstride=1, vmin=-1.0, vmax=1.0)\n",
    "        ax.set_xlabel('x-axis')\n",
    "        ax.set_ylabel('y-axis')\n",
    "        ax.set_zlabel('State Value')\n",
    "        ax.view_init(ax.elev, -120)\n",
    "\n",
    "    fig = plt.figure(figsize=(20, 20))\n",
    "    ax = fig.add_subplot(211, projection='3d')\n",
    "    ax.set_title('State-Value Graph')\n",
    "    get_figure(ax)\n",
    "    plt.show()\n"
   ]
  },
  {
   "cell_type": "markdown",
   "id": "668f50d8",
   "metadata": {},
   "source": [
    "# Agents:\n",
    "## 1.Q-Learning\n",
    "## 2.Expected-Sarsa"
   ]
  },
  {
   "cell_type": "markdown",
   "id": "ce735b66",
   "metadata": {},
   "source": [
    "### Q_learning Agent"
   ]
  },
  {
   "cell_type": "code",
   "execution_count": 14,
   "id": "5e902403",
   "metadata": {},
   "outputs": [],
   "source": [
    "def make_epsilon_greedy_policy(Q, epsilon, nA):\n",
    "    def policy_fn(observation):\n",
    "        A = np.ones(nA, dtype=float) * epsilon / nA\n",
    "        best_action = np.argmax(Q[observation])\n",
    "        A[best_action] += (1.0 - epsilon)\n",
    "        return A\n",
    "    return policy_fn"
   ]
  },
  {
   "cell_type": "code",
   "execution_count": 30,
   "id": "fd96ff28",
   "metadata": {},
   "outputs": [],
   "source": [
    "def q_learning(env, num_episodes, alpha,discount_factor=1.0, epsilon=0.1):\n",
    "    \"\"\"\n",
    "    Q-Learning algorithm: Off-policy TD control. Finds the optimal greedy policy\n",
    "    while following an epsilon-greedy policy\n",
    "    \n",
    "    Args:\n",
    "        env: OpenAI environment.\n",
    "        num_episodes: Number of episodes to run for.\n",
    "        discount_factor: Gamma discount factor.\n",
    "        alpha: TD learning rate.\n",
    "        epsilon: Chance to sample a random action. Float between 0 and 1.\n",
    "    \n",
    "    Returns:\n",
    "        Q is the optimal action-value function, a dictionary mapping state -> action values.\n",
    "        .\n",
    "    \"\"\"\n",
    "    \n",
    "    # The final action-value function.\n",
    "    # A nested dictionary that maps state -> (action -> action-value).\n",
    "    Q = defaultdict(lambda: np.zeros(env.action_space.n))\n",
    "    all_rewards=[]\n",
    " \n",
    "    \n",
    "    # The policy we're following\n",
    "    policy = make_epsilon_greedy_policy(Q, epsilon, env.action_space.n)\n",
    "    \n",
    "    for i_episode in range(num_episodes):\n",
    "        # Print out which episode we're on, useful for debugging.\n",
    "        if (i_episode + 1) % 100 == 0:\n",
    "            print(\"\\rEpisode {}/{}.\".format(i_episode + 1, num_episodes), end=\"\")\n",
    "            sys.stdout.flush()\n",
    "        \n",
    "        # Reset the environment and pick the first action\n",
    "        state = env.reset()\n",
    "        \n",
    "        # One step in the environment\n",
    "        total_reward = 0.0\n",
    "        for t in itertools.count():\n",
    "            \n",
    "            # Take a step\n",
    "            action_probs = policy(state)\n",
    "            action = np.random.choice(np.arange(len(action_probs)), p=action_probs)\n",
    "            next_state, reward, done, _ = env.step(action)\n",
    "\n",
    "\n",
    "            # TD Update\n",
    "            best_next_action = np.argmax(Q[next_state])    \n",
    "            td_target = reward + discount_factor * Q[next_state][best_next_action]\n",
    "            td_delta = td_target - Q[state][action]\n",
    "            Q[state][action] += alpha * td_delta\n",
    "                \n",
    "            if done:\n",
    "                break\n",
    "                \n",
    "            state = next_state\n",
    "            total_reward+=reward\n",
    "        all_rewards.append(total_reward)\n",
    "    \n",
    "    return Q,all_rewards"
   ]
  },
  {
   "cell_type": "code",
   "execution_count": 31,
   "id": "2f396834",
   "metadata": {
    "scrolled": false
   },
   "outputs": [
    {
     "name": "stdout",
     "output_type": "stream",
     "text": [
      "Episode 50000/50000."
     ]
    }
   ],
   "source": [
    "Q,all_rewards = q_learning(env,50000,alpha=0.5)\n",
    "Q_policy = dict((k,(np.argmax(v))) for k, v in Q.items())\n"
   ]
  },
  {
   "cell_type": "code",
   "execution_count": 32,
   "id": "1c93792e",
   "metadata": {
    "scrolled": true
   },
   "outputs": [
    {
     "name": "stdout",
     "output_type": "stream",
     "text": [
      "5000 :mean episode reward  43.2026\n",
      "10000 :mean episode reward  92.0438\n",
      "15000 :mean episode reward  95.5902\n",
      "20000 :mean episode reward  97.7556\n",
      "25000 :mean episode reward  94.4082\n",
      "30000 :mean episode reward  91.6428\n",
      "35000 :mean episode reward  84.9234\n",
      "40000 :mean episode reward  90.471\n",
      "45000 :mean episode reward  85.041\n",
      "50000 :mean episode reward  85.8962\n"
     ]
    }
   ],
   "source": [
    "generate_rewards(all_rewards)"
   ]
  },
  {
   "cell_type": "code",
   "execution_count": 33,
   "id": "456b8292",
   "metadata": {},
   "outputs": [
    {
     "name": "stdout",
     "output_type": "stream",
     "text": [
      "the total mean reward for Q-learning agent is 86.09748\n"
     ]
    }
   ],
   "source": [
    "print(\"the total mean reward for Q-learning agent is {}\".format(np.mean(all_rewards)))"
   ]
  },
  {
   "cell_type": "code",
   "execution_count": 34,
   "id": "51d8a3de",
   "metadata": {},
   "outputs": [
    {
     "data": {
      "image/png": "[encoded data removed]",
      "text/plain": [
       "<Figure size 432x288 with 1 Axes>"
      ]
     },
     "metadata": {
      "needs_background": "light"
     },
     "output_type": "display_data"
    }
   ],
   "source": [
    "plot_rewards(all_rewards,\"Q-Learning\")"
   ]
  },
  {
   "cell_type": "code",
   "execution_count": 35,
   "id": "60e97404",
   "metadata": {},
   "outputs": [
    {
     "data": {
      "image/png": "[encoded data removed]",
      "text/plain": [
       "<Figure size 1440x1440 with 1 Axes>"
      ]
     },
     "metadata": {
      "needs_background": "light"
     },
     "output_type": "display_data"
    }
   ],
   "source": [
    "V_q = dict((k,(np.max(v))) for k, v in Q.items())\n",
    "plot_state_values(V_q)"
   ]
  },
  {
   "cell_type": "markdown",
   "id": "5be9d79f",
   "metadata": {},
   "source": [
    "## Sarsa Agent"
   ]
  },
  {
   "cell_type": "code",
   "execution_count": 21,
   "id": "7352380d",
   "metadata": {},
   "outputs": [],
   "source": [
    "def sarsa(env, num_episodes,alpha,discount_factor=1.0,epsilon=0.1):\n",
    "    \"\"\"\n",
    "    SARSA algorithm: On-policy TD control. Finds the optimal epsilon-greedy policy.\n",
    "    \n",
    "    Args:\n",
    "        env: OpenAI environment.\n",
    "        num_episodes: Number of episodes to run for.\n",
    "        discount_factor: Gamma discount factor.\n",
    "        alpha: TD learning rate.\n",
    "        epsilon: Chance the sample a random action. Float betwen 0 and 1.\n",
    "    \n",
    "    Returns:\n",
    "        Q is the optimal action-value function, a dictionary mapping state -> action values.\n",
    "        \n",
    "    \"\"\"\n",
    "    \n",
    "    # The final action-value function.\n",
    "    # A nested dictionary that maps state -> (action -> action-value).\n",
    "    Q = defaultdict(lambda: np.zeros(env.action_space.n))\n",
    "    all_rewards=[]\n",
    "    \n",
    "\n",
    "    # The policy we're following\n",
    "    policy = make_epsilon_greedy_policy(Q, epsilon, env.action_space.n)\n",
    "    score_eval = []\n",
    "    for i_episode in range(num_episodes):\n",
    "        # Print out which episode we're on, useful for debugging.\n",
    "        if (i_episode + 1) % 100 == 0:\n",
    "            print(\"\\rEpisode {}/{}.\".format(i_episode + 1, num_episodes), end=\"\")\n",
    "            sys.stdout.flush()\n",
    "        \n",
    "        # Reset the environment and pick the first action\n",
    "        state = env.reset()\n",
    "        action_probs = policy(state)\n",
    "        action = np.random.choice(np.arange(len(action_probs)), p=action_probs)\n",
    "        total_reward = 0.0\n",
    "        # One step in the environment\n",
    "        for t in itertools.count():\n",
    "            # Take a step\n",
    "            next_state, reward, done, _ = env.step(action)\n",
    "            \n",
    "            # Pick the next action\n",
    "            next_action_probs = policy(next_state)\n",
    "            next_action = np.random.choice(np.arange(len(next_action_probs)), p=next_action_probs)\n",
    "            \n",
    "            # TD Update\n",
    "            td_target = reward + discount_factor * Q[next_state][next_action]\n",
    "            td_delta = td_target - Q[state][action]\n",
    "            Q[state][action] += alpha * td_delta\n",
    "    \n",
    "            if done:\n",
    "                break\n",
    "                \n",
    "            action = next_action\n",
    "            state = next_state  \n",
    "            total_reward+=reward\n",
    "        all_rewards.append(total_reward)\n",
    "    \n",
    "    return Q,all_rewards"
   ]
  },
  {
   "cell_type": "code",
   "execution_count": 22,
   "id": "f81e1639",
   "metadata": {},
   "outputs": [
    {
     "name": "stdout",
     "output_type": "stream",
     "text": [
      "Episode 50000/50000."
     ]
    }
   ],
   "source": [
    "Q_sarsa,sarsa_rewards = sarsa(env,50000,alpha=0.5)\n",
    "S_policy = dict((k,(np.argmax(v))) for k, v in Q_sarsa.items())"
   ]
  },
  {
   "cell_type": "code",
   "execution_count": 23,
   "id": "75bb75bd",
   "metadata": {},
   "outputs": [
    {
     "name": "stdout",
     "output_type": "stream",
     "text": [
      "5000 :mean episode reward  34.3098\n",
      "10000 :mean episode reward  64.0956\n",
      "15000 :mean episode reward  61.5898\n",
      "20000 :mean episode reward  64.5252\n",
      "25000 :mean episode reward  61.797\n",
      "30000 :mean episode reward  63.5392\n",
      "35000 :mean episode reward  62.2884\n",
      "40000 :mean episode reward  63.438\n",
      "45000 :mean episode reward  64.2544\n",
      "50000 :mean episode reward  64.4546\n"
     ]
    }
   ],
   "source": [
    "generate_rewards(sarsa_rewards)"
   ]
  },
  {
   "cell_type": "code",
   "execution_count": 25,
   "id": "99562c5d",
   "metadata": {},
   "outputs": [
    {
     "name": "stdout",
     "output_type": "stream",
     "text": [
      "the total mean reward for sarsa-learning agent is 60.4292\n"
     ]
    }
   ],
   "source": [
    "print(\"the total mean reward for sarsa-learning agent is {}\".format(np.mean(sarsa_rewards)))"
   ]
  },
  {
   "cell_type": "code",
   "execution_count": 26,
   "id": "f9fd2a68",
   "metadata": {},
   "outputs": [
    {
     "data": {
      "image/png": "[encoded data removed]",
      "text/plain": [
       "<Figure size 432x288 with 1 Axes>"
      ]
     },
     "metadata": {
      "needs_background": "light"
     },
     "output_type": "display_data"
    }
   ],
   "source": [
    "plot_rewards(sarsa_rewards,\"Sarsa-Learning\")"
   ]
  },
  {
   "cell_type": "code",
   "execution_count": 27,
   "id": "9b2889ed",
   "metadata": {},
   "outputs": [
    {
     "data": {
      "image/png": "[encoded data removed]",
      "text/plain": [
       "<Figure size 1440x1440 with 1 Axes>"
      ]
     },
     "metadata": {
      "needs_background": "light"
     },
     "output_type": "display_data"
    }
   ],
   "source": [
    "V_sarsa = dict((k,(np.max(v))) for k, v in Q_sarsa.items())\n",
    "plot_state_values(V_sarsa)"
   ]
  },
  {
   "cell_type": "markdown",
   "id": "08d27aa7",
   "metadata": {},
   "source": [
    "# Evaluation script:\n",
    "#### Q_policy -policy obtained by agent using Q learning\n",
    "#### S_policy -policy obtained by agent using sarsa learning"
   ]
  },
  {
   "cell_type": "code",
   "execution_count": 29,
   "id": "fe83f039",
   "metadata": {},
   "outputs": [
    {
     "name": "stdout",
     "output_type": "stream",
     "text": [
      "False\n",
      "Text Flappy Bird!\n",
      "Score: 0\n",
      "----------------------\n",
      "[                  \u001b[32m|\u001b[0m ]\n",
      "[                  \u001b[32m|\u001b[0m ]\n",
      "[                  \u001b[32m|\u001b[0m ]\n",
      "[                  \u001b[32m|\u001b[0m ]\n",
      "[                  \u001b[32m|\u001b[0m ]\n",
      "[                    ]\n",
      "[                    ]\n",
      "[      \u001b[33m@\u001b[0m             ]\n",
      "[                    ]\n",
      "[                  \u001b[32m|\u001b[0m ]\n",
      "[                  \u001b[32m|\u001b[0m ]\n",
      "[                  \u001b[32m|\u001b[0m ]\n",
      "[                  \u001b[32m|\u001b[0m ]\n",
      "[                  \u001b[32m|\u001b[0m ]\n",
      "[                  \u001b[32m|\u001b[0m ]\n",
      "^^^^^^^^^^^^^^^^^^^^^^\n",
      "Player Action (Idle)\n",
      "Distance From Pipe (x=12,y=0)\n",
      "False\n",
      "Text Flappy Bird!\n",
      "Score: 0\n",
      "----------------------\n",
      "[                 \u001b[32m|\u001b[0m  ]\n",
      "[                 \u001b[32m|\u001b[0m  ]\n",
      "[                 \u001b[32m|\u001b[0m  ]\n",
      "[                 \u001b[32m|\u001b[0m  ]\n",
      "[                 \u001b[32m|\u001b[0m  ]\n",
      "[                    ]\n",
      "[                    ]\n",
      "[                    ]\n",
      "[                    ]\n",
      "[      \u001b[33m@\u001b[0m          \u001b[32m|\u001b[0m  ]\n",
      "[                 \u001b[32m|\u001b[0m  ]\n",
      "[                 \u001b[32m|\u001b[0m  ]\n",
      "[                 \u001b[32m|\u001b[0m  ]\n",
      "[                 \u001b[32m|\u001b[0m  ]\n",
      "[                 \u001b[32m|\u001b[0m  ]\n",
      "^^^^^^^^^^^^^^^^^^^^^^\n",
      "Player Action (Idle)\n",
      "Distance From Pipe (x=11,y=2)\n",
      "False\n",
      "Text Flappy Bird!\n",
      "Score: 0\n",
      "----------------------\n",
      "[                \u001b[32m|\u001b[0m   ]\n",
      "[                \u001b[32m|\u001b[0m   ]\n",
      "[                \u001b[32m|\u001b[0m   ]\n",
      "[                \u001b[32m|\u001b[0m   ]\n",
      "[                \u001b[32m|\u001b[0m   ]\n",
      "[                    ]\n",
      "[                    ]\n",
      "[                    ]\n",
      "[      \u001b[33m@\u001b[0m             ]\n",
      "[                \u001b[32m|\u001b[0m   ]\n",
      "[                \u001b[32m|\u001b[0m   ]\n",
      "[                \u001b[32m|\u001b[0m   ]\n",
      "[                \u001b[32m|\u001b[0m   ]\n",
      "[                \u001b[32m|\u001b[0m   ]\n",
      "[                \u001b[32m|\u001b[0m   ]\n",
      "^^^^^^^^^^^^^^^^^^^^^^\n",
      "Player Action (Flap)\n",
      "Distance From Pipe (x=10,y=1)\n",
      "False\n",
      "Text Flappy Bird!\n",
      "Score: 0\n",
      "----------------------\n",
      "[               \u001b[32m|\u001b[0m    ]\n",
      "[               \u001b[32m|\u001b[0m    ]\n",
      "[               \u001b[32m|\u001b[0m    ]\n",
      "[               \u001b[32m|\u001b[0m    ]\n",
      "[               \u001b[32m|\u001b[0m    ]\n",
      "[                    ]\n",
      "[                    ]\n",
      "[      \u001b[33m@\u001b[0m             ]\n",
      "[                    ]\n",
      "[               \u001b[32m|\u001b[0m    ]\n",
      "[               \u001b[32m|\u001b[0m    ]\n",
      "[               \u001b[32m|\u001b[0m    ]\n",
      "[               \u001b[32m|\u001b[0m    ]\n",
      "[               \u001b[32m|\u001b[0m    ]\n",
      "[               \u001b[32m|\u001b[0m    ]\n",
      "^^^^^^^^^^^^^^^^^^^^^^\n",
      "Player Action (Flap)\n",
      "Distance From Pipe (x=9,y=0)\n",
      "False\n",
      "Text Flappy Bird!\n",
      "Score: 0\n",
      "----------------------\n",
      "[              \u001b[32m|\u001b[0m     ]\n",
      "[              \u001b[32m|\u001b[0m     ]\n",
      "[              \u001b[32m|\u001b[0m     ]\n",
      "[              \u001b[32m|\u001b[0m     ]\n",
      "[              \u001b[32m|\u001b[0m     ]\n",
      "[                    ]\n",
      "[      \u001b[33m@\u001b[0m             ]\n",
      "[                    ]\n",
      "[                    ]\n",
      "[              \u001b[32m|\u001b[0m     ]\n",
      "[              \u001b[32m|\u001b[0m     ]\n",
      "[              \u001b[32m|\u001b[0m     ]\n",
      "[              \u001b[32m|\u001b[0m     ]\n",
      "[              \u001b[32m|\u001b[0m     ]\n",
      "[              \u001b[32m|\u001b[0m     ]\n",
      "^^^^^^^^^^^^^^^^^^^^^^\n",
      "Player Action (Flap)\n",
      "Distance From Pipe (x=8,y=-1)\n",
      "False\n",
      "Text Flappy Bird!\n",
      "Score: 0\n",
      "----------------------\n",
      "[             \u001b[32m|\u001b[0m      ]\n",
      "[             \u001b[32m|\u001b[0m      ]\n",
      "[             \u001b[32m|\u001b[0m      ]\n",
      "[             \u001b[32m|\u001b[0m      ]\n",
      "[             \u001b[32m|\u001b[0m      ]\n",
      "[      \u001b[33m@\u001b[0m             ]\n",
      "[                    ]\n",
      "[                    ]\n",
      "[                    ]\n",
      "[             \u001b[32m|\u001b[0m      ]\n",
      "[             \u001b[32m|\u001b[0m      ]\n",
      "[             \u001b[32m|\u001b[0m      ]\n",
      "[             \u001b[32m|\u001b[0m      ]\n",
      "[             \u001b[32m|\u001b[0m      ]\n",
      "[             \u001b[32m|\u001b[0m      ]\n",
      "^^^^^^^^^^^^^^^^^^^^^^\n",
      "Player Action (Flap)\n",
      "Distance From Pipe (x=7,y=-2)\n",
      "False\n",
      "Text Flappy Bird!\n",
      "Score: 0\n",
      "----------------------\n",
      "[            \u001b[32m|\u001b[0m       ]\n",
      "[            \u001b[32m|\u001b[0m       ]\n",
      "[            \u001b[32m|\u001b[0m       ]\n",
      "[            \u001b[32m|\u001b[0m       ]\n",
      "[      \u001b[33m@\u001b[0m     \u001b[32m|\u001b[0m       ]\n",
      "[                    ]\n",
      "[                    ]\n",
      "[                    ]\n",
      "[                    ]\n",
      "[            \u001b[32m|\u001b[0m       ]\n",
      "[            \u001b[32m|\u001b[0m       ]\n",
      "[            \u001b[32m|\u001b[0m       ]\n",
      "[            \u001b[32m|\u001b[0m       ]\n",
      "[            \u001b[32m|\u001b[0m       ]\n",
      "[            \u001b[32m|\u001b[0m       ]\n",
      "^^^^^^^^^^^^^^^^^^^^^^\n",
      "Player Action (Flap)\n",
      "Distance From Pipe (x=6,y=-3)\n",
      "False\n",
      "Text Flappy Bird!\n",
      "Score: 0\n",
      "----------------------\n",
      "[           \u001b[32m|\u001b[0m        ]\n",
      "[           \u001b[32m|\u001b[0m        ]\n",
      "[           \u001b[32m|\u001b[0m        ]\n",
      "[      \u001b[33m@\u001b[0m    \u001b[32m|\u001b[0m        ]\n",
      "[           \u001b[32m|\u001b[0m        ]\n",
      "[                    ]\n",
      "[                    ]\n",
      "[                    ]\n",
      "[                    ]\n",
      "[           \u001b[32m|\u001b[0m        ]\n",
      "[           \u001b[32m|\u001b[0m        ]\n",
      "[           \u001b[32m|\u001b[0m        ]\n",
      "[           \u001b[32m|\u001b[0m        ]\n",
      "[           \u001b[32m|\u001b[0m        ]\n",
      "[           \u001b[32m|\u001b[0m        ]\n",
      "^^^^^^^^^^^^^^^^^^^^^^\n",
      "Player Action (Flap)\n",
      "Distance From Pipe (x=5,y=-4)\n",
      "False\n",
      "Text Flappy Bird!\n",
      "Score: 0\n",
      "----------------------\n",
      "[          \u001b[32m|\u001b[0m         ]\n",
      "[          \u001b[32m|\u001b[0m         ]\n",
      "[      \u001b[33m@\u001b[0m   \u001b[32m|\u001b[0m         ]\n",
      "[          \u001b[32m|\u001b[0m         ]\n",
      "[          \u001b[32m|\u001b[0m         ]\n",
      "[                    ]\n",
      "[                    ]\n",
      "[                    ]\n",
      "[                    ]\n",
      "[          \u001b[32m|\u001b[0m         ]\n",
      "[          \u001b[32m|\u001b[0m         ]\n",
      "[          \u001b[32m|\u001b[0m         ]\n",
      "[          \u001b[32m|\u001b[0m         ]\n",
      "[          \u001b[32m|\u001b[0m         ]\n",
      "[          \u001b[32m|\u001b[0m         ]\n",
      "^^^^^^^^^^^^^^^^^^^^^^\n",
      "Player Action (Flap)\n",
      "Distance From Pipe (x=4,y=-5)\n",
      "False\n",
      "Text Flappy Bird!\n",
      "Score: 0\n",
      "----------------------\n",
      "[         \u001b[32m|\u001b[0m          ]\n",
      "[         \u001b[32m|\u001b[0m          ]\n",
      "[         \u001b[32m|\u001b[0m          ]\n",
      "[      \u001b[33m@\u001b[0m  \u001b[32m|\u001b[0m          ]\n",
      "[         \u001b[32m|\u001b[0m          ]\n",
      "[                    ]\n",
      "[                    ]\n",
      "[                    ]\n",
      "[                    ]\n",
      "[         \u001b[32m|\u001b[0m          ]\n",
      "[         \u001b[32m|\u001b[0m          ]\n",
      "[         \u001b[32m|\u001b[0m          ]\n",
      "[         \u001b[32m|\u001b[0m          ]\n",
      "[         \u001b[32m|\u001b[0m          ]\n",
      "[         \u001b[32m|\u001b[0m          ]\n",
      "^^^^^^^^^^^^^^^^^^^^^^\n",
      "Player Action (Idle)\n",
      "Distance From Pipe (x=3,y=-4)\n",
      "False\n",
      "Text Flappy Bird!\n",
      "Score: 0\n",
      "----------------------\n",
      "[        \u001b[32m|\u001b[0m         \u001b[32m|\u001b[0m ]\n",
      "[        \u001b[32m|\u001b[0m         \u001b[32m|\u001b[0m ]\n",
      "[        \u001b[32m|\u001b[0m         \u001b[32m|\u001b[0m ]\n",
      "[        \u001b[32m|\u001b[0m         \u001b[32m|\u001b[0m ]\n",
      "[        \u001b[32m|\u001b[0m         \u001b[32m|\u001b[0m ]\n",
      "[                  \u001b[32m|\u001b[0m ]\n",
      "[      \u001b[33m@\u001b[0m           \u001b[32m|\u001b[0m ]\n",
      "[                  \u001b[32m|\u001b[0m ]\n",
      "[                  \u001b[32m|\u001b[0m ]\n",
      "[        \u001b[32m|\u001b[0m         \u001b[32m|\u001b[0m ]\n",
      "[        \u001b[32m|\u001b[0m           ]\n",
      "[        \u001b[32m|\u001b[0m           ]\n",
      "[        \u001b[32m|\u001b[0m           ]\n",
      "[        \u001b[32m|\u001b[0m           ]\n",
      "[        \u001b[32m|\u001b[0m         \u001b[32m|\u001b[0m ]\n",
      "^^^^^^^^^^^^^^^^^^^^^^\n",
      "Player Action (Idle)\n",
      "Distance From Pipe (x=2,y=-1)\n",
      "False\n",
      "Text Flappy Bird!\n",
      "Score: 0\n",
      "----------------------\n",
      "[       \u001b[32m|\u001b[0m         \u001b[32m|\u001b[0m  ]\n",
      "[       \u001b[32m|\u001b[0m         \u001b[32m|\u001b[0m  ]\n",
      "[       \u001b[32m|\u001b[0m         \u001b[32m|\u001b[0m  ]\n",
      "[       \u001b[32m|\u001b[0m         \u001b[32m|\u001b[0m  ]\n",
      "[       \u001b[32m|\u001b[0m         \u001b[32m|\u001b[0m  ]\n",
      "[      \u001b[33m@\u001b[0m          \u001b[32m|\u001b[0m  ]\n",
      "[                 \u001b[32m|\u001b[0m  ]\n",
      "[                 \u001b[32m|\u001b[0m  ]\n",
      "[                 \u001b[32m|\u001b[0m  ]\n",
      "[       \u001b[32m|\u001b[0m         \u001b[32m|\u001b[0m  ]\n",
      "[       \u001b[32m|\u001b[0m            ]\n",
      "[       \u001b[32m|\u001b[0m            ]\n",
      "[       \u001b[32m|\u001b[0m            ]\n",
      "[       \u001b[32m|\u001b[0m            ]\n",
      "[       \u001b[32m|\u001b[0m         \u001b[32m|\u001b[0m  ]\n",
      "^^^^^^^^^^^^^^^^^^^^^^\n",
      "Player Action (Flap)\n",
      "Distance From Pipe (x=1,y=-2)\n",
      "False\n",
      "Text Flappy Bird!\n",
      "Score: 0\n",
      "----------------------\n",
      "[      \u001b[32m|\u001b[0m         \u001b[32m|\u001b[0m   ]\n",
      "[      \u001b[32m|\u001b[0m         \u001b[32m|\u001b[0m   ]\n",
      "[      \u001b[32m|\u001b[0m         \u001b[32m|\u001b[0m   ]\n",
      "[      \u001b[32m|\u001b[0m         \u001b[32m|\u001b[0m   ]\n",
      "[      \u001b[32m|\u001b[0m         \u001b[32m|\u001b[0m   ]\n",
      "[                \u001b[32m|\u001b[0m   ]\n",
      "[      \u001b[33m@\u001b[0m         \u001b[32m|\u001b[0m   ]\n",
      "[                \u001b[32m|\u001b[0m   ]\n",
      "[                \u001b[32m|\u001b[0m   ]\n",
      "[      \u001b[32m|\u001b[0m         \u001b[32m|\u001b[0m   ]\n",
      "[      \u001b[32m|\u001b[0m             ]\n",
      "[      \u001b[32m|\u001b[0m             ]\n",
      "[      \u001b[32m|\u001b[0m             ]\n",
      "[      \u001b[32m|\u001b[0m             ]\n",
      "[      \u001b[32m|\u001b[0m         \u001b[32m|\u001b[0m   ]\n",
      "^^^^^^^^^^^^^^^^^^^^^^\n",
      "Player Action (Idle)\n",
      "Distance From Pipe (x=0,y=-1)\n",
      "False\n",
      "Text Flappy Bird!\n",
      "Score: 1\n",
      "----------------------\n",
      "[     \u001b[32m|\u001b[0m         \u001b[32m|\u001b[0m    ]\n",
      "[     \u001b[32m|\u001b[0m         \u001b[32m|\u001b[0m    ]\n",
      "[     \u001b[32m|\u001b[0m         \u001b[32m|\u001b[0m    ]\n",
      "[     \u001b[32m|\u001b[0m         \u001b[32m|\u001b[0m    ]\n",
      "[     \u001b[32m|\u001b[0m         \u001b[32m|\u001b[0m    ]\n",
      "[               \u001b[32m|\u001b[0m    ]\n",
      "[               \u001b[32m|\u001b[0m    ]\n",
      "[               \u001b[32m|\u001b[0m    ]\n",
      "[               \u001b[32m|\u001b[0m    ]\n",
      "[     \u001b[32m|\u001b[0m\u001b[33m@\u001b[0m        \u001b[32m|\u001b[0m    ]\n",
      "[     \u001b[32m|\u001b[0m              ]\n",
      "[     \u001b[32m|\u001b[0m              ]\n",
      "[     \u001b[32m|\u001b[0m              ]\n",
      "[     \u001b[32m|\u001b[0m              ]\n",
      "[     \u001b[32m|\u001b[0m         \u001b[32m|\u001b[0m    ]\n",
      "^^^^^^^^^^^^^^^^^^^^^^\n",
      "Player Action (Idle)\n",
      "Distance From Pipe (x=9,y=-3)\n"
     ]
    },
    {
     "name": "stdout",
     "output_type": "stream",
     "text": [
      "False\n",
      "Text Flappy Bird!\n",
      "Score: 1\n",
      "----------------------\n",
      "[    \u001b[32m|\u001b[0m         \u001b[32m|\u001b[0m     ]\n",
      "[    \u001b[32m|\u001b[0m         \u001b[32m|\u001b[0m     ]\n",
      "[    \u001b[32m|\u001b[0m         \u001b[32m|\u001b[0m     ]\n",
      "[    \u001b[32m|\u001b[0m         \u001b[32m|\u001b[0m     ]\n",
      "[    \u001b[32m|\u001b[0m         \u001b[32m|\u001b[0m     ]\n",
      "[              \u001b[32m|\u001b[0m     ]\n",
      "[              \u001b[32m|\u001b[0m     ]\n",
      "[              \u001b[32m|\u001b[0m     ]\n",
      "[      \u001b[33m@\u001b[0m       \u001b[32m|\u001b[0m     ]\n",
      "[    \u001b[32m|\u001b[0m         \u001b[32m|\u001b[0m     ]\n",
      "[    \u001b[32m|\u001b[0m               ]\n",
      "[    \u001b[32m|\u001b[0m               ]\n",
      "[    \u001b[32m|\u001b[0m               ]\n",
      "[    \u001b[32m|\u001b[0m               ]\n",
      "[    \u001b[32m|\u001b[0m         \u001b[32m|\u001b[0m     ]\n",
      "^^^^^^^^^^^^^^^^^^^^^^\n",
      "Player Action (Flap)\n",
      "Distance From Pipe (x=8,y=-4)\n",
      "False\n",
      "Text Flappy Bird!\n",
      "Score: 1\n",
      "----------------------\n",
      "[   \u001b[32m|\u001b[0m         \u001b[32m|\u001b[0m      ]\n",
      "[   \u001b[32m|\u001b[0m         \u001b[32m|\u001b[0m      ]\n",
      "[   \u001b[32m|\u001b[0m         \u001b[32m|\u001b[0m      ]\n",
      "[   \u001b[32m|\u001b[0m         \u001b[32m|\u001b[0m      ]\n",
      "[   \u001b[32m|\u001b[0m         \u001b[32m|\u001b[0m      ]\n",
      "[             \u001b[32m|\u001b[0m      ]\n",
      "[             \u001b[32m|\u001b[0m      ]\n",
      "[      \u001b[33m@\u001b[0m      \u001b[32m|\u001b[0m      ]\n",
      "[             \u001b[32m|\u001b[0m      ]\n",
      "[   \u001b[32m|\u001b[0m         \u001b[32m|\u001b[0m      ]\n",
      "[   \u001b[32m|\u001b[0m                ]\n",
      "[   \u001b[32m|\u001b[0m                ]\n",
      "[   \u001b[32m|\u001b[0m                ]\n",
      "[   \u001b[32m|\u001b[0m                ]\n",
      "[   \u001b[32m|\u001b[0m         \u001b[32m|\u001b[0m      ]\n",
      "^^^^^^^^^^^^^^^^^^^^^^\n",
      "Player Action (Flap)\n",
      "Distance From Pipe (x=7,y=-5)\n",
      "False\n",
      "Text Flappy Bird!\n",
      "Score: 1\n",
      "----------------------\n",
      "[  \u001b[32m|\u001b[0m         \u001b[32m|\u001b[0m       ]\n",
      "[  \u001b[32m|\u001b[0m         \u001b[32m|\u001b[0m       ]\n",
      "[  \u001b[32m|\u001b[0m         \u001b[32m|\u001b[0m       ]\n",
      "[  \u001b[32m|\u001b[0m         \u001b[32m|\u001b[0m       ]\n",
      "[  \u001b[32m|\u001b[0m         \u001b[32m|\u001b[0m       ]\n",
      "[            \u001b[32m|\u001b[0m       ]\n",
      "[      \u001b[33m@\u001b[0m     \u001b[32m|\u001b[0m       ]\n",
      "[            \u001b[32m|\u001b[0m       ]\n",
      "[            \u001b[32m|\u001b[0m       ]\n",
      "[  \u001b[32m|\u001b[0m         \u001b[32m|\u001b[0m       ]\n",
      "[  \u001b[32m|\u001b[0m                 ]\n",
      "[  \u001b[32m|\u001b[0m                 ]\n",
      "[  \u001b[32m|\u001b[0m                 ]\n",
      "[  \u001b[32m|\u001b[0m                 ]\n",
      "[  \u001b[32m|\u001b[0m         \u001b[32m|\u001b[0m       ]\n",
      "^^^^^^^^^^^^^^^^^^^^^^\n",
      "Player Action (Flap)\n",
      "Distance From Pipe (x=6,y=-6)\n",
      "False\n",
      "Text Flappy Bird!\n",
      "Score: 1\n",
      "----------------------\n",
      "[ \u001b[32m|\u001b[0m         \u001b[32m|\u001b[0m        ]\n",
      "[ \u001b[32m|\u001b[0m         \u001b[32m|\u001b[0m        ]\n",
      "[ \u001b[32m|\u001b[0m         \u001b[32m|\u001b[0m        ]\n",
      "[ \u001b[32m|\u001b[0m         \u001b[32m|\u001b[0m        ]\n",
      "[ \u001b[32m|\u001b[0m         \u001b[32m|\u001b[0m        ]\n",
      "[           \u001b[32m|\u001b[0m        ]\n",
      "[           \u001b[32m|\u001b[0m        ]\n",
      "[      \u001b[33m@\u001b[0m    \u001b[32m|\u001b[0m        ]\n",
      "[           \u001b[32m|\u001b[0m        ]\n",
      "[ \u001b[32m|\u001b[0m         \u001b[32m|\u001b[0m        ]\n",
      "[ \u001b[32m|\u001b[0m                  ]\n",
      "[ \u001b[32m|\u001b[0m                  ]\n",
      "[ \u001b[32m|\u001b[0m                  ]\n",
      "[ \u001b[32m|\u001b[0m                  ]\n",
      "[ \u001b[32m|\u001b[0m         \u001b[32m|\u001b[0m        ]\n",
      "^^^^^^^^^^^^^^^^^^^^^^\n",
      "Player Action (Idle)\n",
      "Distance From Pipe (x=5,y=-5)\n",
      "False\n",
      "Text Flappy Bird!\n",
      "Score: 1\n",
      "----------------------\n",
      "[\u001b[32m|\u001b[0m         \u001b[32m|\u001b[0m         ]\n",
      "[\u001b[32m|\u001b[0m         \u001b[32m|\u001b[0m         ]\n",
      "[\u001b[32m|\u001b[0m         \u001b[32m|\u001b[0m         ]\n",
      "[\u001b[32m|\u001b[0m         \u001b[32m|\u001b[0m         ]\n",
      "[\u001b[32m|\u001b[0m         \u001b[32m|\u001b[0m         ]\n",
      "[          \u001b[32m|\u001b[0m         ]\n",
      "[          \u001b[32m|\u001b[0m         ]\n",
      "[          \u001b[32m|\u001b[0m         ]\n",
      "[          \u001b[32m|\u001b[0m         ]\n",
      "[\u001b[32m|\u001b[0m         \u001b[32m|\u001b[0m         ]\n",
      "[\u001b[32m|\u001b[0m     \u001b[33m@\u001b[0m             ]\n",
      "[\u001b[32m|\u001b[0m                   ]\n",
      "[\u001b[32m|\u001b[0m                   ]\n",
      "[\u001b[32m|\u001b[0m                   ]\n",
      "[\u001b[32m|\u001b[0m         \u001b[32m|\u001b[0m         ]\n",
      "^^^^^^^^^^^^^^^^^^^^^^\n",
      "Player Action (Idle)\n",
      "Distance From Pipe (x=4,y=-2)\n",
      "False\n",
      "Text Flappy Bird!\n",
      "Score: 1\n",
      "----------------------\n",
      "[         \u001b[32m|\u001b[0m          ]\n",
      "[         \u001b[32m|\u001b[0m          ]\n",
      "[         \u001b[32m|\u001b[0m          ]\n",
      "[         \u001b[32m|\u001b[0m          ]\n",
      "[         \u001b[32m|\u001b[0m          ]\n",
      "[         \u001b[32m|\u001b[0m          ]\n",
      "[         \u001b[32m|\u001b[0m          ]\n",
      "[         \u001b[32m|\u001b[0m          ]\n",
      "[         \u001b[32m|\u001b[0m          ]\n",
      "[      \u001b[33m@\u001b[0m  \u001b[32m|\u001b[0m          ]\n",
      "[                    ]\n",
      "[                    ]\n",
      "[                    ]\n",
      "[                    ]\n",
      "[         \u001b[32m|\u001b[0m          ]\n",
      "^^^^^^^^^^^^^^^^^^^^^^\n",
      "Player Action (Flap)\n",
      "Distance From Pipe (x=3,y=-3)\n",
      "False\n",
      "Text Flappy Bird!\n",
      "Score: 1\n",
      "----------------------\n",
      "[        \u001b[32m|\u001b[0m         \u001b[32m|\u001b[0m ]\n",
      "[        \u001b[32m|\u001b[0m         \u001b[32m|\u001b[0m ]\n",
      "[        \u001b[32m|\u001b[0m         \u001b[32m|\u001b[0m ]\n",
      "[        \u001b[32m|\u001b[0m           ]\n",
      "[        \u001b[32m|\u001b[0m           ]\n",
      "[        \u001b[32m|\u001b[0m           ]\n",
      "[        \u001b[32m|\u001b[0m           ]\n",
      "[        \u001b[32m|\u001b[0m         \u001b[32m|\u001b[0m ]\n",
      "[        \u001b[32m|\u001b[0m         \u001b[32m|\u001b[0m ]\n",
      "[        \u001b[32m|\u001b[0m         \u001b[32m|\u001b[0m ]\n",
      "[      \u001b[33m@\u001b[0m           \u001b[32m|\u001b[0m ]\n",
      "[                  \u001b[32m|\u001b[0m ]\n",
      "[                  \u001b[32m|\u001b[0m ]\n",
      "[                  \u001b[32m|\u001b[0m ]\n",
      "[        \u001b[32m|\u001b[0m         \u001b[32m|\u001b[0m ]\n",
      "^^^^^^^^^^^^^^^^^^^^^^\n",
      "Player Action (Idle)\n",
      "Distance From Pipe (x=2,y=-2)\n",
      "False\n",
      "Text Flappy Bird!\n",
      "Score: 1\n",
      "----------------------\n",
      "[       \u001b[32m|\u001b[0m         \u001b[32m|\u001b[0m  ]\n",
      "[       \u001b[32m|\u001b[0m         \u001b[32m|\u001b[0m  ]\n",
      "[       \u001b[32m|\u001b[0m         \u001b[32m|\u001b[0m  ]\n",
      "[       \u001b[32m|\u001b[0m            ]\n",
      "[       \u001b[32m|\u001b[0m            ]\n",
      "[       \u001b[32m|\u001b[0m            ]\n",
      "[       \u001b[32m|\u001b[0m            ]\n",
      "[       \u001b[32m|\u001b[0m         \u001b[32m|\u001b[0m  ]\n",
      "[       \u001b[32m|\u001b[0m         \u001b[32m|\u001b[0m  ]\n",
      "[       \u001b[32m|\u001b[0m         \u001b[32m|\u001b[0m  ]\n",
      "[                 \u001b[32m|\u001b[0m  ]\n",
      "[                 \u001b[32m|\u001b[0m  ]\n",
      "[                 \u001b[32m|\u001b[0m  ]\n",
      "[      \u001b[33m@\u001b[0m          \u001b[32m|\u001b[0m  ]\n",
      "[       \u001b[32m|\u001b[0m         \u001b[32m|\u001b[0m  ]\n",
      "^^^^^^^^^^^^^^^^^^^^^^\n",
      "Player Action (Idle)\n",
      "Distance From Pipe (x=1,y=1)\n",
      "False\n",
      "Text Flappy Bird!\n",
      "Score: 1\n",
      "----------------------\n",
      "[      \u001b[32m|\u001b[0m         \u001b[32m|\u001b[0m   ]\n",
      "[      \u001b[32m|\u001b[0m         \u001b[32m|\u001b[0m   ]\n",
      "[      \u001b[32m|\u001b[0m         \u001b[32m|\u001b[0m   ]\n",
      "[      \u001b[32m|\u001b[0m             ]\n",
      "[      \u001b[32m|\u001b[0m             ]\n",
      "[      \u001b[32m|\u001b[0m             ]\n",
      "[      \u001b[32m|\u001b[0m             ]\n",
      "[      \u001b[32m|\u001b[0m         \u001b[32m|\u001b[0m   ]\n",
      "[      \u001b[32m|\u001b[0m         \u001b[32m|\u001b[0m   ]\n",
      "[      \u001b[32m|\u001b[0m         \u001b[32m|\u001b[0m   ]\n",
      "[                \u001b[32m|\u001b[0m   ]\n",
      "[                \u001b[32m|\u001b[0m   ]\n",
      "[      \u001b[33m@\u001b[0m         \u001b[32m|\u001b[0m   ]\n",
      "[                \u001b[32m|\u001b[0m   ]\n",
      "[      \u001b[32m|\u001b[0m         \u001b[32m|\u001b[0m   ]\n",
      "^^^^^^^^^^^^^^^^^^^^^^\n",
      "Player Action (Flap)\n",
      "Distance From Pipe (x=0,y=0)\n",
      "False\n",
      "Text Flappy Bird!\n",
      "Score: 2\n",
      "----------------------\n",
      "[     \u001b[32m|\u001b[0m         \u001b[32m|\u001b[0m    ]\n",
      "[     \u001b[32m|\u001b[0m         \u001b[32m|\u001b[0m    ]\n",
      "[     \u001b[32m|\u001b[0m         \u001b[32m|\u001b[0m    ]\n",
      "[     \u001b[32m|\u001b[0m              ]\n",
      "[     \u001b[32m|\u001b[0m              ]\n",
      "[     \u001b[32m|\u001b[0m              ]\n",
      "[     \u001b[32m|\u001b[0m              ]\n",
      "[     \u001b[32m|\u001b[0m         \u001b[32m|\u001b[0m    ]\n",
      "[     \u001b[32m|\u001b[0m         \u001b[32m|\u001b[0m    ]\n",
      "[     \u001b[32m|\u001b[0m         \u001b[32m|\u001b[0m    ]\n",
      "[               \u001b[32m|\u001b[0m    ]\n",
      "[               \u001b[32m|\u001b[0m    ]\n",
      "[               \u001b[32m|\u001b[0m    ]\n",
      "[      \u001b[33m@\u001b[0m        \u001b[32m|\u001b[0m    ]\n",
      "[     \u001b[32m|\u001b[0m         \u001b[32m|\u001b[0m    ]\n",
      "^^^^^^^^^^^^^^^^^^^^^^\n",
      "Player Action (Idle)\n",
      "Distance From Pipe (x=9,y=8)\n",
      "False\n",
      "Text Flappy Bird!\n",
      "Score: 2\n",
      "----------------------\n",
      "[    \u001b[32m|\u001b[0m         \u001b[32m|\u001b[0m     ]\n",
      "[    \u001b[32m|\u001b[0m         \u001b[32m|\u001b[0m     ]\n",
      "[    \u001b[32m|\u001b[0m         \u001b[32m|\u001b[0m     ]\n",
      "[    \u001b[32m|\u001b[0m               ]\n",
      "[    \u001b[32m|\u001b[0m               ]\n",
      "[    \u001b[32m|\u001b[0m               ]\n",
      "[    \u001b[32m|\u001b[0m               ]\n",
      "[    \u001b[32m|\u001b[0m         \u001b[32m|\u001b[0m     ]\n",
      "[    \u001b[32m|\u001b[0m         \u001b[32m|\u001b[0m     ]\n",
      "[    \u001b[32m|\u001b[0m         \u001b[32m|\u001b[0m     ]\n",
      "[              \u001b[32m|\u001b[0m     ]\n",
      "[              \u001b[32m|\u001b[0m     ]\n",
      "[      \u001b[33m@\u001b[0m       \u001b[32m|\u001b[0m     ]\n",
      "[              \u001b[32m|\u001b[0m     ]\n",
      "[    \u001b[32m|\u001b[0m         \u001b[32m|\u001b[0m     ]\n",
      "^^^^^^^^^^^^^^^^^^^^^^\n",
      "Player Action (Flap)\n",
      "Distance From Pipe (x=8,y=7)\n",
      "False\n",
      "Text Flappy Bird!\n",
      "Score: 2\n",
      "----------------------\n",
      "[   \u001b[32m|\u001b[0m         \u001b[32m|\u001b[0m      ]\n",
      "[   \u001b[32m|\u001b[0m         \u001b[32m|\u001b[0m      ]\n",
      "[   \u001b[32m|\u001b[0m         \u001b[32m|\u001b[0m      ]\n",
      "[   \u001b[32m|\u001b[0m                ]\n",
      "[   \u001b[32m|\u001b[0m                ]\n",
      "[   \u001b[32m|\u001b[0m                ]\n",
      "[   \u001b[32m|\u001b[0m                ]\n",
      "[   \u001b[32m|\u001b[0m         \u001b[32m|\u001b[0m      ]\n",
      "[   \u001b[32m|\u001b[0m         \u001b[32m|\u001b[0m      ]\n",
      "[   \u001b[32m|\u001b[0m         \u001b[32m|\u001b[0m      ]\n",
      "[             \u001b[32m|\u001b[0m      ]\n",
      "[      \u001b[33m@\u001b[0m      \u001b[32m|\u001b[0m      ]\n",
      "[             \u001b[32m|\u001b[0m      ]\n",
      "[             \u001b[32m|\u001b[0m      ]\n",
      "[   \u001b[32m|\u001b[0m         \u001b[32m|\u001b[0m      ]\n",
      "^^^^^^^^^^^^^^^^^^^^^^\n",
      "Player Action (Flap)\n",
      "Distance From Pipe (x=7,y=6)\n",
      "False\n",
      "Text Flappy Bird!\n",
      "Score: 2\n",
      "----------------------\n",
      "[  \u001b[32m|\u001b[0m         \u001b[32m|\u001b[0m       ]\n",
      "[  \u001b[32m|\u001b[0m         \u001b[32m|\u001b[0m       ]\n",
      "[  \u001b[32m|\u001b[0m         \u001b[32m|\u001b[0m       ]\n",
      "[  \u001b[32m|\u001b[0m                 ]\n",
      "[  \u001b[32m|\u001b[0m                 ]\n",
      "[  \u001b[32m|\u001b[0m                 ]\n",
      "[  \u001b[32m|\u001b[0m                 ]\n",
      "[  \u001b[32m|\u001b[0m         \u001b[32m|\u001b[0m       ]\n",
      "[  \u001b[32m|\u001b[0m         \u001b[32m|\u001b[0m       ]\n",
      "[  \u001b[32m|\u001b[0m         \u001b[32m|\u001b[0m       ]\n",
      "[      \u001b[33m@\u001b[0m     \u001b[32m|\u001b[0m       ]\n",
      "[            \u001b[32m|\u001b[0m       ]\n",
      "[            \u001b[32m|\u001b[0m       ]\n",
      "[            \u001b[32m|\u001b[0m       ]\n",
      "[  \u001b[32m|\u001b[0m         \u001b[32m|\u001b[0m       ]\n",
      "^^^^^^^^^^^^^^^^^^^^^^\n",
      "Player Action (Flap)\n",
      "Distance From Pipe (x=6,y=5)\n"
     ]
    },
    {
     "name": "stdout",
     "output_type": "stream",
     "text": [
      "False\n",
      "Text Flappy Bird!\n",
      "Score: 2\n",
      "----------------------\n",
      "[ \u001b[32m|\u001b[0m         \u001b[32m|\u001b[0m        ]\n",
      "[ \u001b[32m|\u001b[0m         \u001b[32m|\u001b[0m        ]\n",
      "[ \u001b[32m|\u001b[0m         \u001b[32m|\u001b[0m        ]\n",
      "[ \u001b[32m|\u001b[0m                  ]\n",
      "[ \u001b[32m|\u001b[0m                  ]\n",
      "[ \u001b[32m|\u001b[0m                  ]\n",
      "[ \u001b[32m|\u001b[0m                  ]\n",
      "[ \u001b[32m|\u001b[0m         \u001b[32m|\u001b[0m        ]\n",
      "[ \u001b[32m|\u001b[0m         \u001b[32m|\u001b[0m        ]\n",
      "[ \u001b[32m|\u001b[0m    \u001b[33m@\u001b[0m    \u001b[32m|\u001b[0m        ]\n",
      "[           \u001b[32m|\u001b[0m        ]\n",
      "[           \u001b[32m|\u001b[0m        ]\n",
      "[           \u001b[32m|\u001b[0m        ]\n",
      "[           \u001b[32m|\u001b[0m        ]\n",
      "[ \u001b[32m|\u001b[0m         \u001b[32m|\u001b[0m        ]\n",
      "^^^^^^^^^^^^^^^^^^^^^^\n",
      "Player Action (Flap)\n",
      "Distance From Pipe (x=5,y=4)\n",
      "False\n",
      "Text Flappy Bird!\n",
      "Score: 2\n",
      "----------------------\n",
      "[\u001b[32m|\u001b[0m         \u001b[32m|\u001b[0m         ]\n",
      "[\u001b[32m|\u001b[0m         \u001b[32m|\u001b[0m         ]\n",
      "[\u001b[32m|\u001b[0m         \u001b[32m|\u001b[0m         ]\n",
      "[\u001b[32m|\u001b[0m                   ]\n",
      "[\u001b[32m|\u001b[0m                   ]\n",
      "[\u001b[32m|\u001b[0m                   ]\n",
      "[\u001b[32m|\u001b[0m                   ]\n",
      "[\u001b[32m|\u001b[0m         \u001b[32m|\u001b[0m         ]\n",
      "[\u001b[32m|\u001b[0m     \u001b[33m@\u001b[0m   \u001b[32m|\u001b[0m         ]\n",
      "[\u001b[32m|\u001b[0m         \u001b[32m|\u001b[0m         ]\n",
      "[          \u001b[32m|\u001b[0m         ]\n",
      "[          \u001b[32m|\u001b[0m         ]\n",
      "[          \u001b[32m|\u001b[0m         ]\n",
      "[          \u001b[32m|\u001b[0m         ]\n",
      "[\u001b[32m|\u001b[0m         \u001b[32m|\u001b[0m         ]\n",
      "^^^^^^^^^^^^^^^^^^^^^^\n",
      "Player Action (Flap)\n",
      "Distance From Pipe (x=4,y=3)\n",
      "False\n",
      "Text Flappy Bird!\n",
      "Score: 2\n",
      "----------------------\n",
      "[         \u001b[32m|\u001b[0m          ]\n",
      "[         \u001b[32m|\u001b[0m          ]\n",
      "[         \u001b[32m|\u001b[0m          ]\n",
      "[                    ]\n",
      "[                    ]\n",
      "[                    ]\n",
      "[                    ]\n",
      "[      \u001b[33m@\u001b[0m  \u001b[32m|\u001b[0m          ]\n",
      "[         \u001b[32m|\u001b[0m          ]\n",
      "[         \u001b[32m|\u001b[0m          ]\n",
      "[         \u001b[32m|\u001b[0m          ]\n",
      "[         \u001b[32m|\u001b[0m          ]\n",
      "[         \u001b[32m|\u001b[0m          ]\n",
      "[         \u001b[32m|\u001b[0m          ]\n",
      "[         \u001b[32m|\u001b[0m          ]\n",
      "^^^^^^^^^^^^^^^^^^^^^^\n",
      "Player Action (Flap)\n",
      "Distance From Pipe (x=3,y=2)\n",
      "False\n",
      "Text Flappy Bird!\n",
      "Score: 2\n",
      "----------------------\n",
      "[        \u001b[32m|\u001b[0m         \u001b[32m|\u001b[0m ]\n",
      "[        \u001b[32m|\u001b[0m         \u001b[32m|\u001b[0m ]\n",
      "[        \u001b[32m|\u001b[0m         \u001b[32m|\u001b[0m ]\n",
      "[                  \u001b[32m|\u001b[0m ]\n",
      "[                  \u001b[32m|\u001b[0m ]\n",
      "[                  \u001b[32m|\u001b[0m ]\n",
      "[      \u001b[33m@\u001b[0m           \u001b[32m|\u001b[0m ]\n",
      "[        \u001b[32m|\u001b[0m           ]\n",
      "[        \u001b[32m|\u001b[0m           ]\n",
      "[        \u001b[32m|\u001b[0m           ]\n",
      "[        \u001b[32m|\u001b[0m           ]\n",
      "[        \u001b[32m|\u001b[0m         \u001b[32m|\u001b[0m ]\n",
      "[        \u001b[32m|\u001b[0m         \u001b[32m|\u001b[0m ]\n",
      "[        \u001b[32m|\u001b[0m         \u001b[32m|\u001b[0m ]\n",
      "[        \u001b[32m|\u001b[0m         \u001b[32m|\u001b[0m ]\n",
      "^^^^^^^^^^^^^^^^^^^^^^\n",
      "Player Action (Flap)\n",
      "Distance From Pipe (x=2,y=1)\n",
      "False\n",
      "Text Flappy Bird!\n",
      "Score: 2\n",
      "----------------------\n",
      "[       \u001b[32m|\u001b[0m         \u001b[32m|\u001b[0m  ]\n",
      "[       \u001b[32m|\u001b[0m         \u001b[32m|\u001b[0m  ]\n",
      "[       \u001b[32m|\u001b[0m         \u001b[32m|\u001b[0m  ]\n",
      "[                 \u001b[32m|\u001b[0m  ]\n",
      "[                 \u001b[32m|\u001b[0m  ]\n",
      "[      \u001b[33m@\u001b[0m          \u001b[32m|\u001b[0m  ]\n",
      "[                 \u001b[32m|\u001b[0m  ]\n",
      "[       \u001b[32m|\u001b[0m            ]\n",
      "[       \u001b[32m|\u001b[0m            ]\n",
      "[       \u001b[32m|\u001b[0m            ]\n",
      "[       \u001b[32m|\u001b[0m            ]\n",
      "[       \u001b[32m|\u001b[0m         \u001b[32m|\u001b[0m  ]\n",
      "[       \u001b[32m|\u001b[0m         \u001b[32m|\u001b[0m  ]\n",
      "[       \u001b[32m|\u001b[0m         \u001b[32m|\u001b[0m  ]\n",
      "[       \u001b[32m|\u001b[0m         \u001b[32m|\u001b[0m  ]\n",
      "^^^^^^^^^^^^^^^^^^^^^^\n",
      "Player Action (Flap)\n",
      "Distance From Pipe (x=1,y=0)\n",
      "False\n",
      "Text Flappy Bird!\n",
      "Score: 2\n",
      "----------------------\n",
      "[      \u001b[32m|\u001b[0m         \u001b[32m|\u001b[0m   ]\n",
      "[      \u001b[32m|\u001b[0m         \u001b[32m|\u001b[0m   ]\n",
      "[      \u001b[32m|\u001b[0m         \u001b[32m|\u001b[0m   ]\n",
      "[                \u001b[32m|\u001b[0m   ]\n",
      "[      \u001b[33m@\u001b[0m         \u001b[32m|\u001b[0m   ]\n",
      "[                \u001b[32m|\u001b[0m   ]\n",
      "[                \u001b[32m|\u001b[0m   ]\n",
      "[      \u001b[32m|\u001b[0m             ]\n",
      "[      \u001b[32m|\u001b[0m             ]\n",
      "[      \u001b[32m|\u001b[0m             ]\n",
      "[      \u001b[32m|\u001b[0m             ]\n",
      "[      \u001b[32m|\u001b[0m         \u001b[32m|\u001b[0m   ]\n",
      "[      \u001b[32m|\u001b[0m         \u001b[32m|\u001b[0m   ]\n",
      "[      \u001b[32m|\u001b[0m         \u001b[32m|\u001b[0m   ]\n",
      "[      \u001b[32m|\u001b[0m         \u001b[32m|\u001b[0m   ]\n",
      "^^^^^^^^^^^^^^^^^^^^^^\n",
      "Player Action (Flap)\n",
      "Distance From Pipe (x=0,y=-1)\n",
      "False\n",
      "Text Flappy Bird!\n",
      "Score: 3\n",
      "----------------------\n",
      "[     \u001b[32m|\u001b[0m         \u001b[32m|\u001b[0m    ]\n",
      "[     \u001b[32m|\u001b[0m         \u001b[32m|\u001b[0m    ]\n",
      "[     \u001b[32m|\u001b[0m         \u001b[32m|\u001b[0m    ]\n",
      "[               \u001b[32m|\u001b[0m    ]\n",
      "[               \u001b[32m|\u001b[0m    ]\n",
      "[      \u001b[33m@\u001b[0m        \u001b[32m|\u001b[0m    ]\n",
      "[               \u001b[32m|\u001b[0m    ]\n",
      "[     \u001b[32m|\u001b[0m              ]\n",
      "[     \u001b[32m|\u001b[0m              ]\n",
      "[     \u001b[32m|\u001b[0m              ]\n",
      "[     \u001b[32m|\u001b[0m              ]\n",
      "[     \u001b[32m|\u001b[0m         \u001b[32m|\u001b[0m    ]\n",
      "[     \u001b[32m|\u001b[0m         \u001b[32m|\u001b[0m    ]\n",
      "[     \u001b[32m|\u001b[0m         \u001b[32m|\u001b[0m    ]\n",
      "[     \u001b[32m|\u001b[0m         \u001b[32m|\u001b[0m    ]\n",
      "^^^^^^^^^^^^^^^^^^^^^^\n",
      "Player Action (Idle)\n",
      "Distance From Pipe (x=9,y=-4)\n",
      "False\n",
      "Text Flappy Bird!\n",
      "Score: 3\n",
      "----------------------\n",
      "[    \u001b[32m|\u001b[0m         \u001b[32m|\u001b[0m     ]\n",
      "[    \u001b[32m|\u001b[0m         \u001b[32m|\u001b[0m     ]\n",
      "[    \u001b[32m|\u001b[0m         \u001b[32m|\u001b[0m     ]\n",
      "[              \u001b[32m|\u001b[0m     ]\n",
      "[              \u001b[32m|\u001b[0m     ]\n",
      "[              \u001b[32m|\u001b[0m     ]\n",
      "[              \u001b[32m|\u001b[0m     ]\n",
      "[    \u001b[32m|\u001b[0m               ]\n",
      "[    \u001b[32m|\u001b[0m \u001b[33m@\u001b[0m             ]\n",
      "[    \u001b[32m|\u001b[0m               ]\n",
      "[    \u001b[32m|\u001b[0m               ]\n",
      "[    \u001b[32m|\u001b[0m         \u001b[32m|\u001b[0m     ]\n",
      "[    \u001b[32m|\u001b[0m         \u001b[32m|\u001b[0m     ]\n",
      "[    \u001b[32m|\u001b[0m         \u001b[32m|\u001b[0m     ]\n",
      "[    \u001b[32m|\u001b[0m         \u001b[32m|\u001b[0m     ]\n",
      "^^^^^^^^^^^^^^^^^^^^^^\n",
      "Player Action (Idle)\n",
      "Distance From Pipe (x=8,y=-1)\n",
      "False\n",
      "Text Flappy Bird!\n",
      "Score: 3\n",
      "----------------------\n",
      "[   \u001b[32m|\u001b[0m         \u001b[32m|\u001b[0m      ]\n",
      "[   \u001b[32m|\u001b[0m         \u001b[32m|\u001b[0m      ]\n",
      "[   \u001b[32m|\u001b[0m         \u001b[32m|\u001b[0m      ]\n",
      "[             \u001b[32m|\u001b[0m      ]\n",
      "[             \u001b[32m|\u001b[0m      ]\n",
      "[             \u001b[32m|\u001b[0m      ]\n",
      "[             \u001b[32m|\u001b[0m      ]\n",
      "[   \u001b[32m|\u001b[0m  \u001b[33m@\u001b[0m             ]\n",
      "[   \u001b[32m|\u001b[0m                ]\n",
      "[   \u001b[32m|\u001b[0m                ]\n",
      "[   \u001b[32m|\u001b[0m                ]\n",
      "[   \u001b[32m|\u001b[0m         \u001b[32m|\u001b[0m      ]\n",
      "[   \u001b[32m|\u001b[0m         \u001b[32m|\u001b[0m      ]\n",
      "[   \u001b[32m|\u001b[0m         \u001b[32m|\u001b[0m      ]\n",
      "[   \u001b[32m|\u001b[0m         \u001b[32m|\u001b[0m      ]\n",
      "^^^^^^^^^^^^^^^^^^^^^^\n",
      "Player Action (Flap)\n",
      "Distance From Pipe (x=7,y=-2)\n",
      "False\n",
      "Text Flappy Bird!\n",
      "Score: 3\n",
      "----------------------\n",
      "[  \u001b[32m|\u001b[0m         \u001b[32m|\u001b[0m       ]\n",
      "[  \u001b[32m|\u001b[0m         \u001b[32m|\u001b[0m       ]\n",
      "[  \u001b[32m|\u001b[0m         \u001b[32m|\u001b[0m       ]\n",
      "[            \u001b[32m|\u001b[0m       ]\n",
      "[            \u001b[32m|\u001b[0m       ]\n",
      "[            \u001b[32m|\u001b[0m       ]\n",
      "[      \u001b[33m@\u001b[0m     \u001b[32m|\u001b[0m       ]\n",
      "[  \u001b[32m|\u001b[0m                 ]\n",
      "[  \u001b[32m|\u001b[0m                 ]\n",
      "[  \u001b[32m|\u001b[0m                 ]\n",
      "[  \u001b[32m|\u001b[0m                 ]\n",
      "[  \u001b[32m|\u001b[0m         \u001b[32m|\u001b[0m       ]\n",
      "[  \u001b[32m|\u001b[0m         \u001b[32m|\u001b[0m       ]\n",
      "[  \u001b[32m|\u001b[0m         \u001b[32m|\u001b[0m       ]\n",
      "[  \u001b[32m|\u001b[0m         \u001b[32m|\u001b[0m       ]\n",
      "^^^^^^^^^^^^^^^^^^^^^^\n",
      "Player Action (Flap)\n",
      "Distance From Pipe (x=6,y=-3)\n",
      "False\n",
      "Text Flappy Bird!\n",
      "Score: 3\n",
      "----------------------\n",
      "[ \u001b[32m|\u001b[0m         \u001b[32m|\u001b[0m        ]\n",
      "[ \u001b[32m|\u001b[0m         \u001b[32m|\u001b[0m        ]\n",
      "[ \u001b[32m|\u001b[0m         \u001b[32m|\u001b[0m        ]\n",
      "[           \u001b[32m|\u001b[0m        ]\n",
      "[           \u001b[32m|\u001b[0m        ]\n",
      "[      \u001b[33m@\u001b[0m    \u001b[32m|\u001b[0m        ]\n",
      "[           \u001b[32m|\u001b[0m        ]\n",
      "[ \u001b[32m|\u001b[0m                  ]\n",
      "[ \u001b[32m|\u001b[0m                  ]\n",
      "[ \u001b[32m|\u001b[0m                  ]\n",
      "[ \u001b[32m|\u001b[0m                  ]\n",
      "[ \u001b[32m|\u001b[0m         \u001b[32m|\u001b[0m        ]\n",
      "[ \u001b[32m|\u001b[0m         \u001b[32m|\u001b[0m        ]\n",
      "[ \u001b[32m|\u001b[0m         \u001b[32m|\u001b[0m        ]\n",
      "[ \u001b[32m|\u001b[0m         \u001b[32m|\u001b[0m        ]\n",
      "^^^^^^^^^^^^^^^^^^^^^^\n",
      "Player Action (Flap)\n",
      "Distance From Pipe (x=5,y=-4)\n",
      "False\n",
      "Text Flappy Bird!\n",
      "Score: 3\n",
      "----------------------\n",
      "[\u001b[32m|\u001b[0m         \u001b[32m|\u001b[0m         ]\n",
      "[\u001b[32m|\u001b[0m         \u001b[32m|\u001b[0m         ]\n",
      "[\u001b[32m|\u001b[0m         \u001b[32m|\u001b[0m         ]\n",
      "[          \u001b[32m|\u001b[0m         ]\n",
      "[      \u001b[33m@\u001b[0m   \u001b[32m|\u001b[0m         ]\n",
      "[          \u001b[32m|\u001b[0m         ]\n",
      "[          \u001b[32m|\u001b[0m         ]\n",
      "[\u001b[32m|\u001b[0m                   ]\n",
      "[\u001b[32m|\u001b[0m                   ]\n",
      "[\u001b[32m|\u001b[0m                   ]\n",
      "[\u001b[32m|\u001b[0m                   ]\n",
      "[\u001b[32m|\u001b[0m         \u001b[32m|\u001b[0m         ]\n",
      "[\u001b[32m|\u001b[0m         \u001b[32m|\u001b[0m         ]\n",
      "[\u001b[32m|\u001b[0m         \u001b[32m|\u001b[0m         ]\n",
      "[\u001b[32m|\u001b[0m         \u001b[32m|\u001b[0m         ]\n",
      "^^^^^^^^^^^^^^^^^^^^^^\n",
      "Player Action (Flap)\n",
      "Distance From Pipe (x=4,y=-5)\n",
      "False\n",
      "Text Flappy Bird!\n",
      "Score: 3\n",
      "----------------------\n",
      "[         \u001b[32m|\u001b[0m          ]\n",
      "[         \u001b[32m|\u001b[0m          ]\n",
      "[         \u001b[32m|\u001b[0m          ]\n",
      "[         \u001b[32m|\u001b[0m          ]\n",
      "[         \u001b[32m|\u001b[0m          ]\n",
      "[      \u001b[33m@\u001b[0m  \u001b[32m|\u001b[0m          ]\n",
      "[         \u001b[32m|\u001b[0m          ]\n",
      "[                    ]\n",
      "[                    ]\n",
      "[                    ]\n",
      "[                    ]\n",
      "[         \u001b[32m|\u001b[0m          ]\n",
      "[         \u001b[32m|\u001b[0m          ]\n",
      "[         \u001b[32m|\u001b[0m          ]\n",
      "[         \u001b[32m|\u001b[0m          ]\n",
      "^^^^^^^^^^^^^^^^^^^^^^\n",
      "Player Action (Idle)\n",
      "Distance From Pipe (x=3,y=-4)\n"
     ]
    },
    {
     "name": "stdout",
     "output_type": "stream",
     "text": [
      "False\n",
      "Text Flappy Bird!\n",
      "Score: 3\n",
      "----------------------\n",
      "[        \u001b[32m|\u001b[0m         \u001b[32m|\u001b[0m ]\n",
      "[        \u001b[32m|\u001b[0m           ]\n",
      "[        \u001b[32m|\u001b[0m           ]\n",
      "[        \u001b[32m|\u001b[0m           ]\n",
      "[        \u001b[32m|\u001b[0m           ]\n",
      "[        \u001b[32m|\u001b[0m         \u001b[32m|\u001b[0m ]\n",
      "[        \u001b[32m|\u001b[0m         \u001b[32m|\u001b[0m ]\n",
      "[                  \u001b[32m|\u001b[0m ]\n",
      "[      \u001b[33m@\u001b[0m           \u001b[32m|\u001b[0m ]\n",
      "[                  \u001b[32m|\u001b[0m ]\n",
      "[                  \u001b[32m|\u001b[0m ]\n",
      "[        \u001b[32m|\u001b[0m         \u001b[32m|\u001b[0m ]\n",
      "[        \u001b[32m|\u001b[0m         \u001b[32m|\u001b[0m ]\n",
      "[        \u001b[32m|\u001b[0m         \u001b[32m|\u001b[0m ]\n",
      "[        \u001b[32m|\u001b[0m         \u001b[32m|\u001b[0m ]\n",
      "^^^^^^^^^^^^^^^^^^^^^^\n",
      "Player Action (Idle)\n",
      "Distance From Pipe (x=2,y=-1)\n",
      "False\n",
      "Text Flappy Bird!\n",
      "Score: 3\n",
      "----------------------\n",
      "[       \u001b[32m|\u001b[0m         \u001b[32m|\u001b[0m  ]\n",
      "[       \u001b[32m|\u001b[0m            ]\n",
      "[       \u001b[32m|\u001b[0m            ]\n",
      "[       \u001b[32m|\u001b[0m            ]\n",
      "[       \u001b[32m|\u001b[0m            ]\n",
      "[       \u001b[32m|\u001b[0m         \u001b[32m|\u001b[0m  ]\n",
      "[       \u001b[32m|\u001b[0m         \u001b[32m|\u001b[0m  ]\n",
      "[      \u001b[33m@\u001b[0m          \u001b[32m|\u001b[0m  ]\n",
      "[                 \u001b[32m|\u001b[0m  ]\n",
      "[                 \u001b[32m|\u001b[0m  ]\n",
      "[                 \u001b[32m|\u001b[0m  ]\n",
      "[       \u001b[32m|\u001b[0m         \u001b[32m|\u001b[0m  ]\n",
      "[       \u001b[32m|\u001b[0m         \u001b[32m|\u001b[0m  ]\n",
      "[       \u001b[32m|\u001b[0m         \u001b[32m|\u001b[0m  ]\n",
      "[       \u001b[32m|\u001b[0m         \u001b[32m|\u001b[0m  ]\n",
      "^^^^^^^^^^^^^^^^^^^^^^\n",
      "Player Action (Flap)\n",
      "Distance From Pipe (x=1,y=-2)\n",
      "False\n",
      "Text Flappy Bird!\n",
      "Score: 3\n",
      "----------------------\n",
      "[      \u001b[32m|\u001b[0m         \u001b[32m|\u001b[0m   ]\n",
      "[      \u001b[32m|\u001b[0m             ]\n",
      "[      \u001b[32m|\u001b[0m             ]\n",
      "[      \u001b[32m|\u001b[0m             ]\n",
      "[      \u001b[32m|\u001b[0m             ]\n",
      "[      \u001b[32m|\u001b[0m         \u001b[32m|\u001b[0m   ]\n",
      "[      \u001b[32m|\u001b[0m         \u001b[32m|\u001b[0m   ]\n",
      "[                \u001b[32m|\u001b[0m   ]\n",
      "[      \u001b[33m@\u001b[0m         \u001b[32m|\u001b[0m   ]\n",
      "[                \u001b[32m|\u001b[0m   ]\n",
      "[                \u001b[32m|\u001b[0m   ]\n",
      "[      \u001b[32m|\u001b[0m         \u001b[32m|\u001b[0m   ]\n",
      "[      \u001b[32m|\u001b[0m         \u001b[32m|\u001b[0m   ]\n",
      "[      \u001b[32m|\u001b[0m         \u001b[32m|\u001b[0m   ]\n",
      "[      \u001b[32m|\u001b[0m         \u001b[32m|\u001b[0m   ]\n",
      "^^^^^^^^^^^^^^^^^^^^^^\n",
      "Player Action (Idle)\n",
      "Distance From Pipe (x=0,y=-1)\n",
      "False\n",
      "Text Flappy Bird!\n",
      "Score: 4\n",
      "----------------------\n",
      "[     \u001b[32m|\u001b[0m         \u001b[32m|\u001b[0m    ]\n",
      "[     \u001b[32m|\u001b[0m              ]\n",
      "[     \u001b[32m|\u001b[0m              ]\n",
      "[     \u001b[32m|\u001b[0m              ]\n",
      "[     \u001b[32m|\u001b[0m              ]\n",
      "[     \u001b[32m|\u001b[0m         \u001b[32m|\u001b[0m    ]\n",
      "[     \u001b[32m|\u001b[0m         \u001b[32m|\u001b[0m    ]\n",
      "[               \u001b[32m|\u001b[0m    ]\n",
      "[               \u001b[32m|\u001b[0m    ]\n",
      "[               \u001b[32m|\u001b[0m    ]\n",
      "[               \u001b[32m|\u001b[0m    ]\n",
      "[     \u001b[32m|\u001b[0m\u001b[33m@\u001b[0m        \u001b[32m|\u001b[0m    ]\n",
      "[     \u001b[32m|\u001b[0m         \u001b[32m|\u001b[0m    ]\n",
      "[     \u001b[32m|\u001b[0m         \u001b[32m|\u001b[0m    ]\n",
      "[     \u001b[32m|\u001b[0m         \u001b[32m|\u001b[0m    ]\n",
      "^^^^^^^^^^^^^^^^^^^^^^\n",
      "Player Action (Idle)\n",
      "Distance From Pipe (x=9,y=8)\n",
      "False\n",
      "Text Flappy Bird!\n",
      "Score: 4\n",
      "----------------------\n",
      "[    \u001b[32m|\u001b[0m         \u001b[32m|\u001b[0m     ]\n",
      "[    \u001b[32m|\u001b[0m               ]\n",
      "[    \u001b[32m|\u001b[0m               ]\n",
      "[    \u001b[32m|\u001b[0m               ]\n",
      "[    \u001b[32m|\u001b[0m               ]\n",
      "[    \u001b[32m|\u001b[0m         \u001b[32m|\u001b[0m     ]\n",
      "[    \u001b[32m|\u001b[0m         \u001b[32m|\u001b[0m     ]\n",
      "[              \u001b[32m|\u001b[0m     ]\n",
      "[              \u001b[32m|\u001b[0m     ]\n",
      "[              \u001b[32m|\u001b[0m     ]\n",
      "[      \u001b[33m@\u001b[0m       \u001b[32m|\u001b[0m     ]\n",
      "[    \u001b[32m|\u001b[0m         \u001b[32m|\u001b[0m     ]\n",
      "[    \u001b[32m|\u001b[0m         \u001b[32m|\u001b[0m     ]\n",
      "[    \u001b[32m|\u001b[0m         \u001b[32m|\u001b[0m     ]\n",
      "[    \u001b[32m|\u001b[0m         \u001b[32m|\u001b[0m     ]\n",
      "^^^^^^^^^^^^^^^^^^^^^^\n",
      "Player Action (Flap)\n",
      "Distance From Pipe (x=8,y=7)\n",
      "False\n",
      "Text Flappy Bird!\n",
      "Score: 4\n",
      "----------------------\n",
      "[   \u001b[32m|\u001b[0m         \u001b[32m|\u001b[0m      ]\n",
      "[   \u001b[32m|\u001b[0m                ]\n",
      "[   \u001b[32m|\u001b[0m                ]\n",
      "[   \u001b[32m|\u001b[0m                ]\n",
      "[   \u001b[32m|\u001b[0m                ]\n",
      "[   \u001b[32m|\u001b[0m         \u001b[32m|\u001b[0m      ]\n",
      "[   \u001b[32m|\u001b[0m         \u001b[32m|\u001b[0m      ]\n",
      "[             \u001b[32m|\u001b[0m      ]\n",
      "[             \u001b[32m|\u001b[0m      ]\n",
      "[      \u001b[33m@\u001b[0m      \u001b[32m|\u001b[0m      ]\n",
      "[             \u001b[32m|\u001b[0m      ]\n",
      "[   \u001b[32m|\u001b[0m         \u001b[32m|\u001b[0m      ]\n",
      "[   \u001b[32m|\u001b[0m         \u001b[32m|\u001b[0m      ]\n",
      "[   \u001b[32m|\u001b[0m         \u001b[32m|\u001b[0m      ]\n",
      "[   \u001b[32m|\u001b[0m         \u001b[32m|\u001b[0m      ]\n",
      "^^^^^^^^^^^^^^^^^^^^^^\n",
      "Player Action (Flap)\n",
      "Distance From Pipe (x=7,y=6)\n",
      "False\n",
      "Text Flappy Bird!\n",
      "Score: 4\n",
      "----------------------\n",
      "[  \u001b[32m|\u001b[0m         \u001b[32m|\u001b[0m       ]\n",
      "[  \u001b[32m|\u001b[0m                 ]\n",
      "[  \u001b[32m|\u001b[0m                 ]\n",
      "[  \u001b[32m|\u001b[0m                 ]\n",
      "[  \u001b[32m|\u001b[0m                 ]\n",
      "[  \u001b[32m|\u001b[0m         \u001b[32m|\u001b[0m       ]\n",
      "[  \u001b[32m|\u001b[0m         \u001b[32m|\u001b[0m       ]\n",
      "[            \u001b[32m|\u001b[0m       ]\n",
      "[      \u001b[33m@\u001b[0m     \u001b[32m|\u001b[0m       ]\n",
      "[            \u001b[32m|\u001b[0m       ]\n",
      "[            \u001b[32m|\u001b[0m       ]\n",
      "[  \u001b[32m|\u001b[0m         \u001b[32m|\u001b[0m       ]\n",
      "[  \u001b[32m|\u001b[0m         \u001b[32m|\u001b[0m       ]\n",
      "[  \u001b[32m|\u001b[0m         \u001b[32m|\u001b[0m       ]\n",
      "[  \u001b[32m|\u001b[0m         \u001b[32m|\u001b[0m       ]\n",
      "^^^^^^^^^^^^^^^^^^^^^^\n",
      "Player Action (Flap)\n",
      "Distance From Pipe (x=6,y=5)\n",
      "False\n",
      "Text Flappy Bird!\n",
      "Score: 4\n",
      "----------------------\n",
      "[ \u001b[32m|\u001b[0m         \u001b[32m|\u001b[0m        ]\n",
      "[ \u001b[32m|\u001b[0m                  ]\n",
      "[ \u001b[32m|\u001b[0m                  ]\n",
      "[ \u001b[32m|\u001b[0m                  ]\n",
      "[ \u001b[32m|\u001b[0m                  ]\n",
      "[ \u001b[32m|\u001b[0m         \u001b[32m|\u001b[0m        ]\n",
      "[ \u001b[32m|\u001b[0m         \u001b[32m|\u001b[0m        ]\n",
      "[      \u001b[33m@\u001b[0m    \u001b[32m|\u001b[0m        ]\n",
      "[           \u001b[32m|\u001b[0m        ]\n",
      "[           \u001b[32m|\u001b[0m        ]\n",
      "[           \u001b[32m|\u001b[0m        ]\n",
      "[ \u001b[32m|\u001b[0m         \u001b[32m|\u001b[0m        ]\n",
      "[ \u001b[32m|\u001b[0m         \u001b[32m|\u001b[0m        ]\n",
      "[ \u001b[32m|\u001b[0m         \u001b[32m|\u001b[0m        ]\n",
      "[ \u001b[32m|\u001b[0m         \u001b[32m|\u001b[0m        ]\n",
      "^^^^^^^^^^^^^^^^^^^^^^\n",
      "Player Action (Flap)\n",
      "Distance From Pipe (x=5,y=4)\n",
      "False\n",
      "Text Flappy Bird!\n",
      "Score: 4\n",
      "----------------------\n",
      "[\u001b[32m|\u001b[0m         \u001b[32m|\u001b[0m         ]\n",
      "[\u001b[32m|\u001b[0m                   ]\n",
      "[\u001b[32m|\u001b[0m                   ]\n",
      "[\u001b[32m|\u001b[0m                   ]\n",
      "[\u001b[32m|\u001b[0m                   ]\n",
      "[\u001b[32m|\u001b[0m         \u001b[32m|\u001b[0m         ]\n",
      "[\u001b[32m|\u001b[0m     \u001b[33m@\u001b[0m   \u001b[32m|\u001b[0m         ]\n",
      "[          \u001b[32m|\u001b[0m         ]\n",
      "[          \u001b[32m|\u001b[0m         ]\n",
      "[          \u001b[32m|\u001b[0m         ]\n",
      "[          \u001b[32m|\u001b[0m         ]\n",
      "[\u001b[32m|\u001b[0m         \u001b[32m|\u001b[0m         ]\n",
      "[\u001b[32m|\u001b[0m         \u001b[32m|\u001b[0m         ]\n",
      "[\u001b[32m|\u001b[0m         \u001b[32m|\u001b[0m         ]\n",
      "[\u001b[32m|\u001b[0m         \u001b[32m|\u001b[0m         ]\n",
      "^^^^^^^^^^^^^^^^^^^^^^\n",
      "Player Action (Flap)\n",
      "Distance From Pipe (x=4,y=3)\n",
      "False\n",
      "Text Flappy Bird!\n",
      "Score: 4\n",
      "----------------------\n",
      "[         \u001b[32m|\u001b[0m          ]\n",
      "[                    ]\n",
      "[                    ]\n",
      "[                    ]\n",
      "[                    ]\n",
      "[      \u001b[33m@\u001b[0m  \u001b[32m|\u001b[0m          ]\n",
      "[         \u001b[32m|\u001b[0m          ]\n",
      "[         \u001b[32m|\u001b[0m          ]\n",
      "[         \u001b[32m|\u001b[0m          ]\n",
      "[         \u001b[32m|\u001b[0m          ]\n",
      "[         \u001b[32m|\u001b[0m          ]\n",
      "[         \u001b[32m|\u001b[0m          ]\n",
      "[         \u001b[32m|\u001b[0m          ]\n",
      "[         \u001b[32m|\u001b[0m          ]\n",
      "[         \u001b[32m|\u001b[0m          ]\n",
      "^^^^^^^^^^^^^^^^^^^^^^\n",
      "Player Action (Flap)\n",
      "Distance From Pipe (x=3,y=2)\n",
      "False\n",
      "Text Flappy Bird!\n",
      "Score: 4\n",
      "----------------------\n",
      "[        \u001b[32m|\u001b[0m         \u001b[32m|\u001b[0m ]\n",
      "[                  \u001b[32m|\u001b[0m ]\n",
      "[                  \u001b[32m|\u001b[0m ]\n",
      "[                  \u001b[32m|\u001b[0m ]\n",
      "[      \u001b[33m@\u001b[0m           \u001b[32m|\u001b[0m ]\n",
      "[        \u001b[32m|\u001b[0m         \u001b[32m|\u001b[0m ]\n",
      "[        \u001b[32m|\u001b[0m         \u001b[32m|\u001b[0m ]\n",
      "[        \u001b[32m|\u001b[0m         \u001b[32m|\u001b[0m ]\n",
      "[        \u001b[32m|\u001b[0m         \u001b[32m|\u001b[0m ]\n",
      "[        \u001b[32m|\u001b[0m         \u001b[32m|\u001b[0m ]\n",
      "[        \u001b[32m|\u001b[0m           ]\n",
      "[        \u001b[32m|\u001b[0m           ]\n",
      "[        \u001b[32m|\u001b[0m           ]\n",
      "[        \u001b[32m|\u001b[0m           ]\n",
      "[        \u001b[32m|\u001b[0m         \u001b[32m|\u001b[0m ]\n",
      "^^^^^^^^^^^^^^^^^^^^^^\n",
      "Player Action (Flap)\n",
      "Distance From Pipe (x=2,y=1)\n",
      "False\n",
      "Text Flappy Bird!\n",
      "Score: 4\n",
      "----------------------\n",
      "[       \u001b[32m|\u001b[0m         \u001b[32m|\u001b[0m  ]\n",
      "[                 \u001b[32m|\u001b[0m  ]\n",
      "[                 \u001b[32m|\u001b[0m  ]\n",
      "[      \u001b[33m@\u001b[0m          \u001b[32m|\u001b[0m  ]\n",
      "[                 \u001b[32m|\u001b[0m  ]\n",
      "[       \u001b[32m|\u001b[0m         \u001b[32m|\u001b[0m  ]\n",
      "[       \u001b[32m|\u001b[0m         \u001b[32m|\u001b[0m  ]\n",
      "[       \u001b[32m|\u001b[0m         \u001b[32m|\u001b[0m  ]\n",
      "[       \u001b[32m|\u001b[0m         \u001b[32m|\u001b[0m  ]\n",
      "[       \u001b[32m|\u001b[0m         \u001b[32m|\u001b[0m  ]\n",
      "[       \u001b[32m|\u001b[0m            ]\n",
      "[       \u001b[32m|\u001b[0m            ]\n",
      "[       \u001b[32m|\u001b[0m            ]\n",
      "[       \u001b[32m|\u001b[0m            ]\n",
      "[       \u001b[32m|\u001b[0m         \u001b[32m|\u001b[0m  ]\n",
      "^^^^^^^^^^^^^^^^^^^^^^\n",
      "Player Action (Flap)\n",
      "Distance From Pipe (x=1,y=0)\n",
      "False\n",
      "Text Flappy Bird!\n",
      "Score: 4\n",
      "----------------------\n",
      "[      \u001b[32m|\u001b[0m         \u001b[32m|\u001b[0m   ]\n",
      "[                \u001b[32m|\u001b[0m   ]\n",
      "[      \u001b[33m@\u001b[0m         \u001b[32m|\u001b[0m   ]\n",
      "[                \u001b[32m|\u001b[0m   ]\n",
      "[                \u001b[32m|\u001b[0m   ]\n",
      "[      \u001b[32m|\u001b[0m         \u001b[32m|\u001b[0m   ]\n",
      "[      \u001b[32m|\u001b[0m         \u001b[32m|\u001b[0m   ]\n",
      "[      \u001b[32m|\u001b[0m         \u001b[32m|\u001b[0m   ]\n",
      "[      \u001b[32m|\u001b[0m         \u001b[32m|\u001b[0m   ]\n",
      "[      \u001b[32m|\u001b[0m         \u001b[32m|\u001b[0m   ]\n",
      "[      \u001b[32m|\u001b[0m             ]\n",
      "[      \u001b[32m|\u001b[0m             ]\n",
      "[      \u001b[32m|\u001b[0m             ]\n",
      "[      \u001b[32m|\u001b[0m             ]\n",
      "[      \u001b[32m|\u001b[0m         \u001b[32m|\u001b[0m   ]\n",
      "^^^^^^^^^^^^^^^^^^^^^^\n",
      "Player Action (Flap)\n",
      "Distance From Pipe (x=0,y=-1)\n"
     ]
    },
    {
     "name": "stdout",
     "output_type": "stream",
     "text": [
      "False\n",
      "Text Flappy Bird!\n",
      "Score: 5\n",
      "----------------------\n",
      "[     \u001b[32m|\u001b[0m         \u001b[32m|\u001b[0m    ]\n",
      "[               \u001b[32m|\u001b[0m    ]\n",
      "[               \u001b[32m|\u001b[0m    ]\n",
      "[      \u001b[33m@\u001b[0m        \u001b[32m|\u001b[0m    ]\n",
      "[               \u001b[32m|\u001b[0m    ]\n",
      "[     \u001b[32m|\u001b[0m         \u001b[32m|\u001b[0m    ]\n",
      "[     \u001b[32m|\u001b[0m         \u001b[32m|\u001b[0m    ]\n",
      "[     \u001b[32m|\u001b[0m         \u001b[32m|\u001b[0m    ]\n",
      "[     \u001b[32m|\u001b[0m         \u001b[32m|\u001b[0m    ]\n",
      "[     \u001b[32m|\u001b[0m         \u001b[32m|\u001b[0m    ]\n",
      "[     \u001b[32m|\u001b[0m              ]\n",
      "[     \u001b[32m|\u001b[0m              ]\n",
      "[     \u001b[32m|\u001b[0m              ]\n",
      "[     \u001b[32m|\u001b[0m              ]\n",
      "[     \u001b[32m|\u001b[0m         \u001b[32m|\u001b[0m    ]\n",
      "^^^^^^^^^^^^^^^^^^^^^^\n",
      "Player Action (Idle)\n",
      "Distance From Pipe (x=9,y=-9)\n",
      "False\n",
      "Text Flappy Bird!\n",
      "Score: 5\n",
      "----------------------\n",
      "[    \u001b[32m|\u001b[0m         \u001b[32m|\u001b[0m     ]\n",
      "[              \u001b[32m|\u001b[0m     ]\n",
      "[              \u001b[32m|\u001b[0m     ]\n",
      "[              \u001b[32m|\u001b[0m     ]\n",
      "[              \u001b[32m|\u001b[0m     ]\n",
      "[    \u001b[32m|\u001b[0m         \u001b[32m|\u001b[0m     ]\n",
      "[    \u001b[32m|\u001b[0m \u001b[33m@\u001b[0m       \u001b[32m|\u001b[0m     ]\n",
      "[    \u001b[32m|\u001b[0m         \u001b[32m|\u001b[0m     ]\n",
      "[    \u001b[32m|\u001b[0m         \u001b[32m|\u001b[0m     ]\n",
      "[    \u001b[32m|\u001b[0m         \u001b[32m|\u001b[0m     ]\n",
      "[    \u001b[32m|\u001b[0m               ]\n",
      "[    \u001b[32m|\u001b[0m               ]\n",
      "[    \u001b[32m|\u001b[0m               ]\n",
      "[    \u001b[32m|\u001b[0m               ]\n",
      "[    \u001b[32m|\u001b[0m         \u001b[32m|\u001b[0m     ]\n",
      "^^^^^^^^^^^^^^^^^^^^^^\n",
      "Player Action (Idle)\n",
      "Distance From Pipe (x=8,y=-6)\n",
      "False\n",
      "Text Flappy Bird!\n",
      "Score: 5\n",
      "----------------------\n",
      "[   \u001b[32m|\u001b[0m         \u001b[32m|\u001b[0m      ]\n",
      "[             \u001b[32m|\u001b[0m      ]\n",
      "[             \u001b[32m|\u001b[0m      ]\n",
      "[             \u001b[32m|\u001b[0m      ]\n",
      "[             \u001b[32m|\u001b[0m      ]\n",
      "[   \u001b[32m|\u001b[0m         \u001b[32m|\u001b[0m      ]\n",
      "[   \u001b[32m|\u001b[0m         \u001b[32m|\u001b[0m      ]\n",
      "[   \u001b[32m|\u001b[0m         \u001b[32m|\u001b[0m      ]\n",
      "[   \u001b[32m|\u001b[0m         \u001b[32m|\u001b[0m      ]\n",
      "[   \u001b[32m|\u001b[0m         \u001b[32m|\u001b[0m      ]\n",
      "[   \u001b[32m|\u001b[0m                ]\n",
      "[   \u001b[32m|\u001b[0m  \u001b[33m@\u001b[0m             ]\n",
      "[   \u001b[32m|\u001b[0m                ]\n",
      "[   \u001b[32m|\u001b[0m                ]\n",
      "[   \u001b[32m|\u001b[0m         \u001b[32m|\u001b[0m      ]\n",
      "^^^^^^^^^^^^^^^^^^^^^^\n",
      "Player Action (Idle)\n",
      "Distance From Pipe (x=7,y=-1)\n",
      "False\n",
      "Text Flappy Bird!\n",
      "Score: 5\n",
      "----------------------\n",
      "[  \u001b[32m|\u001b[0m         \u001b[32m|\u001b[0m       ]\n",
      "[            \u001b[32m|\u001b[0m       ]\n",
      "[            \u001b[32m|\u001b[0m       ]\n",
      "[            \u001b[32m|\u001b[0m       ]\n",
      "[            \u001b[32m|\u001b[0m       ]\n",
      "[  \u001b[32m|\u001b[0m         \u001b[32m|\u001b[0m       ]\n",
      "[  \u001b[32m|\u001b[0m         \u001b[32m|\u001b[0m       ]\n",
      "[  \u001b[32m|\u001b[0m         \u001b[32m|\u001b[0m       ]\n",
      "[  \u001b[32m|\u001b[0m         \u001b[32m|\u001b[0m       ]\n",
      "[  \u001b[32m|\u001b[0m         \u001b[32m|\u001b[0m       ]\n",
      "[  \u001b[32m|\u001b[0m   \u001b[33m@\u001b[0m             ]\n",
      "[  \u001b[32m|\u001b[0m                 ]\n",
      "[  \u001b[32m|\u001b[0m                 ]\n",
      "[  \u001b[32m|\u001b[0m                 ]\n",
      "[  \u001b[32m|\u001b[0m         \u001b[32m|\u001b[0m       ]\n",
      "^^^^^^^^^^^^^^^^^^^^^^\n",
      "Player Action (Flap)\n",
      "Distance From Pipe (x=6,y=-2)\n",
      "False\n",
      "Text Flappy Bird!\n",
      "Score: 5\n",
      "----------------------\n",
      "[ \u001b[32m|\u001b[0m         \u001b[32m|\u001b[0m        ]\n",
      "[           \u001b[32m|\u001b[0m        ]\n",
      "[           \u001b[32m|\u001b[0m        ]\n",
      "[           \u001b[32m|\u001b[0m        ]\n",
      "[           \u001b[32m|\u001b[0m        ]\n",
      "[ \u001b[32m|\u001b[0m         \u001b[32m|\u001b[0m        ]\n",
      "[ \u001b[32m|\u001b[0m         \u001b[32m|\u001b[0m        ]\n",
      "[ \u001b[32m|\u001b[0m         \u001b[32m|\u001b[0m        ]\n",
      "[ \u001b[32m|\u001b[0m         \u001b[32m|\u001b[0m        ]\n",
      "[ \u001b[32m|\u001b[0m    \u001b[33m@\u001b[0m    \u001b[32m|\u001b[0m        ]\n",
      "[ \u001b[32m|\u001b[0m                  ]\n",
      "[ \u001b[32m|\u001b[0m                  ]\n",
      "[ \u001b[32m|\u001b[0m                  ]\n",
      "[ \u001b[32m|\u001b[0m                  ]\n",
      "[ \u001b[32m|\u001b[0m         \u001b[32m|\u001b[0m        ]\n",
      "^^^^^^^^^^^^^^^^^^^^^^\n",
      "Player Action (Flap)\n",
      "Distance From Pipe (x=5,y=-3)\n",
      "False\n",
      "Text Flappy Bird!\n",
      "Score: 5\n",
      "----------------------\n",
      "[\u001b[32m|\u001b[0m         \u001b[32m|\u001b[0m         ]\n",
      "[          \u001b[32m|\u001b[0m         ]\n",
      "[          \u001b[32m|\u001b[0m         ]\n",
      "[          \u001b[32m|\u001b[0m         ]\n",
      "[          \u001b[32m|\u001b[0m         ]\n",
      "[\u001b[32m|\u001b[0m         \u001b[32m|\u001b[0m         ]\n",
      "[\u001b[32m|\u001b[0m         \u001b[32m|\u001b[0m         ]\n",
      "[\u001b[32m|\u001b[0m         \u001b[32m|\u001b[0m         ]\n",
      "[\u001b[32m|\u001b[0m     \u001b[33m@\u001b[0m   \u001b[32m|\u001b[0m         ]\n",
      "[\u001b[32m|\u001b[0m         \u001b[32m|\u001b[0m         ]\n",
      "[\u001b[32m|\u001b[0m                   ]\n",
      "[\u001b[32m|\u001b[0m                   ]\n",
      "[\u001b[32m|\u001b[0m                   ]\n",
      "[\u001b[32m|\u001b[0m                   ]\n",
      "[\u001b[32m|\u001b[0m         \u001b[32m|\u001b[0m         ]\n",
      "^^^^^^^^^^^^^^^^^^^^^^\n",
      "Player Action (Flap)\n",
      "Distance From Pipe (x=4,y=-4)\n",
      "False\n",
      "Text Flappy Bird!\n",
      "Score: 5\n",
      "----------------------\n",
      "[         \u001b[32m|\u001b[0m          ]\n",
      "[         \u001b[32m|\u001b[0m          ]\n",
      "[         \u001b[32m|\u001b[0m          ]\n",
      "[         \u001b[32m|\u001b[0m          ]\n",
      "[         \u001b[32m|\u001b[0m          ]\n",
      "[         \u001b[32m|\u001b[0m          ]\n",
      "[         \u001b[32m|\u001b[0m          ]\n",
      "[         \u001b[32m|\u001b[0m          ]\n",
      "[         \u001b[32m|\u001b[0m          ]\n",
      "[      \u001b[33m@\u001b[0m  \u001b[32m|\u001b[0m          ]\n",
      "[                    ]\n",
      "[                    ]\n",
      "[                    ]\n",
      "[                    ]\n",
      "[         \u001b[32m|\u001b[0m          ]\n",
      "^^^^^^^^^^^^^^^^^^^^^^\n",
      "Player Action (Idle)\n",
      "Distance From Pipe (x=3,y=-3)\n",
      "False\n",
      "Text Flappy Bird!\n",
      "Score: 5\n",
      "----------------------\n",
      "[        \u001b[32m|\u001b[0m         \u001b[32m|\u001b[0m ]\n",
      "[        \u001b[32m|\u001b[0m         \u001b[32m|\u001b[0m ]\n",
      "[        \u001b[32m|\u001b[0m         \u001b[32m|\u001b[0m ]\n",
      "[        \u001b[32m|\u001b[0m         \u001b[32m|\u001b[0m ]\n",
      "[        \u001b[32m|\u001b[0m         \u001b[32m|\u001b[0m ]\n",
      "[        \u001b[32m|\u001b[0m         \u001b[32m|\u001b[0m ]\n",
      "[        \u001b[32m|\u001b[0m         \u001b[32m|\u001b[0m ]\n",
      "[        \u001b[32m|\u001b[0m         \u001b[32m|\u001b[0m ]\n",
      "[        \u001b[32m|\u001b[0m         \u001b[32m|\u001b[0m ]\n",
      "[        \u001b[32m|\u001b[0m           ]\n",
      "[                    ]\n",
      "[                    ]\n",
      "[      \u001b[33m@\u001b[0m             ]\n",
      "[                  \u001b[32m|\u001b[0m ]\n",
      "[        \u001b[32m|\u001b[0m         \u001b[32m|\u001b[0m ]\n",
      "^^^^^^^^^^^^^^^^^^^^^^\n",
      "Player Action (Idle)\n",
      "Distance From Pipe (x=2,y=0)\n",
      "False\n",
      "Text Flappy Bird!\n",
      "Score: 5\n",
      "----------------------\n",
      "[       \u001b[32m|\u001b[0m         \u001b[32m|\u001b[0m  ]\n",
      "[       \u001b[32m|\u001b[0m         \u001b[32m|\u001b[0m  ]\n",
      "[       \u001b[32m|\u001b[0m         \u001b[32m|\u001b[0m  ]\n",
      "[       \u001b[32m|\u001b[0m         \u001b[32m|\u001b[0m  ]\n",
      "[       \u001b[32m|\u001b[0m         \u001b[32m|\u001b[0m  ]\n",
      "[       \u001b[32m|\u001b[0m         \u001b[32m|\u001b[0m  ]\n",
      "[       \u001b[32m|\u001b[0m         \u001b[32m|\u001b[0m  ]\n",
      "[       \u001b[32m|\u001b[0m         \u001b[32m|\u001b[0m  ]\n",
      "[       \u001b[32m|\u001b[0m         \u001b[32m|\u001b[0m  ]\n",
      "[       \u001b[32m|\u001b[0m            ]\n",
      "[                    ]\n",
      "[      \u001b[33m@\u001b[0m             ]\n",
      "[                    ]\n",
      "[                 \u001b[32m|\u001b[0m  ]\n",
      "[       \u001b[32m|\u001b[0m         \u001b[32m|\u001b[0m  ]\n",
      "^^^^^^^^^^^^^^^^^^^^^^\n",
      "Player Action (Flap)\n",
      "Distance From Pipe (x=1,y=-1)\n",
      "False\n",
      "Text Flappy Bird!\n",
      "Score: 5\n",
      "----------------------\n",
      "[      \u001b[32m|\u001b[0m         \u001b[32m|\u001b[0m   ]\n",
      "[      \u001b[32m|\u001b[0m         \u001b[32m|\u001b[0m   ]\n",
      "[      \u001b[32m|\u001b[0m         \u001b[32m|\u001b[0m   ]\n",
      "[      \u001b[32m|\u001b[0m         \u001b[32m|\u001b[0m   ]\n",
      "[      \u001b[32m|\u001b[0m         \u001b[32m|\u001b[0m   ]\n",
      "[      \u001b[32m|\u001b[0m         \u001b[32m|\u001b[0m   ]\n",
      "[      \u001b[32m|\u001b[0m         \u001b[32m|\u001b[0m   ]\n",
      "[      \u001b[32m|\u001b[0m         \u001b[32m|\u001b[0m   ]\n",
      "[      \u001b[32m|\u001b[0m         \u001b[32m|\u001b[0m   ]\n",
      "[      \u001b[32m|\u001b[0m             ]\n",
      "[      \u001b[33m@\u001b[0m             ]\n",
      "[                    ]\n",
      "[                    ]\n",
      "[                \u001b[32m|\u001b[0m   ]\n",
      "[      \u001b[32m|\u001b[0m         \u001b[32m|\u001b[0m   ]\n",
      "^^^^^^^^^^^^^^^^^^^^^^\n",
      "Player Action (Flap)\n",
      "Distance From Pipe (x=0,y=-2)\n",
      "False\n",
      "Text Flappy Bird!\n",
      "Score: 6\n",
      "----------------------\n",
      "[     \u001b[32m|\u001b[0m         \u001b[32m|\u001b[0m    ]\n",
      "[     \u001b[32m|\u001b[0m         \u001b[32m|\u001b[0m    ]\n",
      "[     \u001b[32m|\u001b[0m         \u001b[32m|\u001b[0m    ]\n",
      "[     \u001b[32m|\u001b[0m         \u001b[32m|\u001b[0m    ]\n",
      "[     \u001b[32m|\u001b[0m         \u001b[32m|\u001b[0m    ]\n",
      "[     \u001b[32m|\u001b[0m         \u001b[32m|\u001b[0m    ]\n",
      "[     \u001b[32m|\u001b[0m         \u001b[32m|\u001b[0m    ]\n",
      "[     \u001b[32m|\u001b[0m         \u001b[32m|\u001b[0m    ]\n",
      "[     \u001b[32m|\u001b[0m         \u001b[32m|\u001b[0m    ]\n",
      "[     \u001b[32m|\u001b[0m\u001b[33m@\u001b[0m             ]\n",
      "[                    ]\n",
      "[                    ]\n",
      "[                    ]\n",
      "[               \u001b[32m|\u001b[0m    ]\n",
      "[     \u001b[32m|\u001b[0m         \u001b[32m|\u001b[0m    ]\n",
      "^^^^^^^^^^^^^^^^^^^^^^\n",
      "Player Action (Flap)\n",
      "Distance From Pipe (x=9,y=-2)\n",
      "False\n",
      "Text Flappy Bird!\n",
      "Score: 6\n",
      "----------------------\n",
      "[    \u001b[32m|\u001b[0m         \u001b[32m|\u001b[0m     ]\n",
      "[    \u001b[32m|\u001b[0m         \u001b[32m|\u001b[0m     ]\n",
      "[    \u001b[32m|\u001b[0m         \u001b[32m|\u001b[0m     ]\n",
      "[    \u001b[32m|\u001b[0m         \u001b[32m|\u001b[0m     ]\n",
      "[    \u001b[32m|\u001b[0m         \u001b[32m|\u001b[0m     ]\n",
      "[    \u001b[32m|\u001b[0m         \u001b[32m|\u001b[0m     ]\n",
      "[    \u001b[32m|\u001b[0m         \u001b[32m|\u001b[0m     ]\n",
      "[    \u001b[32m|\u001b[0m         \u001b[32m|\u001b[0m     ]\n",
      "[    \u001b[32m|\u001b[0m         \u001b[32m|\u001b[0m     ]\n",
      "[    \u001b[32m|\u001b[0m               ]\n",
      "[      \u001b[33m@\u001b[0m             ]\n",
      "[                    ]\n",
      "[                    ]\n",
      "[              \u001b[32m|\u001b[0m     ]\n",
      "[    \u001b[32m|\u001b[0m         \u001b[32m|\u001b[0m     ]\n",
      "^^^^^^^^^^^^^^^^^^^^^^\n",
      "Player Action (Idle)\n",
      "Distance From Pipe (x=8,y=-1)\n",
      "False\n",
      "Text Flappy Bird!\n",
      "Score: 6\n",
      "----------------------\n",
      "[   \u001b[32m|\u001b[0m         \u001b[32m|\u001b[0m      ]\n",
      "[   \u001b[32m|\u001b[0m         \u001b[32m|\u001b[0m      ]\n",
      "[   \u001b[32m|\u001b[0m         \u001b[32m|\u001b[0m      ]\n",
      "[   \u001b[32m|\u001b[0m         \u001b[32m|\u001b[0m      ]\n",
      "[   \u001b[32m|\u001b[0m         \u001b[32m|\u001b[0m      ]\n",
      "[   \u001b[32m|\u001b[0m         \u001b[32m|\u001b[0m      ]\n",
      "[   \u001b[32m|\u001b[0m         \u001b[32m|\u001b[0m      ]\n",
      "[   \u001b[32m|\u001b[0m         \u001b[32m|\u001b[0m      ]\n",
      "[   \u001b[32m|\u001b[0m         \u001b[32m|\u001b[0m      ]\n",
      "[   \u001b[32m|\u001b[0m  \u001b[33m@\u001b[0m             ]\n",
      "[                    ]\n",
      "[                    ]\n",
      "[                    ]\n",
      "[             \u001b[32m|\u001b[0m      ]\n",
      "[   \u001b[32m|\u001b[0m         \u001b[32m|\u001b[0m      ]\n",
      "^^^^^^^^^^^^^^^^^^^^^^\n",
      "Player Action (Flap)\n",
      "Distance From Pipe (x=7,y=-2)\n"
     ]
    },
    {
     "name": "stdout",
     "output_type": "stream",
     "text": [
      "False\n",
      "Text Flappy Bird!\n",
      "Score: 6\n",
      "----------------------\n",
      "[  \u001b[32m|\u001b[0m         \u001b[32m|\u001b[0m       ]\n",
      "[  \u001b[32m|\u001b[0m         \u001b[32m|\u001b[0m       ]\n",
      "[  \u001b[32m|\u001b[0m         \u001b[32m|\u001b[0m       ]\n",
      "[  \u001b[32m|\u001b[0m         \u001b[32m|\u001b[0m       ]\n",
      "[  \u001b[32m|\u001b[0m         \u001b[32m|\u001b[0m       ]\n",
      "[  \u001b[32m|\u001b[0m         \u001b[32m|\u001b[0m       ]\n",
      "[  \u001b[32m|\u001b[0m         \u001b[32m|\u001b[0m       ]\n",
      "[  \u001b[32m|\u001b[0m         \u001b[32m|\u001b[0m       ]\n",
      "[  \u001b[32m|\u001b[0m   \u001b[33m@\u001b[0m     \u001b[32m|\u001b[0m       ]\n",
      "[  \u001b[32m|\u001b[0m                 ]\n",
      "[                    ]\n",
      "[                    ]\n",
      "[                    ]\n",
      "[            \u001b[32m|\u001b[0m       ]\n",
      "[  \u001b[32m|\u001b[0m         \u001b[32m|\u001b[0m       ]\n",
      "^^^^^^^^^^^^^^^^^^^^^^\n",
      "Player Action (Flap)\n",
      "Distance From Pipe (x=6,y=-3)\n",
      "False\n",
      "Text Flappy Bird!\n",
      "Score: 6\n",
      "----------------------\n",
      "[ \u001b[32m|\u001b[0m         \u001b[32m|\u001b[0m        ]\n",
      "[ \u001b[32m|\u001b[0m         \u001b[32m|\u001b[0m        ]\n",
      "[ \u001b[32m|\u001b[0m         \u001b[32m|\u001b[0m        ]\n",
      "[ \u001b[32m|\u001b[0m         \u001b[32m|\u001b[0m        ]\n",
      "[ \u001b[32m|\u001b[0m         \u001b[32m|\u001b[0m        ]\n",
      "[ \u001b[32m|\u001b[0m         \u001b[32m|\u001b[0m        ]\n",
      "[ \u001b[32m|\u001b[0m         \u001b[32m|\u001b[0m        ]\n",
      "[ \u001b[32m|\u001b[0m    \u001b[33m@\u001b[0m    \u001b[32m|\u001b[0m        ]\n",
      "[ \u001b[32m|\u001b[0m         \u001b[32m|\u001b[0m        ]\n",
      "[ \u001b[32m|\u001b[0m                  ]\n",
      "[                    ]\n",
      "[                    ]\n",
      "[                    ]\n",
      "[           \u001b[32m|\u001b[0m        ]\n",
      "[ \u001b[32m|\u001b[0m         \u001b[32m|\u001b[0m        ]\n",
      "^^^^^^^^^^^^^^^^^^^^^^\n",
      "Player Action (Flap)\n",
      "Distance From Pipe (x=5,y=-4)\n",
      "False\n",
      "Text Flappy Bird!\n",
      "Score: 6\n",
      "----------------------\n",
      "[\u001b[32m|\u001b[0m         \u001b[32m|\u001b[0m         ]\n",
      "[\u001b[32m|\u001b[0m         \u001b[32m|\u001b[0m         ]\n",
      "[\u001b[32m|\u001b[0m         \u001b[32m|\u001b[0m         ]\n",
      "[\u001b[32m|\u001b[0m         \u001b[32m|\u001b[0m         ]\n",
      "[\u001b[32m|\u001b[0m         \u001b[32m|\u001b[0m         ]\n",
      "[\u001b[32m|\u001b[0m         \u001b[32m|\u001b[0m         ]\n",
      "[\u001b[32m|\u001b[0m     \u001b[33m@\u001b[0m   \u001b[32m|\u001b[0m         ]\n",
      "[\u001b[32m|\u001b[0m         \u001b[32m|\u001b[0m         ]\n",
      "[\u001b[32m|\u001b[0m         \u001b[32m|\u001b[0m         ]\n",
      "[\u001b[32m|\u001b[0m                   ]\n",
      "[                    ]\n",
      "[                    ]\n",
      "[                    ]\n",
      "[          \u001b[32m|\u001b[0m         ]\n",
      "[\u001b[32m|\u001b[0m         \u001b[32m|\u001b[0m         ]\n",
      "^^^^^^^^^^^^^^^^^^^^^^\n",
      "Player Action (Flap)\n",
      "Distance From Pipe (x=4,y=-5)\n",
      "False\n",
      "Text Flappy Bird!\n",
      "Score: 6\n",
      "----------------------\n",
      "[         \u001b[32m|\u001b[0m          ]\n",
      "[         \u001b[32m|\u001b[0m          ]\n",
      "[         \u001b[32m|\u001b[0m          ]\n",
      "[         \u001b[32m|\u001b[0m          ]\n",
      "[         \u001b[32m|\u001b[0m          ]\n",
      "[         \u001b[32m|\u001b[0m          ]\n",
      "[         \u001b[32m|\u001b[0m          ]\n",
      "[      \u001b[33m@\u001b[0m  \u001b[32m|\u001b[0m          ]\n",
      "[         \u001b[32m|\u001b[0m          ]\n",
      "[                    ]\n",
      "[                    ]\n",
      "[                    ]\n",
      "[                    ]\n",
      "[         \u001b[32m|\u001b[0m          ]\n",
      "[         \u001b[32m|\u001b[0m          ]\n",
      "^^^^^^^^^^^^^^^^^^^^^^\n",
      "Player Action (Idle)\n",
      "Distance From Pipe (x=3,y=-4)\n",
      "False\n",
      "Text Flappy Bird!\n",
      "Score: 6\n",
      "----------------------\n",
      "[        \u001b[32m|\u001b[0m         \u001b[32m|\u001b[0m ]\n",
      "[        \u001b[32m|\u001b[0m           ]\n",
      "[        \u001b[32m|\u001b[0m           ]\n",
      "[        \u001b[32m|\u001b[0m           ]\n",
      "[        \u001b[32m|\u001b[0m           ]\n",
      "[        \u001b[32m|\u001b[0m         \u001b[32m|\u001b[0m ]\n",
      "[        \u001b[32m|\u001b[0m         \u001b[32m|\u001b[0m ]\n",
      "[        \u001b[32m|\u001b[0m         \u001b[32m|\u001b[0m ]\n",
      "[        \u001b[32m|\u001b[0m         \u001b[32m|\u001b[0m ]\n",
      "[                  \u001b[32m|\u001b[0m ]\n",
      "[      \u001b[33m@\u001b[0m           \u001b[32m|\u001b[0m ]\n",
      "[                  \u001b[32m|\u001b[0m ]\n",
      "[                  \u001b[32m|\u001b[0m ]\n",
      "[        \u001b[32m|\u001b[0m         \u001b[32m|\u001b[0m ]\n",
      "[        \u001b[32m|\u001b[0m         \u001b[32m|\u001b[0m ]\n",
      "^^^^^^^^^^^^^^^^^^^^^^\n",
      "Player Action (Idle)\n",
      "Distance From Pipe (x=2,y=-1)\n",
      "False\n",
      "Text Flappy Bird!\n",
      "Score: 6\n",
      "----------------------\n",
      "[       \u001b[32m|\u001b[0m         \u001b[32m|\u001b[0m  ]\n",
      "[       \u001b[32m|\u001b[0m            ]\n",
      "[       \u001b[32m|\u001b[0m            ]\n",
      "[       \u001b[32m|\u001b[0m            ]\n",
      "[       \u001b[32m|\u001b[0m            ]\n",
      "[       \u001b[32m|\u001b[0m         \u001b[32m|\u001b[0m  ]\n",
      "[       \u001b[32m|\u001b[0m         \u001b[32m|\u001b[0m  ]\n",
      "[       \u001b[32m|\u001b[0m         \u001b[32m|\u001b[0m  ]\n",
      "[       \u001b[32m|\u001b[0m         \u001b[32m|\u001b[0m  ]\n",
      "[      \u001b[33m@\u001b[0m          \u001b[32m|\u001b[0m  ]\n",
      "[                 \u001b[32m|\u001b[0m  ]\n",
      "[                 \u001b[32m|\u001b[0m  ]\n",
      "[                 \u001b[32m|\u001b[0m  ]\n",
      "[       \u001b[32m|\u001b[0m         \u001b[32m|\u001b[0m  ]\n",
      "[       \u001b[32m|\u001b[0m         \u001b[32m|\u001b[0m  ]\n",
      "^^^^^^^^^^^^^^^^^^^^^^\n",
      "Player Action (Flap)\n",
      "Distance From Pipe (x=1,y=-2)\n",
      "False\n",
      "Text Flappy Bird!\n",
      "Score: 6\n",
      "----------------------\n",
      "[      \u001b[32m|\u001b[0m         \u001b[32m|\u001b[0m   ]\n",
      "[      \u001b[32m|\u001b[0m             ]\n",
      "[      \u001b[32m|\u001b[0m             ]\n",
      "[      \u001b[32m|\u001b[0m             ]\n",
      "[      \u001b[32m|\u001b[0m             ]\n",
      "[      \u001b[32m|\u001b[0m         \u001b[32m|\u001b[0m   ]\n",
      "[      \u001b[32m|\u001b[0m         \u001b[32m|\u001b[0m   ]\n",
      "[      \u001b[32m|\u001b[0m         \u001b[32m|\u001b[0m   ]\n",
      "[      \u001b[32m|\u001b[0m         \u001b[32m|\u001b[0m   ]\n",
      "[                \u001b[32m|\u001b[0m   ]\n",
      "[      \u001b[33m@\u001b[0m         \u001b[32m|\u001b[0m   ]\n",
      "[                \u001b[32m|\u001b[0m   ]\n",
      "[                \u001b[32m|\u001b[0m   ]\n",
      "[      \u001b[32m|\u001b[0m         \u001b[32m|\u001b[0m   ]\n",
      "[      \u001b[32m|\u001b[0m         \u001b[32m|\u001b[0m   ]\n",
      "^^^^^^^^^^^^^^^^^^^^^^\n",
      "Player Action (Idle)\n",
      "Distance From Pipe (x=0,y=-1)\n",
      "False\n",
      "Text Flappy Bird!\n",
      "Score: 7\n",
      "----------------------\n",
      "[     \u001b[32m|\u001b[0m         \u001b[32m|\u001b[0m    ]\n",
      "[     \u001b[32m|\u001b[0m              ]\n",
      "[     \u001b[32m|\u001b[0m              ]\n",
      "[     \u001b[32m|\u001b[0m              ]\n",
      "[     \u001b[32m|\u001b[0m              ]\n",
      "[     \u001b[32m|\u001b[0m         \u001b[32m|\u001b[0m    ]\n",
      "[     \u001b[32m|\u001b[0m         \u001b[32m|\u001b[0m    ]\n",
      "[     \u001b[32m|\u001b[0m         \u001b[32m|\u001b[0m    ]\n",
      "[     \u001b[32m|\u001b[0m         \u001b[32m|\u001b[0m    ]\n",
      "[               \u001b[32m|\u001b[0m    ]\n",
      "[               \u001b[32m|\u001b[0m    ]\n",
      "[               \u001b[32m|\u001b[0m    ]\n",
      "[               \u001b[32m|\u001b[0m    ]\n",
      "[     \u001b[32m|\u001b[0m\u001b[33m@\u001b[0m        \u001b[32m|\u001b[0m    ]\n",
      "[     \u001b[32m|\u001b[0m         \u001b[32m|\u001b[0m    ]\n",
      "^^^^^^^^^^^^^^^^^^^^^^\n",
      "Player Action (Idle)\n",
      "Distance From Pipe (x=9,y=10)\n",
      "False\n",
      "Text Flappy Bird!\n",
      "Score: 7\n",
      "----------------------\n",
      "[    \u001b[32m|\u001b[0m         \u001b[32m|\u001b[0m     ]\n",
      "[    \u001b[32m|\u001b[0m               ]\n",
      "[    \u001b[32m|\u001b[0m               ]\n",
      "[    \u001b[32m|\u001b[0m               ]\n",
      "[    \u001b[32m|\u001b[0m               ]\n",
      "[    \u001b[32m|\u001b[0m         \u001b[32m|\u001b[0m     ]\n",
      "[    \u001b[32m|\u001b[0m         \u001b[32m|\u001b[0m     ]\n",
      "[    \u001b[32m|\u001b[0m         \u001b[32m|\u001b[0m     ]\n",
      "[    \u001b[32m|\u001b[0m         \u001b[32m|\u001b[0m     ]\n",
      "[              \u001b[32m|\u001b[0m     ]\n",
      "[              \u001b[32m|\u001b[0m     ]\n",
      "[              \u001b[32m|\u001b[0m     ]\n",
      "[      \u001b[33m@\u001b[0m       \u001b[32m|\u001b[0m     ]\n",
      "[    \u001b[32m|\u001b[0m         \u001b[32m|\u001b[0m     ]\n",
      "[    \u001b[32m|\u001b[0m         \u001b[32m|\u001b[0m     ]\n",
      "^^^^^^^^^^^^^^^^^^^^^^\n",
      "Player Action (Flap)\n",
      "Distance From Pipe (x=8,y=9)\n",
      "False\n",
      "Text Flappy Bird!\n",
      "Score: 7\n",
      "----------------------\n",
      "[   \u001b[32m|\u001b[0m         \u001b[32m|\u001b[0m      ]\n",
      "[   \u001b[32m|\u001b[0m                ]\n",
      "[   \u001b[32m|\u001b[0m                ]\n",
      "[   \u001b[32m|\u001b[0m                ]\n",
      "[   \u001b[32m|\u001b[0m                ]\n",
      "[   \u001b[32m|\u001b[0m         \u001b[32m|\u001b[0m      ]\n",
      "[   \u001b[32m|\u001b[0m         \u001b[32m|\u001b[0m      ]\n",
      "[   \u001b[32m|\u001b[0m         \u001b[32m|\u001b[0m      ]\n",
      "[   \u001b[32m|\u001b[0m         \u001b[32m|\u001b[0m      ]\n",
      "[             \u001b[32m|\u001b[0m      ]\n",
      "[             \u001b[32m|\u001b[0m      ]\n",
      "[      \u001b[33m@\u001b[0m      \u001b[32m|\u001b[0m      ]\n",
      "[             \u001b[32m|\u001b[0m      ]\n",
      "[   \u001b[32m|\u001b[0m         \u001b[32m|\u001b[0m      ]\n",
      "[   \u001b[32m|\u001b[0m         \u001b[32m|\u001b[0m      ]\n",
      "^^^^^^^^^^^^^^^^^^^^^^\n",
      "Player Action (Flap)\n",
      "Distance From Pipe (x=7,y=8)\n",
      "False\n",
      "Text Flappy Bird!\n",
      "Score: 7\n",
      "----------------------\n",
      "[  \u001b[32m|\u001b[0m         \u001b[32m|\u001b[0m       ]\n",
      "[  \u001b[32m|\u001b[0m                 ]\n",
      "[  \u001b[32m|\u001b[0m                 ]\n",
      "[  \u001b[32m|\u001b[0m                 ]\n",
      "[  \u001b[32m|\u001b[0m                 ]\n",
      "[  \u001b[32m|\u001b[0m         \u001b[32m|\u001b[0m       ]\n",
      "[  \u001b[32m|\u001b[0m         \u001b[32m|\u001b[0m       ]\n",
      "[  \u001b[32m|\u001b[0m         \u001b[32m|\u001b[0m       ]\n",
      "[  \u001b[32m|\u001b[0m         \u001b[32m|\u001b[0m       ]\n",
      "[            \u001b[32m|\u001b[0m       ]\n",
      "[      \u001b[33m@\u001b[0m     \u001b[32m|\u001b[0m       ]\n",
      "[            \u001b[32m|\u001b[0m       ]\n",
      "[            \u001b[32m|\u001b[0m       ]\n",
      "[  \u001b[32m|\u001b[0m         \u001b[32m|\u001b[0m       ]\n",
      "[  \u001b[32m|\u001b[0m         \u001b[32m|\u001b[0m       ]\n",
      "^^^^^^^^^^^^^^^^^^^^^^\n",
      "Player Action (Flap)\n",
      "Distance From Pipe (x=6,y=7)\n",
      "False\n",
      "Text Flappy Bird!\n",
      "Score: 7\n",
      "----------------------\n",
      "[ \u001b[32m|\u001b[0m         \u001b[32m|\u001b[0m        ]\n",
      "[ \u001b[32m|\u001b[0m                  ]\n",
      "[ \u001b[32m|\u001b[0m                  ]\n",
      "[ \u001b[32m|\u001b[0m                  ]\n",
      "[ \u001b[32m|\u001b[0m                  ]\n",
      "[ \u001b[32m|\u001b[0m         \u001b[32m|\u001b[0m        ]\n",
      "[ \u001b[32m|\u001b[0m         \u001b[32m|\u001b[0m        ]\n",
      "[ \u001b[32m|\u001b[0m         \u001b[32m|\u001b[0m        ]\n",
      "[ \u001b[32m|\u001b[0m         \u001b[32m|\u001b[0m        ]\n",
      "[      \u001b[33m@\u001b[0m    \u001b[32m|\u001b[0m        ]\n",
      "[           \u001b[32m|\u001b[0m        ]\n",
      "[           \u001b[32m|\u001b[0m        ]\n",
      "[           \u001b[32m|\u001b[0m        ]\n",
      "[ \u001b[32m|\u001b[0m         \u001b[32m|\u001b[0m        ]\n",
      "[ \u001b[32m|\u001b[0m         \u001b[32m|\u001b[0m        ]\n",
      "^^^^^^^^^^^^^^^^^^^^^^\n",
      "Player Action (Flap)\n",
      "Distance From Pipe (x=5,y=6)\n",
      "False\n",
      "Text Flappy Bird!\n",
      "Score: 7\n",
      "----------------------\n",
      "[\u001b[32m|\u001b[0m         \u001b[32m|\u001b[0m         ]\n",
      "[\u001b[32m|\u001b[0m                   ]\n",
      "[\u001b[32m|\u001b[0m                   ]\n",
      "[\u001b[32m|\u001b[0m                   ]\n",
      "[\u001b[32m|\u001b[0m                   ]\n",
      "[\u001b[32m|\u001b[0m         \u001b[32m|\u001b[0m         ]\n",
      "[\u001b[32m|\u001b[0m         \u001b[32m|\u001b[0m         ]\n",
      "[\u001b[32m|\u001b[0m         \u001b[32m|\u001b[0m         ]\n",
      "[\u001b[32m|\u001b[0m     \u001b[33m@\u001b[0m   \u001b[32m|\u001b[0m         ]\n",
      "[          \u001b[32m|\u001b[0m         ]\n",
      "[          \u001b[32m|\u001b[0m         ]\n",
      "[          \u001b[32m|\u001b[0m         ]\n",
      "[          \u001b[32m|\u001b[0m         ]\n",
      "[\u001b[32m|\u001b[0m         \u001b[32m|\u001b[0m         ]\n",
      "[\u001b[32m|\u001b[0m         \u001b[32m|\u001b[0m         ]\n",
      "^^^^^^^^^^^^^^^^^^^^^^\n",
      "Player Action (Flap)\n",
      "Distance From Pipe (x=4,y=5)\n"
     ]
    },
    {
     "name": "stdout",
     "output_type": "stream",
     "text": [
      "False\n",
      "Text Flappy Bird!\n",
      "Score: 7\n",
      "----------------------\n",
      "[         \u001b[32m|\u001b[0m          ]\n",
      "[                    ]\n",
      "[                    ]\n",
      "[                    ]\n",
      "[                    ]\n",
      "[         \u001b[32m|\u001b[0m          ]\n",
      "[         \u001b[32m|\u001b[0m          ]\n",
      "[      \u001b[33m@\u001b[0m  \u001b[32m|\u001b[0m          ]\n",
      "[         \u001b[32m|\u001b[0m          ]\n",
      "[         \u001b[32m|\u001b[0m          ]\n",
      "[         \u001b[32m|\u001b[0m          ]\n",
      "[         \u001b[32m|\u001b[0m          ]\n",
      "[         \u001b[32m|\u001b[0m          ]\n",
      "[         \u001b[32m|\u001b[0m          ]\n",
      "[         \u001b[32m|\u001b[0m          ]\n",
      "^^^^^^^^^^^^^^^^^^^^^^\n",
      "Player Action (Flap)\n",
      "Distance From Pipe (x=3,y=4)\n",
      "False\n",
      "Text Flappy Bird!\n",
      "Score: 7\n",
      "----------------------\n",
      "[        \u001b[32m|\u001b[0m         \u001b[32m|\u001b[0m ]\n",
      "[                  \u001b[32m|\u001b[0m ]\n",
      "[                  \u001b[32m|\u001b[0m ]\n",
      "[                  \u001b[32m|\u001b[0m ]\n",
      "[                  \u001b[32m|\u001b[0m ]\n",
      "[        \u001b[32m|\u001b[0m         \u001b[32m|\u001b[0m ]\n",
      "[      \u001b[33m@\u001b[0m \u001b[32m|\u001b[0m           ]\n",
      "[        \u001b[32m|\u001b[0m           ]\n",
      "[        \u001b[32m|\u001b[0m           ]\n",
      "[        \u001b[32m|\u001b[0m           ]\n",
      "[        \u001b[32m|\u001b[0m         \u001b[32m|\u001b[0m ]\n",
      "[        \u001b[32m|\u001b[0m         \u001b[32m|\u001b[0m ]\n",
      "[        \u001b[32m|\u001b[0m         \u001b[32m|\u001b[0m ]\n",
      "[        \u001b[32m|\u001b[0m         \u001b[32m|\u001b[0m ]\n",
      "[        \u001b[32m|\u001b[0m         \u001b[32m|\u001b[0m ]\n",
      "^^^^^^^^^^^^^^^^^^^^^^\n",
      "Player Action (Flap)\n",
      "Distance From Pipe (x=2,y=3)\n",
      "False\n",
      "Text Flappy Bird!\n",
      "Score: 7\n",
      "----------------------\n",
      "[       \u001b[32m|\u001b[0m         \u001b[32m|\u001b[0m  ]\n",
      "[                 \u001b[32m|\u001b[0m  ]\n",
      "[                 \u001b[32m|\u001b[0m  ]\n",
      "[                 \u001b[32m|\u001b[0m  ]\n",
      "[                 \u001b[32m|\u001b[0m  ]\n",
      "[      \u001b[33m@\u001b[0m\u001b[32m|\u001b[0m         \u001b[32m|\u001b[0m  ]\n",
      "[       \u001b[32m|\u001b[0m            ]\n",
      "[       \u001b[32m|\u001b[0m            ]\n",
      "[       \u001b[32m|\u001b[0m            ]\n",
      "[       \u001b[32m|\u001b[0m            ]\n",
      "[       \u001b[32m|\u001b[0m         \u001b[32m|\u001b[0m  ]\n",
      "[       \u001b[32m|\u001b[0m         \u001b[32m|\u001b[0m  ]\n",
      "[       \u001b[32m|\u001b[0m         \u001b[32m|\u001b[0m  ]\n",
      "[       \u001b[32m|\u001b[0m         \u001b[32m|\u001b[0m  ]\n",
      "[       \u001b[32m|\u001b[0m         \u001b[32m|\u001b[0m  ]\n",
      "^^^^^^^^^^^^^^^^^^^^^^\n",
      "Player Action (Flap)\n",
      "Distance From Pipe (x=1,y=2)\n",
      "False\n",
      "Text Flappy Bird!\n",
      "Score: 7\n",
      "----------------------\n",
      "[      \u001b[32m|\u001b[0m         \u001b[32m|\u001b[0m   ]\n",
      "[                \u001b[32m|\u001b[0m   ]\n",
      "[                \u001b[32m|\u001b[0m   ]\n",
      "[                \u001b[32m|\u001b[0m   ]\n",
      "[      \u001b[33m@\u001b[0m         \u001b[32m|\u001b[0m   ]\n",
      "[      \u001b[32m|\u001b[0m         \u001b[32m|\u001b[0m   ]\n",
      "[      \u001b[32m|\u001b[0m             ]\n",
      "[      \u001b[32m|\u001b[0m             ]\n",
      "[      \u001b[32m|\u001b[0m             ]\n",
      "[      \u001b[32m|\u001b[0m             ]\n",
      "[      \u001b[32m|\u001b[0m         \u001b[32m|\u001b[0m   ]\n",
      "[      \u001b[32m|\u001b[0m         \u001b[32m|\u001b[0m   ]\n",
      "[      \u001b[32m|\u001b[0m         \u001b[32m|\u001b[0m   ]\n",
      "[      \u001b[32m|\u001b[0m         \u001b[32m|\u001b[0m   ]\n",
      "[      \u001b[32m|\u001b[0m         \u001b[32m|\u001b[0m   ]\n",
      "^^^^^^^^^^^^^^^^^^^^^^\n",
      "Player Action (Flap)\n",
      "Distance From Pipe (x=0,y=1)\n",
      "False\n",
      "Text Flappy Bird!\n",
      "Score: 8\n",
      "----------------------\n",
      "[     \u001b[32m|\u001b[0m         \u001b[32m|\u001b[0m    ]\n",
      "[               \u001b[32m|\u001b[0m    ]\n",
      "[               \u001b[32m|\u001b[0m    ]\n",
      "[      \u001b[33m@\u001b[0m        \u001b[32m|\u001b[0m    ]\n",
      "[               \u001b[32m|\u001b[0m    ]\n",
      "[     \u001b[32m|\u001b[0m         \u001b[32m|\u001b[0m    ]\n",
      "[     \u001b[32m|\u001b[0m              ]\n",
      "[     \u001b[32m|\u001b[0m              ]\n",
      "[     \u001b[32m|\u001b[0m              ]\n",
      "[     \u001b[32m|\u001b[0m              ]\n",
      "[     \u001b[32m|\u001b[0m         \u001b[32m|\u001b[0m    ]\n",
      "[     \u001b[32m|\u001b[0m         \u001b[32m|\u001b[0m    ]\n",
      "[     \u001b[32m|\u001b[0m         \u001b[32m|\u001b[0m    ]\n",
      "[     \u001b[32m|\u001b[0m         \u001b[32m|\u001b[0m    ]\n",
      "[     \u001b[32m|\u001b[0m         \u001b[32m|\u001b[0m    ]\n",
      "^^^^^^^^^^^^^^^^^^^^^^\n",
      "Player Action (Flap)\n",
      "Distance From Pipe (x=9,y=-5)\n",
      "False\n",
      "Text Flappy Bird!\n",
      "Score: 8\n",
      "----------------------\n",
      "[    \u001b[32m|\u001b[0m         \u001b[32m|\u001b[0m     ]\n",
      "[              \u001b[32m|\u001b[0m     ]\n",
      "[      \u001b[33m@\u001b[0m       \u001b[32m|\u001b[0m     ]\n",
      "[              \u001b[32m|\u001b[0m     ]\n",
      "[              \u001b[32m|\u001b[0m     ]\n",
      "[    \u001b[32m|\u001b[0m         \u001b[32m|\u001b[0m     ]\n",
      "[    \u001b[32m|\u001b[0m               ]\n",
      "[    \u001b[32m|\u001b[0m               ]\n",
      "[    \u001b[32m|\u001b[0m               ]\n",
      "[    \u001b[32m|\u001b[0m               ]\n",
      "[    \u001b[32m|\u001b[0m         \u001b[32m|\u001b[0m     ]\n",
      "[    \u001b[32m|\u001b[0m         \u001b[32m|\u001b[0m     ]\n",
      "[    \u001b[32m|\u001b[0m         \u001b[32m|\u001b[0m     ]\n",
      "[    \u001b[32m|\u001b[0m         \u001b[32m|\u001b[0m     ]\n",
      "[    \u001b[32m|\u001b[0m         \u001b[32m|\u001b[0m     ]\n",
      "^^^^^^^^^^^^^^^^^^^^^^\n",
      "Player Action (Flap)\n",
      "Distance From Pipe (x=8,y=-6)\n",
      "False\n",
      "Text Flappy Bird!\n",
      "Score: 8\n",
      "----------------------\n",
      "[   \u001b[32m|\u001b[0m         \u001b[32m|\u001b[0m      ]\n",
      "[             \u001b[32m|\u001b[0m      ]\n",
      "[             \u001b[32m|\u001b[0m      ]\n",
      "[      \u001b[33m@\u001b[0m      \u001b[32m|\u001b[0m      ]\n",
      "[             \u001b[32m|\u001b[0m      ]\n",
      "[   \u001b[32m|\u001b[0m         \u001b[32m|\u001b[0m      ]\n",
      "[   \u001b[32m|\u001b[0m                ]\n",
      "[   \u001b[32m|\u001b[0m                ]\n",
      "[   \u001b[32m|\u001b[0m                ]\n",
      "[   \u001b[32m|\u001b[0m                ]\n",
      "[   \u001b[32m|\u001b[0m         \u001b[32m|\u001b[0m      ]\n",
      "[   \u001b[32m|\u001b[0m         \u001b[32m|\u001b[0m      ]\n",
      "[   \u001b[32m|\u001b[0m         \u001b[32m|\u001b[0m      ]\n",
      "[   \u001b[32m|\u001b[0m         \u001b[32m|\u001b[0m      ]\n",
      "[   \u001b[32m|\u001b[0m         \u001b[32m|\u001b[0m      ]\n",
      "^^^^^^^^^^^^^^^^^^^^^^\n",
      "Player Action (Idle)\n",
      "Distance From Pipe (x=7,y=-5)\n",
      "False\n",
      "Text Flappy Bird!\n",
      "Score: 8\n",
      "----------------------\n",
      "[  \u001b[32m|\u001b[0m         \u001b[32m|\u001b[0m       ]\n",
      "[            \u001b[32m|\u001b[0m       ]\n",
      "[      \u001b[33m@\u001b[0m     \u001b[32m|\u001b[0m       ]\n",
      "[            \u001b[32m|\u001b[0m       ]\n",
      "[            \u001b[32m|\u001b[0m       ]\n",
      "[  \u001b[32m|\u001b[0m         \u001b[32m|\u001b[0m       ]\n",
      "[  \u001b[32m|\u001b[0m                 ]\n",
      "[  \u001b[32m|\u001b[0m                 ]\n",
      "[  \u001b[32m|\u001b[0m                 ]\n",
      "[  \u001b[32m|\u001b[0m                 ]\n",
      "[  \u001b[32m|\u001b[0m         \u001b[32m|\u001b[0m       ]\n",
      "[  \u001b[32m|\u001b[0m         \u001b[32m|\u001b[0m       ]\n",
      "[  \u001b[32m|\u001b[0m         \u001b[32m|\u001b[0m       ]\n",
      "[  \u001b[32m|\u001b[0m         \u001b[32m|\u001b[0m       ]\n",
      "[  \u001b[32m|\u001b[0m         \u001b[32m|\u001b[0m       ]\n",
      "^^^^^^^^^^^^^^^^^^^^^^\n",
      "Player Action (Flap)\n",
      "Distance From Pipe (x=6,y=-6)\n",
      "False\n",
      "Text Flappy Bird!\n",
      "Score: 8\n",
      "----------------------\n",
      "[ \u001b[32m|\u001b[0m         \u001b[32m|\u001b[0m        ]\n",
      "[           \u001b[32m|\u001b[0m        ]\n",
      "[           \u001b[32m|\u001b[0m        ]\n",
      "[      \u001b[33m@\u001b[0m    \u001b[32m|\u001b[0m        ]\n",
      "[           \u001b[32m|\u001b[0m        ]\n",
      "[ \u001b[32m|\u001b[0m         \u001b[32m|\u001b[0m        ]\n",
      "[ \u001b[32m|\u001b[0m                  ]\n",
      "[ \u001b[32m|\u001b[0m                  ]\n",
      "[ \u001b[32m|\u001b[0m                  ]\n",
      "[ \u001b[32m|\u001b[0m                  ]\n",
      "[ \u001b[32m|\u001b[0m         \u001b[32m|\u001b[0m        ]\n",
      "[ \u001b[32m|\u001b[0m         \u001b[32m|\u001b[0m        ]\n",
      "[ \u001b[32m|\u001b[0m         \u001b[32m|\u001b[0m        ]\n",
      "[ \u001b[32m|\u001b[0m         \u001b[32m|\u001b[0m        ]\n",
      "[ \u001b[32m|\u001b[0m         \u001b[32m|\u001b[0m        ]\n",
      "^^^^^^^^^^^^^^^^^^^^^^\n",
      "Player Action (Idle)\n",
      "Distance From Pipe (x=5,y=-5)\n",
      "False\n",
      "Text Flappy Bird!\n",
      "Score: 8\n",
      "----------------------\n",
      "[\u001b[32m|\u001b[0m         \u001b[32m|\u001b[0m         ]\n",
      "[          \u001b[32m|\u001b[0m         ]\n",
      "[          \u001b[32m|\u001b[0m         ]\n",
      "[          \u001b[32m|\u001b[0m         ]\n",
      "[          \u001b[32m|\u001b[0m         ]\n",
      "[\u001b[32m|\u001b[0m         \u001b[32m|\u001b[0m         ]\n",
      "[\u001b[32m|\u001b[0m     \u001b[33m@\u001b[0m             ]\n",
      "[\u001b[32m|\u001b[0m                   ]\n",
      "[\u001b[32m|\u001b[0m                   ]\n",
      "[\u001b[32m|\u001b[0m                   ]\n",
      "[\u001b[32m|\u001b[0m         \u001b[32m|\u001b[0m         ]\n",
      "[\u001b[32m|\u001b[0m         \u001b[32m|\u001b[0m         ]\n",
      "[\u001b[32m|\u001b[0m         \u001b[32m|\u001b[0m         ]\n",
      "[\u001b[32m|\u001b[0m         \u001b[32m|\u001b[0m         ]\n",
      "[\u001b[32m|\u001b[0m         \u001b[32m|\u001b[0m         ]\n",
      "^^^^^^^^^^^^^^^^^^^^^^\n",
      "Player Action (Idle)\n",
      "Distance From Pipe (x=4,y=-2)\n",
      "False\n",
      "Text Flappy Bird!\n",
      "Score: 8\n",
      "----------------------\n",
      "[         \u001b[32m|\u001b[0m          ]\n",
      "[         \u001b[32m|\u001b[0m          ]\n",
      "[         \u001b[32m|\u001b[0m          ]\n",
      "[         \u001b[32m|\u001b[0m          ]\n",
      "[         \u001b[32m|\u001b[0m          ]\n",
      "[      \u001b[33m@\u001b[0m  \u001b[32m|\u001b[0m          ]\n",
      "[                    ]\n",
      "[                    ]\n",
      "[                    ]\n",
      "[                    ]\n",
      "[         \u001b[32m|\u001b[0m          ]\n",
      "[         \u001b[32m|\u001b[0m          ]\n",
      "[         \u001b[32m|\u001b[0m          ]\n",
      "[         \u001b[32m|\u001b[0m          ]\n",
      "[         \u001b[32m|\u001b[0m          ]\n",
      "^^^^^^^^^^^^^^^^^^^^^^\n",
      "Player Action (Flap)\n",
      "Distance From Pipe (x=3,y=-3)\n",
      "False\n",
      "Text Flappy Bird!\n",
      "Score: 8\n",
      "----------------------\n",
      "[        \u001b[32m|\u001b[0m         \u001b[32m|\u001b[0m ]\n",
      "[        \u001b[32m|\u001b[0m         \u001b[32m|\u001b[0m ]\n",
      "[        \u001b[32m|\u001b[0m         \u001b[32m|\u001b[0m ]\n",
      "[        \u001b[32m|\u001b[0m         \u001b[32m|\u001b[0m ]\n",
      "[        \u001b[32m|\u001b[0m         \u001b[32m|\u001b[0m ]\n",
      "[        \u001b[32m|\u001b[0m         \u001b[32m|\u001b[0m ]\n",
      "[      \u001b[33m@\u001b[0m           \u001b[32m|\u001b[0m ]\n",
      "[                    ]\n",
      "[                    ]\n",
      "[                    ]\n",
      "[        \u001b[32m|\u001b[0m           ]\n",
      "[        \u001b[32m|\u001b[0m         \u001b[32m|\u001b[0m ]\n",
      "[        \u001b[32m|\u001b[0m         \u001b[32m|\u001b[0m ]\n",
      "[        \u001b[32m|\u001b[0m         \u001b[32m|\u001b[0m ]\n",
      "[        \u001b[32m|\u001b[0m         \u001b[32m|\u001b[0m ]\n",
      "^^^^^^^^^^^^^^^^^^^^^^\n",
      "Player Action (Idle)\n",
      "Distance From Pipe (x=2,y=-2)\n",
      "False\n",
      "Text Flappy Bird!\n",
      "Score: 8\n",
      "----------------------\n",
      "[       \u001b[32m|\u001b[0m         \u001b[32m|\u001b[0m  ]\n",
      "[       \u001b[32m|\u001b[0m         \u001b[32m|\u001b[0m  ]\n",
      "[       \u001b[32m|\u001b[0m         \u001b[32m|\u001b[0m  ]\n",
      "[       \u001b[32m|\u001b[0m         \u001b[32m|\u001b[0m  ]\n",
      "[       \u001b[32m|\u001b[0m         \u001b[32m|\u001b[0m  ]\n",
      "[       \u001b[32m|\u001b[0m         \u001b[32m|\u001b[0m  ]\n",
      "[                 \u001b[32m|\u001b[0m  ]\n",
      "[                    ]\n",
      "[                    ]\n",
      "[      \u001b[33m@\u001b[0m             ]\n",
      "[       \u001b[32m|\u001b[0m            ]\n",
      "[       \u001b[32m|\u001b[0m         \u001b[32m|\u001b[0m  ]\n",
      "[       \u001b[32m|\u001b[0m         \u001b[32m|\u001b[0m  ]\n",
      "[       \u001b[32m|\u001b[0m         \u001b[32m|\u001b[0m  ]\n",
      "[       \u001b[32m|\u001b[0m         \u001b[32m|\u001b[0m  ]\n",
      "^^^^^^^^^^^^^^^^^^^^^^\n",
      "Player Action (Idle)\n",
      "Distance From Pipe (x=1,y=1)\n"
     ]
    },
    {
     "name": "stdout",
     "output_type": "stream",
     "text": [
      "False\n",
      "Text Flappy Bird!\n",
      "Score: 8\n",
      "----------------------\n",
      "[      \u001b[32m|\u001b[0m         \u001b[32m|\u001b[0m   ]\n",
      "[      \u001b[32m|\u001b[0m         \u001b[32m|\u001b[0m   ]\n",
      "[      \u001b[32m|\u001b[0m         \u001b[32m|\u001b[0m   ]\n",
      "[      \u001b[32m|\u001b[0m         \u001b[32m|\u001b[0m   ]\n",
      "[      \u001b[32m|\u001b[0m         \u001b[32m|\u001b[0m   ]\n",
      "[      \u001b[32m|\u001b[0m         \u001b[32m|\u001b[0m   ]\n",
      "[                \u001b[32m|\u001b[0m   ]\n",
      "[                    ]\n",
      "[      \u001b[33m@\u001b[0m             ]\n",
      "[                    ]\n",
      "[      \u001b[32m|\u001b[0m             ]\n",
      "[      \u001b[32m|\u001b[0m         \u001b[32m|\u001b[0m   ]\n",
      "[      \u001b[32m|\u001b[0m         \u001b[32m|\u001b[0m   ]\n",
      "[      \u001b[32m|\u001b[0m         \u001b[32m|\u001b[0m   ]\n",
      "[      \u001b[32m|\u001b[0m         \u001b[32m|\u001b[0m   ]\n",
      "^^^^^^^^^^^^^^^^^^^^^^\n",
      "Player Action (Flap)\n",
      "Distance From Pipe (x=0,y=0)\n",
      "False\n",
      "Text Flappy Bird!\n",
      "Score: 9\n",
      "----------------------\n",
      "[     \u001b[32m|\u001b[0m         \u001b[32m|\u001b[0m    ]\n",
      "[     \u001b[32m|\u001b[0m         \u001b[32m|\u001b[0m    ]\n",
      "[     \u001b[32m|\u001b[0m         \u001b[32m|\u001b[0m    ]\n",
      "[     \u001b[32m|\u001b[0m         \u001b[32m|\u001b[0m    ]\n",
      "[     \u001b[32m|\u001b[0m         \u001b[32m|\u001b[0m    ]\n",
      "[     \u001b[32m|\u001b[0m         \u001b[32m|\u001b[0m    ]\n",
      "[               \u001b[32m|\u001b[0m    ]\n",
      "[                    ]\n",
      "[                    ]\n",
      "[      \u001b[33m@\u001b[0m             ]\n",
      "[     \u001b[32m|\u001b[0m              ]\n",
      "[     \u001b[32m|\u001b[0m         \u001b[32m|\u001b[0m    ]\n",
      "[     \u001b[32m|\u001b[0m         \u001b[32m|\u001b[0m    ]\n",
      "[     \u001b[32m|\u001b[0m         \u001b[32m|\u001b[0m    ]\n",
      "[     \u001b[32m|\u001b[0m         \u001b[32m|\u001b[0m    ]\n",
      "^^^^^^^^^^^^^^^^^^^^^^\n",
      "Player Action (Idle)\n",
      "Distance From Pipe (x=9,y=0)\n",
      "False\n",
      "Text Flappy Bird!\n",
      "Score: 9\n",
      "----------------------\n",
      "[    \u001b[32m|\u001b[0m         \u001b[32m|\u001b[0m     ]\n",
      "[    \u001b[32m|\u001b[0m         \u001b[32m|\u001b[0m     ]\n",
      "[    \u001b[32m|\u001b[0m         \u001b[32m|\u001b[0m     ]\n",
      "[    \u001b[32m|\u001b[0m         \u001b[32m|\u001b[0m     ]\n",
      "[    \u001b[32m|\u001b[0m         \u001b[32m|\u001b[0m     ]\n",
      "[    \u001b[32m|\u001b[0m         \u001b[32m|\u001b[0m     ]\n",
      "[              \u001b[32m|\u001b[0m     ]\n",
      "[                    ]\n",
      "[      \u001b[33m@\u001b[0m             ]\n",
      "[                    ]\n",
      "[    \u001b[32m|\u001b[0m               ]\n",
      "[    \u001b[32m|\u001b[0m         \u001b[32m|\u001b[0m     ]\n",
      "[    \u001b[32m|\u001b[0m         \u001b[32m|\u001b[0m     ]\n",
      "[    \u001b[32m|\u001b[0m         \u001b[32m|\u001b[0m     ]\n",
      "[    \u001b[32m|\u001b[0m         \u001b[32m|\u001b[0m     ]\n",
      "^^^^^^^^^^^^^^^^^^^^^^\n",
      "Player Action (Flap)\n",
      "Distance From Pipe (x=8,y=-1)\n",
      "False\n",
      "Text Flappy Bird!\n",
      "Score: 9\n",
      "----------------------\n",
      "[   \u001b[32m|\u001b[0m         \u001b[32m|\u001b[0m      ]\n",
      "[   \u001b[32m|\u001b[0m         \u001b[32m|\u001b[0m      ]\n",
      "[   \u001b[32m|\u001b[0m         \u001b[32m|\u001b[0m      ]\n",
      "[   \u001b[32m|\u001b[0m         \u001b[32m|\u001b[0m      ]\n",
      "[   \u001b[32m|\u001b[0m         \u001b[32m|\u001b[0m      ]\n",
      "[   \u001b[32m|\u001b[0m         \u001b[32m|\u001b[0m      ]\n",
      "[             \u001b[32m|\u001b[0m      ]\n",
      "[      \u001b[33m@\u001b[0m             ]\n",
      "[                    ]\n",
      "[                    ]\n",
      "[   \u001b[32m|\u001b[0m                ]\n",
      "[   \u001b[32m|\u001b[0m         \u001b[32m|\u001b[0m      ]\n",
      "[   \u001b[32m|\u001b[0m         \u001b[32m|\u001b[0m      ]\n",
      "[   \u001b[32m|\u001b[0m         \u001b[32m|\u001b[0m      ]\n",
      "[   \u001b[32m|\u001b[0m         \u001b[32m|\u001b[0m      ]\n",
      "^^^^^^^^^^^^^^^^^^^^^^\n",
      "Player Action (Flap)\n",
      "Distance From Pipe (x=7,y=-2)\n",
      "False\n",
      "Text Flappy Bird!\n",
      "Score: 9\n",
      "----------------------\n",
      "[  \u001b[32m|\u001b[0m         \u001b[32m|\u001b[0m       ]\n",
      "[  \u001b[32m|\u001b[0m         \u001b[32m|\u001b[0m       ]\n",
      "[  \u001b[32m|\u001b[0m         \u001b[32m|\u001b[0m       ]\n",
      "[  \u001b[32m|\u001b[0m         \u001b[32m|\u001b[0m       ]\n",
      "[  \u001b[32m|\u001b[0m         \u001b[32m|\u001b[0m       ]\n",
      "[  \u001b[32m|\u001b[0m         \u001b[32m|\u001b[0m       ]\n",
      "[      \u001b[33m@\u001b[0m     \u001b[32m|\u001b[0m       ]\n",
      "[                    ]\n",
      "[                    ]\n",
      "[                    ]\n",
      "[  \u001b[32m|\u001b[0m                 ]\n",
      "[  \u001b[32m|\u001b[0m         \u001b[32m|\u001b[0m       ]\n",
      "[  \u001b[32m|\u001b[0m         \u001b[32m|\u001b[0m       ]\n",
      "[  \u001b[32m|\u001b[0m         \u001b[32m|\u001b[0m       ]\n",
      "[  \u001b[32m|\u001b[0m         \u001b[32m|\u001b[0m       ]\n",
      "^^^^^^^^^^^^^^^^^^^^^^\n",
      "Player Action (Flap)\n",
      "Distance From Pipe (x=6,y=-3)\n",
      "False\n",
      "Text Flappy Bird!\n",
      "Score: 9\n",
      "----------------------\n",
      "[ \u001b[32m|\u001b[0m         \u001b[32m|\u001b[0m        ]\n",
      "[ \u001b[32m|\u001b[0m         \u001b[32m|\u001b[0m        ]\n",
      "[ \u001b[32m|\u001b[0m         \u001b[32m|\u001b[0m        ]\n",
      "[ \u001b[32m|\u001b[0m         \u001b[32m|\u001b[0m        ]\n",
      "[ \u001b[32m|\u001b[0m         \u001b[32m|\u001b[0m        ]\n",
      "[ \u001b[32m|\u001b[0m    \u001b[33m@\u001b[0m    \u001b[32m|\u001b[0m        ]\n",
      "[           \u001b[32m|\u001b[0m        ]\n",
      "[                    ]\n",
      "[                    ]\n",
      "[                    ]\n",
      "[ \u001b[32m|\u001b[0m                  ]\n",
      "[ \u001b[32m|\u001b[0m         \u001b[32m|\u001b[0m        ]\n",
      "[ \u001b[32m|\u001b[0m         \u001b[32m|\u001b[0m        ]\n",
      "[ \u001b[32m|\u001b[0m         \u001b[32m|\u001b[0m        ]\n",
      "[ \u001b[32m|\u001b[0m         \u001b[32m|\u001b[0m        ]\n",
      "^^^^^^^^^^^^^^^^^^^^^^\n",
      "Player Action (Flap)\n",
      "Distance From Pipe (x=5,y=-4)\n",
      "False\n",
      "Text Flappy Bird!\n",
      "Score: 9\n",
      "----------------------\n",
      "[\u001b[32m|\u001b[0m         \u001b[32m|\u001b[0m         ]\n",
      "[\u001b[32m|\u001b[0m         \u001b[32m|\u001b[0m         ]\n",
      "[\u001b[32m|\u001b[0m         \u001b[32m|\u001b[0m         ]\n",
      "[\u001b[32m|\u001b[0m         \u001b[32m|\u001b[0m         ]\n",
      "[\u001b[32m|\u001b[0m     \u001b[33m@\u001b[0m   \u001b[32m|\u001b[0m         ]\n",
      "[\u001b[32m|\u001b[0m         \u001b[32m|\u001b[0m         ]\n",
      "[          \u001b[32m|\u001b[0m         ]\n",
      "[                    ]\n",
      "[                    ]\n",
      "[                    ]\n",
      "[\u001b[32m|\u001b[0m                   ]\n",
      "[\u001b[32m|\u001b[0m         \u001b[32m|\u001b[0m         ]\n",
      "[\u001b[32m|\u001b[0m         \u001b[32m|\u001b[0m         ]\n",
      "[\u001b[32m|\u001b[0m         \u001b[32m|\u001b[0m         ]\n",
      "[\u001b[32m|\u001b[0m         \u001b[32m|\u001b[0m         ]\n",
      "^^^^^^^^^^^^^^^^^^^^^^\n",
      "Player Action (Flap)\n",
      "Distance From Pipe (x=4,y=-5)\n",
      "False\n",
      "Text Flappy Bird!\n",
      "Score: 9\n",
      "----------------------\n",
      "[         \u001b[32m|\u001b[0m          ]\n",
      "[         \u001b[32m|\u001b[0m          ]\n",
      "[         \u001b[32m|\u001b[0m          ]\n",
      "[         \u001b[32m|\u001b[0m          ]\n",
      "[         \u001b[32m|\u001b[0m          ]\n",
      "[      \u001b[33m@\u001b[0m  \u001b[32m|\u001b[0m          ]\n",
      "[         \u001b[32m|\u001b[0m          ]\n",
      "[                    ]\n",
      "[                    ]\n",
      "[                    ]\n",
      "[                    ]\n",
      "[         \u001b[32m|\u001b[0m          ]\n",
      "[         \u001b[32m|\u001b[0m          ]\n",
      "[         \u001b[32m|\u001b[0m          ]\n",
      "[         \u001b[32m|\u001b[0m          ]\n",
      "^^^^^^^^^^^^^^^^^^^^^^\n",
      "Player Action (Idle)\n",
      "Distance From Pipe (x=3,y=-4)\n",
      "False\n",
      "Text Flappy Bird!\n",
      "Score: 9\n",
      "----------------------\n",
      "[        \u001b[32m|\u001b[0m         \u001b[32m|\u001b[0m ]\n",
      "[        \u001b[32m|\u001b[0m         \u001b[32m|\u001b[0m ]\n",
      "[        \u001b[32m|\u001b[0m         \u001b[32m|\u001b[0m ]\n",
      "[        \u001b[32m|\u001b[0m         \u001b[32m|\u001b[0m ]\n",
      "[        \u001b[32m|\u001b[0m         \u001b[32m|\u001b[0m ]\n",
      "[        \u001b[32m|\u001b[0m         \u001b[32m|\u001b[0m ]\n",
      "[        \u001b[32m|\u001b[0m         \u001b[32m|\u001b[0m ]\n",
      "[                  \u001b[32m|\u001b[0m ]\n",
      "[      \u001b[33m@\u001b[0m             ]\n",
      "[                    ]\n",
      "[                    ]\n",
      "[        \u001b[32m|\u001b[0m           ]\n",
      "[        \u001b[32m|\u001b[0m         \u001b[32m|\u001b[0m ]\n",
      "[        \u001b[32m|\u001b[0m         \u001b[32m|\u001b[0m ]\n",
      "[        \u001b[32m|\u001b[0m         \u001b[32m|\u001b[0m ]\n",
      "^^^^^^^^^^^^^^^^^^^^^^\n",
      "Player Action (Idle)\n",
      "Distance From Pipe (x=2,y=-1)\n",
      "False\n",
      "Text Flappy Bird!\n",
      "Score: 9\n",
      "----------------------\n",
      "[       \u001b[32m|\u001b[0m         \u001b[32m|\u001b[0m  ]\n",
      "[       \u001b[32m|\u001b[0m         \u001b[32m|\u001b[0m  ]\n",
      "[       \u001b[32m|\u001b[0m         \u001b[32m|\u001b[0m  ]\n",
      "[       \u001b[32m|\u001b[0m         \u001b[32m|\u001b[0m  ]\n",
      "[       \u001b[32m|\u001b[0m         \u001b[32m|\u001b[0m  ]\n",
      "[       \u001b[32m|\u001b[0m         \u001b[32m|\u001b[0m  ]\n",
      "[       \u001b[32m|\u001b[0m         \u001b[32m|\u001b[0m  ]\n",
      "[      \u001b[33m@\u001b[0m          \u001b[32m|\u001b[0m  ]\n",
      "[                    ]\n",
      "[                    ]\n",
      "[                    ]\n",
      "[       \u001b[32m|\u001b[0m            ]\n",
      "[       \u001b[32m|\u001b[0m         \u001b[32m|\u001b[0m  ]\n",
      "[       \u001b[32m|\u001b[0m         \u001b[32m|\u001b[0m  ]\n",
      "[       \u001b[32m|\u001b[0m         \u001b[32m|\u001b[0m  ]\n",
      "^^^^^^^^^^^^^^^^^^^^^^\n",
      "Player Action (Flap)\n",
      "Distance From Pipe (x=1,y=-2)\n",
      "False\n",
      "Text Flappy Bird!\n",
      "Score: 9\n",
      "----------------------\n",
      "[      \u001b[32m|\u001b[0m         \u001b[32m|\u001b[0m   ]\n",
      "[      \u001b[32m|\u001b[0m         \u001b[32m|\u001b[0m   ]\n",
      "[      \u001b[32m|\u001b[0m         \u001b[32m|\u001b[0m   ]\n",
      "[      \u001b[32m|\u001b[0m         \u001b[32m|\u001b[0m   ]\n",
      "[      \u001b[32m|\u001b[0m         \u001b[32m|\u001b[0m   ]\n",
      "[      \u001b[32m|\u001b[0m         \u001b[32m|\u001b[0m   ]\n",
      "[      \u001b[32m|\u001b[0m         \u001b[32m|\u001b[0m   ]\n",
      "[                \u001b[32m|\u001b[0m   ]\n",
      "[      \u001b[33m@\u001b[0m             ]\n",
      "[                    ]\n",
      "[                    ]\n",
      "[      \u001b[32m|\u001b[0m             ]\n",
      "[      \u001b[32m|\u001b[0m         \u001b[32m|\u001b[0m   ]\n",
      "[      \u001b[32m|\u001b[0m         \u001b[32m|\u001b[0m   ]\n",
      "[      \u001b[32m|\u001b[0m         \u001b[32m|\u001b[0m   ]\n",
      "^^^^^^^^^^^^^^^^^^^^^^\n",
      "Player Action (Idle)\n",
      "Distance From Pipe (x=0,y=-1)\n",
      "False\n",
      "Text Flappy Bird!\n",
      "Score: 10\n",
      "----------------------\n",
      "[     \u001b[32m|\u001b[0m         \u001b[32m|\u001b[0m    ]\n",
      "[     \u001b[32m|\u001b[0m         \u001b[32m|\u001b[0m    ]\n",
      "[     \u001b[32m|\u001b[0m         \u001b[32m|\u001b[0m    ]\n",
      "[     \u001b[32m|\u001b[0m         \u001b[32m|\u001b[0m    ]\n",
      "[     \u001b[32m|\u001b[0m         \u001b[32m|\u001b[0m    ]\n",
      "[     \u001b[32m|\u001b[0m         \u001b[32m|\u001b[0m    ]\n",
      "[     \u001b[32m|\u001b[0m         \u001b[32m|\u001b[0m    ]\n",
      "[               \u001b[32m|\u001b[0m    ]\n",
      "[                    ]\n",
      "[                    ]\n",
      "[                    ]\n",
      "[     \u001b[32m|\u001b[0m\u001b[33m@\u001b[0m             ]\n",
      "[     \u001b[32m|\u001b[0m         \u001b[32m|\u001b[0m    ]\n",
      "[     \u001b[32m|\u001b[0m         \u001b[32m|\u001b[0m    ]\n",
      "[     \u001b[32m|\u001b[0m         \u001b[32m|\u001b[0m    ]\n",
      "^^^^^^^^^^^^^^^^^^^^^^\n",
      "Player Action (Idle)\n",
      "Distance From Pipe (x=9,y=1)\n",
      "False\n",
      "Text Flappy Bird!\n",
      "Score: 10\n",
      "----------------------\n",
      "[    \u001b[32m|\u001b[0m         \u001b[32m|\u001b[0m     ]\n",
      "[    \u001b[32m|\u001b[0m         \u001b[32m|\u001b[0m     ]\n",
      "[    \u001b[32m|\u001b[0m         \u001b[32m|\u001b[0m     ]\n",
      "[    \u001b[32m|\u001b[0m         \u001b[32m|\u001b[0m     ]\n",
      "[    \u001b[32m|\u001b[0m         \u001b[32m|\u001b[0m     ]\n",
      "[    \u001b[32m|\u001b[0m         \u001b[32m|\u001b[0m     ]\n",
      "[    \u001b[32m|\u001b[0m         \u001b[32m|\u001b[0m     ]\n",
      "[              \u001b[32m|\u001b[0m     ]\n",
      "[                    ]\n",
      "[                    ]\n",
      "[      \u001b[33m@\u001b[0m             ]\n",
      "[    \u001b[32m|\u001b[0m               ]\n",
      "[    \u001b[32m|\u001b[0m         \u001b[32m|\u001b[0m     ]\n",
      "[    \u001b[32m|\u001b[0m         \u001b[32m|\u001b[0m     ]\n",
      "[    \u001b[32m|\u001b[0m         \u001b[32m|\u001b[0m     ]\n",
      "^^^^^^^^^^^^^^^^^^^^^^\n",
      "Player Action (Flap)\n",
      "Distance From Pipe (x=8,y=0)\n"
     ]
    },
    {
     "name": "stdout",
     "output_type": "stream",
     "text": [
      "False\n",
      "Text Flappy Bird!\n",
      "Score: 10\n",
      "----------------------\n",
      "[   \u001b[32m|\u001b[0m         \u001b[32m|\u001b[0m      ]\n",
      "[   \u001b[32m|\u001b[0m         \u001b[32m|\u001b[0m      ]\n",
      "[   \u001b[32m|\u001b[0m         \u001b[32m|\u001b[0m      ]\n",
      "[   \u001b[32m|\u001b[0m         \u001b[32m|\u001b[0m      ]\n",
      "[   \u001b[32m|\u001b[0m         \u001b[32m|\u001b[0m      ]\n",
      "[   \u001b[32m|\u001b[0m         \u001b[32m|\u001b[0m      ]\n",
      "[   \u001b[32m|\u001b[0m         \u001b[32m|\u001b[0m      ]\n",
      "[             \u001b[32m|\u001b[0m      ]\n",
      "[                    ]\n",
      "[      \u001b[33m@\u001b[0m             ]\n",
      "[                    ]\n",
      "[   \u001b[32m|\u001b[0m                ]\n",
      "[   \u001b[32m|\u001b[0m         \u001b[32m|\u001b[0m      ]\n",
      "[   \u001b[32m|\u001b[0m         \u001b[32m|\u001b[0m      ]\n",
      "[   \u001b[32m|\u001b[0m         \u001b[32m|\u001b[0m      ]\n",
      "^^^^^^^^^^^^^^^^^^^^^^\n",
      "Player Action (Flap)\n",
      "Distance From Pipe (x=7,y=-1)\n",
      "False\n",
      "Text Flappy Bird!\n",
      "Score: 10\n",
      "----------------------\n",
      "[  \u001b[32m|\u001b[0m         \u001b[32m|\u001b[0m       ]\n",
      "[  \u001b[32m|\u001b[0m         \u001b[32m|\u001b[0m       ]\n",
      "[  \u001b[32m|\u001b[0m         \u001b[32m|\u001b[0m       ]\n",
      "[  \u001b[32m|\u001b[0m         \u001b[32m|\u001b[0m       ]\n",
      "[  \u001b[32m|\u001b[0m         \u001b[32m|\u001b[0m       ]\n",
      "[  \u001b[32m|\u001b[0m         \u001b[32m|\u001b[0m       ]\n",
      "[  \u001b[32m|\u001b[0m         \u001b[32m|\u001b[0m       ]\n",
      "[            \u001b[32m|\u001b[0m       ]\n",
      "[      \u001b[33m@\u001b[0m             ]\n",
      "[                    ]\n",
      "[                    ]\n",
      "[  \u001b[32m|\u001b[0m                 ]\n",
      "[  \u001b[32m|\u001b[0m         \u001b[32m|\u001b[0m       ]\n",
      "[  \u001b[32m|\u001b[0m         \u001b[32m|\u001b[0m       ]\n",
      "[  \u001b[32m|\u001b[0m         \u001b[32m|\u001b[0m       ]\n",
      "^^^^^^^^^^^^^^^^^^^^^^\n",
      "Player Action (Flap)\n",
      "Distance From Pipe (x=6,y=-2)\n",
      "False\n",
      "Text Flappy Bird!\n",
      "Score: 10\n",
      "----------------------\n",
      "[ \u001b[32m|\u001b[0m         \u001b[32m|\u001b[0m        ]\n",
      "[ \u001b[32m|\u001b[0m         \u001b[32m|\u001b[0m        ]\n",
      "[ \u001b[32m|\u001b[0m         \u001b[32m|\u001b[0m        ]\n",
      "[ \u001b[32m|\u001b[0m         \u001b[32m|\u001b[0m        ]\n",
      "[ \u001b[32m|\u001b[0m         \u001b[32m|\u001b[0m        ]\n",
      "[ \u001b[32m|\u001b[0m         \u001b[32m|\u001b[0m        ]\n",
      "[ \u001b[32m|\u001b[0m         \u001b[32m|\u001b[0m        ]\n",
      "[      \u001b[33m@\u001b[0m    \u001b[32m|\u001b[0m        ]\n",
      "[                    ]\n",
      "[                    ]\n",
      "[                    ]\n",
      "[ \u001b[32m|\u001b[0m                  ]\n",
      "[ \u001b[32m|\u001b[0m         \u001b[32m|\u001b[0m        ]\n",
      "[ \u001b[32m|\u001b[0m         \u001b[32m|\u001b[0m        ]\n",
      "[ \u001b[32m|\u001b[0m         \u001b[32m|\u001b[0m        ]\n",
      "^^^^^^^^^^^^^^^^^^^^^^\n",
      "Player Action (Flap)\n",
      "Distance From Pipe (x=5,y=-3)\n",
      "False\n",
      "Text Flappy Bird!\n",
      "Score: 10\n",
      "----------------------\n",
      "[\u001b[32m|\u001b[0m         \u001b[32m|\u001b[0m         ]\n",
      "[\u001b[32m|\u001b[0m         \u001b[32m|\u001b[0m         ]\n",
      "[\u001b[32m|\u001b[0m         \u001b[32m|\u001b[0m         ]\n",
      "[\u001b[32m|\u001b[0m         \u001b[32m|\u001b[0m         ]\n",
      "[\u001b[32m|\u001b[0m         \u001b[32m|\u001b[0m         ]\n",
      "[\u001b[32m|\u001b[0m         \u001b[32m|\u001b[0m         ]\n",
      "[\u001b[32m|\u001b[0m     \u001b[33m@\u001b[0m   \u001b[32m|\u001b[0m         ]\n",
      "[          \u001b[32m|\u001b[0m         ]\n",
      "[                    ]\n",
      "[                    ]\n",
      "[                    ]\n",
      "[\u001b[32m|\u001b[0m                   ]\n",
      "[\u001b[32m|\u001b[0m         \u001b[32m|\u001b[0m         ]\n",
      "[\u001b[32m|\u001b[0m         \u001b[32m|\u001b[0m         ]\n",
      "[\u001b[32m|\u001b[0m         \u001b[32m|\u001b[0m         ]\n",
      "^^^^^^^^^^^^^^^^^^^^^^\n",
      "Player Action (Flap)\n",
      "Distance From Pipe (x=4,y=-4)\n",
      "False\n",
      "Text Flappy Bird!\n",
      "Score: 10\n",
      "----------------------\n",
      "[         \u001b[32m|\u001b[0m          ]\n",
      "[         \u001b[32m|\u001b[0m          ]\n",
      "[         \u001b[32m|\u001b[0m          ]\n",
      "[         \u001b[32m|\u001b[0m          ]\n",
      "[         \u001b[32m|\u001b[0m          ]\n",
      "[         \u001b[32m|\u001b[0m          ]\n",
      "[         \u001b[32m|\u001b[0m          ]\n",
      "[      \u001b[33m@\u001b[0m  \u001b[32m|\u001b[0m          ]\n",
      "[                    ]\n",
      "[                    ]\n",
      "[                    ]\n",
      "[                    ]\n",
      "[         \u001b[32m|\u001b[0m          ]\n",
      "[         \u001b[32m|\u001b[0m          ]\n",
      "[         \u001b[32m|\u001b[0m          ]\n",
      "^^^^^^^^^^^^^^^^^^^^^^\n",
      "Player Action (Idle)\n",
      "Distance From Pipe (x=3,y=-3)\n",
      "False\n",
      "Text Flappy Bird!\n",
      "Score: 10\n",
      "----------------------\n",
      "[        \u001b[32m|\u001b[0m         \u001b[32m|\u001b[0m ]\n",
      "[        \u001b[32m|\u001b[0m         \u001b[32m|\u001b[0m ]\n",
      "[        \u001b[32m|\u001b[0m         \u001b[32m|\u001b[0m ]\n",
      "[        \u001b[32m|\u001b[0m         \u001b[32m|\u001b[0m ]\n",
      "[        \u001b[32m|\u001b[0m         \u001b[32m|\u001b[0m ]\n",
      "[        \u001b[32m|\u001b[0m         \u001b[32m|\u001b[0m ]\n",
      "[        \u001b[32m|\u001b[0m         \u001b[32m|\u001b[0m ]\n",
      "[        \u001b[32m|\u001b[0m         \u001b[32m|\u001b[0m ]\n",
      "[                  \u001b[32m|\u001b[0m ]\n",
      "[                  \u001b[32m|\u001b[0m ]\n",
      "[      \u001b[33m@\u001b[0m             ]\n",
      "[                    ]\n",
      "[        \u001b[32m|\u001b[0m           ]\n",
      "[        \u001b[32m|\u001b[0m           ]\n",
      "[        \u001b[32m|\u001b[0m         \u001b[32m|\u001b[0m ]\n",
      "^^^^^^^^^^^^^^^^^^^^^^\n",
      "Player Action (Idle)\n",
      "Distance From Pipe (x=2,y=0)\n",
      "False\n",
      "Text Flappy Bird!\n",
      "Score: 10\n",
      "----------------------\n",
      "[       \u001b[32m|\u001b[0m         \u001b[32m|\u001b[0m  ]\n",
      "[       \u001b[32m|\u001b[0m         \u001b[32m|\u001b[0m  ]\n",
      "[       \u001b[32m|\u001b[0m         \u001b[32m|\u001b[0m  ]\n",
      "[       \u001b[32m|\u001b[0m         \u001b[32m|\u001b[0m  ]\n",
      "[       \u001b[32m|\u001b[0m         \u001b[32m|\u001b[0m  ]\n",
      "[       \u001b[32m|\u001b[0m         \u001b[32m|\u001b[0m  ]\n",
      "[       \u001b[32m|\u001b[0m         \u001b[32m|\u001b[0m  ]\n",
      "[       \u001b[32m|\u001b[0m         \u001b[32m|\u001b[0m  ]\n",
      "[                 \u001b[32m|\u001b[0m  ]\n",
      "[      \u001b[33m@\u001b[0m          \u001b[32m|\u001b[0m  ]\n",
      "[                    ]\n",
      "[                    ]\n",
      "[       \u001b[32m|\u001b[0m            ]\n",
      "[       \u001b[32m|\u001b[0m            ]\n",
      "[       \u001b[32m|\u001b[0m         \u001b[32m|\u001b[0m  ]\n",
      "^^^^^^^^^^^^^^^^^^^^^^\n",
      "Player Action (Flap)\n",
      "Distance From Pipe (x=1,y=-1)\n",
      "False\n",
      "Text Flappy Bird!\n",
      "Score: 10\n",
      "----------------------\n",
      "[      \u001b[32m|\u001b[0m         \u001b[32m|\u001b[0m   ]\n",
      "[      \u001b[32m|\u001b[0m         \u001b[32m|\u001b[0m   ]\n",
      "[      \u001b[32m|\u001b[0m         \u001b[32m|\u001b[0m   ]\n",
      "[      \u001b[32m|\u001b[0m         \u001b[32m|\u001b[0m   ]\n",
      "[      \u001b[32m|\u001b[0m         \u001b[32m|\u001b[0m   ]\n",
      "[      \u001b[32m|\u001b[0m         \u001b[32m|\u001b[0m   ]\n",
      "[      \u001b[32m|\u001b[0m         \u001b[32m|\u001b[0m   ]\n",
      "[      \u001b[32m|\u001b[0m         \u001b[32m|\u001b[0m   ]\n",
      "[      \u001b[33m@\u001b[0m         \u001b[32m|\u001b[0m   ]\n",
      "[                \u001b[32m|\u001b[0m   ]\n",
      "[                    ]\n",
      "[                    ]\n",
      "[      \u001b[32m|\u001b[0m             ]\n",
      "[      \u001b[32m|\u001b[0m             ]\n",
      "[      \u001b[32m|\u001b[0m         \u001b[32m|\u001b[0m   ]\n",
      "^^^^^^^^^^^^^^^^^^^^^^\n",
      "Player Action (Flap)\n",
      "Distance From Pipe (x=0,y=-2)\n",
      "False\n",
      "Text Flappy Bird!\n",
      "Score: 11\n",
      "----------------------\n",
      "[     \u001b[32m|\u001b[0m         \u001b[32m|\u001b[0m    ]\n",
      "[     \u001b[32m|\u001b[0m         \u001b[32m|\u001b[0m    ]\n",
      "[     \u001b[32m|\u001b[0m         \u001b[32m|\u001b[0m    ]\n",
      "[     \u001b[32m|\u001b[0m         \u001b[32m|\u001b[0m    ]\n",
      "[     \u001b[32m|\u001b[0m         \u001b[32m|\u001b[0m    ]\n",
      "[     \u001b[32m|\u001b[0m         \u001b[32m|\u001b[0m    ]\n",
      "[     \u001b[32m|\u001b[0m         \u001b[32m|\u001b[0m    ]\n",
      "[     \u001b[32m|\u001b[0m\u001b[33m@\u001b[0m        \u001b[32m|\u001b[0m    ]\n",
      "[               \u001b[32m|\u001b[0m    ]\n",
      "[               \u001b[32m|\u001b[0m    ]\n",
      "[                    ]\n",
      "[                    ]\n",
      "[     \u001b[32m|\u001b[0m              ]\n",
      "[     \u001b[32m|\u001b[0m              ]\n",
      "[     \u001b[32m|\u001b[0m         \u001b[32m|\u001b[0m    ]\n",
      "^^^^^^^^^^^^^^^^^^^^^^\n",
      "Player Action (Flap)\n",
      "Distance From Pipe (x=9,y=-5)\n",
      "False\n",
      "Text Flappy Bird!\n",
      "Score: 11\n",
      "----------------------\n",
      "[    \u001b[32m|\u001b[0m         \u001b[32m|\u001b[0m     ]\n",
      "[    \u001b[32m|\u001b[0m         \u001b[32m|\u001b[0m     ]\n",
      "[    \u001b[32m|\u001b[0m         \u001b[32m|\u001b[0m     ]\n",
      "[    \u001b[32m|\u001b[0m         \u001b[32m|\u001b[0m     ]\n",
      "[    \u001b[32m|\u001b[0m         \u001b[32m|\u001b[0m     ]\n",
      "[    \u001b[32m|\u001b[0m         \u001b[32m|\u001b[0m     ]\n",
      "[    \u001b[32m|\u001b[0m \u001b[33m@\u001b[0m       \u001b[32m|\u001b[0m     ]\n",
      "[    \u001b[32m|\u001b[0m         \u001b[32m|\u001b[0m     ]\n",
      "[              \u001b[32m|\u001b[0m     ]\n",
      "[              \u001b[32m|\u001b[0m     ]\n",
      "[                    ]\n",
      "[                    ]\n",
      "[    \u001b[32m|\u001b[0m               ]\n",
      "[    \u001b[32m|\u001b[0m               ]\n",
      "[    \u001b[32m|\u001b[0m         \u001b[32m|\u001b[0m     ]\n",
      "^^^^^^^^^^^^^^^^^^^^^^\n",
      "Player Action (Flap)\n",
      "Distance From Pipe (x=8,y=-6)\n",
      "False\n",
      "Text Flappy Bird!\n",
      "Score: 11\n",
      "----------------------\n",
      "[   \u001b[32m|\u001b[0m         \u001b[32m|\u001b[0m      ]\n",
      "[   \u001b[32m|\u001b[0m         \u001b[32m|\u001b[0m      ]\n",
      "[   \u001b[32m|\u001b[0m         \u001b[32m|\u001b[0m      ]\n",
      "[   \u001b[32m|\u001b[0m         \u001b[32m|\u001b[0m      ]\n",
      "[   \u001b[32m|\u001b[0m         \u001b[32m|\u001b[0m      ]\n",
      "[   \u001b[32m|\u001b[0m         \u001b[32m|\u001b[0m      ]\n",
      "[   \u001b[32m|\u001b[0m         \u001b[32m|\u001b[0m      ]\n",
      "[   \u001b[32m|\u001b[0m  \u001b[33m@\u001b[0m      \u001b[32m|\u001b[0m      ]\n",
      "[             \u001b[32m|\u001b[0m      ]\n",
      "[             \u001b[32m|\u001b[0m      ]\n",
      "[                    ]\n",
      "[                    ]\n",
      "[   \u001b[32m|\u001b[0m                ]\n",
      "[   \u001b[32m|\u001b[0m                ]\n",
      "[   \u001b[32m|\u001b[0m         \u001b[32m|\u001b[0m      ]\n",
      "^^^^^^^^^^^^^^^^^^^^^^\n",
      "Player Action (Idle)\n",
      "Distance From Pipe (x=7,y=-5)\n",
      "False\n",
      "Text Flappy Bird!\n",
      "Score: 11\n",
      "----------------------\n",
      "[  \u001b[32m|\u001b[0m         \u001b[32m|\u001b[0m       ]\n",
      "[  \u001b[32m|\u001b[0m         \u001b[32m|\u001b[0m       ]\n",
      "[  \u001b[32m|\u001b[0m         \u001b[32m|\u001b[0m       ]\n",
      "[  \u001b[32m|\u001b[0m         \u001b[32m|\u001b[0m       ]\n",
      "[  \u001b[32m|\u001b[0m         \u001b[32m|\u001b[0m       ]\n",
      "[  \u001b[32m|\u001b[0m         \u001b[32m|\u001b[0m       ]\n",
      "[  \u001b[32m|\u001b[0m   \u001b[33m@\u001b[0m     \u001b[32m|\u001b[0m       ]\n",
      "[  \u001b[32m|\u001b[0m         \u001b[32m|\u001b[0m       ]\n",
      "[            \u001b[32m|\u001b[0m       ]\n",
      "[            \u001b[32m|\u001b[0m       ]\n",
      "[                    ]\n",
      "[                    ]\n",
      "[  \u001b[32m|\u001b[0m                 ]\n",
      "[  \u001b[32m|\u001b[0m                 ]\n",
      "[  \u001b[32m|\u001b[0m         \u001b[32m|\u001b[0m       ]\n",
      "^^^^^^^^^^^^^^^^^^^^^^\n",
      "Player Action (Flap)\n",
      "Distance From Pipe (x=6,y=-6)\n",
      "False\n",
      "Text Flappy Bird!\n",
      "Score: 11\n",
      "----------------------\n",
      "[ \u001b[32m|\u001b[0m         \u001b[32m|\u001b[0m        ]\n",
      "[ \u001b[32m|\u001b[0m         \u001b[32m|\u001b[0m        ]\n",
      "[ \u001b[32m|\u001b[0m         \u001b[32m|\u001b[0m        ]\n",
      "[ \u001b[32m|\u001b[0m         \u001b[32m|\u001b[0m        ]\n",
      "[ \u001b[32m|\u001b[0m         \u001b[32m|\u001b[0m        ]\n",
      "[ \u001b[32m|\u001b[0m         \u001b[32m|\u001b[0m        ]\n",
      "[ \u001b[32m|\u001b[0m         \u001b[32m|\u001b[0m        ]\n",
      "[ \u001b[32m|\u001b[0m    \u001b[33m@\u001b[0m    \u001b[32m|\u001b[0m        ]\n",
      "[           \u001b[32m|\u001b[0m        ]\n",
      "[           \u001b[32m|\u001b[0m        ]\n",
      "[                    ]\n",
      "[                    ]\n",
      "[ \u001b[32m|\u001b[0m                  ]\n",
      "[ \u001b[32m|\u001b[0m                  ]\n",
      "[ \u001b[32m|\u001b[0m         \u001b[32m|\u001b[0m        ]\n",
      "^^^^^^^^^^^^^^^^^^^^^^\n",
      "Player Action (Idle)\n",
      "Distance From Pipe (x=5,y=-5)\n"
     ]
    },
    {
     "name": "stdout",
     "output_type": "stream",
     "text": [
      "False\n",
      "Text Flappy Bird!\n",
      "Score: 11\n",
      "----------------------\n",
      "[\u001b[32m|\u001b[0m         \u001b[32m|\u001b[0m         ]\n",
      "[\u001b[32m|\u001b[0m         \u001b[32m|\u001b[0m         ]\n",
      "[\u001b[32m|\u001b[0m         \u001b[32m|\u001b[0m         ]\n",
      "[\u001b[32m|\u001b[0m         \u001b[32m|\u001b[0m         ]\n",
      "[\u001b[32m|\u001b[0m         \u001b[32m|\u001b[0m         ]\n",
      "[\u001b[32m|\u001b[0m         \u001b[32m|\u001b[0m         ]\n",
      "[\u001b[32m|\u001b[0m         \u001b[32m|\u001b[0m         ]\n",
      "[\u001b[32m|\u001b[0m         \u001b[32m|\u001b[0m         ]\n",
      "[          \u001b[32m|\u001b[0m         ]\n",
      "[          \u001b[32m|\u001b[0m         ]\n",
      "[      \u001b[33m@\u001b[0m             ]\n",
      "[                    ]\n",
      "[\u001b[32m|\u001b[0m                   ]\n",
      "[\u001b[32m|\u001b[0m                   ]\n",
      "[\u001b[32m|\u001b[0m         \u001b[32m|\u001b[0m         ]\n",
      "^^^^^^^^^^^^^^^^^^^^^^\n",
      "Player Action (Idle)\n",
      "Distance From Pipe (x=4,y=-2)\n",
      "False\n",
      "Text Flappy Bird!\n",
      "Score: 11\n",
      "----------------------\n",
      "[         \u001b[32m|\u001b[0m          ]\n",
      "[         \u001b[32m|\u001b[0m          ]\n",
      "[         \u001b[32m|\u001b[0m          ]\n",
      "[         \u001b[32m|\u001b[0m          ]\n",
      "[         \u001b[32m|\u001b[0m          ]\n",
      "[         \u001b[32m|\u001b[0m          ]\n",
      "[         \u001b[32m|\u001b[0m          ]\n",
      "[         \u001b[32m|\u001b[0m          ]\n",
      "[         \u001b[32m|\u001b[0m          ]\n",
      "[      \u001b[33m@\u001b[0m  \u001b[32m|\u001b[0m          ]\n",
      "[                    ]\n",
      "[                    ]\n",
      "[                    ]\n",
      "[                    ]\n",
      "[         \u001b[32m|\u001b[0m          ]\n",
      "^^^^^^^^^^^^^^^^^^^^^^\n",
      "Player Action (Flap)\n",
      "Distance From Pipe (x=3,y=-3)\n",
      "False\n",
      "Text Flappy Bird!\n",
      "Score: 11\n",
      "----------------------\n",
      "[        \u001b[32m|\u001b[0m         \u001b[32m|\u001b[0m ]\n",
      "[        \u001b[32m|\u001b[0m         \u001b[32m|\u001b[0m ]\n",
      "[        \u001b[32m|\u001b[0m         \u001b[32m|\u001b[0m ]\n",
      "[        \u001b[32m|\u001b[0m         \u001b[32m|\u001b[0m ]\n",
      "[        \u001b[32m|\u001b[0m         \u001b[32m|\u001b[0m ]\n",
      "[        \u001b[32m|\u001b[0m         \u001b[32m|\u001b[0m ]\n",
      "[        \u001b[32m|\u001b[0m         \u001b[32m|\u001b[0m ]\n",
      "[        \u001b[32m|\u001b[0m         \u001b[32m|\u001b[0m ]\n",
      "[        \u001b[32m|\u001b[0m           ]\n",
      "[        \u001b[32m|\u001b[0m           ]\n",
      "[      \u001b[33m@\u001b[0m             ]\n",
      "[                    ]\n",
      "[                  \u001b[32m|\u001b[0m ]\n",
      "[                  \u001b[32m|\u001b[0m ]\n",
      "[        \u001b[32m|\u001b[0m         \u001b[32m|\u001b[0m ]\n",
      "^^^^^^^^^^^^^^^^^^^^^^\n",
      "Player Action (Idle)\n",
      "Distance From Pipe (x=2,y=-2)\n",
      "False\n",
      "Text Flappy Bird!\n",
      "Score: 11\n",
      "----------------------\n",
      "[       \u001b[32m|\u001b[0m         \u001b[32m|\u001b[0m  ]\n",
      "[       \u001b[32m|\u001b[0m         \u001b[32m|\u001b[0m  ]\n",
      "[       \u001b[32m|\u001b[0m         \u001b[32m|\u001b[0m  ]\n",
      "[       \u001b[32m|\u001b[0m         \u001b[32m|\u001b[0m  ]\n",
      "[       \u001b[32m|\u001b[0m         \u001b[32m|\u001b[0m  ]\n",
      "[       \u001b[32m|\u001b[0m         \u001b[32m|\u001b[0m  ]\n",
      "[       \u001b[32m|\u001b[0m         \u001b[32m|\u001b[0m  ]\n",
      "[       \u001b[32m|\u001b[0m         \u001b[32m|\u001b[0m  ]\n",
      "[       \u001b[32m|\u001b[0m            ]\n",
      "[       \u001b[32m|\u001b[0m            ]\n",
      "[                    ]\n",
      "[                    ]\n",
      "[                 \u001b[32m|\u001b[0m  ]\n",
      "[      \u001b[33m@\u001b[0m          \u001b[32m|\u001b[0m  ]\n",
      "[       \u001b[32m|\u001b[0m         \u001b[32m|\u001b[0m  ]\n",
      "^^^^^^^^^^^^^^^^^^^^^^\n",
      "Player Action (Idle)\n",
      "Distance From Pipe (x=1,y=1)\n",
      "False\n"
     ]
    },
    {
     "ename": "KeyboardInterrupt",
     "evalue": "",
     "output_type": "error",
     "traceback": [
      "\u001b[1;31m---------------------------------------------------------------------------\u001b[0m",
      "\u001b[1;31mKeyboardInterrupt\u001b[0m                         Traceback (most recent call last)",
      "\u001b[1;32m<ipython-input-29-0efca049aafa>\u001b[0m in \u001b[0;36m<module>\u001b[1;34m\u001b[0m\n\u001b[0;32m     18\u001b[0m \u001b[1;33m\u001b[0m\u001b[0m\n\u001b[0;32m     19\u001b[0m         \u001b[1;31m# Render the game\u001b[0m\u001b[1;33m\u001b[0m\u001b[1;33m\u001b[0m\u001b[1;33m\u001b[0m\u001b[0m\n\u001b[1;32m---> 20\u001b[1;33m         \u001b[0mos\u001b[0m\u001b[1;33m.\u001b[0m\u001b[0msystem\u001b[0m\u001b[1;33m(\u001b[0m\u001b[1;34m\"clear\"\u001b[0m\u001b[1;33m)\u001b[0m\u001b[1;33m\u001b[0m\u001b[1;33m\u001b[0m\u001b[0m\n\u001b[0m\u001b[0;32m     21\u001b[0m         \u001b[0msys\u001b[0m\u001b[1;33m.\u001b[0m\u001b[0mstdout\u001b[0m\u001b[1;33m.\u001b[0m\u001b[0mwrite\u001b[0m\u001b[1;33m(\u001b[0m\u001b[0menv\u001b[0m\u001b[1;33m.\u001b[0m\u001b[0mrender\u001b[0m\u001b[1;33m(\u001b[0m\u001b[1;33m)\u001b[0m\u001b[1;33m)\u001b[0m\u001b[1;33m\u001b[0m\u001b[1;33m\u001b[0m\u001b[0m\n\u001b[0;32m     22\u001b[0m         \u001b[0mtime\u001b[0m\u001b[1;33m.\u001b[0m\u001b[0msleep\u001b[0m\u001b[1;33m(\u001b[0m\u001b[1;36m0.2\u001b[0m\u001b[1;33m)\u001b[0m \u001b[1;31m# FPS\u001b[0m\u001b[1;33m\u001b[0m\u001b[1;33m\u001b[0m\u001b[0m\n",
      "\u001b[1;31mKeyboardInterrupt\u001b[0m: "
     ]
    }
   ],
   "source": [
    "if __name__ == '__main__':\n",
    "\n",
    "    # initiate environment\n",
    "    env = gym.make('TextFlappyBird-v0', height = 15, width = 20, pipe_gap = 4)\n",
    "    obs = env.reset()\n",
    "\n",
    "    # iterate\n",
    "    while True:\n",
    "\n",
    "        # Select next action\n",
    "        #action = env.action_space.sample()  # Base line agent random action\n",
    "        action = S_policy[obs]                 # action corresponding to sarsa agent\n",
    "        #action = Q_policy[obs]                  # action corresponding to Q agent\n",
    "\n",
    "        # Appy action and return new observation of the environment\n",
    "        obs, reward, done, info = env.step(action)\n",
    "        print(done)\n",
    "\n",
    "        # Render the game\n",
    "        os.system(\"clear\")\n",
    "        sys.stdout.write(env.render())\n",
    "        time.sleep(0.2) # FPS\n",
    "\n",
    "        # If player is dead break\n",
    "        if done:\n",
    "            break\n",
    "\n",
    "    env.close()\n"
   ]
  },
  {
   "cell_type": "code",
   "execution_count": 40,
   "id": "05725190",
   "metadata": {},
   "outputs": [
    {
     "name": "stderr",
     "output_type": "stream",
     "text": [
      "\r",
      "  0%|                                                                                          | 0/100 [00:00<?, ?it/s]"
     ]
    },
    {
     "name": "stdout",
     "output_type": "stream",
     "text": [
      "Episode 100/100."
     ]
    },
    {
     "name": "stderr",
     "output_type": "stream",
     "text": [
      "\r",
      "  2%|█▋                                                                                | 2/100 [00:00<00:08, 11.92it/s]"
     ]
    },
    {
     "name": "stdout",
     "output_type": "stream",
     "text": [
      "Episode 100/100."
     ]
    },
    {
     "name": "stderr",
     "output_type": "stream",
     "text": [
      "\r",
      "  4%|███▎                                                                              | 4/100 [00:00<00:07, 12.80it/s]"
     ]
    },
    {
     "name": "stdout",
     "output_type": "stream",
     "text": [
      "Episode 100/100."
     ]
    },
    {
     "name": "stderr",
     "output_type": "stream",
     "text": [
      "\r",
      "  6%|████▉                                                                             | 6/100 [00:00<00:07, 13.32it/s]"
     ]
    },
    {
     "name": "stdout",
     "output_type": "stream",
     "text": [
      "Episode 100/100."
     ]
    },
    {
     "name": "stderr",
     "output_type": "stream",
     "text": [
      "\r",
      "  8%|██████▌                                                                           | 8/100 [00:00<00:07, 12.81it/s]"
     ]
    },
    {
     "name": "stdout",
     "output_type": "stream",
     "text": [
      "Episode 100/100."
     ]
    },
    {
     "name": "stderr",
     "output_type": "stream",
     "text": [
      "\r",
      " 10%|████████                                                                         | 10/100 [00:00<00:06, 12.86it/s]"
     ]
    },
    {
     "name": "stdout",
     "output_type": "stream",
     "text": [
      "Episode 100/100."
     ]
    },
    {
     "name": "stderr",
     "output_type": "stream",
     "text": [
      "\r",
      " 12%|█████████▋                                                                       | 12/100 [00:00<00:06, 13.15it/s]"
     ]
    },
    {
     "name": "stdout",
     "output_type": "stream",
     "text": [
      "Episode 100/100."
     ]
    },
    {
     "name": "stderr",
     "output_type": "stream",
     "text": [
      "\r",
      " 14%|███████████▎                                                                     | 14/100 [00:01<00:06, 12.97it/s]"
     ]
    },
    {
     "name": "stdout",
     "output_type": "stream",
     "text": [
      "Episode 100/100."
     ]
    },
    {
     "name": "stderr",
     "output_type": "stream",
     "text": [
      "\r",
      " 16%|████████████▉                                                                    | 16/100 [00:01<00:06, 12.73it/s]"
     ]
    },
    {
     "name": "stdout",
     "output_type": "stream",
     "text": [
      "Episode 100/100."
     ]
    },
    {
     "name": "stderr",
     "output_type": "stream",
     "text": [
      "\r",
      " 18%|██████████████▌                                                                  | 18/100 [00:01<00:06, 12.94it/s]"
     ]
    },
    {
     "name": "stdout",
     "output_type": "stream",
     "text": [
      "Episode 100/100."
     ]
    },
    {
     "name": "stderr",
     "output_type": "stream",
     "text": [
      "\r",
      " 20%|████████████████▏                                                                | 20/100 [00:01<00:06, 12.86it/s]"
     ]
    },
    {
     "name": "stdout",
     "output_type": "stream",
     "text": [
      "Episode 100/100."
     ]
    },
    {
     "name": "stderr",
     "output_type": "stream",
     "text": [
      "\r",
      " 22%|█████████████████▊                                                               | 22/100 [00:01<00:06, 12.84it/s]"
     ]
    },
    {
     "name": "stdout",
     "output_type": "stream",
     "text": [
      "Episode 100/100."
     ]
    },
    {
     "name": "stderr",
     "output_type": "stream",
     "text": [
      "\r",
      " 24%|███████████████████▍                                                             | 24/100 [00:01<00:05, 12.89it/s]"
     ]
    },
    {
     "name": "stdout",
     "output_type": "stream",
     "text": [
      "Episode 100/100."
     ]
    },
    {
     "name": "stderr",
     "output_type": "stream",
     "text": [
      "\r",
      " 26%|█████████████████████                                                            | 26/100 [00:02<00:05, 13.05it/s]"
     ]
    },
    {
     "name": "stdout",
     "output_type": "stream",
     "text": [
      "Episode 100/100."
     ]
    },
    {
     "name": "stderr",
     "output_type": "stream",
     "text": [
      "\r",
      " 28%|██████████████████████▋                                                          | 28/100 [00:02<00:05, 13.09it/s]"
     ]
    },
    {
     "name": "stdout",
     "output_type": "stream",
     "text": [
      "Episode 100/100."
     ]
    },
    {
     "name": "stderr",
     "output_type": "stream",
     "text": [
      "\r",
      " 30%|████████████████████████▎                                                        | 30/100 [00:02<00:05, 13.05it/s]"
     ]
    },
    {
     "name": "stdout",
     "output_type": "stream",
     "text": [
      "Episode 100/100."
     ]
    },
    {
     "name": "stderr",
     "output_type": "stream",
     "text": [
      "\r",
      " 32%|█████████████████████████▉                                                       | 32/100 [00:02<00:05, 13.12it/s]"
     ]
    },
    {
     "name": "stdout",
     "output_type": "stream",
     "text": [
      "Episode 100/100."
     ]
    },
    {
     "name": "stderr",
     "output_type": "stream",
     "text": [
      "\r",
      " 34%|███████████████████████████▌                                                     | 34/100 [00:02<00:05, 12.83it/s]"
     ]
    },
    {
     "name": "stdout",
     "output_type": "stream",
     "text": [
      "Episode 100/100."
     ]
    },
    {
     "name": "stderr",
     "output_type": "stream",
     "text": [
      "\r",
      " 36%|█████████████████████████████▏                                                   | 36/100 [00:02<00:04, 12.95it/s]"
     ]
    },
    {
     "name": "stdout",
     "output_type": "stream",
     "text": [
      "Episode 100/100."
     ]
    },
    {
     "name": "stderr",
     "output_type": "stream",
     "text": [
      "\r",
      " 38%|██████████████████████████████▊                                                  | 38/100 [00:02<00:04, 13.27it/s]"
     ]
    },
    {
     "name": "stdout",
     "output_type": "stream",
     "text": [
      "Episode 100/100."
     ]
    },
    {
     "name": "stderr",
     "output_type": "stream",
     "text": [
      "\r",
      " 40%|████████████████████████████████▍                                                | 40/100 [00:03<00:04, 12.91it/s]"
     ]
    },
    {
     "name": "stdout",
     "output_type": "stream",
     "text": [
      "Episode 100/100."
     ]
    },
    {
     "name": "stderr",
     "output_type": "stream",
     "text": [
      "\r",
      " 42%|██████████████████████████████████                                               | 42/100 [00:03<00:05, 11.40it/s]"
     ]
    },
    {
     "name": "stdout",
     "output_type": "stream",
     "text": [
      "Episode 100/100."
     ]
    },
    {
     "name": "stderr",
     "output_type": "stream",
     "text": [
      "\r",
      " 44%|███████████████████████████████████▋                                             | 44/100 [00:03<00:04, 11.89it/s]"
     ]
    },
    {
     "name": "stdout",
     "output_type": "stream",
     "text": [
      "Episode 100/100."
     ]
    },
    {
     "name": "stderr",
     "output_type": "stream",
     "text": [
      "\r",
      " 46%|█████████████████████████████████████▎                                           | 46/100 [00:03<00:04, 11.80it/s]"
     ]
    },
    {
     "name": "stdout",
     "output_type": "stream",
     "text": [
      "Episode 100/100."
     ]
    },
    {
     "name": "stderr",
     "output_type": "stream",
     "text": [
      "\r",
      " 48%|██████████████████████████████████████▉                                          | 48/100 [00:03<00:04, 11.76it/s]"
     ]
    },
    {
     "name": "stdout",
     "output_type": "stream",
     "text": [
      "Episode 100/100."
     ]
    },
    {
     "name": "stderr",
     "output_type": "stream",
     "text": [
      "\r",
      " 50%|████████████████████████████████████████▌                                        | 50/100 [00:03<00:04, 11.86it/s]"
     ]
    },
    {
     "name": "stdout",
     "output_type": "stream",
     "text": [
      "Episode 100/100."
     ]
    },
    {
     "name": "stderr",
     "output_type": "stream",
     "text": [
      "\r",
      " 52%|██████████████████████████████████████████                                       | 52/100 [00:04<00:03, 12.15it/s]"
     ]
    },
    {
     "name": "stdout",
     "output_type": "stream",
     "text": [
      "Episode 100/100."
     ]
    },
    {
     "name": "stderr",
     "output_type": "stream",
     "text": [
      "\r",
      " 54%|███████████████████████████████████████████▋                                     | 54/100 [00:04<00:03, 11.93it/s]"
     ]
    },
    {
     "name": "stdout",
     "output_type": "stream",
     "text": [
      "Episode 100/100."
     ]
    },
    {
     "name": "stderr",
     "output_type": "stream",
     "text": [
      "\r",
      " 56%|█████████████████████████████████████████████▎                                   | 56/100 [00:04<00:03, 11.21it/s]"
     ]
    },
    {
     "name": "stdout",
     "output_type": "stream",
     "text": [
      "Episode 100/100."
     ]
    },
    {
     "name": "stderr",
     "output_type": "stream",
     "text": [
      "\r",
      " 58%|██████████████████████████████████████████████▉                                  | 58/100 [00:04<00:03, 11.05it/s]"
     ]
    },
    {
     "name": "stdout",
     "output_type": "stream",
     "text": [
      "Episode 100/100."
     ]
    },
    {
     "name": "stderr",
     "output_type": "stream",
     "text": [
      "\r",
      " 60%|████████████████████████████████████████████████▌                                | 60/100 [00:04<00:03, 11.61it/s]"
     ]
    },
    {
     "name": "stdout",
     "output_type": "stream",
     "text": [
      "Episode 100/100."
     ]
    },
    {
     "name": "stderr",
     "output_type": "stream",
     "text": [
      "\r",
      " 62%|██████████████████████████████████████████████████▏                              | 62/100 [00:05<00:03, 11.55it/s]"
     ]
    },
    {
     "name": "stdout",
     "output_type": "stream",
     "text": [
      "Episode 100/100."
     ]
    },
    {
     "name": "stderr",
     "output_type": "stream",
     "text": [
      "\r",
      " 64%|███████████████████████████████████████████████████▊                             | 64/100 [00:05<00:03, 10.93it/s]"
     ]
    },
    {
     "name": "stdout",
     "output_type": "stream",
     "text": [
      "Episode 100/100."
     ]
    },
    {
     "name": "stderr",
     "output_type": "stream",
     "text": [
      "\r",
      " 66%|█████████████████████████████████████████████████████▍                           | 66/100 [00:05<00:02, 11.50it/s]"
     ]
    },
    {
     "name": "stdout",
     "output_type": "stream",
     "text": [
      "Episode 100/100."
     ]
    },
    {
     "name": "stderr",
     "output_type": "stream",
     "text": [
      "\r",
      " 68%|███████████████████████████████████████████████████████                          | 68/100 [00:05<00:02, 11.89it/s]"
     ]
    },
    {
     "name": "stdout",
     "output_type": "stream",
     "text": [
      "Episode 100/100."
     ]
    },
    {
     "name": "stderr",
     "output_type": "stream",
     "text": [
      "\r",
      " 70%|████████████████████████████████████████████████████████▋                        | 70/100 [00:05<00:02, 12.43it/s]"
     ]
    },
    {
     "name": "stdout",
     "output_type": "stream",
     "text": [
      "Episode 100/100."
     ]
    },
    {
     "name": "stderr",
     "output_type": "stream",
     "text": [
      "\r",
      " 72%|██████████████████████████████████████████████████████████▎                      | 72/100 [00:05<00:02, 12.57it/s]"
     ]
    },
    {
     "name": "stdout",
     "output_type": "stream",
     "text": [
      "Episode 100/100."
     ]
    },
    {
     "name": "stderr",
     "output_type": "stream",
     "text": [
      "\r",
      " 74%|███████████████████████████████████████████████████████████▉                     | 74/100 [00:05<00:02, 12.76it/s]"
     ]
    },
    {
     "name": "stdout",
     "output_type": "stream",
     "text": [
      "Episode 100/100."
     ]
    },
    {
     "name": "stderr",
     "output_type": "stream",
     "text": [
      "\r",
      " 76%|█████████████████████████████████████████████████████████████▌                   | 76/100 [00:06<00:01, 12.81it/s]"
     ]
    },
    {
     "name": "stdout",
     "output_type": "stream",
     "text": [
      "Episode 100/100."
     ]
    },
    {
     "name": "stderr",
     "output_type": "stream",
     "text": [
      "\r",
      " 78%|███████████████████████████████████████████████████████████████▏                 | 78/100 [00:06<00:01, 12.53it/s]"
     ]
    },
    {
     "name": "stdout",
     "output_type": "stream",
     "text": [
      "Episode 100/100."
     ]
    },
    {
     "name": "stderr",
     "output_type": "stream",
     "text": [
      "\r",
      " 80%|████████████████████████████████████████████████████████████████▊                | 80/100 [00:06<00:01, 12.59it/s]"
     ]
    },
    {
     "name": "stdout",
     "output_type": "stream",
     "text": [
      "Episode 100/100."
     ]
    },
    {
     "name": "stderr",
     "output_type": "stream",
     "text": [
      "\r",
      " 82%|██████████████████████████████████████████████████████████████████▍              | 82/100 [00:06<00:01, 12.55it/s]"
     ]
    },
    {
     "name": "stdout",
     "output_type": "stream",
     "text": [
      "Episode 100/100."
     ]
    },
    {
     "name": "stderr",
     "output_type": "stream",
     "text": [
      "\r",
      " 84%|████████████████████████████████████████████████████████████████████             | 84/100 [00:06<00:01, 12.36it/s]"
     ]
    },
    {
     "name": "stdout",
     "output_type": "stream",
     "text": [
      "Episode 100/100."
     ]
    },
    {
     "name": "stderr",
     "output_type": "stream",
     "text": [
      "\r",
      " 86%|█████████████████████████████████████████████████████████████████████▋           | 86/100 [00:06<00:01, 12.55it/s]"
     ]
    },
    {
     "name": "stdout",
     "output_type": "stream",
     "text": [
      "Episode 100/100."
     ]
    },
    {
     "name": "stderr",
     "output_type": "stream",
     "text": [
      "\r",
      " 88%|███████████████████████████████████████████████████████████████████████▎         | 88/100 [00:07<00:00, 12.78it/s]"
     ]
    },
    {
     "name": "stdout",
     "output_type": "stream",
     "text": [
      "Episode 100/100."
     ]
    },
    {
     "name": "stderr",
     "output_type": "stream",
     "text": [
      "\r",
      " 90%|████████████████████████████████████████████████████████████████████████▉        | 90/100 [00:07<00:00, 12.38it/s]"
     ]
    },
    {
     "name": "stdout",
     "output_type": "stream",
     "text": [
      "Episode 100/100."
     ]
    },
    {
     "name": "stderr",
     "output_type": "stream",
     "text": [
      "\r",
      " 92%|██████████████████████████████████████████████████████████████████████████▌      | 92/100 [00:07<00:00, 12.52it/s]"
     ]
    },
    {
     "name": "stdout",
     "output_type": "stream",
     "text": [
      "Episode 100/100."
     ]
    },
    {
     "name": "stderr",
     "output_type": "stream",
     "text": [
      "\r",
      " 94%|████████████████████████████████████████████████████████████████████████████▏    | 94/100 [00:07<00:00, 12.22it/s]"
     ]
    },
    {
     "name": "stdout",
     "output_type": "stream",
     "text": [
      "Episode 100/100."
     ]
    },
    {
     "name": "stderr",
     "output_type": "stream",
     "text": [
      "\r",
      " 96%|█████████████████████████████████████████████████████████████████████████████▊   | 96/100 [00:07<00:00, 12.54it/s]"
     ]
    },
    {
     "name": "stdout",
     "output_type": "stream",
     "text": [
      "Episode 100/100."
     ]
    },
    {
     "name": "stderr",
     "output_type": "stream",
     "text": [
      "\r",
      " 98%|███████████████████████████████████████████████████████████████████████████████▍ | 98/100 [00:07<00:00, 12.41it/s]"
     ]
    },
    {
     "name": "stdout",
     "output_type": "stream",
     "text": [
      "Episode 100/100."
     ]
    },
    {
     "name": "stderr",
     "output_type": "stream",
     "text": [
      "100%|████████████████████████████████████████████████████████████████████████████████| 100/100 [00:08<00:00, 12.40it/s]\n",
      "  0%|                                                                                          | 0/100 [00:00<?, ?it/s]"
     ]
    },
    {
     "name": "stdout",
     "output_type": "stream",
     "text": [
      "Episode 100/100."
     ]
    },
    {
     "name": "stderr",
     "output_type": "stream",
     "text": [
      "\r",
      "  2%|█▋                                                                                | 2/100 [00:00<00:07, 12.99it/s]"
     ]
    },
    {
     "name": "stdout",
     "output_type": "stream",
     "text": [
      "Episode 100/100."
     ]
    },
    {
     "name": "stderr",
     "output_type": "stream",
     "text": [
      "\r",
      "  4%|███▎                                                                              | 4/100 [00:00<00:07, 12.06it/s]"
     ]
    },
    {
     "name": "stdout",
     "output_type": "stream",
     "text": [
      "Episode 100/100."
     ]
    },
    {
     "name": "stderr",
     "output_type": "stream",
     "text": [
      "\r",
      "  6%|████▉                                                                             | 6/100 [00:00<00:07, 12.22it/s]"
     ]
    },
    {
     "name": "stdout",
     "output_type": "stream",
     "text": [
      "Episode 100/100."
     ]
    },
    {
     "name": "stderr",
     "output_type": "stream",
     "text": [
      "\r",
      "  8%|██████▌                                                                           | 8/100 [00:00<00:07, 12.17it/s]"
     ]
    },
    {
     "name": "stdout",
     "output_type": "stream",
     "text": [
      "Episode 100/100."
     ]
    },
    {
     "name": "stderr",
     "output_type": "stream",
     "text": [
      "\r",
      " 10%|████████                                                                         | 10/100 [00:00<00:07, 12.40it/s]"
     ]
    },
    {
     "name": "stdout",
     "output_type": "stream",
     "text": [
      "Episode 100/100."
     ]
    },
    {
     "name": "stderr",
     "output_type": "stream",
     "text": [
      "\r",
      " 12%|█████████▋                                                                       | 12/100 [00:00<00:07, 12.41it/s]"
     ]
    },
    {
     "name": "stdout",
     "output_type": "stream",
     "text": [
      "Episode 100/100."
     ]
    },
    {
     "name": "stderr",
     "output_type": "stream",
     "text": [
      "\r",
      " 14%|███████████▎                                                                     | 14/100 [00:01<00:07, 12.19it/s]"
     ]
    },
    {
     "name": "stdout",
     "output_type": "stream",
     "text": [
      "Episode 100/100."
     ]
    },
    {
     "name": "stderr",
     "output_type": "stream",
     "text": [
      "\r",
      " 16%|████████████▉                                                                    | 16/100 [00:01<00:06, 12.30it/s]"
     ]
    },
    {
     "name": "stdout",
     "output_type": "stream",
     "text": [
      "Episode 100/100."
     ]
    },
    {
     "name": "stderr",
     "output_type": "stream",
     "text": [
      "\r",
      " 18%|██████████████▌                                                                  | 18/100 [00:01<00:06, 12.23it/s]"
     ]
    },
    {
     "name": "stdout",
     "output_type": "stream",
     "text": [
      "Episode 100/100."
     ]
    },
    {
     "name": "stderr",
     "output_type": "stream",
     "text": [
      "\r",
      " 20%|████████████████▏                                                                | 20/100 [00:01<00:06, 12.17it/s]"
     ]
    },
    {
     "name": "stdout",
     "output_type": "stream",
     "text": [
      "Episode 100/100."
     ]
    },
    {
     "name": "stderr",
     "output_type": "stream",
     "text": [
      "\r",
      " 22%|█████████████████▊                                                               | 22/100 [00:01<00:06, 12.14it/s]"
     ]
    },
    {
     "name": "stdout",
     "output_type": "stream",
     "text": [
      "Episode 100/100."
     ]
    },
    {
     "name": "stderr",
     "output_type": "stream",
     "text": [
      "\r",
      " 24%|███████████████████▍                                                             | 24/100 [00:01<00:06, 12.18it/s]"
     ]
    },
    {
     "name": "stdout",
     "output_type": "stream",
     "text": [
      "Episode 100/100."
     ]
    },
    {
     "name": "stderr",
     "output_type": "stream",
     "text": [
      "\r",
      " 26%|█████████████████████                                                            | 26/100 [00:02<00:06, 11.68it/s]"
     ]
    },
    {
     "name": "stdout",
     "output_type": "stream",
     "text": [
      "Episode 100/100."
     ]
    },
    {
     "name": "stderr",
     "output_type": "stream",
     "text": [
      "\r",
      " 28%|██████████████████████▋                                                          | 28/100 [00:02<00:06, 11.66it/s]"
     ]
    },
    {
     "name": "stdout",
     "output_type": "stream",
     "text": [
      "Episode 100/100."
     ]
    },
    {
     "name": "stderr",
     "output_type": "stream",
     "text": [
      "\r",
      " 30%|████████████████████████▎                                                        | 30/100 [00:02<00:05, 11.84it/s]"
     ]
    },
    {
     "name": "stdout",
     "output_type": "stream",
     "text": [
      "Episode 100/100."
     ]
    },
    {
     "name": "stderr",
     "output_type": "stream",
     "text": [
      "\r",
      " 32%|█████████████████████████▉                                                       | 32/100 [00:02<00:05, 12.04it/s]"
     ]
    },
    {
     "name": "stdout",
     "output_type": "stream",
     "text": [
      "Episode 100/100."
     ]
    },
    {
     "name": "stderr",
     "output_type": "stream",
     "text": [
      "\r",
      " 34%|███████████████████████████▌                                                     | 34/100 [00:02<00:05, 11.94it/s]"
     ]
    },
    {
     "name": "stdout",
     "output_type": "stream",
     "text": [
      "Episode 100/100."
     ]
    },
    {
     "name": "stderr",
     "output_type": "stream",
     "text": [
      "\r",
      " 36%|█████████████████████████████▏                                                   | 36/100 [00:02<00:05, 12.03it/s]"
     ]
    },
    {
     "name": "stdout",
     "output_type": "stream",
     "text": [
      "Episode 100/100."
     ]
    },
    {
     "name": "stderr",
     "output_type": "stream",
     "text": [
      "\r",
      " 38%|██████████████████████████████▊                                                  | 38/100 [00:03<00:05, 11.51it/s]"
     ]
    },
    {
     "name": "stdout",
     "output_type": "stream",
     "text": [
      "Episode 100/100."
     ]
    },
    {
     "name": "stderr",
     "output_type": "stream",
     "text": [
      "\r",
      " 40%|████████████████████████████████▍                                                | 40/100 [00:03<00:05, 11.76it/s]"
     ]
    },
    {
     "name": "stdout",
     "output_type": "stream",
     "text": [
      "Episode 100/100."
     ]
    },
    {
     "name": "stderr",
     "output_type": "stream",
     "text": [
      "\r",
      " 42%|██████████████████████████████████                                               | 42/100 [00:03<00:04, 11.84it/s]"
     ]
    },
    {
     "name": "stdout",
     "output_type": "stream",
     "text": [
      "Episode 100/100."
     ]
    },
    {
     "name": "stderr",
     "output_type": "stream",
     "text": [
      "\r",
      " 44%|███████████████████████████████████▋                                             | 44/100 [00:03<00:04, 12.23it/s]"
     ]
    },
    {
     "name": "stdout",
     "output_type": "stream",
     "text": [
      "Episode 100/100."
     ]
    },
    {
     "name": "stderr",
     "output_type": "stream",
     "text": [
      "\r",
      " 46%|█████████████████████████████████████▎                                           | 46/100 [00:03<00:04, 12.31it/s]"
     ]
    },
    {
     "name": "stdout",
     "output_type": "stream",
     "text": [
      "Episode 100/100."
     ]
    },
    {
     "name": "stderr",
     "output_type": "stream",
     "text": [
      "\r",
      " 48%|██████████████████████████████████████▉                                          | 48/100 [00:03<00:04, 12.40it/s]"
     ]
    },
    {
     "name": "stdout",
     "output_type": "stream",
     "text": [
      "Episode 100/100."
     ]
    },
    {
     "name": "stderr",
     "output_type": "stream",
     "text": [
      "\r",
      " 50%|████████████████████████████████████████▌                                        | 50/100 [00:04<00:03, 12.57it/s]"
     ]
    },
    {
     "name": "stdout",
     "output_type": "stream",
     "text": [
      "Episode 100/100."
     ]
    },
    {
     "name": "stderr",
     "output_type": "stream",
     "text": [
      "\r",
      " 52%|██████████████████████████████████████████                                       | 52/100 [00:04<00:03, 12.48it/s]"
     ]
    },
    {
     "name": "stdout",
     "output_type": "stream",
     "text": [
      "Episode 100/100."
     ]
    },
    {
     "name": "stderr",
     "output_type": "stream",
     "text": [
      "\r",
      " 54%|███████████████████████████████████████████▋                                     | 54/100 [00:04<00:03, 12.33it/s]"
     ]
    },
    {
     "name": "stdout",
     "output_type": "stream",
     "text": [
      "Episode 100/100."
     ]
    },
    {
     "name": "stderr",
     "output_type": "stream",
     "text": [
      "\r",
      " 56%|█████████████████████████████████████████████▎                                   | 56/100 [00:04<00:03, 12.17it/s]"
     ]
    },
    {
     "name": "stdout",
     "output_type": "stream",
     "text": [
      "Episode 100/100."
     ]
    },
    {
     "name": "stderr",
     "output_type": "stream",
     "text": [
      "\r",
      " 58%|██████████████████████████████████████████████▉                                  | 58/100 [00:04<00:03, 12.13it/s]"
     ]
    },
    {
     "name": "stdout",
     "output_type": "stream",
     "text": [
      "Episode 100/100."
     ]
    },
    {
     "name": "stderr",
     "output_type": "stream",
     "text": [
      "\r",
      " 60%|████████████████████████████████████████████████▌                                | 60/100 [00:04<00:03, 11.85it/s]"
     ]
    },
    {
     "name": "stdout",
     "output_type": "stream",
     "text": [
      "Episode 100/100."
     ]
    },
    {
     "name": "stderr",
     "output_type": "stream",
     "text": [
      "\r",
      " 62%|██████████████████████████████████████████████████▏                              | 62/100 [00:05<00:03, 11.97it/s]"
     ]
    },
    {
     "name": "stdout",
     "output_type": "stream",
     "text": [
      "Episode 100/100."
     ]
    },
    {
     "name": "stderr",
     "output_type": "stream",
     "text": [
      "\r",
      " 64%|███████████████████████████████████████████████████▊                             | 64/100 [00:05<00:03, 12.00it/s]"
     ]
    },
    {
     "name": "stdout",
     "output_type": "stream",
     "text": [
      "Episode 100/100."
     ]
    },
    {
     "name": "stderr",
     "output_type": "stream",
     "text": [
      "\r",
      " 66%|█████████████████████████████████████████████████████▍                           | 66/100 [00:05<00:02, 11.93it/s]"
     ]
    },
    {
     "name": "stdout",
     "output_type": "stream",
     "text": [
      "Episode 100/100."
     ]
    },
    {
     "name": "stderr",
     "output_type": "stream",
     "text": [
      "\r",
      " 68%|███████████████████████████████████████████████████████                          | 68/100 [00:05<00:02, 12.34it/s]"
     ]
    },
    {
     "name": "stdout",
     "output_type": "stream",
     "text": [
      "Episode 100/100."
     ]
    },
    {
     "name": "stderr",
     "output_type": "stream",
     "text": [
      "\r",
      " 70%|████████████████████████████████████████████████████████▋                        | 70/100 [00:05<00:02, 12.35it/s]"
     ]
    },
    {
     "name": "stdout",
     "output_type": "stream",
     "text": [
      "Episode 100/100."
     ]
    },
    {
     "name": "stderr",
     "output_type": "stream",
     "text": [
      "\r",
      " 72%|██████████████████████████████████████████████████████████▎                      | 72/100 [00:05<00:02, 12.86it/s]"
     ]
    },
    {
     "name": "stdout",
     "output_type": "stream",
     "text": [
      "Episode 100/100."
     ]
    },
    {
     "name": "stderr",
     "output_type": "stream",
     "text": [
      "\r",
      " 74%|███████████████████████████████████████████████████████████▉                     | 74/100 [00:06<00:02, 12.85it/s]"
     ]
    },
    {
     "name": "stdout",
     "output_type": "stream",
     "text": [
      "Episode 100/100."
     ]
    },
    {
     "name": "stderr",
     "output_type": "stream",
     "text": [
      "\r",
      " 76%|█████████████████████████████████████████████████████████████▌                   | 76/100 [00:06<00:01, 13.24it/s]"
     ]
    },
    {
     "name": "stdout",
     "output_type": "stream",
     "text": [
      "Episode 100/100."
     ]
    },
    {
     "name": "stderr",
     "output_type": "stream",
     "text": [
      "\r",
      " 78%|███████████████████████████████████████████████████████████████▏                 | 78/100 [00:06<00:01, 12.76it/s]"
     ]
    },
    {
     "name": "stdout",
     "output_type": "stream",
     "text": [
      "Episode 100/100."
     ]
    },
    {
     "name": "stderr",
     "output_type": "stream",
     "text": [
      "\r",
      " 80%|████████████████████████████████████████████████████████████████▊                | 80/100 [00:06<00:01, 12.60it/s]"
     ]
    },
    {
     "name": "stdout",
     "output_type": "stream",
     "text": [
      "Episode 100/100."
     ]
    },
    {
     "name": "stderr",
     "output_type": "stream",
     "text": [
      "\r",
      " 82%|██████████████████████████████████████████████████████████████████▍              | 82/100 [00:06<00:01, 12.55it/s]"
     ]
    },
    {
     "name": "stdout",
     "output_type": "stream",
     "text": [
      "Episode 100/100."
     ]
    },
    {
     "name": "stderr",
     "output_type": "stream",
     "text": [
      "\r",
      " 84%|████████████████████████████████████████████████████████████████████             | 84/100 [00:06<00:01, 12.51it/s]"
     ]
    },
    {
     "name": "stdout",
     "output_type": "stream",
     "text": [
      "Episode 100/100."
     ]
    },
    {
     "name": "stderr",
     "output_type": "stream",
     "text": [
      "\r",
      " 86%|█████████████████████████████████████████████████████████████████████▋           | 86/100 [00:07<00:01, 12.09it/s]"
     ]
    },
    {
     "name": "stdout",
     "output_type": "stream",
     "text": [
      "Episode 100/100."
     ]
    },
    {
     "name": "stderr",
     "output_type": "stream",
     "text": [
      "\r",
      " 88%|███████████████████████████████████████████████████████████████████████▎         | 88/100 [00:07<00:01, 11.96it/s]"
     ]
    },
    {
     "name": "stdout",
     "output_type": "stream",
     "text": [
      "Episode 100/100."
     ]
    },
    {
     "name": "stderr",
     "output_type": "stream",
     "text": [
      "\r",
      " 90%|████████████████████████████████████████████████████████████████████████▉        | 90/100 [00:07<00:00, 12.22it/s]"
     ]
    },
    {
     "name": "stdout",
     "output_type": "stream",
     "text": [
      "Episode 100/100."
     ]
    },
    {
     "name": "stderr",
     "output_type": "stream",
     "text": [
      "\r",
      " 92%|██████████████████████████████████████████████████████████████████████████▌      | 92/100 [00:07<00:00, 12.36it/s]"
     ]
    },
    {
     "name": "stdout",
     "output_type": "stream",
     "text": [
      "Episode 100/100."
     ]
    },
    {
     "name": "stderr",
     "output_type": "stream",
     "text": [
      "\r",
      " 94%|████████████████████████████████████████████████████████████████████████████▏    | 94/100 [00:07<00:00, 12.32it/s]"
     ]
    },
    {
     "name": "stdout",
     "output_type": "stream",
     "text": [
      "Episode 100/100."
     ]
    },
    {
     "name": "stderr",
     "output_type": "stream",
     "text": [
      "\r",
      " 96%|█████████████████████████████████████████████████████████████████████████████▊   | 96/100 [00:07<00:00, 12.35it/s]"
     ]
    },
    {
     "name": "stdout",
     "output_type": "stream",
     "text": [
      "Episode 100/100."
     ]
    },
    {
     "name": "stderr",
     "output_type": "stream",
     "text": [
      "\r",
      " 98%|███████████████████████████████████████████████████████████████████████████████▍ | 98/100 [00:08<00:00, 12.25it/s]"
     ]
    },
    {
     "name": "stdout",
     "output_type": "stream",
     "text": [
      "Episode 100/100."
     ]
    },
    {
     "name": "stderr",
     "output_type": "stream",
     "text": [
      "100%|████████████████████████████████████████████████████████████████████████████████| 100/100 [00:08<00:00, 12.21it/s]\n",
      "  0%|                                                                                          | 0/100 [00:00<?, ?it/s]"
     ]
    },
    {
     "name": "stdout",
     "output_type": "stream",
     "text": [
      "Episode 100/100."
     ]
    },
    {
     "name": "stderr",
     "output_type": "stream",
     "text": [
      "\r",
      "  2%|█▋                                                                                | 2/100 [00:00<00:08, 12.11it/s]"
     ]
    },
    {
     "name": "stdout",
     "output_type": "stream",
     "text": [
      "Episode 100/100."
     ]
    },
    {
     "name": "stderr",
     "output_type": "stream",
     "text": [
      "\r",
      "  4%|███▎                                                                              | 4/100 [00:00<00:08, 11.74it/s]"
     ]
    },
    {
     "name": "stdout",
     "output_type": "stream",
     "text": [
      "Episode 100/100."
     ]
    },
    {
     "name": "stderr",
     "output_type": "stream",
     "text": [
      "\r",
      "  6%|████▉                                                                             | 6/100 [00:00<00:07, 11.85it/s]"
     ]
    },
    {
     "name": "stdout",
     "output_type": "stream",
     "text": [
      "Episode 100/100."
     ]
    },
    {
     "name": "stderr",
     "output_type": "stream",
     "text": [
      "\r",
      "  8%|██████▌                                                                           | 8/100 [00:00<00:07, 12.16it/s]"
     ]
    },
    {
     "name": "stdout",
     "output_type": "stream",
     "text": [
      "Episode 100/100."
     ]
    },
    {
     "name": "stderr",
     "output_type": "stream",
     "text": [
      "\r",
      " 10%|████████                                                                         | 10/100 [00:00<00:07, 12.48it/s]"
     ]
    },
    {
     "name": "stdout",
     "output_type": "stream",
     "text": [
      "Episode 100/100."
     ]
    },
    {
     "name": "stderr",
     "output_type": "stream",
     "text": [
      "\r",
      " 12%|█████████▋                                                                       | 12/100 [00:00<00:07, 12.23it/s]"
     ]
    },
    {
     "name": "stdout",
     "output_type": "stream",
     "text": [
      "Episode 100/100."
     ]
    },
    {
     "name": "stderr",
     "output_type": "stream",
     "text": [
      "\r",
      " 14%|███████████▎                                                                     | 14/100 [00:01<00:07, 11.71it/s]"
     ]
    },
    {
     "name": "stdout",
     "output_type": "stream",
     "text": [
      "Episode 100/100."
     ]
    },
    {
     "name": "stderr",
     "output_type": "stream",
     "text": [
      "\r",
      " 16%|████████████▉                                                                    | 16/100 [00:01<00:07, 11.82it/s]"
     ]
    },
    {
     "name": "stdout",
     "output_type": "stream",
     "text": [
      "Episode 100/100."
     ]
    },
    {
     "name": "stderr",
     "output_type": "stream",
     "text": [
      "\r",
      " 18%|██████████████▌                                                                  | 18/100 [00:01<00:06, 12.31it/s]"
     ]
    },
    {
     "name": "stdout",
     "output_type": "stream",
     "text": [
      "Episode 100/100."
     ]
    },
    {
     "name": "stderr",
     "output_type": "stream",
     "text": [
      "\r",
      " 20%|████████████████▏                                                                | 20/100 [00:01<00:06, 12.60it/s]"
     ]
    },
    {
     "name": "stdout",
     "output_type": "stream",
     "text": [
      "Episode 100/100."
     ]
    },
    {
     "name": "stderr",
     "output_type": "stream",
     "text": [
      "\r",
      " 22%|█████████████████▊                                                               | 22/100 [00:01<00:06, 12.02it/s]"
     ]
    },
    {
     "name": "stdout",
     "output_type": "stream",
     "text": [
      "Episode 100/100."
     ]
    },
    {
     "name": "stderr",
     "output_type": "stream",
     "text": [
      "\r",
      " 24%|███████████████████▍                                                             | 24/100 [00:01<00:06, 12.07it/s]"
     ]
    },
    {
     "name": "stdout",
     "output_type": "stream",
     "text": [
      "Episode 100/100."
     ]
    },
    {
     "name": "stderr",
     "output_type": "stream",
     "text": [
      "\r",
      " 26%|█████████████████████                                                            | 26/100 [00:02<00:06, 12.01it/s]"
     ]
    },
    {
     "name": "stdout",
     "output_type": "stream",
     "text": [
      "Episode 100/100."
     ]
    },
    {
     "name": "stderr",
     "output_type": "stream",
     "text": [
      "\r",
      " 28%|██████████████████████▋                                                          | 28/100 [00:02<00:05, 12.12it/s]"
     ]
    },
    {
     "name": "stdout",
     "output_type": "stream",
     "text": [
      "Episode 100/100."
     ]
    },
    {
     "name": "stderr",
     "output_type": "stream",
     "text": [
      "\r",
      " 30%|████████████████████████▎                                                        | 30/100 [00:02<00:05, 12.28it/s]"
     ]
    },
    {
     "name": "stdout",
     "output_type": "stream",
     "text": [
      "Episode 100/100."
     ]
    },
    {
     "name": "stderr",
     "output_type": "stream",
     "text": [
      "\r",
      " 32%|█████████████████████████▉                                                       | 32/100 [00:02<00:05, 12.66it/s]"
     ]
    },
    {
     "name": "stdout",
     "output_type": "stream",
     "text": [
      "Episode 100/100."
     ]
    },
    {
     "name": "stderr",
     "output_type": "stream",
     "text": [
      "\r",
      " 34%|███████████████████████████▌                                                     | 34/100 [00:02<00:05, 12.59it/s]"
     ]
    },
    {
     "name": "stdout",
     "output_type": "stream",
     "text": [
      "Episode 100/100."
     ]
    },
    {
     "name": "stderr",
     "output_type": "stream",
     "text": [
      "\r",
      " 36%|█████████████████████████████▏                                                   | 36/100 [00:02<00:05, 12.61it/s]"
     ]
    },
    {
     "name": "stdout",
     "output_type": "stream",
     "text": [
      "Episode 100/100."
     ]
    },
    {
     "name": "stderr",
     "output_type": "stream",
     "text": [
      "\r",
      " 38%|██████████████████████████████▊                                                  | 38/100 [00:03<00:04, 12.68it/s]"
     ]
    },
    {
     "name": "stdout",
     "output_type": "stream",
     "text": [
      "Episode 100/100."
     ]
    },
    {
     "name": "stderr",
     "output_type": "stream",
     "text": [
      "\r",
      " 40%|████████████████████████████████▍                                                | 40/100 [00:03<00:04, 12.70it/s]"
     ]
    },
    {
     "name": "stdout",
     "output_type": "stream",
     "text": [
      "Episode 100/100."
     ]
    },
    {
     "name": "stderr",
     "output_type": "stream",
     "text": [
      "\r",
      " 42%|██████████████████████████████████                                               | 42/100 [00:03<00:04, 12.66it/s]"
     ]
    },
    {
     "name": "stdout",
     "output_type": "stream",
     "text": [
      "Episode 100/100."
     ]
    },
    {
     "name": "stderr",
     "output_type": "stream",
     "text": [
      "\r",
      " 44%|███████████████████████████████████▋                                             | 44/100 [00:03<00:04, 12.74it/s]"
     ]
    },
    {
     "name": "stdout",
     "output_type": "stream",
     "text": [
      "Episode 100/100."
     ]
    },
    {
     "name": "stderr",
     "output_type": "stream",
     "text": [
      "\r",
      " 46%|█████████████████████████████████████▎                                           | 46/100 [00:03<00:04, 12.57it/s]"
     ]
    },
    {
     "name": "stdout",
     "output_type": "stream",
     "text": [
      "Episode 100/100."
     ]
    },
    {
     "name": "stderr",
     "output_type": "stream",
     "text": [
      "\r",
      " 48%|██████████████████████████████████████▉                                          | 48/100 [00:03<00:04, 12.11it/s]"
     ]
    },
    {
     "name": "stdout",
     "output_type": "stream",
     "text": [
      "Episode 100/100."
     ]
    },
    {
     "name": "stderr",
     "output_type": "stream",
     "text": [
      "\r",
      " 50%|████████████████████████████████████████▌                                        | 50/100 [00:04<00:04, 11.73it/s]"
     ]
    },
    {
     "name": "stdout",
     "output_type": "stream",
     "text": [
      "Episode 100/100."
     ]
    },
    {
     "name": "stderr",
     "output_type": "stream",
     "text": [
      "\r",
      " 52%|██████████████████████████████████████████                                       | 52/100 [00:04<00:04, 11.98it/s]"
     ]
    },
    {
     "name": "stdout",
     "output_type": "stream",
     "text": [
      "Episode 100/100."
     ]
    },
    {
     "name": "stderr",
     "output_type": "stream",
     "text": [
      "\r",
      " 54%|███████████████████████████████████████████▋                                     | 54/100 [00:04<00:03, 12.02it/s]"
     ]
    },
    {
     "name": "stdout",
     "output_type": "stream",
     "text": [
      "Episode 100/100."
     ]
    },
    {
     "name": "stderr",
     "output_type": "stream",
     "text": [
      "\r",
      " 56%|█████████████████████████████████████████████▎                                   | 56/100 [00:04<00:03, 12.08it/s]"
     ]
    },
    {
     "name": "stdout",
     "output_type": "stream",
     "text": [
      "Episode 100/100."
     ]
    },
    {
     "name": "stderr",
     "output_type": "stream",
     "text": [
      "\r",
      " 58%|██████████████████████████████████████████████▉                                  | 58/100 [00:04<00:03, 12.11it/s]"
     ]
    },
    {
     "name": "stdout",
     "output_type": "stream",
     "text": [
      "Episode 100/100."
     ]
    },
    {
     "name": "stderr",
     "output_type": "stream",
     "text": [
      "\r",
      " 60%|████████████████████████████████████████████████▌                                | 60/100 [00:04<00:03, 12.01it/s]"
     ]
    },
    {
     "name": "stdout",
     "output_type": "stream",
     "text": [
      "Episode 100/100."
     ]
    },
    {
     "name": "stderr",
     "output_type": "stream",
     "text": [
      "\r",
      " 62%|██████████████████████████████████████████████████▏                              | 62/100 [00:05<00:03, 11.96it/s]"
     ]
    },
    {
     "name": "stdout",
     "output_type": "stream",
     "text": [
      "Episode 100/100."
     ]
    },
    {
     "name": "stderr",
     "output_type": "stream",
     "text": [
      "\r",
      " 64%|███████████████████████████████████████████████████▊                             | 64/100 [00:05<00:02, 12.07it/s]"
     ]
    },
    {
     "name": "stdout",
     "output_type": "stream",
     "text": [
      "Episode 100/100."
     ]
    },
    {
     "name": "stderr",
     "output_type": "stream",
     "text": [
      "\r",
      " 66%|█████████████████████████████████████████████████████▍                           | 66/100 [00:05<00:02, 12.09it/s]"
     ]
    },
    {
     "name": "stdout",
     "output_type": "stream",
     "text": [
      "Episode 100/100."
     ]
    },
    {
     "name": "stderr",
     "output_type": "stream",
     "text": [
      "\r",
      " 68%|███████████████████████████████████████████████████████                          | 68/100 [00:05<00:02, 12.20it/s]"
     ]
    },
    {
     "name": "stdout",
     "output_type": "stream",
     "text": [
      "Episode 100/100."
     ]
    },
    {
     "name": "stderr",
     "output_type": "stream",
     "text": [
      "\r",
      " 70%|████████████████████████████████████████████████████████▋                        | 70/100 [00:05<00:02, 12.22it/s]"
     ]
    },
    {
     "name": "stdout",
     "output_type": "stream",
     "text": [
      "Episode 100/100."
     ]
    },
    {
     "name": "stderr",
     "output_type": "stream",
     "text": [
      "\r",
      " 72%|██████████████████████████████████████████████████████████▎                      | 72/100 [00:05<00:02, 12.10it/s]"
     ]
    },
    {
     "name": "stdout",
     "output_type": "stream",
     "text": [
      "Episode 100/100."
     ]
    },
    {
     "name": "stderr",
     "output_type": "stream",
     "text": [
      "\r",
      " 74%|███████████████████████████████████████████████████████████▉                     | 74/100 [00:06<00:02, 11.94it/s]"
     ]
    },
    {
     "name": "stdout",
     "output_type": "stream",
     "text": [
      "Episode 100/100."
     ]
    },
    {
     "name": "stderr",
     "output_type": "stream",
     "text": [
      "\r",
      " 76%|█████████████████████████████████████████████████████████████▌                   | 76/100 [00:06<00:01, 12.15it/s]"
     ]
    },
    {
     "name": "stdout",
     "output_type": "stream",
     "text": [
      "Episode 100/100."
     ]
    },
    {
     "name": "stderr",
     "output_type": "stream",
     "text": [
      "\r",
      " 78%|███████████████████████████████████████████████████████████████▏                 | 78/100 [00:06<00:01, 12.02it/s]"
     ]
    },
    {
     "name": "stdout",
     "output_type": "stream",
     "text": [
      "Episode 100/100."
     ]
    },
    {
     "name": "stderr",
     "output_type": "stream",
     "text": [
      "\r",
      " 80%|████████████████████████████████████████████████████████████████▊                | 80/100 [00:06<00:01, 12.01it/s]"
     ]
    },
    {
     "name": "stdout",
     "output_type": "stream",
     "text": [
      "Episode 100/100."
     ]
    },
    {
     "name": "stderr",
     "output_type": "stream",
     "text": [
      "\r",
      " 82%|██████████████████████████████████████████████████████████████████▍              | 82/100 [00:06<00:01, 11.93it/s]"
     ]
    },
    {
     "name": "stdout",
     "output_type": "stream",
     "text": [
      "Episode 100/100."
     ]
    },
    {
     "name": "stderr",
     "output_type": "stream",
     "text": [
      "\r",
      " 84%|████████████████████████████████████████████████████████████████████             | 84/100 [00:06<00:01, 11.93it/s]"
     ]
    },
    {
     "name": "stdout",
     "output_type": "stream",
     "text": [
      "Episode 100/100."
     ]
    },
    {
     "name": "stderr",
     "output_type": "stream",
     "text": [
      "\r",
      " 86%|█████████████████████████████████████████████████████████████████████▋           | 86/100 [00:07<00:01, 12.62it/s]"
     ]
    },
    {
     "name": "stdout",
     "output_type": "stream",
     "text": [
      "Episode 100/100."
     ]
    },
    {
     "name": "stderr",
     "output_type": "stream",
     "text": [
      "\r",
      " 88%|███████████████████████████████████████████████████████████████████████▎         | 88/100 [00:07<00:00, 12.11it/s]"
     ]
    },
    {
     "name": "stdout",
     "output_type": "stream",
     "text": [
      "Episode 100/100."
     ]
    },
    {
     "name": "stderr",
     "output_type": "stream",
     "text": [
      "\r",
      " 90%|████████████████████████████████████████████████████████████████████████▉        | 90/100 [00:07<00:00, 12.11it/s]"
     ]
    },
    {
     "name": "stdout",
     "output_type": "stream",
     "text": [
      "Episode 100/100."
     ]
    },
    {
     "name": "stderr",
     "output_type": "stream",
     "text": [
      "\r",
      " 92%|██████████████████████████████████████████████████████████████████████████▌      | 92/100 [00:07<00:00, 12.73it/s]"
     ]
    },
    {
     "name": "stdout",
     "output_type": "stream",
     "text": [
      "Episode 100/100."
     ]
    },
    {
     "name": "stderr",
     "output_type": "stream",
     "text": [
      "\r",
      " 94%|████████████████████████████████████████████████████████████████████████████▏    | 94/100 [00:07<00:00, 12.68it/s]"
     ]
    },
    {
     "name": "stdout",
     "output_type": "stream",
     "text": [
      "Episode 100/100."
     ]
    },
    {
     "name": "stderr",
     "output_type": "stream",
     "text": [
      "\r",
      " 96%|█████████████████████████████████████████████████████████████████████████████▊   | 96/100 [00:07<00:00, 12.84it/s]"
     ]
    },
    {
     "name": "stdout",
     "output_type": "stream",
     "text": [
      "Episode 100/100."
     ]
    },
    {
     "name": "stderr",
     "output_type": "stream",
     "text": [
      "\r",
      " 98%|███████████████████████████████████████████████████████████████████████████████▍ | 98/100 [00:08<00:00, 12.42it/s]"
     ]
    },
    {
     "name": "stdout",
     "output_type": "stream",
     "text": [
      "Episode 100/100."
     ]
    },
    {
     "name": "stderr",
     "output_type": "stream",
     "text": [
      "100%|████████████████████████████████████████████████████████████████████████████████| 100/100 [00:08<00:00, 12.24it/s]\n",
      "  0%|                                                                                          | 0/100 [00:00<?, ?it/s]"
     ]
    },
    {
     "name": "stdout",
     "output_type": "stream",
     "text": [
      "Episode 100/100."
     ]
    },
    {
     "name": "stderr",
     "output_type": "stream",
     "text": [
      "\r",
      "  2%|█▋                                                                                | 2/100 [00:00<00:07, 12.68it/s]"
     ]
    },
    {
     "name": "stdout",
     "output_type": "stream",
     "text": [
      "Episode 100/100."
     ]
    },
    {
     "name": "stderr",
     "output_type": "stream",
     "text": [
      "\r",
      "  4%|███▎                                                                              | 4/100 [00:00<00:07, 12.48it/s]"
     ]
    },
    {
     "name": "stdout",
     "output_type": "stream",
     "text": [
      "Episode 100/100."
     ]
    },
    {
     "name": "stderr",
     "output_type": "stream",
     "text": [
      "\r",
      "  6%|████▉                                                                             | 6/100 [00:00<00:07, 12.81it/s]"
     ]
    },
    {
     "name": "stdout",
     "output_type": "stream",
     "text": [
      "Episode 100/100."
     ]
    },
    {
     "name": "stderr",
     "output_type": "stream",
     "text": [
      "\r",
      "  8%|██████▌                                                                           | 8/100 [00:00<00:07, 12.60it/s]"
     ]
    },
    {
     "name": "stdout",
     "output_type": "stream",
     "text": [
      "Episode 100/100."
     ]
    },
    {
     "name": "stderr",
     "output_type": "stream",
     "text": [
      "\r",
      " 10%|████████                                                                         | 10/100 [00:00<00:07, 12.48it/s]"
     ]
    },
    {
     "name": "stdout",
     "output_type": "stream",
     "text": [
      "Episode 100/100."
     ]
    },
    {
     "name": "stderr",
     "output_type": "stream",
     "text": [
      "\r",
      " 12%|█████████▋                                                                       | 12/100 [00:00<00:06, 12.90it/s]"
     ]
    },
    {
     "name": "stdout",
     "output_type": "stream",
     "text": [
      "Episode 100/100."
     ]
    },
    {
     "name": "stderr",
     "output_type": "stream",
     "text": [
      "\r",
      " 14%|███████████▎                                                                     | 14/100 [00:01<00:06, 12.99it/s]"
     ]
    },
    {
     "name": "stdout",
     "output_type": "stream",
     "text": [
      "Episode 100/100."
     ]
    },
    {
     "name": "stderr",
     "output_type": "stream",
     "text": [
      "\r",
      " 16%|████████████▉                                                                    | 16/100 [00:01<00:06, 12.95it/s]"
     ]
    },
    {
     "name": "stdout",
     "output_type": "stream",
     "text": [
      "Episode 100/100."
     ]
    },
    {
     "name": "stderr",
     "output_type": "stream",
     "text": [
      "\r",
      " 18%|██████████████▌                                                                  | 18/100 [00:01<00:06, 12.81it/s]"
     ]
    },
    {
     "name": "stdout",
     "output_type": "stream",
     "text": [
      "Episode 100/100."
     ]
    },
    {
     "name": "stderr",
     "output_type": "stream",
     "text": [
      "\r",
      " 20%|████████████████▏                                                                | 20/100 [00:01<00:06, 12.56it/s]"
     ]
    },
    {
     "name": "stdout",
     "output_type": "stream",
     "text": [
      "Episode 100/100."
     ]
    },
    {
     "name": "stderr",
     "output_type": "stream",
     "text": [
      "\r",
      " 22%|█████████████████▊                                                               | 22/100 [00:01<00:06, 12.74it/s]"
     ]
    },
    {
     "name": "stdout",
     "output_type": "stream",
     "text": [
      "Episode 100/100."
     ]
    },
    {
     "name": "stderr",
     "output_type": "stream",
     "text": [
      "\r",
      " 24%|███████████████████▍                                                             | 24/100 [00:01<00:06, 12.49it/s]"
     ]
    },
    {
     "name": "stdout",
     "output_type": "stream",
     "text": [
      "Episode 100/100."
     ]
    },
    {
     "name": "stderr",
     "output_type": "stream",
     "text": [
      "\r",
      " 26%|█████████████████████                                                            | 26/100 [00:02<00:05, 12.68it/s]"
     ]
    },
    {
     "name": "stdout",
     "output_type": "stream",
     "text": [
      "Episode 100/100."
     ]
    },
    {
     "name": "stderr",
     "output_type": "stream",
     "text": [
      "\r",
      " 28%|██████████████████████▋                                                          | 28/100 [00:02<00:05, 12.15it/s]"
     ]
    },
    {
     "name": "stdout",
     "output_type": "stream",
     "text": [
      "Episode 100/100."
     ]
    },
    {
     "name": "stderr",
     "output_type": "stream",
     "text": [
      "\r",
      " 30%|████████████████████████▎                                                        | 30/100 [00:02<00:05, 12.59it/s]"
     ]
    },
    {
     "name": "stdout",
     "output_type": "stream",
     "text": [
      "Episode 100/100."
     ]
    },
    {
     "name": "stderr",
     "output_type": "stream",
     "text": [
      "\r",
      " 32%|█████████████████████████▉                                                       | 32/100 [00:02<00:05, 12.42it/s]"
     ]
    },
    {
     "name": "stdout",
     "output_type": "stream",
     "text": [
      "Episode 100/100."
     ]
    },
    {
     "name": "stderr",
     "output_type": "stream",
     "text": [
      "\r",
      " 34%|███████████████████████████▌                                                     | 34/100 [00:02<00:05, 12.57it/s]"
     ]
    },
    {
     "name": "stdout",
     "output_type": "stream",
     "text": [
      "Episode 100/100."
     ]
    },
    {
     "name": "stderr",
     "output_type": "stream",
     "text": [
      "\r",
      " 36%|█████████████████████████████▏                                                   | 36/100 [00:02<00:05, 12.54it/s]"
     ]
    },
    {
     "name": "stdout",
     "output_type": "stream",
     "text": [
      "Episode 100/100."
     ]
    },
    {
     "name": "stderr",
     "output_type": "stream",
     "text": [
      "\r",
      " 38%|██████████████████████████████▊                                                  | 38/100 [00:03<00:04, 12.61it/s]"
     ]
    },
    {
     "name": "stdout",
     "output_type": "stream",
     "text": [
      "Episode 100/100."
     ]
    },
    {
     "name": "stderr",
     "output_type": "stream",
     "text": [
      "\r",
      " 40%|████████████████████████████████▍                                                | 40/100 [00:03<00:04, 12.77it/s]"
     ]
    },
    {
     "name": "stdout",
     "output_type": "stream",
     "text": [
      "Episode 100/100."
     ]
    },
    {
     "name": "stderr",
     "output_type": "stream",
     "text": [
      "\r",
      " 42%|██████████████████████████████████                                               | 42/100 [00:03<00:04, 12.85it/s]"
     ]
    },
    {
     "name": "stdout",
     "output_type": "stream",
     "text": [
      "Episode 100/100."
     ]
    },
    {
     "name": "stderr",
     "output_type": "stream",
     "text": [
      "\r",
      " 44%|███████████████████████████████████▋                                             | 44/100 [00:03<00:04, 13.56it/s]"
     ]
    },
    {
     "name": "stdout",
     "output_type": "stream",
     "text": [
      "Episode 100/100."
     ]
    },
    {
     "name": "stderr",
     "output_type": "stream",
     "text": [
      "\r",
      " 46%|█████████████████████████████████████▎                                           | 46/100 [00:03<00:04, 13.01it/s]"
     ]
    },
    {
     "name": "stdout",
     "output_type": "stream",
     "text": [
      "Episode 100/100."
     ]
    },
    {
     "name": "stderr",
     "output_type": "stream",
     "text": [
      "\r",
      " 48%|██████████████████████████████████████▉                                          | 48/100 [00:03<00:03, 13.15it/s]"
     ]
    },
    {
     "name": "stdout",
     "output_type": "stream",
     "text": [
      "Episode 100/100."
     ]
    },
    {
     "name": "stderr",
     "output_type": "stream",
     "text": [
      "\r",
      " 50%|████████████████████████████████████████▌                                        | 50/100 [00:03<00:03, 13.22it/s]"
     ]
    },
    {
     "name": "stdout",
     "output_type": "stream",
     "text": [
      "Episode 100/100."
     ]
    },
    {
     "name": "stderr",
     "output_type": "stream",
     "text": [
      "\r",
      " 52%|██████████████████████████████████████████                                       | 52/100 [00:04<00:03, 13.67it/s]"
     ]
    },
    {
     "name": "stdout",
     "output_type": "stream",
     "text": [
      "Episode 100/100."
     ]
    },
    {
     "name": "stderr",
     "output_type": "stream",
     "text": [
      "\r",
      " 54%|███████████████████████████████████████████▋                                     | 54/100 [00:04<00:03, 13.40it/s]"
     ]
    },
    {
     "name": "stdout",
     "output_type": "stream",
     "text": [
      "Episode 100/100."
     ]
    },
    {
     "name": "stderr",
     "output_type": "stream",
     "text": [
      "\r",
      " 56%|█████████████████████████████████████████████▎                                   | 56/100 [00:04<00:03, 12.93it/s]"
     ]
    },
    {
     "name": "stdout",
     "output_type": "stream",
     "text": [
      "Episode 100/100."
     ]
    },
    {
     "name": "stderr",
     "output_type": "stream",
     "text": [
      "\r",
      " 58%|██████████████████████████████████████████████▉                                  | 58/100 [00:04<00:03, 12.56it/s]"
     ]
    },
    {
     "name": "stdout",
     "output_type": "stream",
     "text": [
      "Episode 100/100."
     ]
    },
    {
     "name": "stderr",
     "output_type": "stream",
     "text": [
      "\r",
      " 60%|████████████████████████████████████████████████▌                                | 60/100 [00:04<00:03, 12.99it/s]"
     ]
    },
    {
     "name": "stdout",
     "output_type": "stream",
     "text": [
      "Episode 100/100."
     ]
    },
    {
     "name": "stderr",
     "output_type": "stream",
     "text": [
      "\r",
      " 62%|██████████████████████████████████████████████████▏                              | 62/100 [00:04<00:02, 13.15it/s]"
     ]
    },
    {
     "name": "stdout",
     "output_type": "stream",
     "text": [
      "Episode 100/100."
     ]
    },
    {
     "name": "stderr",
     "output_type": "stream",
     "text": [
      "\r",
      " 64%|███████████████████████████████████████████████████▊                             | 64/100 [00:04<00:02, 12.86it/s]"
     ]
    },
    {
     "name": "stdout",
     "output_type": "stream",
     "text": [
      "Episode 100/100."
     ]
    },
    {
     "name": "stderr",
     "output_type": "stream",
     "text": [
      "\r",
      " 66%|█████████████████████████████████████████████████████▍                           | 66/100 [00:05<00:02, 12.42it/s]"
     ]
    },
    {
     "name": "stdout",
     "output_type": "stream",
     "text": [
      "Episode 100/100."
     ]
    },
    {
     "name": "stderr",
     "output_type": "stream",
     "text": [
      "\r",
      " 68%|███████████████████████████████████████████████████████                          | 68/100 [00:05<00:02, 12.42it/s]"
     ]
    },
    {
     "name": "stdout",
     "output_type": "stream",
     "text": [
      "Episode 100/100."
     ]
    },
    {
     "name": "stderr",
     "output_type": "stream",
     "text": [
      "\r",
      " 70%|████████████████████████████████████████████████████████▋                        | 70/100 [00:05<00:02, 12.33it/s]"
     ]
    },
    {
     "name": "stdout",
     "output_type": "stream",
     "text": [
      "Episode 100/100."
     ]
    },
    {
     "name": "stderr",
     "output_type": "stream",
     "text": [
      "\r",
      " 72%|██████████████████████████████████████████████████████████▎                      | 72/100 [00:05<00:02, 12.52it/s]"
     ]
    },
    {
     "name": "stdout",
     "output_type": "stream",
     "text": [
      "Episode 100/100."
     ]
    },
    {
     "name": "stderr",
     "output_type": "stream",
     "text": [
      "\r",
      " 74%|███████████████████████████████████████████████████████████▉                     | 74/100 [00:05<00:02, 12.61it/s]"
     ]
    },
    {
     "name": "stdout",
     "output_type": "stream",
     "text": [
      "Episode 100/100."
     ]
    },
    {
     "name": "stderr",
     "output_type": "stream",
     "text": [
      "\r",
      " 76%|█████████████████████████████████████████████████████████████▌                   | 76/100 [00:05<00:01, 12.53it/s]"
     ]
    },
    {
     "name": "stdout",
     "output_type": "stream",
     "text": [
      "Episode 100/100."
     ]
    },
    {
     "name": "stderr",
     "output_type": "stream",
     "text": [
      "\r",
      " 78%|███████████████████████████████████████████████████████████████▏                 | 78/100 [00:06<00:01, 12.35it/s]"
     ]
    },
    {
     "name": "stdout",
     "output_type": "stream",
     "text": [
      "Episode 100/100."
     ]
    },
    {
     "name": "stderr",
     "output_type": "stream",
     "text": [
      "\r",
      " 80%|████████████████████████████████████████████████████████████████▊                | 80/100 [00:06<00:01, 12.00it/s]"
     ]
    },
    {
     "name": "stdout",
     "output_type": "stream",
     "text": [
      "Episode 100/100."
     ]
    },
    {
     "name": "stderr",
     "output_type": "stream",
     "text": [
      "\r",
      " 82%|██████████████████████████████████████████████████████████████████▍              | 82/100 [00:06<00:01, 12.22it/s]"
     ]
    },
    {
     "name": "stdout",
     "output_type": "stream",
     "text": [
      "Episode 100/100."
     ]
    },
    {
     "name": "stderr",
     "output_type": "stream",
     "text": [
      "\r",
      " 84%|████████████████████████████████████████████████████████████████████             | 84/100 [00:06<00:01, 11.80it/s]"
     ]
    },
    {
     "name": "stdout",
     "output_type": "stream",
     "text": [
      "Episode 100/100."
     ]
    },
    {
     "name": "stderr",
     "output_type": "stream",
     "text": [
      "\r",
      " 86%|█████████████████████████████████████████████████████████████████████▋           | 86/100 [00:06<00:01, 11.83it/s]"
     ]
    },
    {
     "name": "stdout",
     "output_type": "stream",
     "text": [
      "Episode 100/100."
     ]
    },
    {
     "name": "stderr",
     "output_type": "stream",
     "text": [
      "\r",
      " 88%|███████████████████████████████████████████████████████████████████████▎         | 88/100 [00:06<00:00, 12.01it/s]"
     ]
    },
    {
     "name": "stdout",
     "output_type": "stream",
     "text": [
      "Episode 100/100."
     ]
    },
    {
     "name": "stderr",
     "output_type": "stream",
     "text": [
      "\r",
      " 90%|████████████████████████████████████████████████████████████████████████▉        | 90/100 [00:07<00:00, 11.85it/s]"
     ]
    },
    {
     "name": "stdout",
     "output_type": "stream",
     "text": [
      "Episode 100/100."
     ]
    },
    {
     "name": "stderr",
     "output_type": "stream",
     "text": [
      "\r",
      " 92%|██████████████████████████████████████████████████████████████████████████▌      | 92/100 [00:07<00:00, 12.26it/s]"
     ]
    },
    {
     "name": "stdout",
     "output_type": "stream",
     "text": [
      "Episode 100/100."
     ]
    },
    {
     "name": "stderr",
     "output_type": "stream",
     "text": [
      "\r",
      " 94%|████████████████████████████████████████████████████████████████████████████▏    | 94/100 [00:07<00:00, 12.23it/s]"
     ]
    },
    {
     "name": "stdout",
     "output_type": "stream",
     "text": [
      "Episode 100/100."
     ]
    },
    {
     "name": "stderr",
     "output_type": "stream",
     "text": [
      "\r",
      " 96%|█████████████████████████████████████████████████████████████████████████████▊   | 96/100 [00:07<00:00, 12.24it/s]"
     ]
    },
    {
     "name": "stdout",
     "output_type": "stream",
     "text": [
      "Episode 100/100."
     ]
    },
    {
     "name": "stderr",
     "output_type": "stream",
     "text": [
      "\r",
      " 98%|███████████████████████████████████████████████████████████████████████████████▍ | 98/100 [00:07<00:00, 12.02it/s]"
     ]
    },
    {
     "name": "stdout",
     "output_type": "stream",
     "text": [
      "Episode 100/100."
     ]
    },
    {
     "name": "stderr",
     "output_type": "stream",
     "text": [
      "100%|████████████████████████████████████████████████████████████████████████████████| 100/100 [00:07<00:00, 12.56it/s]\n",
      "  0%|                                                                                          | 0/100 [00:00<?, ?it/s]"
     ]
    },
    {
     "name": "stdout",
     "output_type": "stream",
     "text": [
      "Episode 100/100."
     ]
    },
    {
     "name": "stderr",
     "output_type": "stream",
     "text": [
      "\r",
      "  2%|█▋                                                                                | 2/100 [00:00<00:07, 13.10it/s]"
     ]
    },
    {
     "name": "stdout",
     "output_type": "stream",
     "text": [
      "Episode 100/100."
     ]
    },
    {
     "name": "stderr",
     "output_type": "stream",
     "text": [
      "\r",
      "  4%|███▎                                                                              | 4/100 [00:00<00:07, 13.11it/s]"
     ]
    },
    {
     "name": "stdout",
     "output_type": "stream",
     "text": [
      "Episode 100/100."
     ]
    },
    {
     "name": "stderr",
     "output_type": "stream",
     "text": [
      "\r",
      "  6%|████▉                                                                             | 6/100 [00:00<00:07, 12.12it/s]"
     ]
    },
    {
     "name": "stdout",
     "output_type": "stream",
     "text": [
      "Episode 100/100."
     ]
    },
    {
     "name": "stderr",
     "output_type": "stream",
     "text": [
      "\r",
      "  8%|██████▌                                                                           | 8/100 [00:00<00:07, 12.34it/s]"
     ]
    },
    {
     "name": "stdout",
     "output_type": "stream",
     "text": [
      "Episode 100/100."
     ]
    },
    {
     "name": "stderr",
     "output_type": "stream",
     "text": [
      "\r",
      " 10%|████████                                                                         | 10/100 [00:00<00:07, 12.53it/s]"
     ]
    },
    {
     "name": "stdout",
     "output_type": "stream",
     "text": [
      "Episode 100/100."
     ]
    },
    {
     "name": "stderr",
     "output_type": "stream",
     "text": [
      "\r",
      " 12%|█████████▋                                                                       | 12/100 [00:00<00:07, 12.38it/s]"
     ]
    },
    {
     "name": "stdout",
     "output_type": "stream",
     "text": [
      "Episode 100/100."
     ]
    },
    {
     "name": "stderr",
     "output_type": "stream",
     "text": [
      "\r",
      " 14%|███████████▎                                                                     | 14/100 [00:01<00:06, 12.52it/s]"
     ]
    },
    {
     "name": "stdout",
     "output_type": "stream",
     "text": [
      "Episode 100/100."
     ]
    },
    {
     "name": "stderr",
     "output_type": "stream",
     "text": [
      "\r",
      " 16%|████████████▉                                                                    | 16/100 [00:01<00:07, 11.98it/s]"
     ]
    },
    {
     "name": "stdout",
     "output_type": "stream",
     "text": [
      "Episode 100/100."
     ]
    },
    {
     "name": "stderr",
     "output_type": "stream",
     "text": [
      "\r",
      " 18%|██████████████▌                                                                  | 18/100 [00:01<00:06, 12.61it/s]"
     ]
    },
    {
     "name": "stdout",
     "output_type": "stream",
     "text": [
      "Episode 100/100."
     ]
    },
    {
     "name": "stderr",
     "output_type": "stream",
     "text": [
      "\r",
      " 20%|████████████████▏                                                                | 20/100 [00:01<00:06, 12.46it/s]"
     ]
    },
    {
     "name": "stdout",
     "output_type": "stream",
     "text": [
      "Episode 100/100."
     ]
    },
    {
     "name": "stderr",
     "output_type": "stream",
     "text": [
      "\r",
      " 22%|█████████████████▊                                                               | 22/100 [00:01<00:06, 12.14it/s]"
     ]
    },
    {
     "name": "stdout",
     "output_type": "stream",
     "text": [
      "Episode 100/100."
     ]
    },
    {
     "name": "stderr",
     "output_type": "stream",
     "text": [
      "\r",
      " 24%|███████████████████▍                                                             | 24/100 [00:01<00:06, 12.11it/s]"
     ]
    },
    {
     "name": "stdout",
     "output_type": "stream",
     "text": [
      "Episode 100/100."
     ]
    },
    {
     "name": "stderr",
     "output_type": "stream",
     "text": [
      "\r",
      " 26%|█████████████████████                                                            | 26/100 [00:02<00:05, 12.35it/s]"
     ]
    },
    {
     "name": "stdout",
     "output_type": "stream",
     "text": [
      "Episode 100/100."
     ]
    },
    {
     "name": "stderr",
     "output_type": "stream",
     "text": [
      "\r",
      " 28%|██████████████████████▋                                                          | 28/100 [00:02<00:05, 12.12it/s]"
     ]
    },
    {
     "name": "stdout",
     "output_type": "stream",
     "text": [
      "Episode 100/100."
     ]
    },
    {
     "name": "stderr",
     "output_type": "stream",
     "text": [
      "\r",
      " 30%|████████████████████████▎                                                        | 30/100 [00:02<00:05, 12.22it/s]"
     ]
    },
    {
     "name": "stdout",
     "output_type": "stream",
     "text": [
      "Episode 100/100."
     ]
    },
    {
     "name": "stderr",
     "output_type": "stream",
     "text": [
      "\r",
      " 32%|█████████████████████████▉                                                       | 32/100 [00:02<00:05, 12.23it/s]"
     ]
    },
    {
     "name": "stdout",
     "output_type": "stream",
     "text": [
      "Episode 100/100."
     ]
    },
    {
     "name": "stderr",
     "output_type": "stream",
     "text": [
      "\r",
      " 34%|███████████████████████████▌                                                     | 34/100 [00:02<00:05, 12.58it/s]"
     ]
    },
    {
     "name": "stdout",
     "output_type": "stream",
     "text": [
      "Episode 100/100."
     ]
    },
    {
     "name": "stderr",
     "output_type": "stream",
     "text": [
      "\r",
      " 36%|█████████████████████████████▏                                                   | 36/100 [00:02<00:05, 12.58it/s]"
     ]
    },
    {
     "name": "stdout",
     "output_type": "stream",
     "text": [
      "Episode 100/100."
     ]
    },
    {
     "name": "stderr",
     "output_type": "stream",
     "text": [
      "\r",
      " 38%|██████████████████████████████▊                                                  | 38/100 [00:03<00:04, 12.46it/s]"
     ]
    },
    {
     "name": "stdout",
     "output_type": "stream",
     "text": [
      "Episode 100/100."
     ]
    },
    {
     "name": "stderr",
     "output_type": "stream",
     "text": [
      "\r",
      " 40%|████████████████████████████████▍                                                | 40/100 [00:03<00:04, 12.02it/s]"
     ]
    },
    {
     "name": "stdout",
     "output_type": "stream",
     "text": [
      "Episode 100/100."
     ]
    },
    {
     "name": "stderr",
     "output_type": "stream",
     "text": [
      "\r",
      " 42%|██████████████████████████████████                                               | 42/100 [00:03<00:04, 12.02it/s]"
     ]
    },
    {
     "name": "stdout",
     "output_type": "stream",
     "text": [
      "Episode 100/100."
     ]
    },
    {
     "name": "stderr",
     "output_type": "stream",
     "text": [
      "\r",
      " 44%|███████████████████████████████████▋                                             | 44/100 [00:03<00:04, 12.05it/s]"
     ]
    },
    {
     "name": "stdout",
     "output_type": "stream",
     "text": [
      "Episode 100/100."
     ]
    },
    {
     "name": "stderr",
     "output_type": "stream",
     "text": [
      "\r",
      " 46%|█████████████████████████████████████▎                                           | 46/100 [00:03<00:04, 12.09it/s]"
     ]
    },
    {
     "name": "stdout",
     "output_type": "stream",
     "text": [
      "Episode 100/100."
     ]
    },
    {
     "name": "stderr",
     "output_type": "stream",
     "text": [
      "\r",
      " 48%|██████████████████████████████████████▉                                          | 48/100 [00:03<00:04, 11.77it/s]"
     ]
    },
    {
     "name": "stdout",
     "output_type": "stream",
     "text": [
      "Episode 100/100."
     ]
    },
    {
     "name": "stderr",
     "output_type": "stream",
     "text": [
      "\r",
      " 50%|████████████████████████████████████████▌                                        | 50/100 [00:04<00:04, 11.63it/s]"
     ]
    },
    {
     "name": "stdout",
     "output_type": "stream",
     "text": [
      "Episode 100/100."
     ]
    },
    {
     "name": "stderr",
     "output_type": "stream",
     "text": [
      "\r",
      " 52%|██████████████████████████████████████████                                       | 52/100 [00:04<00:03, 12.11it/s]"
     ]
    },
    {
     "name": "stdout",
     "output_type": "stream",
     "text": [
      "Episode 100/100."
     ]
    },
    {
     "name": "stderr",
     "output_type": "stream",
     "text": [
      "\r",
      " 54%|███████████████████████████████████████████▋                                     | 54/100 [00:04<00:03, 12.47it/s]"
     ]
    },
    {
     "name": "stdout",
     "output_type": "stream",
     "text": [
      "Episode 100/100."
     ]
    },
    {
     "name": "stderr",
     "output_type": "stream",
     "text": [
      "\r",
      " 56%|█████████████████████████████████████████████▎                                   | 56/100 [00:04<00:03, 12.44it/s]"
     ]
    },
    {
     "name": "stdout",
     "output_type": "stream",
     "text": [
      "Episode 100/100."
     ]
    },
    {
     "name": "stderr",
     "output_type": "stream",
     "text": [
      "\r",
      " 58%|██████████████████████████████████████████████▉                                  | 58/100 [00:04<00:03, 12.38it/s]"
     ]
    },
    {
     "name": "stdout",
     "output_type": "stream",
     "text": [
      "Episode 100/100."
     ]
    },
    {
     "name": "stderr",
     "output_type": "stream",
     "text": [
      "\r",
      " 60%|████████████████████████████████████████████████▌                                | 60/100 [00:04<00:03, 12.35it/s]"
     ]
    },
    {
     "name": "stdout",
     "output_type": "stream",
     "text": [
      "Episode 100/100."
     ]
    },
    {
     "name": "stderr",
     "output_type": "stream",
     "text": [
      "\r",
      " 62%|██████████████████████████████████████████████████▏                              | 62/100 [00:05<00:03, 12.47it/s]"
     ]
    },
    {
     "name": "stdout",
     "output_type": "stream",
     "text": [
      "Episode 100/100."
     ]
    },
    {
     "name": "stderr",
     "output_type": "stream",
     "text": [
      "\r",
      " 64%|███████████████████████████████████████████████████▊                             | 64/100 [00:05<00:02, 12.17it/s]"
     ]
    },
    {
     "name": "stdout",
     "output_type": "stream",
     "text": [
      "Episode 100/100."
     ]
    },
    {
     "name": "stderr",
     "output_type": "stream",
     "text": [
      "\r",
      " 66%|█████████████████████████████████████████████████████▍                           | 66/100 [00:05<00:02, 12.25it/s]"
     ]
    },
    {
     "name": "stdout",
     "output_type": "stream",
     "text": [
      "Episode 100/100."
     ]
    },
    {
     "name": "stderr",
     "output_type": "stream",
     "text": [
      "\r",
      " 68%|███████████████████████████████████████████████████████                          | 68/100 [00:05<00:02, 12.50it/s]"
     ]
    },
    {
     "name": "stdout",
     "output_type": "stream",
     "text": [
      "Episode 100/100."
     ]
    },
    {
     "name": "stderr",
     "output_type": "stream",
     "text": [
      "\r",
      " 70%|████████████████████████████████████████████████████████▋                        | 70/100 [00:05<00:02, 12.37it/s]"
     ]
    },
    {
     "name": "stdout",
     "output_type": "stream",
     "text": [
      "Episode 100/100."
     ]
    },
    {
     "name": "stderr",
     "output_type": "stream",
     "text": [
      "\r",
      " 72%|██████████████████████████████████████████████████████████▎                      | 72/100 [00:05<00:02, 12.28it/s]"
     ]
    },
    {
     "name": "stdout",
     "output_type": "stream",
     "text": [
      "Episode 100/100."
     ]
    },
    {
     "name": "stderr",
     "output_type": "stream",
     "text": [
      "\r",
      " 74%|███████████████████████████████████████████████████████████▉                     | 74/100 [00:06<00:02, 11.92it/s]"
     ]
    },
    {
     "name": "stdout",
     "output_type": "stream",
     "text": [
      "Episode 100/100."
     ]
    },
    {
     "name": "stderr",
     "output_type": "stream",
     "text": [
      "\r",
      " 76%|█████████████████████████████████████████████████████████████▌                   | 76/100 [00:06<00:02, 11.82it/s]"
     ]
    },
    {
     "name": "stdout",
     "output_type": "stream",
     "text": [
      "Episode 100/100."
     ]
    },
    {
     "name": "stderr",
     "output_type": "stream",
     "text": [
      "\r",
      " 78%|███████████████████████████████████████████████████████████████▏                 | 78/100 [00:06<00:01, 11.90it/s]"
     ]
    },
    {
     "name": "stdout",
     "output_type": "stream",
     "text": [
      "Episode 100/100."
     ]
    },
    {
     "name": "stderr",
     "output_type": "stream",
     "text": [
      "\r",
      " 80%|████████████████████████████████████████████████████████████████▊                | 80/100 [00:06<00:01, 11.85it/s]"
     ]
    },
    {
     "name": "stdout",
     "output_type": "stream",
     "text": [
      "Episode 100/100."
     ]
    },
    {
     "name": "stderr",
     "output_type": "stream",
     "text": [
      "\r",
      " 82%|██████████████████████████████████████████████████████████████████▍              | 82/100 [00:06<00:01, 11.87it/s]"
     ]
    },
    {
     "name": "stdout",
     "output_type": "stream",
     "text": [
      "Episode 100/100."
     ]
    },
    {
     "name": "stderr",
     "output_type": "stream",
     "text": [
      "\r",
      " 84%|████████████████████████████████████████████████████████████████████             | 84/100 [00:06<00:01, 12.11it/s]"
     ]
    },
    {
     "name": "stdout",
     "output_type": "stream",
     "text": [
      "Episode 100/100."
     ]
    },
    {
     "name": "stderr",
     "output_type": "stream",
     "text": [
      "\r",
      " 86%|█████████████████████████████████████████████████████████████████████▋           | 86/100 [00:07<00:01, 12.30it/s]"
     ]
    },
    {
     "name": "stdout",
     "output_type": "stream",
     "text": [
      "Episode 100/100."
     ]
    },
    {
     "name": "stderr",
     "output_type": "stream",
     "text": [
      "\r",
      " 88%|███████████████████████████████████████████████████████████████████████▎         | 88/100 [00:07<00:00, 12.09it/s]"
     ]
    },
    {
     "name": "stdout",
     "output_type": "stream",
     "text": [
      "Episode 100/100."
     ]
    },
    {
     "name": "stderr",
     "output_type": "stream",
     "text": [
      "\r",
      " 90%|████████████████████████████████████████████████████████████████████████▉        | 90/100 [00:07<00:00, 12.28it/s]"
     ]
    },
    {
     "name": "stdout",
     "output_type": "stream",
     "text": [
      "Episode 100/100."
     ]
    },
    {
     "name": "stderr",
     "output_type": "stream",
     "text": [
      "\r",
      " 92%|██████████████████████████████████████████████████████████████████████████▌      | 92/100 [00:07<00:00, 12.42it/s]"
     ]
    },
    {
     "name": "stdout",
     "output_type": "stream",
     "text": [
      "Episode 100/100."
     ]
    },
    {
     "name": "stderr",
     "output_type": "stream",
     "text": [
      "\r",
      " 94%|████████████████████████████████████████████████████████████████████████████▏    | 94/100 [00:07<00:00, 12.17it/s]"
     ]
    },
    {
     "name": "stdout",
     "output_type": "stream",
     "text": [
      "Episode 100/100."
     ]
    },
    {
     "name": "stderr",
     "output_type": "stream",
     "text": [
      "\r",
      " 96%|█████████████████████████████████████████████████████████████████████████████▊   | 96/100 [00:07<00:00, 12.02it/s]"
     ]
    },
    {
     "name": "stdout",
     "output_type": "stream",
     "text": [
      "Episode 100/100."
     ]
    },
    {
     "name": "stderr",
     "output_type": "stream",
     "text": [
      "\r",
      " 98%|███████████████████████████████████████████████████████████████████████████████▍ | 98/100 [00:08<00:00, 12.31it/s]"
     ]
    },
    {
     "name": "stdout",
     "output_type": "stream",
     "text": [
      "Episode 100/100."
     ]
    },
    {
     "name": "stderr",
     "output_type": "stream",
     "text": [
      "100%|████████████████████████████████████████████████████████████████████████████████| 100/100 [00:08<00:00, 12.21it/s]\n",
      "  0%|                                                                                          | 0/100 [00:00<?, ?it/s]"
     ]
    },
    {
     "name": "stdout",
     "output_type": "stream",
     "text": [
      "Episode 100/100."
     ]
    },
    {
     "name": "stderr",
     "output_type": "stream",
     "text": [
      "\r",
      "  2%|█▋                                                                                | 2/100 [00:00<00:08, 11.91it/s]"
     ]
    },
    {
     "name": "stdout",
     "output_type": "stream",
     "text": [
      "Episode 100/100."
     ]
    },
    {
     "name": "stderr",
     "output_type": "stream",
     "text": [
      "\r",
      "  4%|███▎                                                                              | 4/100 [00:00<00:07, 13.27it/s]"
     ]
    },
    {
     "name": "stdout",
     "output_type": "stream",
     "text": [
      "Episode 100/100."
     ]
    },
    {
     "name": "stderr",
     "output_type": "stream",
     "text": [
      "\r",
      "  6%|████▉                                                                             | 6/100 [00:00<00:07, 12.85it/s]"
     ]
    },
    {
     "name": "stdout",
     "output_type": "stream",
     "text": [
      "Episode 100/100."
     ]
    },
    {
     "name": "stderr",
     "output_type": "stream",
     "text": [
      "\r",
      "  8%|██████▌                                                                           | 8/100 [00:00<00:07, 12.87it/s]"
     ]
    },
    {
     "name": "stdout",
     "output_type": "stream",
     "text": [
      "Episode 100/100."
     ]
    },
    {
     "name": "stderr",
     "output_type": "stream",
     "text": [
      "\r",
      " 10%|████████                                                                         | 10/100 [00:00<00:07, 12.85it/s]"
     ]
    },
    {
     "name": "stdout",
     "output_type": "stream",
     "text": [
      "Episode 100/100."
     ]
    },
    {
     "name": "stderr",
     "output_type": "stream",
     "text": [
      "\r",
      " 12%|█████████▋                                                                       | 12/100 [00:00<00:06, 12.77it/s]"
     ]
    },
    {
     "name": "stdout",
     "output_type": "stream",
     "text": [
      "Episode 100/100."
     ]
    },
    {
     "name": "stderr",
     "output_type": "stream",
     "text": [
      "\r",
      " 14%|███████████▎                                                                     | 14/100 [00:01<00:06, 12.78it/s]"
     ]
    },
    {
     "name": "stdout",
     "output_type": "stream",
     "text": [
      "Episode 100/100."
     ]
    },
    {
     "name": "stderr",
     "output_type": "stream",
     "text": [
      "\r",
      " 16%|████████████▉                                                                    | 16/100 [00:01<00:06, 12.76it/s]"
     ]
    },
    {
     "name": "stdout",
     "output_type": "stream",
     "text": [
      "Episode 100/100."
     ]
    },
    {
     "name": "stderr",
     "output_type": "stream",
     "text": [
      "\r",
      " 18%|██████████████▌                                                                  | 18/100 [00:01<00:06, 13.00it/s]"
     ]
    },
    {
     "name": "stdout",
     "output_type": "stream",
     "text": [
      "Episode 100/100."
     ]
    },
    {
     "name": "stderr",
     "output_type": "stream",
     "text": [
      "\r",
      " 20%|████████████████▏                                                                | 20/100 [00:01<00:06, 12.91it/s]"
     ]
    },
    {
     "name": "stdout",
     "output_type": "stream",
     "text": [
      "Episode 100/100."
     ]
    },
    {
     "name": "stderr",
     "output_type": "stream",
     "text": [
      "\r",
      " 22%|█████████████████▊                                                               | 22/100 [00:01<00:06, 12.65it/s]"
     ]
    },
    {
     "name": "stdout",
     "output_type": "stream",
     "text": [
      "Episode 100/100."
     ]
    },
    {
     "name": "stderr",
     "output_type": "stream",
     "text": [
      "\r",
      " 24%|███████████████████▍                                                             | 24/100 [00:01<00:06, 12.55it/s]"
     ]
    },
    {
     "name": "stdout",
     "output_type": "stream",
     "text": [
      "Episode 100/100."
     ]
    },
    {
     "name": "stderr",
     "output_type": "stream",
     "text": [
      "\r",
      " 26%|█████████████████████                                                            | 26/100 [00:02<00:06, 11.92it/s]"
     ]
    },
    {
     "name": "stdout",
     "output_type": "stream",
     "text": [
      "Episode 100/100."
     ]
    },
    {
     "name": "stderr",
     "output_type": "stream",
     "text": [
      "\r",
      " 28%|██████████████████████▋                                                          | 28/100 [00:02<00:05, 12.11it/s]"
     ]
    },
    {
     "name": "stdout",
     "output_type": "stream",
     "text": [
      "Episode 100/100."
     ]
    },
    {
     "name": "stderr",
     "output_type": "stream",
     "text": [
      "\r",
      " 30%|████████████████████████▎                                                        | 30/100 [00:02<00:05, 12.08it/s]"
     ]
    },
    {
     "name": "stdout",
     "output_type": "stream",
     "text": [
      "Episode 100/100."
     ]
    },
    {
     "name": "stderr",
     "output_type": "stream",
     "text": [
      "\r",
      " 32%|█████████████████████████▉                                                       | 32/100 [00:02<00:05, 12.02it/s]"
     ]
    },
    {
     "name": "stdout",
     "output_type": "stream",
     "text": [
      "Episode 100/100."
     ]
    },
    {
     "name": "stderr",
     "output_type": "stream",
     "text": [
      "\r",
      " 34%|███████████████████████████▌                                                     | 34/100 [00:02<00:05, 11.77it/s]"
     ]
    },
    {
     "name": "stdout",
     "output_type": "stream",
     "text": [
      "Episode 100/100."
     ]
    },
    {
     "name": "stderr",
     "output_type": "stream",
     "text": [
      "\r",
      " 36%|█████████████████████████████▏                                                   | 36/100 [00:02<00:05, 12.18it/s]"
     ]
    },
    {
     "name": "stdout",
     "output_type": "stream",
     "text": [
      "Episode 100/100."
     ]
    },
    {
     "name": "stderr",
     "output_type": "stream",
     "text": [
      "\r",
      " 38%|██████████████████████████████▊                                                  | 38/100 [00:03<00:04, 12.50it/s]"
     ]
    },
    {
     "name": "stdout",
     "output_type": "stream",
     "text": [
      "Episode 100/100."
     ]
    },
    {
     "name": "stderr",
     "output_type": "stream",
     "text": [
      "\r",
      " 40%|████████████████████████████████▍                                                | 40/100 [00:03<00:04, 12.08it/s]"
     ]
    },
    {
     "name": "stdout",
     "output_type": "stream",
     "text": [
      "Episode 100/100."
     ]
    },
    {
     "name": "stderr",
     "output_type": "stream",
     "text": [
      "\r",
      " 42%|██████████████████████████████████                                               | 42/100 [00:03<00:04, 12.38it/s]"
     ]
    },
    {
     "name": "stdout",
     "output_type": "stream",
     "text": [
      "Episode 100/100."
     ]
    },
    {
     "name": "stderr",
     "output_type": "stream",
     "text": [
      "\r",
      " 44%|███████████████████████████████████▋                                             | 44/100 [00:03<00:04, 12.26it/s]"
     ]
    },
    {
     "name": "stdout",
     "output_type": "stream",
     "text": [
      "Episode 100/100."
     ]
    },
    {
     "name": "stderr",
     "output_type": "stream",
     "text": [
      "\r",
      " 46%|█████████████████████████████████████▎                                           | 46/100 [00:03<00:04, 12.32it/s]"
     ]
    },
    {
     "name": "stdout",
     "output_type": "stream",
     "text": [
      "Episode 100/100."
     ]
    },
    {
     "name": "stderr",
     "output_type": "stream",
     "text": [
      "\r",
      " 48%|██████████████████████████████████████▉                                          | 48/100 [00:03<00:04, 12.33it/s]"
     ]
    },
    {
     "name": "stdout",
     "output_type": "stream",
     "text": [
      "Episode 100/100."
     ]
    },
    {
     "name": "stderr",
     "output_type": "stream",
     "text": [
      "\r",
      " 50%|████████████████████████████████████████▌                                        | 50/100 [00:04<00:03, 12.58it/s]"
     ]
    },
    {
     "name": "stdout",
     "output_type": "stream",
     "text": [
      "Episode 100/100."
     ]
    },
    {
     "name": "stderr",
     "output_type": "stream",
     "text": [
      "\r",
      " 52%|██████████████████████████████████████████                                       | 52/100 [00:04<00:03, 12.84it/s]"
     ]
    },
    {
     "name": "stdout",
     "output_type": "stream",
     "text": [
      "Episode 100/100."
     ]
    },
    {
     "name": "stderr",
     "output_type": "stream",
     "text": [
      "\r",
      " 54%|███████████████████████████████████████████▋                                     | 54/100 [00:04<00:03, 12.63it/s]"
     ]
    },
    {
     "name": "stdout",
     "output_type": "stream",
     "text": [
      "Episode 100/100."
     ]
    },
    {
     "name": "stderr",
     "output_type": "stream",
     "text": [
      "\r",
      " 56%|█████████████████████████████████████████████▎                                   | 56/100 [00:04<00:03, 12.51it/s]"
     ]
    },
    {
     "name": "stdout",
     "output_type": "stream",
     "text": [
      "Episode 100/100."
     ]
    },
    {
     "name": "stderr",
     "output_type": "stream",
     "text": [
      "\r",
      " 58%|██████████████████████████████████████████████▉                                  | 58/100 [00:04<00:03, 12.20it/s]"
     ]
    },
    {
     "name": "stdout",
     "output_type": "stream",
     "text": [
      "Episode 100/100."
     ]
    },
    {
     "name": "stderr",
     "output_type": "stream",
     "text": [
      "\r",
      " 60%|████████████████████████████████████████████████▌                                | 60/100 [00:04<00:03, 12.15it/s]"
     ]
    },
    {
     "name": "stdout",
     "output_type": "stream",
     "text": [
      "Episode 100/100."
     ]
    },
    {
     "name": "stderr",
     "output_type": "stream",
     "text": [
      "\r",
      " 62%|██████████████████████████████████████████████████▏                              | 62/100 [00:05<00:03, 11.67it/s]"
     ]
    },
    {
     "name": "stdout",
     "output_type": "stream",
     "text": [
      "Episode 100/100."
     ]
    },
    {
     "name": "stderr",
     "output_type": "stream",
     "text": [
      "\r",
      " 64%|███████████████████████████████████████████████████▊                             | 64/100 [00:05<00:03, 11.62it/s]"
     ]
    },
    {
     "name": "stdout",
     "output_type": "stream",
     "text": [
      "Episode 100/100."
     ]
    },
    {
     "name": "stderr",
     "output_type": "stream",
     "text": [
      "\r",
      " 66%|█████████████████████████████████████████████████████▍                           | 66/100 [00:05<00:02, 12.02it/s]"
     ]
    },
    {
     "name": "stdout",
     "output_type": "stream",
     "text": [
      "Episode 100/100."
     ]
    },
    {
     "name": "stderr",
     "output_type": "stream",
     "text": [
      "\r",
      " 68%|███████████████████████████████████████████████████████                          | 68/100 [00:05<00:02, 12.28it/s]"
     ]
    },
    {
     "name": "stdout",
     "output_type": "stream",
     "text": [
      "Episode 100/100."
     ]
    },
    {
     "name": "stderr",
     "output_type": "stream",
     "text": [
      "\r",
      " 70%|████████████████████████████████████████████████████████▋                        | 70/100 [00:05<00:02, 12.69it/s]"
     ]
    },
    {
     "name": "stdout",
     "output_type": "stream",
     "text": [
      "Episode 100/100."
     ]
    },
    {
     "name": "stderr",
     "output_type": "stream",
     "text": [
      "\r",
      " 72%|██████████████████████████████████████████████████████████▎                      | 72/100 [00:05<00:02, 12.52it/s]"
     ]
    },
    {
     "name": "stdout",
     "output_type": "stream",
     "text": [
      "Episode 100/100."
     ]
    },
    {
     "name": "stderr",
     "output_type": "stream",
     "text": [
      "\r",
      " 74%|███████████████████████████████████████████████████████████▉                     | 74/100 [00:05<00:02, 12.74it/s]"
     ]
    },
    {
     "name": "stdout",
     "output_type": "stream",
     "text": [
      "Episode 100/100."
     ]
    },
    {
     "name": "stderr",
     "output_type": "stream",
     "text": [
      "\r",
      " 76%|█████████████████████████████████████████████████████████████▌                   | 76/100 [00:06<00:01, 12.67it/s]"
     ]
    },
    {
     "name": "stdout",
     "output_type": "stream",
     "text": [
      "Episode 100/100."
     ]
    },
    {
     "name": "stderr",
     "output_type": "stream",
     "text": [
      "\r",
      " 78%|███████████████████████████████████████████████████████████████▏                 | 78/100 [00:06<00:01, 12.50it/s]"
     ]
    },
    {
     "name": "stdout",
     "output_type": "stream",
     "text": [
      "Episode 100/100."
     ]
    },
    {
     "name": "stderr",
     "output_type": "stream",
     "text": [
      "\r",
      " 80%|████████████████████████████████████████████████████████████████▊                | 80/100 [00:06<00:01, 12.44it/s]"
     ]
    },
    {
     "name": "stdout",
     "output_type": "stream",
     "text": [
      "Episode 100/100."
     ]
    },
    {
     "name": "stderr",
     "output_type": "stream",
     "text": [
      "\r",
      " 82%|██████████████████████████████████████████████████████████████████▍              | 82/100 [00:06<00:01, 12.29it/s]"
     ]
    },
    {
     "name": "stdout",
     "output_type": "stream",
     "text": [
      "Episode 100/100."
     ]
    },
    {
     "name": "stderr",
     "output_type": "stream",
     "text": [
      "\r",
      " 84%|████████████████████████████████████████████████████████████████████             | 84/100 [00:06<00:01, 12.12it/s]"
     ]
    },
    {
     "name": "stdout",
     "output_type": "stream",
     "text": [
      "Episode 100/100."
     ]
    },
    {
     "name": "stderr",
     "output_type": "stream",
     "text": [
      "\r",
      " 86%|█████████████████████████████████████████████████████████████████████▋           | 86/100 [00:06<00:01, 12.01it/s]"
     ]
    },
    {
     "name": "stdout",
     "output_type": "stream",
     "text": [
      "Episode 100/100."
     ]
    },
    {
     "name": "stderr",
     "output_type": "stream",
     "text": [
      "\r",
      " 88%|███████████████████████████████████████████████████████████████████████▎         | 88/100 [00:07<00:00, 12.10it/s]"
     ]
    },
    {
     "name": "stdout",
     "output_type": "stream",
     "text": [
      "Episode 100/100."
     ]
    },
    {
     "name": "stderr",
     "output_type": "stream",
     "text": [
      "\r",
      " 90%|████████████████████████████████████████████████████████████████████████▉        | 90/100 [00:07<00:00, 12.36it/s]"
     ]
    },
    {
     "name": "stdout",
     "output_type": "stream",
     "text": [
      "Episode 100/100."
     ]
    },
    {
     "name": "stderr",
     "output_type": "stream",
     "text": [
      "\r",
      " 92%|██████████████████████████████████████████████████████████████████████████▌      | 92/100 [00:07<00:00, 11.98it/s]"
     ]
    },
    {
     "name": "stdout",
     "output_type": "stream",
     "text": [
      "Episode 100/100."
     ]
    },
    {
     "name": "stderr",
     "output_type": "stream",
     "text": [
      "\r",
      " 94%|████████████████████████████████████████████████████████████████████████████▏    | 94/100 [00:07<00:00, 11.84it/s]"
     ]
    },
    {
     "name": "stdout",
     "output_type": "stream",
     "text": [
      "Episode 100/100."
     ]
    },
    {
     "name": "stderr",
     "output_type": "stream",
     "text": [
      "\r",
      " 96%|█████████████████████████████████████████████████████████████████████████████▊   | 96/100 [00:07<00:00, 12.06it/s]"
     ]
    },
    {
     "name": "stdout",
     "output_type": "stream",
     "text": [
      "Episode 100/100."
     ]
    },
    {
     "name": "stderr",
     "output_type": "stream",
     "text": [
      "\r",
      " 98%|███████████████████████████████████████████████████████████████████████████████▍ | 98/100 [00:07<00:00, 11.98it/s]"
     ]
    },
    {
     "name": "stdout",
     "output_type": "stream",
     "text": [
      "Episode 100/100."
     ]
    },
    {
     "name": "stderr",
     "output_type": "stream",
     "text": [
      "100%|████████████████████████████████████████████████████████████████████████████████| 100/100 [00:08<00:00, 12.31it/s]\n",
      "  0%|                                                                                          | 0/100 [00:00<?, ?it/s]"
     ]
    },
    {
     "name": "stdout",
     "output_type": "stream",
     "text": [
      "Episode 100/100."
     ]
    },
    {
     "name": "stderr",
     "output_type": "stream",
     "text": [
      "\r",
      "  2%|█▋                                                                                | 2/100 [00:00<00:08, 12.03it/s]"
     ]
    },
    {
     "name": "stdout",
     "output_type": "stream",
     "text": [
      "Episode 100/100."
     ]
    },
    {
     "name": "stderr",
     "output_type": "stream",
     "text": [
      "\r",
      "  4%|███▎                                                                              | 4/100 [00:00<00:07, 12.57it/s]"
     ]
    },
    {
     "name": "stdout",
     "output_type": "stream",
     "text": [
      "Episode 100/100."
     ]
    },
    {
     "name": "stderr",
     "output_type": "stream",
     "text": [
      "\r",
      "  6%|████▉                                                                             | 6/100 [00:00<00:07, 12.02it/s]"
     ]
    },
    {
     "name": "stdout",
     "output_type": "stream",
     "text": [
      "Episode 100/100."
     ]
    },
    {
     "name": "stderr",
     "output_type": "stream",
     "text": [
      "\r",
      "  8%|██████▌                                                                           | 8/100 [00:00<00:07, 12.39it/s]"
     ]
    },
    {
     "name": "stdout",
     "output_type": "stream",
     "text": [
      "Episode 100/100."
     ]
    },
    {
     "name": "stderr",
     "output_type": "stream",
     "text": [
      "\r",
      " 10%|████████                                                                         | 10/100 [00:00<00:07, 12.20it/s]"
     ]
    },
    {
     "name": "stdout",
     "output_type": "stream",
     "text": [
      "Episode 100/100."
     ]
    },
    {
     "name": "stderr",
     "output_type": "stream",
     "text": [
      "\r",
      " 12%|█████████▋                                                                       | 12/100 [00:00<00:07, 12.50it/s]"
     ]
    },
    {
     "name": "stdout",
     "output_type": "stream",
     "text": [
      "Episode 100/100."
     ]
    },
    {
     "name": "stderr",
     "output_type": "stream",
     "text": [
      "\r",
      " 14%|███████████▎                                                                     | 14/100 [00:01<00:06, 12.30it/s]"
     ]
    },
    {
     "name": "stdout",
     "output_type": "stream",
     "text": [
      "Episode 100/100."
     ]
    },
    {
     "name": "stderr",
     "output_type": "stream",
     "text": [
      "\r",
      " 16%|████████████▉                                                                    | 16/100 [00:01<00:07, 11.92it/s]"
     ]
    },
    {
     "name": "stdout",
     "output_type": "stream",
     "text": [
      "Episode 100/100."
     ]
    },
    {
     "name": "stderr",
     "output_type": "stream",
     "text": [
      "\r",
      " 18%|██████████████▌                                                                  | 18/100 [00:01<00:06, 11.73it/s]"
     ]
    },
    {
     "name": "stdout",
     "output_type": "stream",
     "text": [
      "Episode 100/100."
     ]
    },
    {
     "name": "stderr",
     "output_type": "stream",
     "text": [
      "\r",
      " 20%|████████████████▏                                                                | 20/100 [00:01<00:06, 12.01it/s]"
     ]
    },
    {
     "name": "stdout",
     "output_type": "stream",
     "text": [
      "Episode 100/100."
     ]
    },
    {
     "name": "stderr",
     "output_type": "stream",
     "text": [
      "\r",
      " 22%|█████████████████▊                                                               | 22/100 [00:01<00:06, 12.00it/s]"
     ]
    },
    {
     "name": "stdout",
     "output_type": "stream",
     "text": [
      "Episode 100/100."
     ]
    },
    {
     "name": "stderr",
     "output_type": "stream",
     "text": [
      "\r",
      " 24%|███████████████████▍                                                             | 24/100 [00:01<00:06, 12.22it/s]"
     ]
    },
    {
     "name": "stdout",
     "output_type": "stream",
     "text": [
      "Episode 100/100."
     ]
    },
    {
     "name": "stderr",
     "output_type": "stream",
     "text": [
      "\r",
      " 26%|█████████████████████                                                            | 26/100 [00:02<00:05, 12.37it/s]"
     ]
    },
    {
     "name": "stdout",
     "output_type": "stream",
     "text": [
      "Episode 100/100."
     ]
    },
    {
     "name": "stderr",
     "output_type": "stream",
     "text": [
      "\r",
      " 28%|██████████████████████▋                                                          | 28/100 [00:02<00:05, 12.35it/s]"
     ]
    },
    {
     "name": "stdout",
     "output_type": "stream",
     "text": [
      "Episode 100/100."
     ]
    },
    {
     "name": "stderr",
     "output_type": "stream",
     "text": [
      "\r",
      " 30%|████████████████████████▎                                                        | 30/100 [00:02<00:05, 12.14it/s]"
     ]
    },
    {
     "name": "stdout",
     "output_type": "stream",
     "text": [
      "Episode 100/100."
     ]
    },
    {
     "name": "stderr",
     "output_type": "stream",
     "text": [
      "\r",
      " 32%|█████████████████████████▉                                                       | 32/100 [00:02<00:05, 12.61it/s]"
     ]
    },
    {
     "name": "stdout",
     "output_type": "stream",
     "text": [
      "Episode 100/100."
     ]
    },
    {
     "name": "stderr",
     "output_type": "stream",
     "text": [
      "\r",
      " 34%|███████████████████████████▌                                                     | 34/100 [00:02<00:05, 12.84it/s]"
     ]
    },
    {
     "name": "stdout",
     "output_type": "stream",
     "text": [
      "Episode 100/100."
     ]
    },
    {
     "name": "stderr",
     "output_type": "stream",
     "text": [
      "\r",
      " 36%|█████████████████████████████▏                                                   | 36/100 [00:02<00:04, 13.10it/s]"
     ]
    },
    {
     "name": "stdout",
     "output_type": "stream",
     "text": [
      "Episode 100/100."
     ]
    },
    {
     "name": "stderr",
     "output_type": "stream",
     "text": [
      "\r",
      " 38%|██████████████████████████████▊                                                  | 38/100 [00:03<00:04, 13.26it/s]"
     ]
    },
    {
     "name": "stdout",
     "output_type": "stream",
     "text": [
      "Episode 100/100."
     ]
    },
    {
     "name": "stderr",
     "output_type": "stream",
     "text": [
      "\r",
      " 40%|████████████████████████████████▍                                                | 40/100 [00:03<00:04, 12.84it/s]"
     ]
    },
    {
     "name": "stdout",
     "output_type": "stream",
     "text": [
      "Episode 100/100."
     ]
    },
    {
     "name": "stderr",
     "output_type": "stream",
     "text": [
      "\r",
      " 42%|██████████████████████████████████                                               | 42/100 [00:03<00:04, 12.78it/s]"
     ]
    },
    {
     "name": "stdout",
     "output_type": "stream",
     "text": [
      "Episode 100/100."
     ]
    },
    {
     "name": "stderr",
     "output_type": "stream",
     "text": [
      "\r",
      " 44%|███████████████████████████████████▋                                             | 44/100 [00:03<00:04, 12.34it/s]"
     ]
    },
    {
     "name": "stdout",
     "output_type": "stream",
     "text": [
      "Episode 100/100."
     ]
    },
    {
     "name": "stderr",
     "output_type": "stream",
     "text": [
      "\r",
      " 46%|█████████████████████████████████████▎                                           | 46/100 [00:03<00:04, 12.58it/s]"
     ]
    },
    {
     "name": "stdout",
     "output_type": "stream",
     "text": [
      "Episode 100/100."
     ]
    },
    {
     "name": "stderr",
     "output_type": "stream",
     "text": [
      "\r",
      " 48%|██████████████████████████████████████▉                                          | 48/100 [00:03<00:04, 12.53it/s]"
     ]
    },
    {
     "name": "stdout",
     "output_type": "stream",
     "text": [
      "Episode 100/100."
     ]
    },
    {
     "name": "stderr",
     "output_type": "stream",
     "text": [
      "\r",
      " 50%|████████████████████████████████████████▌                                        | 50/100 [00:04<00:04, 11.91it/s]"
     ]
    },
    {
     "name": "stdout",
     "output_type": "stream",
     "text": [
      "Episode 100/100."
     ]
    },
    {
     "name": "stderr",
     "output_type": "stream",
     "text": [
      "\r",
      " 52%|██████████████████████████████████████████                                       | 52/100 [00:04<00:04, 11.94it/s]"
     ]
    },
    {
     "name": "stdout",
     "output_type": "stream",
     "text": [
      "Episode 100/100."
     ]
    },
    {
     "name": "stderr",
     "output_type": "stream",
     "text": [
      "\r",
      " 54%|███████████████████████████████████████████▋                                     | 54/100 [00:04<00:03, 12.21it/s]"
     ]
    },
    {
     "name": "stdout",
     "output_type": "stream",
     "text": [
      "Episode 100/100."
     ]
    },
    {
     "name": "stderr",
     "output_type": "stream",
     "text": [
      "\r",
      " 56%|█████████████████████████████████████████████▎                                   | 56/100 [00:04<00:03, 11.81it/s]"
     ]
    },
    {
     "name": "stdout",
     "output_type": "stream",
     "text": [
      "Episode 100/100."
     ]
    },
    {
     "name": "stderr",
     "output_type": "stream",
     "text": [
      "\r",
      " 58%|██████████████████████████████████████████████▉                                  | 58/100 [00:04<00:03, 11.22it/s]"
     ]
    },
    {
     "name": "stdout",
     "output_type": "stream",
     "text": [
      "Episode 100/100."
     ]
    },
    {
     "name": "stderr",
     "output_type": "stream",
     "text": [
      "\r",
      " 60%|████████████████████████████████████████████████▌                                | 60/100 [00:04<00:03, 11.34it/s]"
     ]
    },
    {
     "name": "stdout",
     "output_type": "stream",
     "text": [
      "Episode 100/100."
     ]
    },
    {
     "name": "stderr",
     "output_type": "stream",
     "text": [
      "\r",
      " 62%|██████████████████████████████████████████████████▏                              | 62/100 [00:05<00:03, 11.72it/s]"
     ]
    },
    {
     "name": "stdout",
     "output_type": "stream",
     "text": [
      "Episode 100/100."
     ]
    },
    {
     "name": "stderr",
     "output_type": "stream",
     "text": [
      "\r",
      " 64%|███████████████████████████████████████████████████▊                             | 64/100 [00:05<00:02, 12.13it/s]"
     ]
    },
    {
     "name": "stdout",
     "output_type": "stream",
     "text": [
      "Episode 100/100."
     ]
    },
    {
     "name": "stderr",
     "output_type": "stream",
     "text": [
      "\r",
      " 66%|█████████████████████████████████████████████████████▍                           | 66/100 [00:05<00:02, 12.08it/s]"
     ]
    },
    {
     "name": "stdout",
     "output_type": "stream",
     "text": [
      "Episode 100/100."
     ]
    },
    {
     "name": "stderr",
     "output_type": "stream",
     "text": [
      "\r",
      " 68%|███████████████████████████████████████████████████████                          | 68/100 [00:05<00:02, 11.44it/s]"
     ]
    },
    {
     "name": "stdout",
     "output_type": "stream",
     "text": [
      "Episode 100/100."
     ]
    },
    {
     "name": "stderr",
     "output_type": "stream",
     "text": [
      "\r",
      " 70%|████████████████████████████████████████████████████████▋                        | 70/100 [00:05<00:02, 10.84it/s]"
     ]
    },
    {
     "name": "stdout",
     "output_type": "stream",
     "text": [
      "Episode 100/100."
     ]
    },
    {
     "name": "stderr",
     "output_type": "stream",
     "text": [
      "\r",
      " 72%|██████████████████████████████████████████████████████████▎                      | 72/100 [00:05<00:02, 11.02it/s]"
     ]
    },
    {
     "name": "stdout",
     "output_type": "stream",
     "text": [
      "Episode 100/100."
     ]
    },
    {
     "name": "stderr",
     "output_type": "stream",
     "text": [
      "\r",
      " 74%|███████████████████████████████████████████████████████████▉                     | 74/100 [00:06<00:02, 10.80it/s]"
     ]
    },
    {
     "name": "stdout",
     "output_type": "stream",
     "text": [
      "Episode 100/100."
     ]
    },
    {
     "name": "stderr",
     "output_type": "stream",
     "text": [
      "\r",
      " 76%|█████████████████████████████████████████████████████████████▌                   | 76/100 [00:06<00:02, 11.08it/s]"
     ]
    },
    {
     "name": "stdout",
     "output_type": "stream",
     "text": [
      "Episode 100/100."
     ]
    },
    {
     "name": "stderr",
     "output_type": "stream",
     "text": [
      "\r",
      " 78%|███████████████████████████████████████████████████████████████▏                 | 78/100 [00:06<00:01, 11.20it/s]"
     ]
    },
    {
     "name": "stdout",
     "output_type": "stream",
     "text": [
      "Episode 100/100."
     ]
    },
    {
     "name": "stderr",
     "output_type": "stream",
     "text": [
      "\r",
      " 80%|████████████████████████████████████████████████████████████████▊                | 80/100 [00:06<00:01, 11.01it/s]"
     ]
    },
    {
     "name": "stdout",
     "output_type": "stream",
     "text": [
      "Episode 100/100."
     ]
    },
    {
     "name": "stderr",
     "output_type": "stream",
     "text": [
      "\r",
      " 82%|██████████████████████████████████████████████████████████████████▍              | 82/100 [00:06<00:01, 10.70it/s]"
     ]
    },
    {
     "name": "stdout",
     "output_type": "stream",
     "text": [
      "Episode 100/100."
     ]
    },
    {
     "name": "stderr",
     "output_type": "stream",
     "text": [
      "\r",
      " 84%|████████████████████████████████████████████████████████████████████             | 84/100 [00:07<00:01, 10.82it/s]"
     ]
    },
    {
     "name": "stdout",
     "output_type": "stream",
     "text": [
      "Episode 100/100."
     ]
    },
    {
     "name": "stderr",
     "output_type": "stream",
     "text": [
      "\r",
      " 86%|█████████████████████████████████████████████████████████████████████▋           | 86/100 [00:07<00:01, 10.61it/s]"
     ]
    },
    {
     "name": "stdout",
     "output_type": "stream",
     "text": [
      "Episode 100/100."
     ]
    },
    {
     "name": "stderr",
     "output_type": "stream",
     "text": [
      "\r",
      " 88%|███████████████████████████████████████████████████████████████████████▎         | 88/100 [00:07<00:01, 10.66it/s]"
     ]
    },
    {
     "name": "stdout",
     "output_type": "stream",
     "text": [
      "Episode 100/100."
     ]
    },
    {
     "name": "stderr",
     "output_type": "stream",
     "text": [
      "\r",
      " 90%|████████████████████████████████████████████████████████████████████████▉        | 90/100 [00:07<00:00, 10.64it/s]"
     ]
    },
    {
     "name": "stdout",
     "output_type": "stream",
     "text": [
      "Episode 100/100."
     ]
    },
    {
     "name": "stderr",
     "output_type": "stream",
     "text": [
      "\r",
      " 92%|██████████████████████████████████████████████████████████████████████████▌      | 92/100 [00:07<00:00, 10.44it/s]"
     ]
    },
    {
     "name": "stdout",
     "output_type": "stream",
     "text": [
      "Episode 100/100."
     ]
    },
    {
     "name": "stderr",
     "output_type": "stream",
     "text": [
      "\r",
      " 94%|████████████████████████████████████████████████████████████████████████████▏    | 94/100 [00:08<00:00, 10.34it/s]"
     ]
    },
    {
     "name": "stdout",
     "output_type": "stream",
     "text": [
      "Episode 100/100."
     ]
    },
    {
     "name": "stderr",
     "output_type": "stream",
     "text": [
      "\r",
      " 96%|█████████████████████████████████████████████████████████████████████████████▊   | 96/100 [00:08<00:00, 10.39it/s]"
     ]
    },
    {
     "name": "stdout",
     "output_type": "stream",
     "text": [
      "Episode 100/100."
     ]
    },
    {
     "name": "stderr",
     "output_type": "stream",
     "text": [
      "\r",
      " 98%|███████████████████████████████████████████████████████████████████████████████▍ | 98/100 [00:08<00:00, 10.43it/s]"
     ]
    },
    {
     "name": "stdout",
     "output_type": "stream",
     "text": [
      "Episode 100/100."
     ]
    },
    {
     "name": "stderr",
     "output_type": "stream",
     "text": [
      "100%|████████████████████████████████████████████████████████████████████████████████| 100/100 [00:08<00:00, 11.62it/s]\n",
      "  0%|                                                                                          | 0/100 [00:00<?, ?it/s]"
     ]
    },
    {
     "name": "stdout",
     "output_type": "stream",
     "text": [
      "\r",
      "Episode 100/100."
     ]
    },
    {
     "name": "stderr",
     "output_type": "stream",
     "text": [
      "\r",
      "  1%|▊                                                                                 | 1/100 [00:00<00:12,  8.14it/s]"
     ]
    },
    {
     "name": "stdout",
     "output_type": "stream",
     "text": [
      "Episode 100/100."
     ]
    },
    {
     "name": "stderr",
     "output_type": "stream",
     "text": [
      "\r",
      "  3%|██▍                                                                               | 3/100 [00:00<00:09,  9.76it/s]"
     ]
    },
    {
     "name": "stdout",
     "output_type": "stream",
     "text": [
      "\r",
      "Episode 100/100."
     ]
    },
    {
     "name": "stderr",
     "output_type": "stream",
     "text": [
      "\r",
      "  4%|███▎                                                                              | 4/100 [00:00<00:10,  8.90it/s]"
     ]
    },
    {
     "name": "stdout",
     "output_type": "stream",
     "text": [
      "\r",
      "Episode 100/100."
     ]
    },
    {
     "name": "stderr",
     "output_type": "stream",
     "text": [
      "\r",
      "  5%|████                                                                              | 5/100 [00:00<00:10,  9.10it/s]"
     ]
    },
    {
     "name": "stdout",
     "output_type": "stream",
     "text": [
      "Episode 100/100."
     ]
    },
    {
     "name": "stderr",
     "output_type": "stream",
     "text": [
      "\r",
      "  7%|█████▋                                                                            | 7/100 [00:00<00:09,  9.65it/s]"
     ]
    },
    {
     "name": "stdout",
     "output_type": "stream",
     "text": [
      "\r",
      "Episode 100/100."
     ]
    },
    {
     "name": "stderr",
     "output_type": "stream",
     "text": [
      "\r",
      "  8%|██████▌                                                                           | 8/100 [00:00<00:10,  9.11it/s]"
     ]
    },
    {
     "name": "stdout",
     "output_type": "stream",
     "text": [
      "\r",
      "Episode 100/100."
     ]
    },
    {
     "name": "stderr",
     "output_type": "stream",
     "text": [
      "\r",
      "  9%|███████▍                                                                          | 9/100 [00:00<00:09,  9.23it/s]"
     ]
    },
    {
     "name": "stdout",
     "output_type": "stream",
     "text": [
      "Episode 100/100."
     ]
    },
    {
     "name": "stderr",
     "output_type": "stream",
     "text": [
      "\r",
      " 11%|████████▉                                                                        | 11/100 [00:01<00:09,  9.82it/s]"
     ]
    },
    {
     "name": "stdout",
     "output_type": "stream",
     "text": [
      "\r",
      "Episode 100/100."
     ]
    },
    {
     "name": "stderr",
     "output_type": "stream",
     "text": [
      "\r",
      " 12%|█████████▋                                                                       | 12/100 [00:01<00:09,  9.47it/s]"
     ]
    },
    {
     "name": "stdout",
     "output_type": "stream",
     "text": [
      "\r",
      "Episode 100/100."
     ]
    },
    {
     "name": "stderr",
     "output_type": "stream",
     "text": [
      "\r",
      " 13%|██████████▌                                                                      | 13/100 [00:01<00:09,  9.04it/s]"
     ]
    },
    {
     "name": "stdout",
     "output_type": "stream",
     "text": [
      "\r",
      "Episode 100/100."
     ]
    },
    {
     "name": "stderr",
     "output_type": "stream",
     "text": [
      "\r",
      " 14%|███████████▎                                                                     | 14/100 [00:01<00:09,  9.14it/s]"
     ]
    },
    {
     "name": "stdout",
     "output_type": "stream",
     "text": [
      "\r",
      "Episode 100/100."
     ]
    },
    {
     "name": "stderr",
     "output_type": "stream",
     "text": [
      "\r",
      " 15%|████████████▏                                                                    | 15/100 [00:01<00:09,  9.29it/s]"
     ]
    },
    {
     "name": "stdout",
     "output_type": "stream",
     "text": [
      "\r",
      "Episode 100/100."
     ]
    },
    {
     "name": "stderr",
     "output_type": "stream",
     "text": [
      "\r",
      " 16%|████████████▉                                                                    | 16/100 [00:01<00:09,  9.14it/s]"
     ]
    },
    {
     "name": "stdout",
     "output_type": "stream",
     "text": [
      "\r",
      "Episode 100/100."
     ]
    },
    {
     "name": "stderr",
     "output_type": "stream",
     "text": [
      "\r",
      " 17%|█████████████▊                                                                   | 17/100 [00:01<00:09,  9.10it/s]"
     ]
    },
    {
     "name": "stdout",
     "output_type": "stream",
     "text": [
      "\r",
      "Episode 100/100."
     ]
    },
    {
     "name": "stderr",
     "output_type": "stream",
     "text": [
      "\r",
      " 18%|██████████████▌                                                                  | 18/100 [00:01<00:09,  9.07it/s]"
     ]
    },
    {
     "name": "stdout",
     "output_type": "stream",
     "text": [
      "\r",
      "Episode 100/100."
     ]
    },
    {
     "name": "stderr",
     "output_type": "stream",
     "text": [
      "\r",
      " 19%|███████████████▍                                                                 | 19/100 [00:02<00:09,  8.70it/s]"
     ]
    },
    {
     "name": "stdout",
     "output_type": "stream",
     "text": [
      "\r",
      "Episode 100/100."
     ]
    },
    {
     "name": "stderr",
     "output_type": "stream",
     "text": [
      "\r",
      " 20%|████████████████▏                                                                | 20/100 [00:02<00:09,  8.55it/s]"
     ]
    },
    {
     "name": "stdout",
     "output_type": "stream",
     "text": [
      "Episode 100/100."
     ]
    },
    {
     "name": "stderr",
     "output_type": "stream",
     "text": [
      "\r",
      " 22%|█████████████████▊                                                               | 22/100 [00:02<00:08,  9.15it/s]"
     ]
    },
    {
     "name": "stdout",
     "output_type": "stream",
     "text": [
      "\r",
      "Episode 100/100."
     ]
    },
    {
     "name": "stderr",
     "output_type": "stream",
     "text": [
      "\r",
      " 23%|██████████████████▋                                                              | 23/100 [00:02<00:08,  9.17it/s]"
     ]
    },
    {
     "name": "stdout",
     "output_type": "stream",
     "text": [
      "\r",
      "Episode 100/100."
     ]
    },
    {
     "name": "stderr",
     "output_type": "stream",
     "text": [
      "\r",
      " 24%|███████████████████▍                                                             | 24/100 [00:02<00:08,  9.20it/s]"
     ]
    },
    {
     "name": "stdout",
     "output_type": "stream",
     "text": [
      "Episode 100/100."
     ]
    },
    {
     "name": "stderr",
     "output_type": "stream",
     "text": [
      "\r",
      " 26%|█████████████████████                                                            | 26/100 [00:02<00:07,  9.62it/s]"
     ]
    },
    {
     "name": "stdout",
     "output_type": "stream",
     "text": [
      "Episode 100/100."
     ]
    },
    {
     "name": "stderr",
     "output_type": "stream",
     "text": [
      "\r",
      " 28%|██████████████████████▋                                                          | 28/100 [00:02<00:06, 10.48it/s]"
     ]
    },
    {
     "name": "stdout",
     "output_type": "stream",
     "text": [
      "Episode 100/100."
     ]
    },
    {
     "name": "stderr",
     "output_type": "stream",
     "text": [
      "\r",
      " 30%|████████████████████████▎                                                        | 30/100 [00:03<00:06, 10.18it/s]"
     ]
    },
    {
     "name": "stdout",
     "output_type": "stream",
     "text": [
      "Episode 100/100."
     ]
    },
    {
     "name": "stderr",
     "output_type": "stream",
     "text": [
      "\r",
      " 32%|█████████████████████████▉                                                       | 32/100 [00:03<00:06, 10.18it/s]"
     ]
    },
    {
     "name": "stdout",
     "output_type": "stream",
     "text": [
      "Episode 100/100."
     ]
    },
    {
     "name": "stderr",
     "output_type": "stream",
     "text": [
      "\r",
      " 34%|███████████████████████████▌                                                     | 34/100 [00:03<00:06, 10.59it/s]"
     ]
    },
    {
     "name": "stdout",
     "output_type": "stream",
     "text": [
      "Episode 100/100."
     ]
    },
    {
     "name": "stderr",
     "output_type": "stream",
     "text": [
      "\r",
      " 36%|█████████████████████████████▏                                                   | 36/100 [00:03<00:05, 10.69it/s]"
     ]
    },
    {
     "name": "stdout",
     "output_type": "stream",
     "text": [
      "Episode 100/100."
     ]
    },
    {
     "name": "stderr",
     "output_type": "stream",
     "text": [
      "\r",
      " 38%|██████████████████████████████▊                                                  | 38/100 [00:03<00:05, 10.94it/s]"
     ]
    },
    {
     "name": "stdout",
     "output_type": "stream",
     "text": [
      "Episode 100/100."
     ]
    },
    {
     "name": "stderr",
     "output_type": "stream",
     "text": [
      "\r",
      " 40%|████████████████████████████████▍                                                | 40/100 [00:04<00:05, 10.88it/s]"
     ]
    },
    {
     "name": "stdout",
     "output_type": "stream",
     "text": [
      "Episode 100/100."
     ]
    },
    {
     "name": "stderr",
     "output_type": "stream",
     "text": [
      "\r",
      " 42%|██████████████████████████████████                                               | 42/100 [00:04<00:05, 10.52it/s]"
     ]
    },
    {
     "name": "stdout",
     "output_type": "stream",
     "text": [
      "Episode 100/100."
     ]
    },
    {
     "name": "stderr",
     "output_type": "stream",
     "text": [
      "\r",
      " 44%|███████████████████████████████████▋                                             | 44/100 [00:04<00:05, 10.37it/s]"
     ]
    },
    {
     "name": "stdout",
     "output_type": "stream",
     "text": [
      "Episode 100/100."
     ]
    },
    {
     "name": "stderr",
     "output_type": "stream",
     "text": [
      "\r",
      " 46%|█████████████████████████████████████▎                                           | 46/100 [00:04<00:05, 10.18it/s]"
     ]
    },
    {
     "name": "stdout",
     "output_type": "stream",
     "text": [
      "Episode 100/100."
     ]
    },
    {
     "name": "stderr",
     "output_type": "stream",
     "text": [
      "\r",
      " 48%|██████████████████████████████████████▉                                          | 48/100 [00:04<00:04, 10.43it/s]"
     ]
    },
    {
     "name": "stdout",
     "output_type": "stream",
     "text": [
      "Episode 100/100."
     ]
    },
    {
     "name": "stderr",
     "output_type": "stream",
     "text": [
      "\r",
      " 50%|████████████████████████████████████████▌                                        | 50/100 [00:05<00:04, 10.40it/s]"
     ]
    },
    {
     "name": "stdout",
     "output_type": "stream",
     "text": [
      "Episode 100/100."
     ]
    },
    {
     "name": "stderr",
     "output_type": "stream",
     "text": [
      "\r",
      " 52%|██████████████████████████████████████████                                       | 52/100 [00:05<00:04, 10.08it/s]"
     ]
    },
    {
     "name": "stdout",
     "output_type": "stream",
     "text": [
      "Episode 100/100."
     ]
    },
    {
     "name": "stderr",
     "output_type": "stream",
     "text": [
      "\r",
      " 54%|███████████████████████████████████████████▋                                     | 54/100 [00:05<00:04, 10.25it/s]"
     ]
    },
    {
     "name": "stdout",
     "output_type": "stream",
     "text": [
      "Episode 100/100."
     ]
    },
    {
     "name": "stderr",
     "output_type": "stream",
     "text": [
      "\r",
      " 56%|█████████████████████████████████████████████▎                                   | 56/100 [00:05<00:04,  9.77it/s]"
     ]
    },
    {
     "name": "stdout",
     "output_type": "stream",
     "text": [
      "\r",
      "Episode 100/100."
     ]
    },
    {
     "name": "stderr",
     "output_type": "stream",
     "text": [
      "\r",
      " 57%|██████████████████████████████████████████████▏                                  | 57/100 [00:05<00:04,  9.52it/s]"
     ]
    },
    {
     "name": "stdout",
     "output_type": "stream",
     "text": [
      "Episode 100/100."
     ]
    },
    {
     "name": "stderr",
     "output_type": "stream",
     "text": [
      "\r",
      " 59%|███████████████████████████████████████████████▊                                 | 59/100 [00:06<00:04,  9.73it/s]"
     ]
    },
    {
     "name": "stdout",
     "output_type": "stream",
     "text": [
      "\r",
      "Episode 100/100."
     ]
    },
    {
     "name": "stderr",
     "output_type": "stream",
     "text": [
      "\r",
      " 60%|████████████████████████████████████████████████▌                                | 60/100 [00:06<00:04,  9.76it/s]"
     ]
    },
    {
     "name": "stdout",
     "output_type": "stream",
     "text": [
      "\r",
      "Episode 100/100."
     ]
    },
    {
     "name": "stderr",
     "output_type": "stream",
     "text": [
      "\r",
      " 61%|█████████████████████████████████████████████████▍                               | 61/100 [00:06<00:03,  9.80it/s]"
     ]
    },
    {
     "name": "stdout",
     "output_type": "stream",
     "text": [
      "\r",
      "Episode 100/100."
     ]
    },
    {
     "name": "stderr",
     "output_type": "stream",
     "text": [
      "\r",
      " 62%|██████████████████████████████████████████████████▏                              | 62/100 [00:06<00:03,  9.72it/s]"
     ]
    },
    {
     "name": "stdout",
     "output_type": "stream",
     "text": [
      "\r",
      "Episode 100/100."
     ]
    },
    {
     "name": "stderr",
     "output_type": "stream",
     "text": [
      "\r",
      " 63%|███████████████████████████████████████████████████                              | 63/100 [00:06<00:03,  9.72it/s]"
     ]
    },
    {
     "name": "stdout",
     "output_type": "stream",
     "text": [
      "Episode 100/100."
     ]
    },
    {
     "name": "stderr",
     "output_type": "stream",
     "text": [
      "\r",
      " 65%|████████████████████████████████████████████████████▋                            | 65/100 [00:06<00:03, 10.49it/s]"
     ]
    },
    {
     "name": "stdout",
     "output_type": "stream",
     "text": [
      "Episode 100/100."
     ]
    },
    {
     "name": "stderr",
     "output_type": "stream",
     "text": [
      "\r",
      " 67%|██████████████████████████████████████████████████████▎                          | 67/100 [00:06<00:03, 10.20it/s]"
     ]
    },
    {
     "name": "stdout",
     "output_type": "stream",
     "text": [
      "Episode 100/100."
     ]
    },
    {
     "name": "stderr",
     "output_type": "stream",
     "text": [
      "\r",
      " 69%|███████████████████████████████████████████████████████▉                         | 69/100 [00:07<00:03, 10.01it/s]"
     ]
    },
    {
     "name": "stdout",
     "output_type": "stream",
     "text": [
      "Episode 100/100."
     ]
    },
    {
     "name": "stderr",
     "output_type": "stream",
     "text": [
      "\r",
      " 71%|█████████████████████████████████████████████████████████▌                       | 71/100 [00:07<00:02, 10.16it/s]"
     ]
    },
    {
     "name": "stdout",
     "output_type": "stream",
     "text": [
      "Episode 100/100."
     ]
    },
    {
     "name": "stderr",
     "output_type": "stream",
     "text": [
      "\r",
      " 73%|███████████████████████████████████████████████████████████▏                     | 73/100 [00:07<00:02, 10.11it/s]"
     ]
    },
    {
     "name": "stdout",
     "output_type": "stream",
     "text": [
      "Episode 100/100."
     ]
    },
    {
     "name": "stderr",
     "output_type": "stream",
     "text": [
      "\r",
      " 75%|████████████████████████████████████████████████████████████▊                    | 75/100 [00:07<00:02, 10.32it/s]"
     ]
    },
    {
     "name": "stdout",
     "output_type": "stream",
     "text": [
      "Episode 100/100."
     ]
    },
    {
     "name": "stderr",
     "output_type": "stream",
     "text": [
      "\r",
      " 77%|██████████████████████████████████████████████████████████████▎                  | 77/100 [00:07<00:02,  9.95it/s]"
     ]
    },
    {
     "name": "stdout",
     "output_type": "stream",
     "text": [
      "\r",
      "Episode 100/100."
     ]
    },
    {
     "name": "stderr",
     "output_type": "stream",
     "text": [
      "\r",
      " 78%|███████████████████████████████████████████████████████████████▏                 | 78/100 [00:07<00:02,  9.67it/s]"
     ]
    },
    {
     "name": "stdout",
     "output_type": "stream",
     "text": [
      "\r",
      "Episode 100/100."
     ]
    },
    {
     "name": "stderr",
     "output_type": "stream",
     "text": [
      "\r",
      " 79%|███████████████████████████████████████████████████████████████▉                 | 79/100 [00:08<00:02,  9.45it/s]"
     ]
    },
    {
     "name": "stdout",
     "output_type": "stream",
     "text": [
      "\r",
      "Episode 100/100."
     ]
    },
    {
     "name": "stderr",
     "output_type": "stream",
     "text": [
      "\r",
      " 80%|████████████████████████████████████████████████████████████████▊                | 80/100 [00:08<00:02,  9.53it/s]"
     ]
    },
    {
     "name": "stdout",
     "output_type": "stream",
     "text": [
      "\r",
      "Episode 100/100."
     ]
    },
    {
     "name": "stderr",
     "output_type": "stream",
     "text": [
      "\r",
      " 81%|█████████████████████████████████████████████████████████████████▌               | 81/100 [00:08<00:02,  9.33it/s]"
     ]
    },
    {
     "name": "stdout",
     "output_type": "stream",
     "text": [
      "Episode 100/100."
     ]
    },
    {
     "name": "stderr",
     "output_type": "stream",
     "text": [
      "\r",
      " 83%|███████████████████████████████████████████████████████████████████▏             | 83/100 [00:08<00:01,  9.51it/s]"
     ]
    },
    {
     "name": "stdout",
     "output_type": "stream",
     "text": [
      "\r",
      "Episode 100/100."
     ]
    },
    {
     "name": "stderr",
     "output_type": "stream",
     "text": [
      "\r",
      " 84%|████████████████████████████████████████████████████████████████████             | 84/100 [00:08<00:01,  9.17it/s]"
     ]
    },
    {
     "name": "stdout",
     "output_type": "stream",
     "text": [
      "Episode 100/100."
     ]
    },
    {
     "name": "stderr",
     "output_type": "stream",
     "text": [
      "\r",
      " 86%|█████████████████████████████████████████████████████████████████████▋           | 86/100 [00:08<00:01,  9.93it/s]"
     ]
    },
    {
     "name": "stdout",
     "output_type": "stream",
     "text": [
      "\r",
      "Episode 100/100."
     ]
    },
    {
     "name": "stderr",
     "output_type": "stream",
     "text": [
      "\r",
      " 87%|██████████████████████████████████████████████████████████████████████▍          | 87/100 [00:08<00:01,  9.92it/s]"
     ]
    },
    {
     "name": "stdout",
     "output_type": "stream",
     "text": [
      "\r",
      "Episode 100/100."
     ]
    },
    {
     "name": "stderr",
     "output_type": "stream",
     "text": [
      "\r",
      " 88%|███████████████████████████████████████████████████████████████████████▎         | 88/100 [00:08<00:01,  9.74it/s]"
     ]
    },
    {
     "name": "stdout",
     "output_type": "stream",
     "text": [
      "Episode 100/100."
     ]
    },
    {
     "name": "stderr",
     "output_type": "stream",
     "text": [
      "\r",
      " 90%|████████████████████████████████████████████████████████████████████████▉        | 90/100 [00:09<00:00, 10.40it/s]"
     ]
    },
    {
     "name": "stdout",
     "output_type": "stream",
     "text": [
      "Episode 100/100."
     ]
    },
    {
     "name": "stderr",
     "output_type": "stream",
     "text": [
      "\r",
      " 92%|██████████████████████████████████████████████████████████████████████████▌      | 92/100 [00:09<00:00, 10.98it/s]"
     ]
    },
    {
     "name": "stdout",
     "output_type": "stream",
     "text": [
      "Episode 100/100."
     ]
    },
    {
     "name": "stderr",
     "output_type": "stream",
     "text": [
      "\r",
      " 94%|████████████████████████████████████████████████████████████████████████████▏    | 94/100 [00:09<00:00, 10.58it/s]"
     ]
    },
    {
     "name": "stdout",
     "output_type": "stream",
     "text": [
      "Episode 100/100."
     ]
    },
    {
     "name": "stderr",
     "output_type": "stream",
     "text": [
      "\r",
      " 96%|█████████████████████████████████████████████████████████████████████████████▊   | 96/100 [00:09<00:00, 10.58it/s]"
     ]
    },
    {
     "name": "stdout",
     "output_type": "stream",
     "text": [
      "Episode 100/100."
     ]
    },
    {
     "name": "stderr",
     "output_type": "stream",
     "text": [
      "\r",
      " 98%|███████████████████████████████████████████████████████████████████████████████▍ | 98/100 [00:09<00:00, 11.15it/s]"
     ]
    },
    {
     "name": "stdout",
     "output_type": "stream",
     "text": [
      "Episode 100/100."
     ]
    },
    {
     "name": "stderr",
     "output_type": "stream",
     "text": [
      "100%|████████████████████████████████████████████████████████████████████████████████| 100/100 [00:10<00:00,  9.95it/s]\n",
      "  0%|                                                                                          | 0/100 [00:00<?, ?it/s]"
     ]
    },
    {
     "name": "stdout",
     "output_type": "stream",
     "text": [
      "\r",
      "Episode 100/100."
     ]
    },
    {
     "name": "stderr",
     "output_type": "stream",
     "text": [
      "\r",
      "  1%|▊                                                                                 | 1/100 [00:00<00:10,  9.52it/s]"
     ]
    },
    {
     "name": "stdout",
     "output_type": "stream",
     "text": [
      "\r",
      "Episode 100/100."
     ]
    },
    {
     "name": "stderr",
     "output_type": "stream",
     "text": [
      "\r",
      "  2%|█▋                                                                                | 2/100 [00:00<00:10,  9.32it/s]"
     ]
    },
    {
     "name": "stdout",
     "output_type": "stream",
     "text": [
      "\r",
      "Episode 100/100."
     ]
    },
    {
     "name": "stderr",
     "output_type": "stream",
     "text": [
      "\r",
      "  3%|██▍                                                                               | 3/100 [00:00<00:10,  9.61it/s]"
     ]
    },
    {
     "name": "stdout",
     "output_type": "stream",
     "text": [
      "Episode 100/100."
     ]
    },
    {
     "name": "stderr",
     "output_type": "stream",
     "text": [
      "\r",
      "  5%|████                                                                              | 5/100 [00:00<00:08, 10.94it/s]"
     ]
    },
    {
     "name": "stdout",
     "output_type": "stream",
     "text": [
      "Episode 100/100."
     ]
    },
    {
     "name": "stderr",
     "output_type": "stream",
     "text": [
      "\r",
      "  7%|█████▋                                                                            | 7/100 [00:00<00:08, 10.85it/s]"
     ]
    },
    {
     "name": "stdout",
     "output_type": "stream",
     "text": [
      "Episode 100/100."
     ]
    },
    {
     "name": "stderr",
     "output_type": "stream",
     "text": [
      "\r",
      "  9%|███████▍                                                                          | 9/100 [00:00<00:08, 10.98it/s]"
     ]
    },
    {
     "name": "stdout",
     "output_type": "stream",
     "text": [
      "Episode 100/100."
     ]
    },
    {
     "name": "stderr",
     "output_type": "stream",
     "text": [
      "\r",
      " 11%|████████▉                                                                        | 11/100 [00:01<00:07, 11.39it/s]"
     ]
    },
    {
     "name": "stdout",
     "output_type": "stream",
     "text": [
      "Episode 100/100."
     ]
    },
    {
     "name": "stderr",
     "output_type": "stream",
     "text": [
      "\r",
      " 13%|██████████▌                                                                      | 13/100 [00:01<00:07, 11.46it/s]"
     ]
    },
    {
     "name": "stdout",
     "output_type": "stream",
     "text": [
      "Episode 100/100."
     ]
    },
    {
     "name": "stderr",
     "output_type": "stream",
     "text": [
      "\r",
      " 15%|████████████▏                                                                    | 15/100 [00:01<00:07, 11.49it/s]"
     ]
    },
    {
     "name": "stdout",
     "output_type": "stream",
     "text": [
      "Episode 100/100."
     ]
    },
    {
     "name": "stderr",
     "output_type": "stream",
     "text": [
      "\r",
      " 17%|█████████████▊                                                                   | 17/100 [00:01<00:07, 11.41it/s]"
     ]
    },
    {
     "name": "stdout",
     "output_type": "stream",
     "text": [
      "Episode 100/100."
     ]
    },
    {
     "name": "stderr",
     "output_type": "stream",
     "text": [
      "\r",
      " 19%|███████████████▍                                                                 | 19/100 [00:01<00:07, 11.29it/s]"
     ]
    },
    {
     "name": "stdout",
     "output_type": "stream",
     "text": [
      "Episode 100/100."
     ]
    },
    {
     "name": "stderr",
     "output_type": "stream",
     "text": [
      "\r",
      " 21%|█████████████████                                                                | 21/100 [00:01<00:07, 10.85it/s]"
     ]
    },
    {
     "name": "stdout",
     "output_type": "stream",
     "text": [
      "Episode 100/100."
     ]
    },
    {
     "name": "stderr",
     "output_type": "stream",
     "text": [
      "\r",
      " 23%|██████████████████▋                                                              | 23/100 [00:02<00:06, 11.14it/s]"
     ]
    },
    {
     "name": "stdout",
     "output_type": "stream",
     "text": [
      "Episode 100/100."
     ]
    },
    {
     "name": "stderr",
     "output_type": "stream",
     "text": [
      "\r",
      " 25%|████████████████████▎                                                            | 25/100 [00:02<00:06, 11.65it/s]"
     ]
    },
    {
     "name": "stdout",
     "output_type": "stream",
     "text": [
      "Episode 100/100."
     ]
    },
    {
     "name": "stderr",
     "output_type": "stream",
     "text": [
      "\r",
      " 27%|█████████████████████▊                                                           | 27/100 [00:02<00:06, 11.61it/s]"
     ]
    },
    {
     "name": "stdout",
     "output_type": "stream",
     "text": [
      "Episode 100/100."
     ]
    },
    {
     "name": "stderr",
     "output_type": "stream",
     "text": [
      "\r",
      " 29%|███████████████████████▍                                                         | 29/100 [00:02<00:06, 10.81it/s]"
     ]
    },
    {
     "name": "stdout",
     "output_type": "stream",
     "text": [
      "Episode 100/100."
     ]
    },
    {
     "name": "stderr",
     "output_type": "stream",
     "text": [
      "\r",
      " 31%|█████████████████████████                                                        | 31/100 [00:02<00:06, 10.82it/s]"
     ]
    },
    {
     "name": "stdout",
     "output_type": "stream",
     "text": [
      "Episode 100/100."
     ]
    },
    {
     "name": "stderr",
     "output_type": "stream",
     "text": [
      "\r",
      " 33%|██████████████████████████▋                                                      | 33/100 [00:02<00:06, 11.09it/s]"
     ]
    },
    {
     "name": "stdout",
     "output_type": "stream",
     "text": [
      "Episode 100/100."
     ]
    },
    {
     "name": "stderr",
     "output_type": "stream",
     "text": [
      "\r",
      " 35%|████████████████████████████▎                                                    | 35/100 [00:03<00:05, 11.21it/s]"
     ]
    },
    {
     "name": "stdout",
     "output_type": "stream",
     "text": [
      "Episode 100/100."
     ]
    },
    {
     "name": "stderr",
     "output_type": "stream",
     "text": [
      "\r",
      " 37%|█████████████████████████████▉                                                   | 37/100 [00:03<00:05, 11.39it/s]"
     ]
    },
    {
     "name": "stdout",
     "output_type": "stream",
     "text": [
      "Episode 100/100."
     ]
    },
    {
     "name": "stderr",
     "output_type": "stream",
     "text": [
      "\r",
      " 39%|███████████████████████████████▌                                                 | 39/100 [00:03<00:05, 11.61it/s]"
     ]
    },
    {
     "name": "stdout",
     "output_type": "stream",
     "text": [
      "Episode 100/100."
     ]
    },
    {
     "name": "stderr",
     "output_type": "stream",
     "text": [
      "\r",
      " 41%|█████████████████████████████████▏                                               | 41/100 [00:03<00:05, 11.67it/s]"
     ]
    },
    {
     "name": "stdout",
     "output_type": "stream",
     "text": [
      "Episode 100/100."
     ]
    },
    {
     "name": "stderr",
     "output_type": "stream",
     "text": [
      "\r",
      " 43%|██████████████████████████████████▊                                              | 43/100 [00:03<00:04, 11.95it/s]"
     ]
    },
    {
     "name": "stdout",
     "output_type": "stream",
     "text": [
      "Episode 100/100."
     ]
    },
    {
     "name": "stderr",
     "output_type": "stream",
     "text": [
      "\r",
      " 45%|████████████████████████████████████▍                                            | 45/100 [00:03<00:04, 12.27it/s]"
     ]
    },
    {
     "name": "stdout",
     "output_type": "stream",
     "text": [
      "Episode 100/100."
     ]
    },
    {
     "name": "stderr",
     "output_type": "stream",
     "text": [
      "\r",
      " 47%|██████████████████████████████████████                                           | 47/100 [00:04<00:04, 12.32it/s]"
     ]
    },
    {
     "name": "stdout",
     "output_type": "stream",
     "text": [
      "Episode 100/100."
     ]
    },
    {
     "name": "stderr",
     "output_type": "stream",
     "text": [
      "\r",
      " 49%|███████████████████████████████████████▋                                         | 49/100 [00:04<00:04, 12.13it/s]"
     ]
    },
    {
     "name": "stdout",
     "output_type": "stream",
     "text": [
      "Episode 100/100."
     ]
    },
    {
     "name": "stderr",
     "output_type": "stream",
     "text": [
      "\r",
      " 51%|█████████████████████████████████████████▎                                       | 51/100 [00:04<00:03, 12.28it/s]"
     ]
    },
    {
     "name": "stdout",
     "output_type": "stream",
     "text": [
      "Episode 100/100."
     ]
    },
    {
     "name": "stderr",
     "output_type": "stream",
     "text": [
      "\r",
      " 53%|██████████████████████████████████████████▉                                      | 53/100 [00:04<00:03, 12.06it/s]"
     ]
    },
    {
     "name": "stdout",
     "output_type": "stream",
     "text": [
      "Episode 100/100."
     ]
    },
    {
     "name": "stderr",
     "output_type": "stream",
     "text": [
      "\r",
      " 55%|████████████████████████████████████████████▌                                    | 55/100 [00:04<00:03, 12.12it/s]"
     ]
    },
    {
     "name": "stdout",
     "output_type": "stream",
     "text": [
      "Episode 100/100."
     ]
    },
    {
     "name": "stderr",
     "output_type": "stream",
     "text": [
      "\r",
      " 57%|██████████████████████████████████████████████▏                                  | 57/100 [00:04<00:03, 12.35it/s]"
     ]
    },
    {
     "name": "stdout",
     "output_type": "stream",
     "text": [
      "Episode 100/100."
     ]
    },
    {
     "name": "stderr",
     "output_type": "stream",
     "text": [
      "\r",
      " 59%|███████████████████████████████████████████████▊                                 | 59/100 [00:05<00:03, 12.48it/s]"
     ]
    },
    {
     "name": "stdout",
     "output_type": "stream",
     "text": [
      "Episode 100/100."
     ]
    },
    {
     "name": "stderr",
     "output_type": "stream",
     "text": [
      "\r",
      " 61%|█████████████████████████████████████████████████▍                               | 61/100 [00:05<00:03, 12.20it/s]"
     ]
    },
    {
     "name": "stdout",
     "output_type": "stream",
     "text": [
      "Episode 100/100."
     ]
    },
    {
     "name": "stderr",
     "output_type": "stream",
     "text": [
      "\r",
      " 63%|███████████████████████████████████████████████████                              | 63/100 [00:05<00:03, 11.79it/s]"
     ]
    },
    {
     "name": "stdout",
     "output_type": "stream",
     "text": [
      "Episode 100/100."
     ]
    },
    {
     "name": "stderr",
     "output_type": "stream",
     "text": [
      "\r",
      " 65%|████████████████████████████████████████████████████▋                            | 65/100 [00:05<00:02, 11.95it/s]"
     ]
    },
    {
     "name": "stdout",
     "output_type": "stream",
     "text": [
      "Episode 100/100."
     ]
    },
    {
     "name": "stderr",
     "output_type": "stream",
     "text": [
      "\r",
      " 67%|██████████████████████████████████████████████████████▎                          | 67/100 [00:05<00:02, 12.15it/s]"
     ]
    },
    {
     "name": "stdout",
     "output_type": "stream",
     "text": [
      "Episode 100/100."
     ]
    },
    {
     "name": "stderr",
     "output_type": "stream",
     "text": [
      "\r",
      " 69%|███████████████████████████████████████████████████████▉                         | 69/100 [00:05<00:02, 11.85it/s]"
     ]
    },
    {
     "name": "stdout",
     "output_type": "stream",
     "text": [
      "Episode 100/100."
     ]
    },
    {
     "name": "stderr",
     "output_type": "stream",
     "text": [
      "\r",
      " 71%|█████████████████████████████████████████████████████████▌                       | 71/100 [00:06<00:02, 12.17it/s]"
     ]
    },
    {
     "name": "stdout",
     "output_type": "stream",
     "text": [
      "Episode 100/100."
     ]
    },
    {
     "name": "stderr",
     "output_type": "stream",
     "text": [
      "\r",
      " 73%|███████████████████████████████████████████████████████████▏                     | 73/100 [00:06<00:02, 11.88it/s]"
     ]
    },
    {
     "name": "stdout",
     "output_type": "stream",
     "text": [
      "Episode 100/100."
     ]
    },
    {
     "name": "stderr",
     "output_type": "stream",
     "text": [
      "\r",
      " 75%|████████████████████████████████████████████████████████████▊                    | 75/100 [00:06<00:02, 11.95it/s]"
     ]
    },
    {
     "name": "stdout",
     "output_type": "stream",
     "text": [
      "Episode 100/100."
     ]
    },
    {
     "name": "stderr",
     "output_type": "stream",
     "text": [
      "\r",
      " 77%|██████████████████████████████████████████████████████████████▎                  | 77/100 [00:06<00:01, 12.06it/s]"
     ]
    },
    {
     "name": "stdout",
     "output_type": "stream",
     "text": [
      "Episode 100/100."
     ]
    },
    {
     "name": "stderr",
     "output_type": "stream",
     "text": [
      "\r",
      " 79%|███████████████████████████████████████████████████████████████▉                 | 79/100 [00:06<00:01, 12.31it/s]"
     ]
    },
    {
     "name": "stdout",
     "output_type": "stream",
     "text": [
      "Episode 100/100."
     ]
    },
    {
     "name": "stderr",
     "output_type": "stream",
     "text": [
      "\r",
      " 81%|█████████████████████████████████████████████████████████████████▌               | 81/100 [00:06<00:01, 12.11it/s]"
     ]
    },
    {
     "name": "stdout",
     "output_type": "stream",
     "text": [
      "Episode 100/100."
     ]
    },
    {
     "name": "stderr",
     "output_type": "stream",
     "text": [
      "\r",
      " 83%|███████████████████████████████████████████████████████████████████▏             | 83/100 [00:07<00:01, 11.98it/s]"
     ]
    },
    {
     "name": "stdout",
     "output_type": "stream",
     "text": [
      "Episode 100/100."
     ]
    },
    {
     "name": "stderr",
     "output_type": "stream",
     "text": [
      "\r",
      " 85%|████████████████████████████████████████████████████████████████████▊            | 85/100 [00:07<00:01, 12.02it/s]"
     ]
    },
    {
     "name": "stdout",
     "output_type": "stream",
     "text": [
      "Episode 100/100."
     ]
    },
    {
     "name": "stderr",
     "output_type": "stream",
     "text": [
      "\r",
      " 87%|██████████████████████████████████████████████████████████████████████▍          | 87/100 [00:07<00:01, 12.23it/s]"
     ]
    },
    {
     "name": "stdout",
     "output_type": "stream",
     "text": [
      "Episode 100/100."
     ]
    },
    {
     "name": "stderr",
     "output_type": "stream",
     "text": [
      "\r",
      " 89%|████████████████████████████████████████████████████████████████████████         | 89/100 [00:07<00:00, 12.31it/s]"
     ]
    },
    {
     "name": "stdout",
     "output_type": "stream",
     "text": [
      "Episode 100/100."
     ]
    },
    {
     "name": "stderr",
     "output_type": "stream",
     "text": [
      "\r",
      " 91%|█████████████████████████████████████████████████████████████████████████▋       | 91/100 [00:07<00:00, 12.58it/s]"
     ]
    },
    {
     "name": "stdout",
     "output_type": "stream",
     "text": [
      "Episode 100/100."
     ]
    },
    {
     "name": "stderr",
     "output_type": "stream",
     "text": [
      "\r",
      " 93%|███████████████████████████████████████████████████████████████████████████▎     | 93/100 [00:07<00:00, 12.35it/s]"
     ]
    },
    {
     "name": "stdout",
     "output_type": "stream",
     "text": [
      "Episode 100/100."
     ]
    },
    {
     "name": "stderr",
     "output_type": "stream",
     "text": [
      "\r",
      " 95%|████████████████████████████████████████████████████████████████████████████▉    | 95/100 [00:08<00:00, 12.18it/s]"
     ]
    },
    {
     "name": "stdout",
     "output_type": "stream",
     "text": [
      "Episode 100/100."
     ]
    },
    {
     "name": "stderr",
     "output_type": "stream",
     "text": [
      "\r",
      " 97%|██████████████████████████████████████████████████████████████████████████████▌  | 97/100 [00:08<00:00, 12.10it/s]"
     ]
    },
    {
     "name": "stdout",
     "output_type": "stream",
     "text": [
      "Episode 100/100."
     ]
    },
    {
     "name": "stderr",
     "output_type": "stream",
     "text": [
      "\r",
      " 99%|████████████████████████████████████████████████████████████████████████████████▏| 99/100 [00:08<00:00, 11.93it/s]"
     ]
    },
    {
     "name": "stdout",
     "output_type": "stream",
     "text": [
      "\r",
      "Episode 100/100."
     ]
    },
    {
     "name": "stderr",
     "output_type": "stream",
     "text": [
      "100%|████████████████████████████████████████████████████████████████████████████████| 100/100 [00:08<00:00, 11.76it/s]\n",
      "  0%|                                                                                          | 0/100 [00:00<?, ?it/s]"
     ]
    },
    {
     "name": "stdout",
     "output_type": "stream",
     "text": [
      "Episode 100/100."
     ]
    },
    {
     "name": "stderr",
     "output_type": "stream",
     "text": [
      "\r",
      "  2%|█▋                                                                                | 2/100 [00:00<00:07, 13.39it/s]"
     ]
    },
    {
     "name": "stdout",
     "output_type": "stream",
     "text": [
      "Episode 100/100."
     ]
    },
    {
     "name": "stderr",
     "output_type": "stream",
     "text": [
      "\r",
      "  4%|███▎                                                                              | 4/100 [00:00<00:07, 12.55it/s]"
     ]
    },
    {
     "name": "stdout",
     "output_type": "stream",
     "text": [
      "Episode 100/100."
     ]
    },
    {
     "name": "stderr",
     "output_type": "stream",
     "text": [
      "\r",
      "  6%|████▉                                                                             | 6/100 [00:00<00:07, 12.59it/s]"
     ]
    },
    {
     "name": "stdout",
     "output_type": "stream",
     "text": [
      "Episode 100/100."
     ]
    },
    {
     "name": "stderr",
     "output_type": "stream",
     "text": [
      "\r",
      "  8%|██████▌                                                                           | 8/100 [00:00<00:07, 12.35it/s]"
     ]
    },
    {
     "name": "stdout",
     "output_type": "stream",
     "text": [
      "Episode 100/100."
     ]
    },
    {
     "name": "stderr",
     "output_type": "stream",
     "text": [
      "\r",
      " 10%|████████                                                                         | 10/100 [00:00<00:07, 12.40it/s]"
     ]
    },
    {
     "name": "stdout",
     "output_type": "stream",
     "text": [
      "Episode 100/100."
     ]
    },
    {
     "name": "stderr",
     "output_type": "stream",
     "text": [
      "\r",
      " 12%|█████████▋                                                                       | 12/100 [00:00<00:07, 12.40it/s]"
     ]
    },
    {
     "name": "stdout",
     "output_type": "stream",
     "text": [
      "Episode 100/100."
     ]
    },
    {
     "name": "stderr",
     "output_type": "stream",
     "text": [
      "\r",
      " 14%|███████████▎                                                                     | 14/100 [00:01<00:06, 12.32it/s]"
     ]
    },
    {
     "name": "stdout",
     "output_type": "stream",
     "text": [
      "Episode 100/100."
     ]
    },
    {
     "name": "stderr",
     "output_type": "stream",
     "text": [
      "\r",
      " 16%|████████████▉                                                                    | 16/100 [00:01<00:06, 12.28it/s]"
     ]
    },
    {
     "name": "stdout",
     "output_type": "stream",
     "text": [
      "Episode 100/100."
     ]
    },
    {
     "name": "stderr",
     "output_type": "stream",
     "text": [
      "\r",
      " 18%|██████████████▌                                                                  | 18/100 [00:01<00:06, 11.84it/s]"
     ]
    },
    {
     "name": "stdout",
     "output_type": "stream",
     "text": [
      "Episode 100/100."
     ]
    },
    {
     "name": "stderr",
     "output_type": "stream",
     "text": [
      "\r",
      " 20%|████████████████▏                                                                | 20/100 [00:01<00:06, 11.50it/s]"
     ]
    },
    {
     "name": "stdout",
     "output_type": "stream",
     "text": [
      "Episode 100/100."
     ]
    },
    {
     "name": "stderr",
     "output_type": "stream",
     "text": [
      "\r",
      " 22%|█████████████████▊                                                               | 22/100 [00:01<00:06, 11.52it/s]"
     ]
    },
    {
     "name": "stdout",
     "output_type": "stream",
     "text": [
      "Episode 100/100."
     ]
    },
    {
     "name": "stderr",
     "output_type": "stream",
     "text": [
      "\r",
      " 24%|███████████████████▍                                                             | 24/100 [00:01<00:06, 11.90it/s]"
     ]
    },
    {
     "name": "stdout",
     "output_type": "stream",
     "text": [
      "Episode 100/100."
     ]
    },
    {
     "name": "stderr",
     "output_type": "stream",
     "text": [
      "\r",
      " 26%|█████████████████████                                                            | 26/100 [00:02<00:06, 11.64it/s]"
     ]
    },
    {
     "name": "stdout",
     "output_type": "stream",
     "text": [
      "Episode 100/100."
     ]
    },
    {
     "name": "stderr",
     "output_type": "stream",
     "text": [
      "\r",
      " 28%|██████████████████████▋                                                          | 28/100 [00:02<00:05, 12.05it/s]"
     ]
    },
    {
     "name": "stdout",
     "output_type": "stream",
     "text": [
      "Episode 100/100."
     ]
    },
    {
     "name": "stderr",
     "output_type": "stream",
     "text": [
      "\r",
      " 30%|████████████████████████▎                                                        | 30/100 [00:02<00:05, 11.84it/s]"
     ]
    },
    {
     "name": "stdout",
     "output_type": "stream",
     "text": [
      "Episode 100/100."
     ]
    },
    {
     "name": "stderr",
     "output_type": "stream",
     "text": [
      "\r",
      " 32%|█████████████████████████▉                                                       | 32/100 [00:02<00:05, 11.55it/s]"
     ]
    },
    {
     "name": "stdout",
     "output_type": "stream",
     "text": [
      "Episode 100/100."
     ]
    },
    {
     "name": "stderr",
     "output_type": "stream",
     "text": [
      "\r",
      " 34%|███████████████████████████▌                                                     | 34/100 [00:02<00:05, 11.86it/s]"
     ]
    },
    {
     "name": "stdout",
     "output_type": "stream",
     "text": [
      "Episode 100/100."
     ]
    },
    {
     "name": "stderr",
     "output_type": "stream",
     "text": [
      "\r",
      " 36%|█████████████████████████████▏                                                   | 36/100 [00:03<00:05, 11.75it/s]"
     ]
    },
    {
     "name": "stdout",
     "output_type": "stream",
     "text": [
      "Episode 100/100."
     ]
    },
    {
     "name": "stderr",
     "output_type": "stream",
     "text": [
      "\r",
      " 38%|██████████████████████████████▊                                                  | 38/100 [00:03<00:05, 11.76it/s]"
     ]
    },
    {
     "name": "stdout",
     "output_type": "stream",
     "text": [
      "Episode 100/100."
     ]
    },
    {
     "name": "stderr",
     "output_type": "stream",
     "text": [
      "\r",
      " 40%|████████████████████████████████▍                                                | 40/100 [00:03<00:05, 11.80it/s]"
     ]
    },
    {
     "name": "stdout",
     "output_type": "stream",
     "text": [
      "Episode 100/100."
     ]
    },
    {
     "name": "stderr",
     "output_type": "stream",
     "text": [
      "\r",
      " 42%|██████████████████████████████████                                               | 42/100 [00:03<00:04, 11.98it/s]"
     ]
    },
    {
     "name": "stdout",
     "output_type": "stream",
     "text": [
      "Episode 100/100."
     ]
    },
    {
     "name": "stderr",
     "output_type": "stream",
     "text": [
      "\r",
      " 44%|███████████████████████████████████▋                                             | 44/100 [00:03<00:04, 12.03it/s]"
     ]
    },
    {
     "name": "stdout",
     "output_type": "stream",
     "text": [
      "Episode 100/100."
     ]
    },
    {
     "name": "stderr",
     "output_type": "stream",
     "text": [
      "\r",
      " 46%|█████████████████████████████████████▎                                           | 46/100 [00:03<00:04, 11.65it/s]"
     ]
    },
    {
     "name": "stdout",
     "output_type": "stream",
     "text": [
      "Episode 100/100."
     ]
    },
    {
     "name": "stderr",
     "output_type": "stream",
     "text": [
      "\r",
      " 48%|██████████████████████████████████████▉                                          | 48/100 [00:04<00:04, 12.07it/s]"
     ]
    },
    {
     "name": "stdout",
     "output_type": "stream",
     "text": [
      "Episode 100/100."
     ]
    },
    {
     "name": "stderr",
     "output_type": "stream",
     "text": [
      "\r",
      " 50%|████████████████████████████████████████▌                                        | 50/100 [00:04<00:04, 11.92it/s]"
     ]
    },
    {
     "name": "stdout",
     "output_type": "stream",
     "text": [
      "Episode 100/100."
     ]
    },
    {
     "name": "stderr",
     "output_type": "stream",
     "text": [
      "\r",
      " 52%|██████████████████████████████████████████                                       | 52/100 [00:04<00:03, 12.05it/s]"
     ]
    },
    {
     "name": "stdout",
     "output_type": "stream",
     "text": [
      "Episode 100/100."
     ]
    },
    {
     "name": "stderr",
     "output_type": "stream",
     "text": [
      "\r",
      " 54%|███████████████████████████████████████████▋                                     | 54/100 [00:04<00:03, 12.47it/s]"
     ]
    },
    {
     "name": "stdout",
     "output_type": "stream",
     "text": [
      "Episode 100/100."
     ]
    },
    {
     "name": "stderr",
     "output_type": "stream",
     "text": [
      "\r",
      " 56%|█████████████████████████████████████████████▎                                   | 56/100 [00:04<00:03, 12.50it/s]"
     ]
    },
    {
     "name": "stdout",
     "output_type": "stream",
     "text": [
      "Episode 100/100."
     ]
    },
    {
     "name": "stderr",
     "output_type": "stream",
     "text": [
      "\r",
      " 58%|██████████████████████████████████████████████▉                                  | 58/100 [00:04<00:03, 12.34it/s]"
     ]
    },
    {
     "name": "stdout",
     "output_type": "stream",
     "text": [
      "Episode 100/100."
     ]
    },
    {
     "name": "stderr",
     "output_type": "stream",
     "text": [
      "\r",
      " 60%|████████████████████████████████████████████████▌                                | 60/100 [00:04<00:03, 12.57it/s]"
     ]
    },
    {
     "name": "stdout",
     "output_type": "stream",
     "text": [
      "Episode 100/100."
     ]
    },
    {
     "name": "stderr",
     "output_type": "stream",
     "text": [
      "\r",
      " 62%|██████████████████████████████████████████████████▏                              | 62/100 [00:05<00:03, 12.41it/s]"
     ]
    },
    {
     "name": "stdout",
     "output_type": "stream",
     "text": [
      "Episode 100/100."
     ]
    },
    {
     "name": "stderr",
     "output_type": "stream",
     "text": [
      "\r",
      " 64%|███████████████████████████████████████████████████▊                             | 64/100 [00:05<00:02, 12.28it/s]"
     ]
    },
    {
     "name": "stdout",
     "output_type": "stream",
     "text": [
      "Episode 100/100."
     ]
    },
    {
     "name": "stderr",
     "output_type": "stream",
     "text": [
      "\r",
      " 66%|█████████████████████████████████████████████████████▍                           | 66/100 [00:05<00:02, 12.44it/s]"
     ]
    },
    {
     "name": "stdout",
     "output_type": "stream",
     "text": [
      "Episode 100/100."
     ]
    },
    {
     "name": "stderr",
     "output_type": "stream",
     "text": [
      "\r",
      " 68%|███████████████████████████████████████████████████████                          | 68/100 [00:05<00:02, 12.25it/s]"
     ]
    },
    {
     "name": "stdout",
     "output_type": "stream",
     "text": [
      "Episode 100/100."
     ]
    },
    {
     "name": "stderr",
     "output_type": "stream",
     "text": [
      "\r",
      " 70%|████████████████████████████████████████████████████████▋                        | 70/100 [00:05<00:02, 12.48it/s]"
     ]
    },
    {
     "name": "stdout",
     "output_type": "stream",
     "text": [
      "Episode 100/100."
     ]
    },
    {
     "name": "stderr",
     "output_type": "stream",
     "text": [
      "\r",
      " 72%|██████████████████████████████████████████████████████████▎                      | 72/100 [00:05<00:02, 11.94it/s]"
     ]
    },
    {
     "name": "stdout",
     "output_type": "stream",
     "text": [
      "Episode 100/100."
     ]
    },
    {
     "name": "stderr",
     "output_type": "stream",
     "text": [
      "\r",
      " 74%|███████████████████████████████████████████████████████████▉                     | 74/100 [00:06<00:02, 12.18it/s]"
     ]
    },
    {
     "name": "stdout",
     "output_type": "stream",
     "text": [
      "Episode 100/100."
     ]
    },
    {
     "name": "stderr",
     "output_type": "stream",
     "text": [
      "\r",
      " 76%|█████████████████████████████████████████████████████████████▌                   | 76/100 [00:06<00:01, 12.30it/s]"
     ]
    },
    {
     "name": "stdout",
     "output_type": "stream",
     "text": [
      "Episode 100/100."
     ]
    },
    {
     "name": "stderr",
     "output_type": "stream",
     "text": [
      "\r",
      " 78%|███████████████████████████████████████████████████████████████▏                 | 78/100 [00:06<00:01, 12.04it/s]"
     ]
    },
    {
     "name": "stdout",
     "output_type": "stream",
     "text": [
      "Episode 100/100."
     ]
    },
    {
     "name": "stderr",
     "output_type": "stream",
     "text": [
      "\r",
      " 80%|████████████████████████████████████████████████████████████████▊                | 80/100 [00:06<00:01, 11.68it/s]"
     ]
    },
    {
     "name": "stdout",
     "output_type": "stream",
     "text": [
      "Episode 100/100."
     ]
    },
    {
     "name": "stderr",
     "output_type": "stream",
     "text": [
      "\r",
      " 82%|██████████████████████████████████████████████████████████████████▍              | 82/100 [00:06<00:01, 11.45it/s]"
     ]
    },
    {
     "name": "stdout",
     "output_type": "stream",
     "text": [
      "Episode 100/100."
     ]
    },
    {
     "name": "stderr",
     "output_type": "stream",
     "text": [
      "\r",
      " 84%|████████████████████████████████████████████████████████████████████             | 84/100 [00:06<00:01, 11.60it/s]"
     ]
    },
    {
     "name": "stdout",
     "output_type": "stream",
     "text": [
      "Episode 100/100."
     ]
    },
    {
     "name": "stderr",
     "output_type": "stream",
     "text": [
      "\r",
      " 86%|█████████████████████████████████████████████████████████████████████▋           | 86/100 [00:07<00:01, 11.74it/s]"
     ]
    },
    {
     "name": "stdout",
     "output_type": "stream",
     "text": [
      "Episode 100/100."
     ]
    },
    {
     "name": "stderr",
     "output_type": "stream",
     "text": [
      "\r",
      " 88%|███████████████████████████████████████████████████████████████████████▎         | 88/100 [00:07<00:01, 11.88it/s]"
     ]
    },
    {
     "name": "stdout",
     "output_type": "stream",
     "text": [
      "Episode 100/100."
     ]
    },
    {
     "name": "stderr",
     "output_type": "stream",
     "text": [
      "\r",
      " 90%|████████████████████████████████████████████████████████████████████████▉        | 90/100 [00:07<00:00, 11.67it/s]"
     ]
    },
    {
     "name": "stdout",
     "output_type": "stream",
     "text": [
      "Episode 100/100."
     ]
    },
    {
     "name": "stderr",
     "output_type": "stream",
     "text": [
      "\r",
      " 92%|██████████████████████████████████████████████████████████████████████████▌      | 92/100 [00:07<00:00, 11.52it/s]"
     ]
    },
    {
     "name": "stdout",
     "output_type": "stream",
     "text": [
      "Episode 100/100."
     ]
    },
    {
     "name": "stderr",
     "output_type": "stream",
     "text": [
      "\r",
      " 94%|████████████████████████████████████████████████████████████████████████████▏    | 94/100 [00:07<00:00, 11.67it/s]"
     ]
    },
    {
     "name": "stdout",
     "output_type": "stream",
     "text": [
      "Episode 100/100."
     ]
    },
    {
     "name": "stderr",
     "output_type": "stream",
     "text": [
      "\r",
      " 96%|█████████████████████████████████████████████████████████████████████████████▊   | 96/100 [00:07<00:00, 12.12it/s]"
     ]
    },
    {
     "name": "stdout",
     "output_type": "stream",
     "text": [
      "Episode 100/100."
     ]
    },
    {
     "name": "stderr",
     "output_type": "stream",
     "text": [
      "\r",
      " 98%|███████████████████████████████████████████████████████████████████████████████▍ | 98/100 [00:08<00:00, 12.40it/s]"
     ]
    },
    {
     "name": "stdout",
     "output_type": "stream",
     "text": [
      "Episode 100/100."
     ]
    },
    {
     "name": "stderr",
     "output_type": "stream",
     "text": [
      "100%|████████████████████████████████████████████████████████████████████████████████| 100/100 [00:08<00:00, 12.03it/s]\n",
      "  0%|                                                                                          | 0/100 [00:00<?, ?it/s]"
     ]
    },
    {
     "name": "stdout",
     "output_type": "stream",
     "text": [
      "Episode 100/100."
     ]
    },
    {
     "name": "stderr",
     "output_type": "stream",
     "text": [
      "\r",
      "  2%|█▋                                                                                | 2/100 [00:00<00:07, 12.99it/s]"
     ]
    },
    {
     "name": "stdout",
     "output_type": "stream",
     "text": [
      "Episode 100/100."
     ]
    },
    {
     "name": "stderr",
     "output_type": "stream",
     "text": [
      "\r",
      "  4%|███▎                                                                              | 4/100 [00:00<00:06, 14.33it/s]"
     ]
    },
    {
     "name": "stdout",
     "output_type": "stream",
     "text": [
      "Episode 100/100."
     ]
    },
    {
     "name": "stderr",
     "output_type": "stream",
     "text": [
      "\r",
      "  6%|████▉                                                                             | 6/100 [00:00<00:06, 13.69it/s]"
     ]
    },
    {
     "name": "stdout",
     "output_type": "stream",
     "text": [
      "Episode 100/100."
     ]
    },
    {
     "name": "stderr",
     "output_type": "stream",
     "text": [
      "\r",
      "  8%|██████▌                                                                           | 8/100 [00:00<00:06, 13.75it/s]"
     ]
    },
    {
     "name": "stdout",
     "output_type": "stream",
     "text": [
      "Episode 100/100."
     ]
    },
    {
     "name": "stderr",
     "output_type": "stream",
     "text": [
      "\r",
      " 10%|████████                                                                         | 10/100 [00:00<00:06, 13.96it/s]"
     ]
    },
    {
     "name": "stdout",
     "output_type": "stream",
     "text": [
      "Episode 100/100."
     ]
    },
    {
     "name": "stderr",
     "output_type": "stream",
     "text": [
      "\r",
      " 12%|█████████▋                                                                       | 12/100 [00:00<00:06, 14.18it/s]"
     ]
    },
    {
     "name": "stdout",
     "output_type": "stream",
     "text": [
      "Episode 100/100."
     ]
    },
    {
     "name": "stderr",
     "output_type": "stream",
     "text": [
      "\r",
      " 14%|███████████▎                                                                     | 14/100 [00:01<00:06, 14.06it/s]"
     ]
    },
    {
     "name": "stdout",
     "output_type": "stream",
     "text": [
      "Episode 100/100."
     ]
    },
    {
     "name": "stderr",
     "output_type": "stream",
     "text": [
      "\r",
      " 16%|████████████▉                                                                    | 16/100 [00:01<00:06, 13.78it/s]"
     ]
    },
    {
     "name": "stdout",
     "output_type": "stream",
     "text": [
      "Episode 100/100."
     ]
    },
    {
     "name": "stderr",
     "output_type": "stream",
     "text": [
      "\r",
      " 18%|██████████████▌                                                                  | 18/100 [00:01<00:06, 13.66it/s]"
     ]
    },
    {
     "name": "stdout",
     "output_type": "stream",
     "text": [
      "Episode 100/100."
     ]
    },
    {
     "name": "stderr",
     "output_type": "stream",
     "text": [
      "\r",
      " 20%|████████████████▏                                                                | 20/100 [00:01<00:05, 13.90it/s]"
     ]
    },
    {
     "name": "stdout",
     "output_type": "stream",
     "text": [
      "Episode 100/100."
     ]
    },
    {
     "name": "stderr",
     "output_type": "stream",
     "text": [
      "\r",
      " 22%|█████████████████▊                                                               | 22/100 [00:01<00:05, 14.04it/s]"
     ]
    },
    {
     "name": "stdout",
     "output_type": "stream",
     "text": [
      "Episode 100/100."
     ]
    },
    {
     "name": "stderr",
     "output_type": "stream",
     "text": [
      "\r",
      " 24%|███████████████████▍                                                             | 24/100 [00:01<00:05, 14.50it/s]"
     ]
    },
    {
     "name": "stdout",
     "output_type": "stream",
     "text": [
      "Episode 100/100."
     ]
    },
    {
     "name": "stderr",
     "output_type": "stream",
     "text": [
      "\r",
      " 26%|█████████████████████                                                            | 26/100 [00:01<00:05, 14.54it/s]"
     ]
    },
    {
     "name": "stdout",
     "output_type": "stream",
     "text": [
      "Episode 100/100."
     ]
    },
    {
     "name": "stderr",
     "output_type": "stream",
     "text": [
      "\r",
      " 28%|██████████████████████▋                                                          | 28/100 [00:01<00:05, 14.21it/s]"
     ]
    },
    {
     "name": "stdout",
     "output_type": "stream",
     "text": [
      "Episode 100/100."
     ]
    },
    {
     "name": "stderr",
     "output_type": "stream",
     "text": [
      "\r",
      " 30%|████████████████████████▎                                                        | 30/100 [00:02<00:04, 14.58it/s]"
     ]
    },
    {
     "name": "stdout",
     "output_type": "stream",
     "text": [
      "Episode 100/100."
     ]
    },
    {
     "name": "stderr",
     "output_type": "stream",
     "text": [
      "\r",
      " 32%|█████████████████████████▉                                                       | 32/100 [00:02<00:04, 14.25it/s]"
     ]
    },
    {
     "name": "stdout",
     "output_type": "stream",
     "text": [
      "Episode 100/100."
     ]
    },
    {
     "name": "stderr",
     "output_type": "stream",
     "text": [
      "\r",
      " 34%|███████████████████████████▌                                                     | 34/100 [00:02<00:04, 14.13it/s]"
     ]
    },
    {
     "name": "stdout",
     "output_type": "stream",
     "text": [
      "Episode 100/100."
     ]
    },
    {
     "name": "stderr",
     "output_type": "stream",
     "text": [
      "\r",
      " 36%|█████████████████████████████▏                                                   | 36/100 [00:02<00:04, 14.51it/s]"
     ]
    },
    {
     "name": "stdout",
     "output_type": "stream",
     "text": [
      "Episode 100/100."
     ]
    },
    {
     "name": "stderr",
     "output_type": "stream",
     "text": [
      "\r",
      " 38%|██████████████████████████████▊                                                  | 38/100 [00:02<00:04, 14.63it/s]"
     ]
    },
    {
     "name": "stdout",
     "output_type": "stream",
     "text": [
      "Episode 100/100."
     ]
    },
    {
     "name": "stderr",
     "output_type": "stream",
     "text": [
      "\r",
      " 40%|████████████████████████████████▍                                                | 40/100 [00:02<00:04, 14.77it/s]"
     ]
    },
    {
     "name": "stdout",
     "output_type": "stream",
     "text": [
      "Episode 100/100."
     ]
    },
    {
     "name": "stderr",
     "output_type": "stream",
     "text": [
      "\r",
      " 42%|██████████████████████████████████                                               | 42/100 [00:02<00:03, 14.59it/s]"
     ]
    },
    {
     "name": "stdout",
     "output_type": "stream",
     "text": [
      "Episode 100/100."
     ]
    },
    {
     "name": "stderr",
     "output_type": "stream",
     "text": [
      "\r",
      " 44%|███████████████████████████████████▋                                             | 44/100 [00:03<00:04, 13.98it/s]"
     ]
    },
    {
     "name": "stdout",
     "output_type": "stream",
     "text": [
      "Episode 100/100."
     ]
    },
    {
     "name": "stderr",
     "output_type": "stream",
     "text": [
      "\r",
      " 46%|█████████████████████████████████████▎                                           | 46/100 [00:03<00:03, 14.27it/s]"
     ]
    },
    {
     "name": "stdout",
     "output_type": "stream",
     "text": [
      "Episode 100/100."
     ]
    },
    {
     "name": "stderr",
     "output_type": "stream",
     "text": [
      "\r",
      " 48%|██████████████████████████████████████▉                                          | 48/100 [00:03<00:03, 14.79it/s]"
     ]
    },
    {
     "name": "stdout",
     "output_type": "stream",
     "text": [
      "Episode 100/100."
     ]
    },
    {
     "name": "stderr",
     "output_type": "stream",
     "text": [
      "\r",
      " 50%|████████████████████████████████████████▌                                        | 50/100 [00:03<00:03, 14.93it/s]"
     ]
    },
    {
     "name": "stdout",
     "output_type": "stream",
     "text": [
      "Episode 100/100."
     ]
    },
    {
     "name": "stderr",
     "output_type": "stream",
     "text": [
      "\r",
      " 52%|██████████████████████████████████████████                                       | 52/100 [00:03<00:03, 14.97it/s]"
     ]
    },
    {
     "name": "stdout",
     "output_type": "stream",
     "text": [
      "Episode 100/100."
     ]
    },
    {
     "name": "stderr",
     "output_type": "stream",
     "text": [
      "\r",
      " 54%|███████████████████████████████████████████▋                                     | 54/100 [00:03<00:03, 15.02it/s]"
     ]
    },
    {
     "name": "stdout",
     "output_type": "stream",
     "text": [
      "Episode 100/100."
     ]
    },
    {
     "name": "stderr",
     "output_type": "stream",
     "text": [
      "\r",
      " 56%|█████████████████████████████████████████████▎                                   | 56/100 [00:03<00:02, 15.34it/s]"
     ]
    },
    {
     "name": "stdout",
     "output_type": "stream",
     "text": [
      "Episode 100/100."
     ]
    },
    {
     "name": "stderr",
     "output_type": "stream",
     "text": [
      "\r",
      " 58%|██████████████████████████████████████████████▉                                  | 58/100 [00:04<00:02, 14.87it/s]"
     ]
    },
    {
     "name": "stdout",
     "output_type": "stream",
     "text": [
      "Episode 100/100."
     ]
    },
    {
     "name": "stderr",
     "output_type": "stream",
     "text": [
      "\r",
      " 60%|████████████████████████████████████████████████▌                                | 60/100 [00:04<00:02, 14.20it/s]"
     ]
    },
    {
     "name": "stdout",
     "output_type": "stream",
     "text": [
      "Episode 100/100."
     ]
    },
    {
     "name": "stderr",
     "output_type": "stream",
     "text": [
      "\r",
      " 62%|██████████████████████████████████████████████████▏                              | 62/100 [00:04<00:02, 14.48it/s]"
     ]
    },
    {
     "name": "stdout",
     "output_type": "stream",
     "text": [
      "Episode 100/100."
     ]
    },
    {
     "name": "stderr",
     "output_type": "stream",
     "text": [
      "\r",
      " 64%|███████████████████████████████████████████████████▊                             | 64/100 [00:04<00:02, 14.01it/s]"
     ]
    },
    {
     "name": "stdout",
     "output_type": "stream",
     "text": [
      "Episode 100/100."
     ]
    },
    {
     "name": "stderr",
     "output_type": "stream",
     "text": [
      "\r",
      " 66%|█████████████████████████████████████████████████████▍                           | 66/100 [00:04<00:02, 13.77it/s]"
     ]
    },
    {
     "name": "stdout",
     "output_type": "stream",
     "text": [
      "Episode 100/100."
     ]
    },
    {
     "name": "stderr",
     "output_type": "stream",
     "text": [
      "\r",
      " 68%|███████████████████████████████████████████████████████                          | 68/100 [00:04<00:02, 14.05it/s]"
     ]
    },
    {
     "name": "stdout",
     "output_type": "stream",
     "text": [
      "Episode 100/100."
     ]
    },
    {
     "name": "stderr",
     "output_type": "stream",
     "text": [
      "\r",
      " 70%|████████████████████████████████████████████████████████▋                        | 70/100 [00:04<00:02, 14.10it/s]"
     ]
    },
    {
     "name": "stdout",
     "output_type": "stream",
     "text": [
      "Episode 100/100."
     ]
    },
    {
     "name": "stderr",
     "output_type": "stream",
     "text": [
      "\r",
      " 72%|██████████████████████████████████████████████████████████▎                      | 72/100 [00:05<00:01, 14.17it/s]"
     ]
    },
    {
     "name": "stdout",
     "output_type": "stream",
     "text": [
      "Episode 100/100."
     ]
    },
    {
     "name": "stderr",
     "output_type": "stream",
     "text": [
      "\r",
      " 74%|███████████████████████████████████████████████████████████▉                     | 74/100 [00:05<00:01, 13.91it/s]"
     ]
    },
    {
     "name": "stdout",
     "output_type": "stream",
     "text": [
      "Episode 100/100."
     ]
    },
    {
     "name": "stderr",
     "output_type": "stream",
     "text": [
      "\r",
      " 76%|█████████████████████████████████████████████████████████████▌                   | 76/100 [00:05<00:01, 14.27it/s]"
     ]
    },
    {
     "name": "stdout",
     "output_type": "stream",
     "text": [
      "Episode 100/100."
     ]
    },
    {
     "name": "stderr",
     "output_type": "stream",
     "text": [
      "\r",
      " 78%|███████████████████████████████████████████████████████████████▏                 | 78/100 [00:05<00:01, 14.00it/s]"
     ]
    },
    {
     "name": "stdout",
     "output_type": "stream",
     "text": [
      "Episode 100/100."
     ]
    },
    {
     "name": "stderr",
     "output_type": "stream",
     "text": [
      "\r",
      " 80%|████████████████████████████████████████████████████████████████▊                | 80/100 [00:05<00:01, 14.13it/s]"
     ]
    },
    {
     "name": "stdout",
     "output_type": "stream",
     "text": [
      "Episode 100/100."
     ]
    },
    {
     "name": "stderr",
     "output_type": "stream",
     "text": [
      "\r",
      " 82%|██████████████████████████████████████████████████████████████████▍              | 82/100 [00:05<00:01, 14.09it/s]"
     ]
    },
    {
     "name": "stdout",
     "output_type": "stream",
     "text": [
      "Episode 100/100."
     ]
    },
    {
     "name": "stderr",
     "output_type": "stream",
     "text": [
      "\r",
      " 84%|████████████████████████████████████████████████████████████████████             | 84/100 [00:05<00:01, 13.97it/s]"
     ]
    },
    {
     "name": "stdout",
     "output_type": "stream",
     "text": [
      "Episode 100/100."
     ]
    },
    {
     "name": "stderr",
     "output_type": "stream",
     "text": [
      "\r",
      " 86%|█████████████████████████████████████████████████████████████████████▋           | 86/100 [00:06<00:00, 14.34it/s]"
     ]
    },
    {
     "name": "stdout",
     "output_type": "stream",
     "text": [
      "Episode 100/100."
     ]
    },
    {
     "name": "stderr",
     "output_type": "stream",
     "text": [
      "\r",
      " 88%|███████████████████████████████████████████████████████████████████████▎         | 88/100 [00:06<00:00, 13.52it/s]"
     ]
    },
    {
     "name": "stdout",
     "output_type": "stream",
     "text": [
      "Episode 100/100."
     ]
    },
    {
     "name": "stderr",
     "output_type": "stream",
     "text": [
      "\r",
      " 90%|████████████████████████████████████████████████████████████████████████▉        | 90/100 [00:06<00:00, 13.85it/s]"
     ]
    },
    {
     "name": "stdout",
     "output_type": "stream",
     "text": [
      "Episode 100/100."
     ]
    },
    {
     "name": "stderr",
     "output_type": "stream",
     "text": [
      "\r",
      " 92%|██████████████████████████████████████████████████████████████████████████▌      | 92/100 [00:06<00:00, 14.05it/s]"
     ]
    },
    {
     "name": "stdout",
     "output_type": "stream",
     "text": [
      "Episode 100/100."
     ]
    },
    {
     "name": "stderr",
     "output_type": "stream",
     "text": [
      "\r",
      " 94%|████████████████████████████████████████████████████████████████████████████▏    | 94/100 [00:06<00:00, 14.03it/s]"
     ]
    },
    {
     "name": "stdout",
     "output_type": "stream",
     "text": [
      "Episode 100/100."
     ]
    },
    {
     "name": "stderr",
     "output_type": "stream",
     "text": [
      "\r",
      " 96%|█████████████████████████████████████████████████████████████████████████████▊   | 96/100 [00:06<00:00, 14.36it/s]"
     ]
    },
    {
     "name": "stdout",
     "output_type": "stream",
     "text": [
      "Episode 100/100."
     ]
    },
    {
     "name": "stderr",
     "output_type": "stream",
     "text": [
      "\r",
      " 98%|███████████████████████████████████████████████████████████████████████████████▍ | 98/100 [00:06<00:00, 13.67it/s]"
     ]
    },
    {
     "name": "stdout",
     "output_type": "stream",
     "text": [
      "Episode 100/100."
     ]
    },
    {
     "name": "stderr",
     "output_type": "stream",
     "text": [
      "100%|████████████████████████████████████████████████████████████████████████████████| 100/100 [00:07<00:00, 14.16it/s]\n",
      "  0%|                                                                                          | 0/100 [00:00<?, ?it/s]"
     ]
    },
    {
     "name": "stdout",
     "output_type": "stream",
     "text": [
      "Episode 100/100."
     ]
    },
    {
     "name": "stderr",
     "output_type": "stream",
     "text": [
      "\r",
      "  2%|█▋                                                                                | 2/100 [00:00<00:06, 15.37it/s]"
     ]
    },
    {
     "name": "stdout",
     "output_type": "stream",
     "text": [
      "Episode 100/100."
     ]
    },
    {
     "name": "stderr",
     "output_type": "stream",
     "text": [
      "\r",
      "  4%|███▎                                                                              | 4/100 [00:00<00:06, 14.93it/s]"
     ]
    },
    {
     "name": "stdout",
     "output_type": "stream",
     "text": [
      "Episode 100/100."
     ]
    },
    {
     "name": "stderr",
     "output_type": "stream",
     "text": [
      "\r",
      "  6%|████▉                                                                             | 6/100 [00:00<00:06, 15.05it/s]"
     ]
    },
    {
     "name": "stdout",
     "output_type": "stream",
     "text": [
      "Episode 100/100."
     ]
    },
    {
     "name": "stderr",
     "output_type": "stream",
     "text": [
      "\r",
      "  8%|██████▌                                                                           | 8/100 [00:00<00:06, 14.65it/s]"
     ]
    },
    {
     "name": "stdout",
     "output_type": "stream",
     "text": [
      "Episode 100/100."
     ]
    },
    {
     "name": "stderr",
     "output_type": "stream",
     "text": [
      "\r",
      " 10%|████████                                                                         | 10/100 [00:00<00:06, 14.39it/s]"
     ]
    },
    {
     "name": "stdout",
     "output_type": "stream",
     "text": [
      "Episode 100/100."
     ]
    },
    {
     "name": "stderr",
     "output_type": "stream",
     "text": [
      "\r",
      " 12%|█████████▋                                                                       | 12/100 [00:00<00:06, 14.08it/s]"
     ]
    },
    {
     "name": "stdout",
     "output_type": "stream",
     "text": [
      "Episode 100/100."
     ]
    },
    {
     "name": "stderr",
     "output_type": "stream",
     "text": [
      "\r",
      " 14%|███████████▎                                                                     | 14/100 [00:00<00:06, 14.15it/s]"
     ]
    },
    {
     "name": "stdout",
     "output_type": "stream",
     "text": [
      "Episode 100/100."
     ]
    },
    {
     "name": "stderr",
     "output_type": "stream",
     "text": [
      "\r",
      " 16%|████████████▉                                                                    | 16/100 [00:01<00:05, 14.14it/s]"
     ]
    },
    {
     "name": "stdout",
     "output_type": "stream",
     "text": [
      "Episode 100/100."
     ]
    },
    {
     "name": "stderr",
     "output_type": "stream",
     "text": [
      "\r",
      " 18%|██████████████▌                                                                  | 18/100 [00:01<00:05, 14.26it/s]"
     ]
    },
    {
     "name": "stdout",
     "output_type": "stream",
     "text": [
      "Episode 100/100."
     ]
    },
    {
     "name": "stderr",
     "output_type": "stream",
     "text": [
      "\r",
      " 20%|████████████████▏                                                                | 20/100 [00:01<00:05, 13.48it/s]"
     ]
    },
    {
     "name": "stdout",
     "output_type": "stream",
     "text": [
      "Episode 100/100."
     ]
    },
    {
     "name": "stderr",
     "output_type": "stream",
     "text": [
      "\r",
      " 22%|█████████████████▊                                                               | 22/100 [00:01<00:05, 13.69it/s]"
     ]
    },
    {
     "name": "stdout",
     "output_type": "stream",
     "text": [
      "Episode 100/100."
     ]
    },
    {
     "name": "stderr",
     "output_type": "stream",
     "text": [
      "\r",
      " 24%|███████████████████▍                                                             | 24/100 [00:01<00:05, 13.62it/s]"
     ]
    },
    {
     "name": "stdout",
     "output_type": "stream",
     "text": [
      "Episode 100/100."
     ]
    },
    {
     "name": "stderr",
     "output_type": "stream",
     "text": [
      "\r",
      " 26%|█████████████████████                                                            | 26/100 [00:01<00:05, 13.25it/s]"
     ]
    },
    {
     "name": "stdout",
     "output_type": "stream",
     "text": [
      "Episode 100/100."
     ]
    },
    {
     "name": "stderr",
     "output_type": "stream",
     "text": [
      "\r",
      " 28%|██████████████████████▋                                                          | 28/100 [00:02<00:05, 13.60it/s]"
     ]
    },
    {
     "name": "stdout",
     "output_type": "stream",
     "text": [
      "Episode 100/100."
     ]
    },
    {
     "name": "stderr",
     "output_type": "stream",
     "text": [
      "\r",
      " 30%|████████████████████████▎                                                        | 30/100 [00:02<00:05, 13.66it/s]"
     ]
    },
    {
     "name": "stdout",
     "output_type": "stream",
     "text": [
      "Episode 100/100."
     ]
    },
    {
     "name": "stderr",
     "output_type": "stream",
     "text": [
      "\r",
      " 32%|█████████████████████████▉                                                       | 32/100 [00:02<00:04, 13.83it/s]"
     ]
    },
    {
     "name": "stdout",
     "output_type": "stream",
     "text": [
      "Episode 100/100."
     ]
    },
    {
     "name": "stderr",
     "output_type": "stream",
     "text": [
      "\r",
      " 34%|███████████████████████████▌                                                     | 34/100 [00:02<00:04, 14.22it/s]"
     ]
    },
    {
     "name": "stdout",
     "output_type": "stream",
     "text": [
      "Episode 100/100."
     ]
    },
    {
     "name": "stderr",
     "output_type": "stream",
     "text": [
      "\r",
      " 36%|█████████████████████████████▏                                                   | 36/100 [00:02<00:04, 13.96it/s]"
     ]
    },
    {
     "name": "stdout",
     "output_type": "stream",
     "text": [
      "Episode 100/100."
     ]
    },
    {
     "name": "stderr",
     "output_type": "stream",
     "text": [
      "\r",
      " 38%|██████████████████████████████▊                                                  | 38/100 [00:02<00:04, 13.80it/s]"
     ]
    },
    {
     "name": "stdout",
     "output_type": "stream",
     "text": [
      "Episode 100/100."
     ]
    },
    {
     "name": "stderr",
     "output_type": "stream",
     "text": [
      "\r",
      " 40%|████████████████████████████████▍                                                | 40/100 [00:02<00:04, 13.52it/s]"
     ]
    },
    {
     "name": "stdout",
     "output_type": "stream",
     "text": [
      "Episode 100/100."
     ]
    },
    {
     "name": "stderr",
     "output_type": "stream",
     "text": [
      "\r",
      " 42%|██████████████████████████████████                                               | 42/100 [00:03<00:04, 13.90it/s]"
     ]
    },
    {
     "name": "stdout",
     "output_type": "stream",
     "text": [
      "Episode 100/100."
     ]
    },
    {
     "name": "stderr",
     "output_type": "stream",
     "text": [
      "\r",
      " 44%|███████████████████████████████████▋                                             | 44/100 [00:03<00:03, 14.03it/s]"
     ]
    },
    {
     "name": "stdout",
     "output_type": "stream",
     "text": [
      "Episode 100/100."
     ]
    },
    {
     "name": "stderr",
     "output_type": "stream",
     "text": [
      "\r",
      " 46%|█████████████████████████████████████▎                                           | 46/100 [00:03<00:03, 14.03it/s]"
     ]
    },
    {
     "name": "stdout",
     "output_type": "stream",
     "text": [
      "Episode 100/100."
     ]
    },
    {
     "name": "stderr",
     "output_type": "stream",
     "text": [
      "\r",
      " 48%|██████████████████████████████████████▉                                          | 48/100 [00:03<00:03, 13.73it/s]"
     ]
    },
    {
     "name": "stdout",
     "output_type": "stream",
     "text": [
      "Episode 100/100."
     ]
    },
    {
     "name": "stderr",
     "output_type": "stream",
     "text": [
      "\r",
      " 50%|████████████████████████████████████████▌                                        | 50/100 [00:03<00:03, 14.14it/s]"
     ]
    },
    {
     "name": "stdout",
     "output_type": "stream",
     "text": [
      "Episode 100/100."
     ]
    },
    {
     "name": "stderr",
     "output_type": "stream",
     "text": [
      "\r",
      " 52%|██████████████████████████████████████████                                       | 52/100 [00:03<00:03, 14.30it/s]"
     ]
    },
    {
     "name": "stdout",
     "output_type": "stream",
     "text": [
      "Episode 100/100."
     ]
    },
    {
     "name": "stderr",
     "output_type": "stream",
     "text": [
      "\r",
      " 54%|███████████████████████████████████████████▋                                     | 54/100 [00:03<00:03, 14.13it/s]"
     ]
    },
    {
     "name": "stdout",
     "output_type": "stream",
     "text": [
      "Episode 100/100."
     ]
    },
    {
     "name": "stderr",
     "output_type": "stream",
     "text": [
      "\r",
      " 56%|█████████████████████████████████████████████▎                                   | 56/100 [00:04<00:03, 13.94it/s]"
     ]
    },
    {
     "name": "stdout",
     "output_type": "stream",
     "text": [
      "Episode 100/100."
     ]
    },
    {
     "name": "stderr",
     "output_type": "stream",
     "text": [
      "\r",
      " 58%|██████████████████████████████████████████████▉                                  | 58/100 [00:04<00:02, 14.07it/s]"
     ]
    },
    {
     "name": "stdout",
     "output_type": "stream",
     "text": [
      "Episode 100/100."
     ]
    },
    {
     "name": "stderr",
     "output_type": "stream",
     "text": [
      "\r",
      " 60%|████████████████████████████████████████████████▌                                | 60/100 [00:04<00:02, 14.19it/s]"
     ]
    },
    {
     "name": "stdout",
     "output_type": "stream",
     "text": [
      "Episode 100/100."
     ]
    },
    {
     "name": "stderr",
     "output_type": "stream",
     "text": [
      "\r",
      " 62%|██████████████████████████████████████████████████▏                              | 62/100 [00:04<00:02, 14.26it/s]"
     ]
    },
    {
     "name": "stdout",
     "output_type": "stream",
     "text": [
      "Episode 100/100."
     ]
    },
    {
     "name": "stderr",
     "output_type": "stream",
     "text": [
      "\r",
      " 64%|███████████████████████████████████████████████████▊                             | 64/100 [00:04<00:02, 14.39it/s]"
     ]
    },
    {
     "name": "stdout",
     "output_type": "stream",
     "text": [
      "Episode 100/100."
     ]
    },
    {
     "name": "stderr",
     "output_type": "stream",
     "text": [
      "\r",
      " 66%|█████████████████████████████████████████████████████▍                           | 66/100 [00:04<00:02, 13.94it/s]"
     ]
    },
    {
     "name": "stdout",
     "output_type": "stream",
     "text": [
      "Episode 100/100."
     ]
    },
    {
     "name": "stderr",
     "output_type": "stream",
     "text": [
      "\r",
      " 68%|███████████████████████████████████████████████████████                          | 68/100 [00:04<00:02, 14.01it/s]"
     ]
    },
    {
     "name": "stdout",
     "output_type": "stream",
     "text": [
      "Episode 100/100."
     ]
    },
    {
     "name": "stderr",
     "output_type": "stream",
     "text": [
      "\r",
      " 70%|████████████████████████████████████████████████████████▋                        | 70/100 [00:04<00:02, 13.94it/s]"
     ]
    },
    {
     "name": "stdout",
     "output_type": "stream",
     "text": [
      "Episode 100/100."
     ]
    },
    {
     "name": "stderr",
     "output_type": "stream",
     "text": [
      "\r",
      " 72%|██████████████████████████████████████████████████████████▎                      | 72/100 [00:05<00:02, 13.52it/s]"
     ]
    },
    {
     "name": "stdout",
     "output_type": "stream",
     "text": [
      "Episode 100/100."
     ]
    },
    {
     "name": "stderr",
     "output_type": "stream",
     "text": [
      "\r",
      " 74%|███████████████████████████████████████████████████████████▉                     | 74/100 [00:05<00:01, 13.47it/s]"
     ]
    },
    {
     "name": "stdout",
     "output_type": "stream",
     "text": [
      "Episode 100/100."
     ]
    },
    {
     "name": "stderr",
     "output_type": "stream",
     "text": [
      "\r",
      " 76%|█████████████████████████████████████████████████████████████▌                   | 76/100 [00:05<00:01, 13.55it/s]"
     ]
    },
    {
     "name": "stdout",
     "output_type": "stream",
     "text": [
      "Episode 100/100."
     ]
    },
    {
     "name": "stderr",
     "output_type": "stream",
     "text": [
      "\r",
      " 78%|███████████████████████████████████████████████████████████████▏                 | 78/100 [00:05<00:01, 13.82it/s]"
     ]
    },
    {
     "name": "stdout",
     "output_type": "stream",
     "text": [
      "Episode 100/100."
     ]
    },
    {
     "name": "stderr",
     "output_type": "stream",
     "text": [
      "\r",
      " 80%|████████████████████████████████████████████████████████████████▊                | 80/100 [00:05<00:01, 13.76it/s]"
     ]
    },
    {
     "name": "stdout",
     "output_type": "stream",
     "text": [
      "Episode 100/100."
     ]
    },
    {
     "name": "stderr",
     "output_type": "stream",
     "text": [
      "\r",
      " 82%|██████████████████████████████████████████████████████████████████▍              | 82/100 [00:05<00:01, 13.56it/s]"
     ]
    },
    {
     "name": "stdout",
     "output_type": "stream",
     "text": [
      "Episode 100/100."
     ]
    },
    {
     "name": "stderr",
     "output_type": "stream",
     "text": [
      "\r",
      " 84%|████████████████████████████████████████████████████████████████████             | 84/100 [00:06<00:01, 13.63it/s]"
     ]
    },
    {
     "name": "stdout",
     "output_type": "stream",
     "text": [
      "Episode 100/100."
     ]
    },
    {
     "name": "stderr",
     "output_type": "stream",
     "text": [
      "\r",
      " 86%|█████████████████████████████████████████████████████████████████████▋           | 86/100 [00:06<00:01, 13.57it/s]"
     ]
    },
    {
     "name": "stdout",
     "output_type": "stream",
     "text": [
      "Episode 100/100."
     ]
    },
    {
     "name": "stderr",
     "output_type": "stream",
     "text": [
      "\r",
      " 88%|███████████████████████████████████████████████████████████████████████▎         | 88/100 [00:06<00:00, 14.22it/s]"
     ]
    },
    {
     "name": "stdout",
     "output_type": "stream",
     "text": [
      "Episode 100/100."
     ]
    },
    {
     "name": "stderr",
     "output_type": "stream",
     "text": [
      "\r",
      " 90%|████████████████████████████████████████████████████████████████████████▉        | 90/100 [00:06<00:00, 14.06it/s]"
     ]
    },
    {
     "name": "stdout",
     "output_type": "stream",
     "text": [
      "Episode 100/100."
     ]
    },
    {
     "name": "stderr",
     "output_type": "stream",
     "text": [
      "\r",
      " 92%|██████████████████████████████████████████████████████████████████████████▌      | 92/100 [00:06<00:00, 13.87it/s]"
     ]
    },
    {
     "name": "stdout",
     "output_type": "stream",
     "text": [
      "Episode 100/100."
     ]
    },
    {
     "name": "stderr",
     "output_type": "stream",
     "text": [
      "\r",
      " 94%|████████████████████████████████████████████████████████████████████████████▏    | 94/100 [00:06<00:00, 13.64it/s]"
     ]
    },
    {
     "name": "stdout",
     "output_type": "stream",
     "text": [
      "Episode 100/100."
     ]
    },
    {
     "name": "stderr",
     "output_type": "stream",
     "text": [
      "\r",
      " 96%|█████████████████████████████████████████████████████████████████████████████▊   | 96/100 [00:06<00:00, 13.46it/s]"
     ]
    },
    {
     "name": "stdout",
     "output_type": "stream",
     "text": [
      "Episode 100/100."
     ]
    },
    {
     "name": "stderr",
     "output_type": "stream",
     "text": [
      "\r",
      " 98%|███████████████████████████████████████████████████████████████████████████████▍ | 98/100 [00:07<00:00, 14.06it/s]"
     ]
    },
    {
     "name": "stdout",
     "output_type": "stream",
     "text": [
      "Episode 100/100."
     ]
    },
    {
     "name": "stderr",
     "output_type": "stream",
     "text": [
      "100%|████████████████████████████████████████████████████████████████████████████████| 100/100 [00:07<00:00, 13.93it/s]\n",
      "  0%|                                                                                          | 0/100 [00:00<?, ?it/s]"
     ]
    },
    {
     "name": "stdout",
     "output_type": "stream",
     "text": [
      "Episode 100/100."
     ]
    },
    {
     "name": "stderr",
     "output_type": "stream",
     "text": [
      "\r",
      "  2%|█▋                                                                                | 2/100 [00:00<00:07, 12.73it/s]"
     ]
    },
    {
     "name": "stdout",
     "output_type": "stream",
     "text": [
      "Episode 100/100."
     ]
    },
    {
     "name": "stderr",
     "output_type": "stream",
     "text": [
      "\r",
      "  4%|███▎                                                                              | 4/100 [00:00<00:07, 12.74it/s]"
     ]
    },
    {
     "name": "stdout",
     "output_type": "stream",
     "text": [
      "Episode 100/100."
     ]
    },
    {
     "name": "stderr",
     "output_type": "stream",
     "text": [
      "\r",
      "  6%|████▉                                                                             | 6/100 [00:00<00:07, 13.16it/s]"
     ]
    },
    {
     "name": "stdout",
     "output_type": "stream",
     "text": [
      "Episode 100/100."
     ]
    },
    {
     "name": "stderr",
     "output_type": "stream",
     "text": [
      "\r",
      "  8%|██████▌                                                                           | 8/100 [00:00<00:06, 13.57it/s]"
     ]
    },
    {
     "name": "stdout",
     "output_type": "stream",
     "text": [
      "Episode 100/100."
     ]
    },
    {
     "name": "stderr",
     "output_type": "stream",
     "text": [
      "\r",
      " 10%|████████                                                                         | 10/100 [00:00<00:06, 13.65it/s]"
     ]
    },
    {
     "name": "stdout",
     "output_type": "stream",
     "text": [
      "Episode 100/100."
     ]
    },
    {
     "name": "stderr",
     "output_type": "stream",
     "text": [
      "\r",
      " 12%|█████████▋                                                                       | 12/100 [00:00<00:06, 14.28it/s]"
     ]
    },
    {
     "name": "stdout",
     "output_type": "stream",
     "text": [
      "Episode 100/100."
     ]
    },
    {
     "name": "stderr",
     "output_type": "stream",
     "text": [
      "\r",
      " 14%|███████████▎                                                                     | 14/100 [00:01<00:06, 14.17it/s]"
     ]
    },
    {
     "name": "stdout",
     "output_type": "stream",
     "text": [
      "Episode 100/100."
     ]
    },
    {
     "name": "stderr",
     "output_type": "stream",
     "text": [
      "\r",
      " 16%|████████████▉                                                                    | 16/100 [00:01<00:06, 13.97it/s]"
     ]
    },
    {
     "name": "stdout",
     "output_type": "stream",
     "text": [
      "Episode 100/100."
     ]
    },
    {
     "name": "stderr",
     "output_type": "stream",
     "text": [
      "\r",
      " 18%|██████████████▌                                                                  | 18/100 [00:01<00:05, 13.98it/s]"
     ]
    },
    {
     "name": "stdout",
     "output_type": "stream",
     "text": [
      "Episode 100/100."
     ]
    },
    {
     "name": "stderr",
     "output_type": "stream",
     "text": [
      "\r",
      " 20%|████████████████▏                                                                | 20/100 [00:01<00:05, 14.11it/s]"
     ]
    },
    {
     "name": "stdout",
     "output_type": "stream",
     "text": [
      "Episode 100/100."
     ]
    },
    {
     "name": "stderr",
     "output_type": "stream",
     "text": [
      "\r",
      " 22%|█████████████████▊                                                               | 22/100 [00:01<00:05, 13.71it/s]"
     ]
    },
    {
     "name": "stdout",
     "output_type": "stream",
     "text": [
      "Episode 100/100."
     ]
    },
    {
     "name": "stderr",
     "output_type": "stream",
     "text": [
      "\r",
      " 24%|███████████████████▍                                                             | 24/100 [00:01<00:05, 13.45it/s]"
     ]
    },
    {
     "name": "stdout",
     "output_type": "stream",
     "text": [
      "Episode 100/100."
     ]
    },
    {
     "name": "stderr",
     "output_type": "stream",
     "text": [
      "\r",
      " 26%|█████████████████████                                                            | 26/100 [00:01<00:05, 13.29it/s]"
     ]
    },
    {
     "name": "stdout",
     "output_type": "stream",
     "text": [
      "Episode 100/100."
     ]
    },
    {
     "name": "stderr",
     "output_type": "stream",
     "text": [
      "\r",
      " 28%|██████████████████████▋                                                          | 28/100 [00:02<00:05, 13.56it/s]"
     ]
    },
    {
     "name": "stdout",
     "output_type": "stream",
     "text": [
      "Episode 100/100."
     ]
    },
    {
     "name": "stderr",
     "output_type": "stream",
     "text": [
      "\r",
      " 30%|████████████████████████▎                                                        | 30/100 [00:02<00:05, 13.77it/s]"
     ]
    },
    {
     "name": "stdout",
     "output_type": "stream",
     "text": [
      "Episode 100/100."
     ]
    },
    {
     "name": "stderr",
     "output_type": "stream",
     "text": [
      "\r",
      " 32%|█████████████████████████▉                                                       | 32/100 [00:02<00:04, 14.19it/s]"
     ]
    },
    {
     "name": "stdout",
     "output_type": "stream",
     "text": [
      "Episode 100/100."
     ]
    },
    {
     "name": "stderr",
     "output_type": "stream",
     "text": [
      "\r",
      " 34%|███████████████████████████▌                                                     | 34/100 [00:02<00:04, 14.29it/s]"
     ]
    },
    {
     "name": "stdout",
     "output_type": "stream",
     "text": [
      "Episode 100/100."
     ]
    },
    {
     "name": "stderr",
     "output_type": "stream",
     "text": [
      "\r",
      " 36%|█████████████████████████████▏                                                   | 36/100 [00:02<00:04, 13.82it/s]"
     ]
    },
    {
     "name": "stdout",
     "output_type": "stream",
     "text": [
      "Episode 100/100."
     ]
    },
    {
     "name": "stderr",
     "output_type": "stream",
     "text": [
      "\r",
      " 38%|██████████████████████████████▊                                                  | 38/100 [00:02<00:04, 14.29it/s]"
     ]
    },
    {
     "name": "stdout",
     "output_type": "stream",
     "text": [
      "Episode 100/100."
     ]
    },
    {
     "name": "stderr",
     "output_type": "stream",
     "text": [
      "\r",
      " 40%|████████████████████████████████▍                                                | 40/100 [00:02<00:04, 13.60it/s]"
     ]
    },
    {
     "name": "stdout",
     "output_type": "stream",
     "text": [
      "Episode 100/100."
     ]
    },
    {
     "name": "stderr",
     "output_type": "stream",
     "text": [
      "\r",
      " 42%|██████████████████████████████████                                               | 42/100 [00:03<00:04, 13.96it/s]"
     ]
    },
    {
     "name": "stdout",
     "output_type": "stream",
     "text": [
      "Episode 100/100."
     ]
    },
    {
     "name": "stderr",
     "output_type": "stream",
     "text": [
      "\r",
      " 44%|███████████████████████████████████▋                                             | 44/100 [00:03<00:04, 13.44it/s]"
     ]
    },
    {
     "name": "stdout",
     "output_type": "stream",
     "text": [
      "Episode 100/100."
     ]
    },
    {
     "name": "stderr",
     "output_type": "stream",
     "text": [
      "\r",
      " 46%|█████████████████████████████████████▎                                           | 46/100 [00:03<00:03, 13.97it/s]"
     ]
    },
    {
     "name": "stdout",
     "output_type": "stream",
     "text": [
      "Episode 100/100."
     ]
    },
    {
     "name": "stderr",
     "output_type": "stream",
     "text": [
      "\r",
      " 48%|██████████████████████████████████████▉                                          | 48/100 [00:03<00:03, 14.19it/s]"
     ]
    },
    {
     "name": "stdout",
     "output_type": "stream",
     "text": [
      "Episode 100/100."
     ]
    },
    {
     "name": "stderr",
     "output_type": "stream",
     "text": [
      "\r",
      " 50%|████████████████████████████████████████▌                                        | 50/100 [00:03<00:03, 14.00it/s]"
     ]
    },
    {
     "name": "stdout",
     "output_type": "stream",
     "text": [
      "Episode 100/100."
     ]
    },
    {
     "name": "stderr",
     "output_type": "stream",
     "text": [
      "\r",
      " 52%|██████████████████████████████████████████                                       | 52/100 [00:03<00:03, 13.40it/s]"
     ]
    },
    {
     "name": "stdout",
     "output_type": "stream",
     "text": [
      "Episode 100/100."
     ]
    },
    {
     "name": "stderr",
     "output_type": "stream",
     "text": [
      "\r",
      " 54%|███████████████████████████████████████████▋                                     | 54/100 [00:03<00:03, 13.39it/s]"
     ]
    },
    {
     "name": "stdout",
     "output_type": "stream",
     "text": [
      "Episode 100/100."
     ]
    },
    {
     "name": "stderr",
     "output_type": "stream",
     "text": [
      "\r",
      " 56%|█████████████████████████████████████████████▎                                   | 56/100 [00:04<00:03, 13.40it/s]"
     ]
    },
    {
     "name": "stdout",
     "output_type": "stream",
     "text": [
      "Episode 100/100."
     ]
    },
    {
     "name": "stderr",
     "output_type": "stream",
     "text": [
      "\r",
      " 58%|██████████████████████████████████████████████▉                                  | 58/100 [00:04<00:03, 13.25it/s]"
     ]
    },
    {
     "name": "stdout",
     "output_type": "stream",
     "text": [
      "Episode 100/100."
     ]
    },
    {
     "name": "stderr",
     "output_type": "stream",
     "text": [
      "\r",
      " 60%|████████████████████████████████████████████████▌                                | 60/100 [00:04<00:03, 13.20it/s]"
     ]
    },
    {
     "name": "stdout",
     "output_type": "stream",
     "text": [
      "Episode 100/100."
     ]
    },
    {
     "name": "stderr",
     "output_type": "stream",
     "text": [
      "\r",
      " 62%|██████████████████████████████████████████████████▏                              | 62/100 [00:04<00:02, 13.81it/s]"
     ]
    },
    {
     "name": "stdout",
     "output_type": "stream",
     "text": [
      "Episode 100/100."
     ]
    },
    {
     "name": "stderr",
     "output_type": "stream",
     "text": [
      "\r",
      " 64%|███████████████████████████████████████████████████▊                             | 64/100 [00:04<00:02, 13.93it/s]"
     ]
    },
    {
     "name": "stdout",
     "output_type": "stream",
     "text": [
      "Episode 100/100."
     ]
    },
    {
     "name": "stderr",
     "output_type": "stream",
     "text": [
      "\r",
      " 66%|█████████████████████████████████████████████████████▍                           | 66/100 [00:04<00:02, 14.09it/s]"
     ]
    },
    {
     "name": "stdout",
     "output_type": "stream",
     "text": [
      "Episode 100/100."
     ]
    },
    {
     "name": "stderr",
     "output_type": "stream",
     "text": [
      "\r",
      " 68%|███████████████████████████████████████████████████████                          | 68/100 [00:04<00:02, 13.63it/s]"
     ]
    },
    {
     "name": "stdout",
     "output_type": "stream",
     "text": [
      "Episode 100/100."
     ]
    },
    {
     "name": "stderr",
     "output_type": "stream",
     "text": [
      "\r",
      " 70%|████████████████████████████████████████████████████████▋                        | 70/100 [00:05<00:02, 13.59it/s]"
     ]
    },
    {
     "name": "stdout",
     "output_type": "stream",
     "text": [
      "Episode 100/100."
     ]
    },
    {
     "name": "stderr",
     "output_type": "stream",
     "text": [
      "\r",
      " 72%|██████████████████████████████████████████████████████████▎                      | 72/100 [00:05<00:02, 12.89it/s]"
     ]
    },
    {
     "name": "stdout",
     "output_type": "stream",
     "text": [
      "Episode 100/100."
     ]
    },
    {
     "name": "stderr",
     "output_type": "stream",
     "text": [
      "\r",
      " 74%|███████████████████████████████████████████████████████████▉                     | 74/100 [00:05<00:02, 12.93it/s]"
     ]
    },
    {
     "name": "stdout",
     "output_type": "stream",
     "text": [
      "Episode 100/100."
     ]
    },
    {
     "name": "stderr",
     "output_type": "stream",
     "text": [
      "\r",
      " 76%|█████████████████████████████████████████████████████████████▌                   | 76/100 [00:05<00:01, 12.75it/s]"
     ]
    },
    {
     "name": "stdout",
     "output_type": "stream",
     "text": [
      "Episode 100/100."
     ]
    },
    {
     "name": "stderr",
     "output_type": "stream",
     "text": [
      "\r",
      " 78%|███████████████████████████████████████████████████████████████▏                 | 78/100 [00:05<00:01, 12.75it/s]"
     ]
    },
    {
     "name": "stdout",
     "output_type": "stream",
     "text": [
      "Episode 100/100."
     ]
    },
    {
     "name": "stderr",
     "output_type": "stream",
     "text": [
      "\r",
      " 80%|████████████████████████████████████████████████████████████████▊                | 80/100 [00:05<00:01, 13.13it/s]"
     ]
    },
    {
     "name": "stdout",
     "output_type": "stream",
     "text": [
      "Episode 100/100."
     ]
    },
    {
     "name": "stderr",
     "output_type": "stream",
     "text": [
      "\r",
      " 82%|██████████████████████████████████████████████████████████████████▍              | 82/100 [00:06<00:01, 13.43it/s]"
     ]
    },
    {
     "name": "stdout",
     "output_type": "stream",
     "text": [
      "Episode 100/100."
     ]
    },
    {
     "name": "stderr",
     "output_type": "stream",
     "text": [
      "\r",
      " 84%|████████████████████████████████████████████████████████████████████             | 84/100 [00:06<00:01, 13.30it/s]"
     ]
    },
    {
     "name": "stdout",
     "output_type": "stream",
     "text": [
      "Episode 100/100."
     ]
    },
    {
     "name": "stderr",
     "output_type": "stream",
     "text": [
      "\r",
      " 86%|█████████████████████████████████████████████████████████████████████▋           | 86/100 [00:06<00:01, 13.70it/s]"
     ]
    },
    {
     "name": "stdout",
     "output_type": "stream",
     "text": [
      "Episode 100/100."
     ]
    },
    {
     "name": "stderr",
     "output_type": "stream",
     "text": [
      "\r",
      " 88%|███████████████████████████████████████████████████████████████████████▎         | 88/100 [00:06<00:00, 13.50it/s]"
     ]
    },
    {
     "name": "stdout",
     "output_type": "stream",
     "text": [
      "Episode 100/100."
     ]
    },
    {
     "name": "stderr",
     "output_type": "stream",
     "text": [
      "\r",
      " 90%|████████████████████████████████████████████████████████████████████████▉        | 90/100 [00:06<00:00, 13.55it/s]"
     ]
    },
    {
     "name": "stdout",
     "output_type": "stream",
     "text": [
      "Episode 100/100."
     ]
    },
    {
     "name": "stderr",
     "output_type": "stream",
     "text": [
      "\r",
      " 92%|██████████████████████████████████████████████████████████████████████████▌      | 92/100 [00:06<00:00, 13.93it/s]"
     ]
    },
    {
     "name": "stdout",
     "output_type": "stream",
     "text": [
      "Episode 100/100."
     ]
    },
    {
     "name": "stderr",
     "output_type": "stream",
     "text": [
      "\r",
      " 94%|████████████████████████████████████████████████████████████████████████████▏    | 94/100 [00:06<00:00, 13.85it/s]"
     ]
    },
    {
     "name": "stdout",
     "output_type": "stream",
     "text": [
      "Episode 100/100."
     ]
    },
    {
     "name": "stderr",
     "output_type": "stream",
     "text": [
      "\r",
      " 96%|█████████████████████████████████████████████████████████████████████████████▊   | 96/100 [00:07<00:00, 14.05it/s]"
     ]
    },
    {
     "name": "stdout",
     "output_type": "stream",
     "text": [
      "Episode 100/100."
     ]
    },
    {
     "name": "stderr",
     "output_type": "stream",
     "text": [
      "\r",
      " 98%|███████████████████████████████████████████████████████████████████████████████▍ | 98/100 [00:07<00:00, 13.89it/s]"
     ]
    },
    {
     "name": "stdout",
     "output_type": "stream",
     "text": [
      "Episode 100/100."
     ]
    },
    {
     "name": "stderr",
     "output_type": "stream",
     "text": [
      "100%|████████████████████████████████████████████████████████████████████████████████| 100/100 [00:07<00:00, 13.61it/s]\n",
      "  0%|                                                                                          | 0/100 [00:00<?, ?it/s]"
     ]
    },
    {
     "name": "stdout",
     "output_type": "stream",
     "text": [
      "Episode 100/100."
     ]
    },
    {
     "name": "stderr",
     "output_type": "stream",
     "text": [
      "\r",
      "  2%|█▋                                                                                | 2/100 [00:00<00:06, 14.23it/s]"
     ]
    },
    {
     "name": "stdout",
     "output_type": "stream",
     "text": [
      "Episode 100/100."
     ]
    },
    {
     "name": "stderr",
     "output_type": "stream",
     "text": [
      "\r",
      "  4%|███▎                                                                              | 4/100 [00:00<00:07, 13.69it/s]"
     ]
    },
    {
     "name": "stdout",
     "output_type": "stream",
     "text": [
      "Episode 100/100."
     ]
    },
    {
     "name": "stderr",
     "output_type": "stream",
     "text": [
      "\r",
      "  6%|████▉                                                                             | 6/100 [00:00<00:06, 14.03it/s]"
     ]
    },
    {
     "name": "stdout",
     "output_type": "stream",
     "text": [
      "Episode 100/100."
     ]
    },
    {
     "name": "stderr",
     "output_type": "stream",
     "text": [
      "\r",
      "  8%|██████▌                                                                           | 8/100 [00:00<00:06, 14.32it/s]"
     ]
    },
    {
     "name": "stdout",
     "output_type": "stream",
     "text": [
      "Episode 100/100."
     ]
    },
    {
     "name": "stderr",
     "output_type": "stream",
     "text": [
      "\r",
      " 10%|████████                                                                         | 10/100 [00:00<00:06, 13.97it/s]"
     ]
    },
    {
     "name": "stdout",
     "output_type": "stream",
     "text": [
      "Episode 100/100."
     ]
    },
    {
     "name": "stderr",
     "output_type": "stream",
     "text": [
      "\r",
      " 12%|█████████▋                                                                       | 12/100 [00:00<00:06, 13.57it/s]"
     ]
    },
    {
     "name": "stdout",
     "output_type": "stream",
     "text": [
      "Episode 100/100."
     ]
    },
    {
     "name": "stderr",
     "output_type": "stream",
     "text": [
      "\r",
      " 14%|███████████▎                                                                     | 14/100 [00:01<00:06, 13.73it/s]"
     ]
    },
    {
     "name": "stdout",
     "output_type": "stream",
     "text": [
      "Episode 100/100."
     ]
    },
    {
     "name": "stderr",
     "output_type": "stream",
     "text": [
      "\r",
      " 16%|████████████▉                                                                    | 16/100 [00:01<00:06, 13.74it/s]"
     ]
    },
    {
     "name": "stdout",
     "output_type": "stream",
     "text": [
      "Episode 100/100."
     ]
    },
    {
     "name": "stderr",
     "output_type": "stream",
     "text": [
      "\r",
      " 18%|██████████████▌                                                                  | 18/100 [00:01<00:05, 14.22it/s]"
     ]
    },
    {
     "name": "stdout",
     "output_type": "stream",
     "text": [
      "Episode 100/100."
     ]
    },
    {
     "name": "stderr",
     "output_type": "stream",
     "text": [
      "\r",
      " 20%|████████████████▏                                                                | 20/100 [00:01<00:05, 13.91it/s]"
     ]
    },
    {
     "name": "stdout",
     "output_type": "stream",
     "text": [
      "Episode 100/100."
     ]
    },
    {
     "name": "stderr",
     "output_type": "stream",
     "text": [
      "\r",
      " 22%|█████████████████▊                                                               | 22/100 [00:01<00:05, 13.67it/s]"
     ]
    },
    {
     "name": "stdout",
     "output_type": "stream",
     "text": [
      "Episode 100/100."
     ]
    },
    {
     "name": "stderr",
     "output_type": "stream",
     "text": [
      "\r",
      " 24%|███████████████████▍                                                             | 24/100 [00:01<00:05, 13.73it/s]"
     ]
    },
    {
     "name": "stdout",
     "output_type": "stream",
     "text": [
      "Episode 100/100."
     ]
    },
    {
     "name": "stderr",
     "output_type": "stream",
     "text": [
      "\r",
      " 26%|█████████████████████                                                            | 26/100 [00:01<00:05, 14.02it/s]"
     ]
    },
    {
     "name": "stdout",
     "output_type": "stream",
     "text": [
      "Episode 100/100."
     ]
    },
    {
     "name": "stderr",
     "output_type": "stream",
     "text": [
      "\r",
      " 28%|██████████████████████▋                                                          | 28/100 [00:02<00:05, 14.12it/s]"
     ]
    },
    {
     "name": "stdout",
     "output_type": "stream",
     "text": [
      "Episode 100/100."
     ]
    },
    {
     "name": "stderr",
     "output_type": "stream",
     "text": [
      "\r",
      " 30%|████████████████████████▎                                                        | 30/100 [00:02<00:05, 13.58it/s]"
     ]
    },
    {
     "name": "stdout",
     "output_type": "stream",
     "text": [
      "Episode 100/100."
     ]
    },
    {
     "name": "stderr",
     "output_type": "stream",
     "text": [
      "\r",
      " 32%|█████████████████████████▉                                                       | 32/100 [00:02<00:04, 13.81it/s]"
     ]
    },
    {
     "name": "stdout",
     "output_type": "stream",
     "text": [
      "Episode 100/100."
     ]
    },
    {
     "name": "stderr",
     "output_type": "stream",
     "text": [
      "\r",
      " 34%|███████████████████████████▌                                                     | 34/100 [00:02<00:04, 13.90it/s]"
     ]
    },
    {
     "name": "stdout",
     "output_type": "stream",
     "text": [
      "Episode 100/100."
     ]
    },
    {
     "name": "stderr",
     "output_type": "stream",
     "text": [
      "\r",
      " 36%|█████████████████████████████▏                                                   | 36/100 [00:02<00:04, 13.62it/s]"
     ]
    },
    {
     "name": "stdout",
     "output_type": "stream",
     "text": [
      "Episode 100/100."
     ]
    },
    {
     "name": "stderr",
     "output_type": "stream",
     "text": [
      "\r",
      " 38%|██████████████████████████████▊                                                  | 38/100 [00:02<00:04, 13.38it/s]"
     ]
    },
    {
     "name": "stdout",
     "output_type": "stream",
     "text": [
      "Episode 100/100."
     ]
    },
    {
     "name": "stderr",
     "output_type": "stream",
     "text": [
      "\r",
      " 40%|████████████████████████████████▍                                                | 40/100 [00:02<00:04, 12.39it/s]"
     ]
    },
    {
     "name": "stdout",
     "output_type": "stream",
     "text": [
      "Episode 100/100."
     ]
    },
    {
     "name": "stderr",
     "output_type": "stream",
     "text": [
      "\r",
      " 42%|██████████████████████████████████                                               | 42/100 [00:03<00:04, 12.93it/s]"
     ]
    },
    {
     "name": "stdout",
     "output_type": "stream",
     "text": [
      "Episode 100/100."
     ]
    },
    {
     "name": "stderr",
     "output_type": "stream",
     "text": [
      "\r",
      " 44%|███████████████████████████████████▋                                             | 44/100 [00:03<00:04, 12.46it/s]"
     ]
    },
    {
     "name": "stdout",
     "output_type": "stream",
     "text": [
      "Episode 100/100."
     ]
    },
    {
     "name": "stderr",
     "output_type": "stream",
     "text": [
      "\r",
      " 46%|█████████████████████████████████████▎                                           | 46/100 [00:03<00:04, 12.86it/s]"
     ]
    },
    {
     "name": "stdout",
     "output_type": "stream",
     "text": [
      "Episode 100/100."
     ]
    },
    {
     "name": "stderr",
     "output_type": "stream",
     "text": [
      "\r",
      " 48%|██████████████████████████████████████▉                                          | 48/100 [00:03<00:04, 12.99it/s]"
     ]
    },
    {
     "name": "stdout",
     "output_type": "stream",
     "text": [
      "Episode 100/100."
     ]
    },
    {
     "name": "stderr",
     "output_type": "stream",
     "text": [
      "\r",
      " 50%|████████████████████████████████████████▌                                        | 50/100 [00:03<00:03, 13.13it/s]"
     ]
    },
    {
     "name": "stdout",
     "output_type": "stream",
     "text": [
      "Episode 100/100."
     ]
    },
    {
     "name": "stderr",
     "output_type": "stream",
     "text": [
      "\r",
      " 52%|██████████████████████████████████████████                                       | 52/100 [00:03<00:03, 13.28it/s]"
     ]
    },
    {
     "name": "stdout",
     "output_type": "stream",
     "text": [
      "Episode 100/100."
     ]
    },
    {
     "name": "stderr",
     "output_type": "stream",
     "text": [
      "\r",
      " 54%|███████████████████████████████████████████▋                                     | 54/100 [00:03<00:03, 13.73it/s]"
     ]
    },
    {
     "name": "stdout",
     "output_type": "stream",
     "text": [
      "Episode 100/100."
     ]
    },
    {
     "name": "stderr",
     "output_type": "stream",
     "text": [
      "\r",
      " 56%|█████████████████████████████████████████████▎                                   | 56/100 [00:04<00:03, 13.62it/s]"
     ]
    },
    {
     "name": "stdout",
     "output_type": "stream",
     "text": [
      "Episode 100/100."
     ]
    },
    {
     "name": "stderr",
     "output_type": "stream",
     "text": [
      "\r",
      " 58%|██████████████████████████████████████████████▉                                  | 58/100 [00:04<00:03, 13.63it/s]"
     ]
    },
    {
     "name": "stdout",
     "output_type": "stream",
     "text": [
      "Episode 100/100."
     ]
    },
    {
     "name": "stderr",
     "output_type": "stream",
     "text": [
      "\r",
      " 60%|████████████████████████████████████████████████▌                                | 60/100 [00:04<00:02, 13.70it/s]"
     ]
    },
    {
     "name": "stdout",
     "output_type": "stream",
     "text": [
      "Episode 100/100."
     ]
    },
    {
     "name": "stderr",
     "output_type": "stream",
     "text": [
      "\r",
      " 62%|██████████████████████████████████████████████████▏                              | 62/100 [00:04<00:02, 13.18it/s]"
     ]
    },
    {
     "name": "stdout",
     "output_type": "stream",
     "text": [
      "Episode 100/100."
     ]
    },
    {
     "name": "stderr",
     "output_type": "stream",
     "text": [
      "\r",
      " 64%|███████████████████████████████████████████████████▊                             | 64/100 [00:04<00:02, 12.91it/s]"
     ]
    },
    {
     "name": "stdout",
     "output_type": "stream",
     "text": [
      "Episode 100/100."
     ]
    },
    {
     "name": "stderr",
     "output_type": "stream",
     "text": [
      "\r",
      " 66%|█████████████████████████████████████████████████████▍                           | 66/100 [00:04<00:02, 13.40it/s]"
     ]
    },
    {
     "name": "stdout",
     "output_type": "stream",
     "text": [
      "Episode 100/100."
     ]
    },
    {
     "name": "stderr",
     "output_type": "stream",
     "text": [
      "\r",
      " 68%|███████████████████████████████████████████████████████                          | 68/100 [00:05<00:02, 13.43it/s]"
     ]
    },
    {
     "name": "stdout",
     "output_type": "stream",
     "text": [
      "Episode 100/100."
     ]
    },
    {
     "name": "stderr",
     "output_type": "stream",
     "text": [
      "\r",
      " 70%|████████████████████████████████████████████████████████▋                        | 70/100 [00:05<00:02, 13.07it/s]"
     ]
    },
    {
     "name": "stdout",
     "output_type": "stream",
     "text": [
      "Episode 100/100."
     ]
    },
    {
     "name": "stderr",
     "output_type": "stream",
     "text": [
      "\r",
      " 72%|██████████████████████████████████████████████████████████▎                      | 72/100 [00:05<00:02, 13.21it/s]"
     ]
    },
    {
     "name": "stdout",
     "output_type": "stream",
     "text": [
      "Episode 100/100."
     ]
    },
    {
     "name": "stderr",
     "output_type": "stream",
     "text": [
      "\r",
      " 74%|███████████████████████████████████████████████████████████▉                     | 74/100 [00:05<00:02, 12.93it/s]"
     ]
    },
    {
     "name": "stdout",
     "output_type": "stream",
     "text": [
      "Episode 100/100."
     ]
    },
    {
     "name": "stderr",
     "output_type": "stream",
     "text": [
      "\r",
      " 76%|█████████████████████████████████████████████████████████████▌                   | 76/100 [00:05<00:01, 13.25it/s]"
     ]
    },
    {
     "name": "stdout",
     "output_type": "stream",
     "text": [
      "Episode 100/100."
     ]
    },
    {
     "name": "stderr",
     "output_type": "stream",
     "text": [
      "\r",
      " 78%|███████████████████████████████████████████████████████████████▏                 | 78/100 [00:05<00:01, 13.16it/s]"
     ]
    },
    {
     "name": "stdout",
     "output_type": "stream",
     "text": [
      "Episode 100/100."
     ]
    },
    {
     "name": "stderr",
     "output_type": "stream",
     "text": [
      "\r",
      " 80%|████████████████████████████████████████████████████████████████▊                | 80/100 [00:05<00:01, 13.20it/s]"
     ]
    },
    {
     "name": "stdout",
     "output_type": "stream",
     "text": [
      "Episode 100/100."
     ]
    },
    {
     "name": "stderr",
     "output_type": "stream",
     "text": [
      "\r",
      " 82%|██████████████████████████████████████████████████████████████████▍              | 82/100 [00:06<00:01, 13.23it/s]"
     ]
    },
    {
     "name": "stdout",
     "output_type": "stream",
     "text": [
      "Episode 100/100."
     ]
    },
    {
     "name": "stderr",
     "output_type": "stream",
     "text": [
      "\r",
      " 84%|████████████████████████████████████████████████████████████████████             | 84/100 [00:06<00:01, 13.24it/s]"
     ]
    },
    {
     "name": "stdout",
     "output_type": "stream",
     "text": [
      "Episode 100/100."
     ]
    },
    {
     "name": "stderr",
     "output_type": "stream",
     "text": [
      "\r",
      " 86%|█████████████████████████████████████████████████████████████████████▋           | 86/100 [00:06<00:01, 12.99it/s]"
     ]
    },
    {
     "name": "stdout",
     "output_type": "stream",
     "text": [
      "Episode 100/100."
     ]
    },
    {
     "name": "stderr",
     "output_type": "stream",
     "text": [
      "\r",
      " 88%|███████████████████████████████████████████████████████████████████████▎         | 88/100 [00:06<00:00, 13.24it/s]"
     ]
    },
    {
     "name": "stdout",
     "output_type": "stream",
     "text": [
      "Episode 100/100."
     ]
    },
    {
     "name": "stderr",
     "output_type": "stream",
     "text": [
      "\r",
      " 90%|████████████████████████████████████████████████████████████████████████▉        | 90/100 [00:06<00:00, 13.90it/s]"
     ]
    },
    {
     "name": "stdout",
     "output_type": "stream",
     "text": [
      "Episode 100/100."
     ]
    },
    {
     "name": "stderr",
     "output_type": "stream",
     "text": [
      "\r",
      " 92%|██████████████████████████████████████████████████████████████████████████▌      | 92/100 [00:06<00:00, 13.61it/s]"
     ]
    },
    {
     "name": "stdout",
     "output_type": "stream",
     "text": [
      "Episode 100/100."
     ]
    },
    {
     "name": "stderr",
     "output_type": "stream",
     "text": [
      "\r",
      " 94%|████████████████████████████████████████████████████████████████████████████▏    | 94/100 [00:06<00:00, 13.81it/s]"
     ]
    },
    {
     "name": "stdout",
     "output_type": "stream",
     "text": [
      "Episode 100/100."
     ]
    },
    {
     "name": "stderr",
     "output_type": "stream",
     "text": [
      "\r",
      " 96%|█████████████████████████████████████████████████████████████████████████████▊   | 96/100 [00:07<00:00, 13.41it/s]"
     ]
    },
    {
     "name": "stdout",
     "output_type": "stream",
     "text": [
      "Episode 100/100."
     ]
    },
    {
     "name": "stderr",
     "output_type": "stream",
     "text": [
      "\r",
      " 98%|███████████████████████████████████████████████████████████████████████████████▍ | 98/100 [00:07<00:00, 12.99it/s]"
     ]
    },
    {
     "name": "stdout",
     "output_type": "stream",
     "text": [
      "Episode 100/100."
     ]
    },
    {
     "name": "stderr",
     "output_type": "stream",
     "text": [
      "100%|████████████████████████████████████████████████████████████████████████████████| 100/100 [00:07<00:00, 13.39it/s]\n",
      "  0%|                                                                                          | 0/100 [00:00<?, ?it/s]"
     ]
    },
    {
     "name": "stdout",
     "output_type": "stream",
     "text": [
      "Episode 100/100."
     ]
    },
    {
     "name": "stderr",
     "output_type": "stream",
     "text": [
      "\r",
      "  2%|█▋                                                                                | 2/100 [00:00<00:06, 14.09it/s]"
     ]
    },
    {
     "name": "stdout",
     "output_type": "stream",
     "text": [
      "Episode 100/100."
     ]
    },
    {
     "name": "stderr",
     "output_type": "stream",
     "text": [
      "\r",
      "  4%|███▎                                                                              | 4/100 [00:00<00:06, 13.78it/s]"
     ]
    },
    {
     "name": "stdout",
     "output_type": "stream",
     "text": [
      "Episode 100/100."
     ]
    },
    {
     "name": "stderr",
     "output_type": "stream",
     "text": [
      "\r",
      "  6%|████▉                                                                             | 6/100 [00:00<00:08, 11.72it/s]"
     ]
    },
    {
     "name": "stdout",
     "output_type": "stream",
     "text": [
      "Episode 100/100."
     ]
    },
    {
     "name": "stderr",
     "output_type": "stream",
     "text": [
      "\r",
      "  8%|██████▌                                                                           | 8/100 [00:00<00:07, 11.71it/s]"
     ]
    },
    {
     "name": "stdout",
     "output_type": "stream",
     "text": [
      "Episode 100/100."
     ]
    },
    {
     "name": "stderr",
     "output_type": "stream",
     "text": [
      "\r",
      " 10%|████████                                                                         | 10/100 [00:00<00:07, 11.78it/s]"
     ]
    },
    {
     "name": "stdout",
     "output_type": "stream",
     "text": [
      "Episode 100/100."
     ]
    },
    {
     "name": "stderr",
     "output_type": "stream",
     "text": [
      "\r",
      " 12%|█████████▋                                                                       | 12/100 [00:00<00:07, 12.08it/s]"
     ]
    },
    {
     "name": "stdout",
     "output_type": "stream",
     "text": [
      "Episode 100/100."
     ]
    },
    {
     "name": "stderr",
     "output_type": "stream",
     "text": [
      "\r",
      " 14%|███████████▎                                                                     | 14/100 [00:01<00:07, 12.11it/s]"
     ]
    },
    {
     "name": "stdout",
     "output_type": "stream",
     "text": [
      "Episode 100/100."
     ]
    },
    {
     "name": "stderr",
     "output_type": "stream",
     "text": [
      "\r",
      " 16%|████████████▉                                                                    | 16/100 [00:01<00:06, 12.28it/s]"
     ]
    },
    {
     "name": "stdout",
     "output_type": "stream",
     "text": [
      "Episode 100/100."
     ]
    },
    {
     "name": "stderr",
     "output_type": "stream",
     "text": [
      "\r",
      " 18%|██████████████▌                                                                  | 18/100 [00:01<00:06, 12.95it/s]"
     ]
    },
    {
     "name": "stdout",
     "output_type": "stream",
     "text": [
      "Episode 100/100."
     ]
    },
    {
     "name": "stderr",
     "output_type": "stream",
     "text": [
      "\r",
      " 20%|████████████████▏                                                                | 20/100 [00:01<00:06, 13.09it/s]"
     ]
    },
    {
     "name": "stdout",
     "output_type": "stream",
     "text": [
      "Episode 100/100."
     ]
    },
    {
     "name": "stderr",
     "output_type": "stream",
     "text": [
      "\r",
      " 22%|█████████████████▊                                                               | 22/100 [00:01<00:05, 13.33it/s]"
     ]
    },
    {
     "name": "stdout",
     "output_type": "stream",
     "text": [
      "Episode 100/100."
     ]
    },
    {
     "name": "stderr",
     "output_type": "stream",
     "text": [
      "\r",
      " 24%|███████████████████▍                                                             | 24/100 [00:01<00:05, 13.49it/s]"
     ]
    },
    {
     "name": "stdout",
     "output_type": "stream",
     "text": [
      "Episode 100/100."
     ]
    },
    {
     "name": "stderr",
     "output_type": "stream",
     "text": [
      "\r",
      " 26%|█████████████████████                                                            | 26/100 [00:02<00:05, 13.36it/s]"
     ]
    },
    {
     "name": "stdout",
     "output_type": "stream",
     "text": [
      "Episode 100/100."
     ]
    },
    {
     "name": "stderr",
     "output_type": "stream",
     "text": [
      "\r",
      " 28%|██████████████████████▋                                                          | 28/100 [00:02<00:05, 13.28it/s]"
     ]
    },
    {
     "name": "stdout",
     "output_type": "stream",
     "text": [
      "Episode 100/100."
     ]
    },
    {
     "name": "stderr",
     "output_type": "stream",
     "text": [
      "\r",
      " 30%|████████████████████████▎                                                        | 30/100 [00:02<00:05, 13.24it/s]"
     ]
    },
    {
     "name": "stdout",
     "output_type": "stream",
     "text": [
      "Episode 100/100."
     ]
    },
    {
     "name": "stderr",
     "output_type": "stream",
     "text": [
      "\r",
      " 32%|█████████████████████████▉                                                       | 32/100 [00:02<00:04, 13.67it/s]"
     ]
    },
    {
     "name": "stdout",
     "output_type": "stream",
     "text": [
      "Episode 100/100."
     ]
    },
    {
     "name": "stderr",
     "output_type": "stream",
     "text": [
      "\r",
      " 34%|███████████████████████████▌                                                     | 34/100 [00:02<00:05, 13.07it/s]"
     ]
    },
    {
     "name": "stdout",
     "output_type": "stream",
     "text": [
      "Episode 100/100."
     ]
    },
    {
     "name": "stderr",
     "output_type": "stream",
     "text": [
      "\r",
      " 36%|█████████████████████████████▏                                                   | 36/100 [00:02<00:04, 12.83it/s]"
     ]
    },
    {
     "name": "stdout",
     "output_type": "stream",
     "text": [
      "Episode 100/100."
     ]
    },
    {
     "name": "stderr",
     "output_type": "stream",
     "text": [
      "\r",
      " 38%|██████████████████████████████▊                                                  | 38/100 [00:02<00:04, 13.60it/s]"
     ]
    },
    {
     "name": "stdout",
     "output_type": "stream",
     "text": [
      "Episode 100/100."
     ]
    },
    {
     "name": "stderr",
     "output_type": "stream",
     "text": [
      "\r",
      " 40%|████████████████████████████████▍                                                | 40/100 [00:03<00:04, 13.29it/s]"
     ]
    },
    {
     "name": "stdout",
     "output_type": "stream",
     "text": [
      "Episode 100/100."
     ]
    },
    {
     "name": "stderr",
     "output_type": "stream",
     "text": [
      "\r",
      " 42%|██████████████████████████████████                                               | 42/100 [00:03<00:04, 13.22it/s]"
     ]
    },
    {
     "name": "stdout",
     "output_type": "stream",
     "text": [
      "Episode 100/100."
     ]
    },
    {
     "name": "stderr",
     "output_type": "stream",
     "text": [
      "\r",
      " 44%|███████████████████████████████████▋                                             | 44/100 [00:03<00:04, 13.26it/s]"
     ]
    },
    {
     "name": "stdout",
     "output_type": "stream",
     "text": [
      "Episode 100/100."
     ]
    },
    {
     "name": "stderr",
     "output_type": "stream",
     "text": [
      "\r",
      " 46%|█████████████████████████████████████▎                                           | 46/100 [00:03<00:04, 13.02it/s]"
     ]
    },
    {
     "name": "stdout",
     "output_type": "stream",
     "text": [
      "Episode 100/100."
     ]
    },
    {
     "name": "stderr",
     "output_type": "stream",
     "text": [
      "\r",
      " 48%|██████████████████████████████████████▉                                          | 48/100 [00:03<00:03, 13.34it/s]"
     ]
    },
    {
     "name": "stdout",
     "output_type": "stream",
     "text": [
      "Episode 100/100."
     ]
    },
    {
     "name": "stderr",
     "output_type": "stream",
     "text": [
      "\r",
      " 50%|████████████████████████████████████████▌                                        | 50/100 [00:03<00:03, 13.28it/s]"
     ]
    },
    {
     "name": "stdout",
     "output_type": "stream",
     "text": [
      "Episode 100/100."
     ]
    },
    {
     "name": "stderr",
     "output_type": "stream",
     "text": [
      "\r",
      " 52%|██████████████████████████████████████████                                       | 52/100 [00:04<00:03, 13.06it/s]"
     ]
    },
    {
     "name": "stdout",
     "output_type": "stream",
     "text": [
      "Episode 100/100."
     ]
    },
    {
     "name": "stderr",
     "output_type": "stream",
     "text": [
      "\r",
      " 54%|███████████████████████████████████████████▋                                     | 54/100 [00:04<00:03, 13.31it/s]"
     ]
    },
    {
     "name": "stdout",
     "output_type": "stream",
     "text": [
      "Episode 100/100."
     ]
    },
    {
     "name": "stderr",
     "output_type": "stream",
     "text": [
      "\r",
      " 56%|█████████████████████████████████████████████▎                                   | 56/100 [00:04<00:03, 13.44it/s]"
     ]
    },
    {
     "name": "stdout",
     "output_type": "stream",
     "text": [
      "Episode 100/100."
     ]
    },
    {
     "name": "stderr",
     "output_type": "stream",
     "text": [
      "\r",
      " 58%|██████████████████████████████████████████████▉                                  | 58/100 [00:04<00:03, 13.42it/s]"
     ]
    },
    {
     "name": "stdout",
     "output_type": "stream",
     "text": [
      "Episode 100/100."
     ]
    },
    {
     "name": "stderr",
     "output_type": "stream",
     "text": [
      "\r",
      " 60%|████████████████████████████████████████████████▌                                | 60/100 [00:04<00:02, 13.47it/s]"
     ]
    },
    {
     "name": "stdout",
     "output_type": "stream",
     "text": [
      "Episode 100/100."
     ]
    },
    {
     "name": "stderr",
     "output_type": "stream",
     "text": [
      "\r",
      " 62%|██████████████████████████████████████████████████▏                              | 62/100 [00:04<00:02, 12.78it/s]"
     ]
    },
    {
     "name": "stdout",
     "output_type": "stream",
     "text": [
      "Episode 100/100."
     ]
    },
    {
     "name": "stderr",
     "output_type": "stream",
     "text": [
      "\r",
      " 64%|███████████████████████████████████████████████████▊                             | 64/100 [00:04<00:02, 12.84it/s]"
     ]
    },
    {
     "name": "stdout",
     "output_type": "stream",
     "text": [
      "Episode 100/100."
     ]
    },
    {
     "name": "stderr",
     "output_type": "stream",
     "text": [
      "\r",
      " 66%|█████████████████████████████████████████████████████▍                           | 66/100 [00:05<00:02, 12.75it/s]"
     ]
    },
    {
     "name": "stdout",
     "output_type": "stream",
     "text": [
      "Episode 100/100."
     ]
    },
    {
     "name": "stderr",
     "output_type": "stream",
     "text": [
      "\r",
      " 68%|███████████████████████████████████████████████████████                          | 68/100 [00:05<00:02, 12.77it/s]"
     ]
    },
    {
     "name": "stdout",
     "output_type": "stream",
     "text": [
      "Episode 100/100."
     ]
    },
    {
     "name": "stderr",
     "output_type": "stream",
     "text": [
      "\r",
      " 70%|████████████████████████████████████████████████████████▋                        | 70/100 [00:05<00:02, 13.34it/s]"
     ]
    },
    {
     "name": "stdout",
     "output_type": "stream",
     "text": [
      "Episode 100/100."
     ]
    },
    {
     "name": "stderr",
     "output_type": "stream",
     "text": [
      "\r",
      " 72%|██████████████████████████████████████████████████████████▎                      | 72/100 [00:05<00:02, 13.14it/s]"
     ]
    },
    {
     "name": "stdout",
     "output_type": "stream",
     "text": [
      "Episode 100/100."
     ]
    },
    {
     "name": "stderr",
     "output_type": "stream",
     "text": [
      "\r",
      " 74%|███████████████████████████████████████████████████████████▉                     | 74/100 [00:05<00:02, 12.92it/s]"
     ]
    },
    {
     "name": "stdout",
     "output_type": "stream",
     "text": [
      "Episode 100/100."
     ]
    },
    {
     "name": "stderr",
     "output_type": "stream",
     "text": [
      "\r",
      " 76%|█████████████████████████████████████████████████████████████▌                   | 76/100 [00:05<00:01, 12.89it/s]"
     ]
    },
    {
     "name": "stdout",
     "output_type": "stream",
     "text": [
      "Episode 100/100."
     ]
    },
    {
     "name": "stderr",
     "output_type": "stream",
     "text": [
      "\r",
      " 78%|███████████████████████████████████████████████████████████████▏                 | 78/100 [00:05<00:01, 13.18it/s]"
     ]
    },
    {
     "name": "stdout",
     "output_type": "stream",
     "text": [
      "Episode 100/100."
     ]
    },
    {
     "name": "stderr",
     "output_type": "stream",
     "text": [
      "\r",
      " 80%|████████████████████████████████████████████████████████████████▊                | 80/100 [00:06<00:01, 13.29it/s]"
     ]
    },
    {
     "name": "stdout",
     "output_type": "stream",
     "text": [
      "Episode 100/100."
     ]
    },
    {
     "name": "stderr",
     "output_type": "stream",
     "text": [
      "\r",
      " 82%|██████████████████████████████████████████████████████████████████▍              | 82/100 [00:06<00:01, 13.40it/s]"
     ]
    },
    {
     "name": "stdout",
     "output_type": "stream",
     "text": [
      "Episode 100/100."
     ]
    },
    {
     "name": "stderr",
     "output_type": "stream",
     "text": [
      "\r",
      " 84%|████████████████████████████████████████████████████████████████████             | 84/100 [00:06<00:01, 13.47it/s]"
     ]
    },
    {
     "name": "stdout",
     "output_type": "stream",
     "text": [
      "Episode 100/100."
     ]
    },
    {
     "name": "stderr",
     "output_type": "stream",
     "text": [
      "\r",
      " 86%|█████████████████████████████████████████████████████████████████████▋           | 86/100 [00:06<00:01, 12.87it/s]"
     ]
    },
    {
     "name": "stdout",
     "output_type": "stream",
     "text": [
      "Episode 100/100."
     ]
    },
    {
     "name": "stderr",
     "output_type": "stream",
     "text": [
      "\r",
      " 88%|███████████████████████████████████████████████████████████████████████▎         | 88/100 [00:06<00:00, 13.48it/s]"
     ]
    },
    {
     "name": "stdout",
     "output_type": "stream",
     "text": [
      "Episode 100/100."
     ]
    },
    {
     "name": "stderr",
     "output_type": "stream",
     "text": [
      "\r",
      " 90%|████████████████████████████████████████████████████████████████████████▉        | 90/100 [00:06<00:00, 13.30it/s]"
     ]
    },
    {
     "name": "stdout",
     "output_type": "stream",
     "text": [
      "Episode 100/100."
     ]
    },
    {
     "name": "stderr",
     "output_type": "stream",
     "text": [
      "\r",
      " 92%|██████████████████████████████████████████████████████████████████████████▌      | 92/100 [00:07<00:00, 13.48it/s]"
     ]
    },
    {
     "name": "stdout",
     "output_type": "stream",
     "text": [
      "Episode 100/100."
     ]
    },
    {
     "name": "stderr",
     "output_type": "stream",
     "text": [
      "\r",
      " 94%|████████████████████████████████████████████████████████████████████████████▏    | 94/100 [00:07<00:00, 13.39it/s]"
     ]
    },
    {
     "name": "stdout",
     "output_type": "stream",
     "text": [
      "Episode 100/100."
     ]
    },
    {
     "name": "stderr",
     "output_type": "stream",
     "text": [
      "\r",
      " 96%|█████████████████████████████████████████████████████████████████████████████▊   | 96/100 [00:07<00:00, 13.33it/s]"
     ]
    },
    {
     "name": "stdout",
     "output_type": "stream",
     "text": [
      "Episode 100/100."
     ]
    },
    {
     "name": "stderr",
     "output_type": "stream",
     "text": [
      "\r",
      " 98%|███████████████████████████████████████████████████████████████████████████████▍ | 98/100 [00:07<00:00, 13.49it/s]"
     ]
    },
    {
     "name": "stdout",
     "output_type": "stream",
     "text": [
      "Episode 100/100."
     ]
    },
    {
     "name": "stderr",
     "output_type": "stream",
     "text": [
      "100%|████████████████████████████████████████████████████████████████████████████████| 100/100 [00:07<00:00, 13.09it/s]\n",
      "  0%|                                                                                          | 0/100 [00:00<?, ?it/s]"
     ]
    },
    {
     "name": "stdout",
     "output_type": "stream",
     "text": [
      "Episode 100/100."
     ]
    },
    {
     "name": "stderr",
     "output_type": "stream",
     "text": [
      "\r",
      "  2%|█▋                                                                                | 2/100 [00:00<00:07, 13.50it/s]"
     ]
    },
    {
     "name": "stdout",
     "output_type": "stream",
     "text": [
      "Episode 100/100."
     ]
    },
    {
     "name": "stderr",
     "output_type": "stream",
     "text": [
      "\r",
      "  4%|███▎                                                                              | 4/100 [00:00<00:07, 12.36it/s]"
     ]
    },
    {
     "name": "stdout",
     "output_type": "stream",
     "text": [
      "Episode 100/100."
     ]
    },
    {
     "name": "stderr",
     "output_type": "stream",
     "text": [
      "\r",
      "  6%|████▉                                                                             | 6/100 [00:00<00:07, 12.55it/s]"
     ]
    },
    {
     "name": "stdout",
     "output_type": "stream",
     "text": [
      "Episode 100/100."
     ]
    },
    {
     "name": "stderr",
     "output_type": "stream",
     "text": [
      "\r",
      "  8%|██████▌                                                                           | 8/100 [00:00<00:07, 12.87it/s]"
     ]
    },
    {
     "name": "stdout",
     "output_type": "stream",
     "text": [
      "Episode 100/100."
     ]
    },
    {
     "name": "stderr",
     "output_type": "stream",
     "text": [
      "\r",
      " 10%|████████                                                                         | 10/100 [00:00<00:06, 13.16it/s]"
     ]
    },
    {
     "name": "stdout",
     "output_type": "stream",
     "text": [
      "Episode 100/100."
     ]
    },
    {
     "name": "stderr",
     "output_type": "stream",
     "text": [
      "\r",
      " 12%|█████████▋                                                                       | 12/100 [00:00<00:06, 12.69it/s]"
     ]
    },
    {
     "name": "stdout",
     "output_type": "stream",
     "text": [
      "Episode 100/100."
     ]
    },
    {
     "name": "stderr",
     "output_type": "stream",
     "text": [
      "\r",
      " 14%|███████████▎                                                                     | 14/100 [00:01<00:06, 12.52it/s]"
     ]
    },
    {
     "name": "stdout",
     "output_type": "stream",
     "text": [
      "Episode 100/100."
     ]
    },
    {
     "name": "stderr",
     "output_type": "stream",
     "text": [
      "\r",
      " 16%|████████████▉                                                                    | 16/100 [00:01<00:06, 12.97it/s]"
     ]
    },
    {
     "name": "stdout",
     "output_type": "stream",
     "text": [
      "Episode 100/100."
     ]
    },
    {
     "name": "stderr",
     "output_type": "stream",
     "text": [
      "\r",
      " 18%|██████████████▌                                                                  | 18/100 [00:01<00:06, 12.67it/s]"
     ]
    },
    {
     "name": "stdout",
     "output_type": "stream",
     "text": [
      "Episode 100/100."
     ]
    },
    {
     "name": "stderr",
     "output_type": "stream",
     "text": [
      "\r",
      " 20%|████████████████▏                                                                | 20/100 [00:01<00:06, 12.61it/s]"
     ]
    },
    {
     "name": "stdout",
     "output_type": "stream",
     "text": [
      "Episode 100/100."
     ]
    },
    {
     "name": "stderr",
     "output_type": "stream",
     "text": [
      "\r",
      " 22%|█████████████████▊                                                               | 22/100 [00:01<00:06, 12.56it/s]"
     ]
    },
    {
     "name": "stdout",
     "output_type": "stream",
     "text": [
      "Episode 100/100."
     ]
    },
    {
     "name": "stderr",
     "output_type": "stream",
     "text": [
      "\r",
      " 24%|███████████████████▍                                                             | 24/100 [00:01<00:06, 12.49it/s]"
     ]
    },
    {
     "name": "stdout",
     "output_type": "stream",
     "text": [
      "Episode 100/100."
     ]
    },
    {
     "name": "stderr",
     "output_type": "stream",
     "text": [
      "\r",
      " 26%|█████████████████████                                                            | 26/100 [00:02<00:06, 12.27it/s]"
     ]
    },
    {
     "name": "stdout",
     "output_type": "stream",
     "text": [
      "Episode 100/100."
     ]
    },
    {
     "name": "stderr",
     "output_type": "stream",
     "text": [
      "\r",
      " 28%|██████████████████████▋                                                          | 28/100 [00:02<00:05, 12.13it/s]"
     ]
    },
    {
     "name": "stdout",
     "output_type": "stream",
     "text": [
      "Episode 100/100."
     ]
    },
    {
     "name": "stderr",
     "output_type": "stream",
     "text": [
      "\r",
      " 30%|████████████████████████▎                                                        | 30/100 [00:02<00:05, 12.28it/s]"
     ]
    },
    {
     "name": "stdout",
     "output_type": "stream",
     "text": [
      "Episode 100/100."
     ]
    },
    {
     "name": "stderr",
     "output_type": "stream",
     "text": [
      "\r",
      " 32%|█████████████████████████▉                                                       | 32/100 [00:02<00:05, 12.74it/s]"
     ]
    },
    {
     "name": "stdout",
     "output_type": "stream",
     "text": [
      "Episode 100/100."
     ]
    },
    {
     "name": "stderr",
     "output_type": "stream",
     "text": [
      "\r",
      " 34%|███████████████████████████▌                                                     | 34/100 [00:02<00:05, 12.50it/s]"
     ]
    },
    {
     "name": "stdout",
     "output_type": "stream",
     "text": [
      "Episode 100/100."
     ]
    },
    {
     "name": "stderr",
     "output_type": "stream",
     "text": [
      "\r",
      " 36%|█████████████████████████████▏                                                   | 36/100 [00:02<00:05, 12.57it/s]"
     ]
    },
    {
     "name": "stdout",
     "output_type": "stream",
     "text": [
      "Episode 100/100."
     ]
    },
    {
     "name": "stderr",
     "output_type": "stream",
     "text": [
      "\r",
      " 38%|██████████████████████████████▊                                                  | 38/100 [00:03<00:05, 12.39it/s]"
     ]
    },
    {
     "name": "stdout",
     "output_type": "stream",
     "text": [
      "Episode 100/100."
     ]
    },
    {
     "name": "stderr",
     "output_type": "stream",
     "text": [
      "\r",
      " 40%|████████████████████████████████▍                                                | 40/100 [00:03<00:04, 12.58it/s]"
     ]
    },
    {
     "name": "stdout",
     "output_type": "stream",
     "text": [
      "Episode 100/100."
     ]
    },
    {
     "name": "stderr",
     "output_type": "stream",
     "text": [
      "\r",
      " 42%|██████████████████████████████████                                               | 42/100 [00:03<00:04, 12.98it/s]"
     ]
    },
    {
     "name": "stdout",
     "output_type": "stream",
     "text": [
      "Episode 100/100."
     ]
    },
    {
     "name": "stderr",
     "output_type": "stream",
     "text": [
      "\r",
      " 44%|███████████████████████████████████▋                                             | 44/100 [00:03<00:04, 12.28it/s]"
     ]
    },
    {
     "name": "stdout",
     "output_type": "stream",
     "text": [
      "Episode 100/100."
     ]
    },
    {
     "name": "stderr",
     "output_type": "stream",
     "text": [
      "\r",
      " 46%|█████████████████████████████████████▎                                           | 46/100 [00:03<00:04, 11.69it/s]"
     ]
    },
    {
     "name": "stdout",
     "output_type": "stream",
     "text": [
      "Episode 100/100."
     ]
    },
    {
     "name": "stderr",
     "output_type": "stream",
     "text": [
      "\r",
      " 48%|██████████████████████████████████████▉                                          | 48/100 [00:03<00:04, 11.89it/s]"
     ]
    },
    {
     "name": "stdout",
     "output_type": "stream",
     "text": [
      "Episode 100/100."
     ]
    },
    {
     "name": "stderr",
     "output_type": "stream",
     "text": [
      "\r",
      " 50%|████████████████████████████████████████▌                                        | 50/100 [00:04<00:04, 12.42it/s]"
     ]
    },
    {
     "name": "stdout",
     "output_type": "stream",
     "text": [
      "Episode 100/100."
     ]
    },
    {
     "name": "stderr",
     "output_type": "stream",
     "text": [
      "\r",
      " 52%|██████████████████████████████████████████                                       | 52/100 [00:04<00:03, 12.65it/s]"
     ]
    },
    {
     "name": "stdout",
     "output_type": "stream",
     "text": [
      "Episode 100/100."
     ]
    },
    {
     "name": "stderr",
     "output_type": "stream",
     "text": [
      "\r",
      " 54%|███████████████████████████████████████████▋                                     | 54/100 [00:04<00:03, 12.83it/s]"
     ]
    },
    {
     "name": "stdout",
     "output_type": "stream",
     "text": [
      "Episode 100/100."
     ]
    },
    {
     "name": "stderr",
     "output_type": "stream",
     "text": [
      "\r",
      " 56%|█████████████████████████████████████████████▎                                   | 56/100 [00:04<00:03, 13.15it/s]"
     ]
    },
    {
     "name": "stdout",
     "output_type": "stream",
     "text": [
      "Episode 100/100."
     ]
    },
    {
     "name": "stderr",
     "output_type": "stream",
     "text": [
      "\r",
      " 58%|██████████████████████████████████████████████▉                                  | 58/100 [00:04<00:03, 13.58it/s]"
     ]
    },
    {
     "name": "stdout",
     "output_type": "stream",
     "text": [
      "Episode 100/100."
     ]
    },
    {
     "name": "stderr",
     "output_type": "stream",
     "text": [
      "\r",
      " 60%|████████████████████████████████████████████████▌                                | 60/100 [00:04<00:02, 13.82it/s]"
     ]
    },
    {
     "name": "stdout",
     "output_type": "stream",
     "text": [
      "Episode 100/100."
     ]
    },
    {
     "name": "stderr",
     "output_type": "stream",
     "text": [
      "\r",
      " 62%|██████████████████████████████████████████████████▏                              | 62/100 [00:04<00:02, 13.56it/s]"
     ]
    },
    {
     "name": "stdout",
     "output_type": "stream",
     "text": [
      "Episode 100/100."
     ]
    },
    {
     "name": "stderr",
     "output_type": "stream",
     "text": [
      "\r",
      " 64%|███████████████████████████████████████████████████▊                             | 64/100 [00:05<00:02, 13.49it/s]"
     ]
    },
    {
     "name": "stdout",
     "output_type": "stream",
     "text": [
      "Episode 100/100."
     ]
    },
    {
     "name": "stderr",
     "output_type": "stream",
     "text": [
      "\r",
      " 66%|█████████████████████████████████████████████████████▍                           | 66/100 [00:05<00:02, 13.74it/s]"
     ]
    },
    {
     "name": "stdout",
     "output_type": "stream",
     "text": [
      "Episode 100/100."
     ]
    },
    {
     "name": "stderr",
     "output_type": "stream",
     "text": [
      "\r",
      " 68%|███████████████████████████████████████████████████████                          | 68/100 [00:05<00:02, 14.10it/s]"
     ]
    },
    {
     "name": "stdout",
     "output_type": "stream",
     "text": [
      "Episode 100/100."
     ]
    },
    {
     "name": "stderr",
     "output_type": "stream",
     "text": [
      "\r",
      " 70%|████████████████████████████████████████████████████████▋                        | 70/100 [00:05<00:02, 14.50it/s]"
     ]
    },
    {
     "name": "stdout",
     "output_type": "stream",
     "text": [
      "Episode 100/100."
     ]
    },
    {
     "name": "stderr",
     "output_type": "stream",
     "text": [
      "\r",
      " 72%|██████████████████████████████████████████████████████████▎                      | 72/100 [00:05<00:01, 15.51it/s]"
     ]
    },
    {
     "name": "stdout",
     "output_type": "stream",
     "text": [
      "Episode 100/100."
     ]
    },
    {
     "name": "stderr",
     "output_type": "stream",
     "text": [
      "\r",
      " 74%|███████████████████████████████████████████████████████████▉                     | 74/100 [00:05<00:01, 14.40it/s]"
     ]
    },
    {
     "name": "stdout",
     "output_type": "stream",
     "text": [
      "Episode 100/100."
     ]
    },
    {
     "name": "stderr",
     "output_type": "stream",
     "text": [
      "\r",
      " 76%|█████████████████████████████████████████████████████████████▌                   | 76/100 [00:05<00:01, 13.79it/s]"
     ]
    },
    {
     "name": "stdout",
     "output_type": "stream",
     "text": [
      "Episode 100/100."
     ]
    },
    {
     "name": "stderr",
     "output_type": "stream",
     "text": [
      "\r",
      " 78%|███████████████████████████████████████████████████████████████▏                 | 78/100 [00:06<00:01, 13.75it/s]"
     ]
    },
    {
     "name": "stdout",
     "output_type": "stream",
     "text": [
      "Episode 100/100."
     ]
    },
    {
     "name": "stderr",
     "output_type": "stream",
     "text": [
      "\r",
      " 80%|████████████████████████████████████████████████████████████████▊                | 80/100 [00:06<00:01, 13.32it/s]"
     ]
    },
    {
     "name": "stdout",
     "output_type": "stream",
     "text": [
      "Episode 100/100."
     ]
    },
    {
     "name": "stderr",
     "output_type": "stream",
     "text": [
      "\r",
      " 82%|██████████████████████████████████████████████████████████████████▍              | 82/100 [00:06<00:01, 13.04it/s]"
     ]
    },
    {
     "name": "stdout",
     "output_type": "stream",
     "text": [
      "Episode 100/100."
     ]
    },
    {
     "name": "stderr",
     "output_type": "stream",
     "text": [
      "\r",
      " 84%|████████████████████████████████████████████████████████████████████             | 84/100 [00:06<00:01, 13.09it/s]"
     ]
    },
    {
     "name": "stdout",
     "output_type": "stream",
     "text": [
      "Episode 100/100."
     ]
    },
    {
     "name": "stderr",
     "output_type": "stream",
     "text": [
      "\r",
      " 86%|█████████████████████████████████████████████████████████████████████▋           | 86/100 [00:06<00:01, 13.45it/s]"
     ]
    },
    {
     "name": "stdout",
     "output_type": "stream",
     "text": [
      "Episode 100/100."
     ]
    },
    {
     "name": "stderr",
     "output_type": "stream",
     "text": [
      "\r",
      " 88%|███████████████████████████████████████████████████████████████████████▎         | 88/100 [00:06<00:00, 13.84it/s]"
     ]
    },
    {
     "name": "stdout",
     "output_type": "stream",
     "text": [
      "Episode 100/100."
     ]
    },
    {
     "name": "stderr",
     "output_type": "stream",
     "text": [
      "\r",
      " 90%|████████████████████████████████████████████████████████████████████████▉        | 90/100 [00:06<00:00, 13.73it/s]"
     ]
    },
    {
     "name": "stdout",
     "output_type": "stream",
     "text": [
      "Episode 100/100."
     ]
    },
    {
     "name": "stderr",
     "output_type": "stream",
     "text": [
      "\r",
      " 92%|██████████████████████████████████████████████████████████████████████████▌      | 92/100 [00:07<00:00, 13.33it/s]"
     ]
    },
    {
     "name": "stdout",
     "output_type": "stream",
     "text": [
      "Episode 100/100."
     ]
    },
    {
     "name": "stderr",
     "output_type": "stream",
     "text": [
      "\r",
      " 94%|████████████████████████████████████████████████████████████████████████████▏    | 94/100 [00:07<00:00, 13.42it/s]"
     ]
    },
    {
     "name": "stdout",
     "output_type": "stream",
     "text": [
      "Episode 100/100."
     ]
    },
    {
     "name": "stderr",
     "output_type": "stream",
     "text": [
      "\r",
      " 96%|█████████████████████████████████████████████████████████████████████████████▊   | 96/100 [00:07<00:00, 13.20it/s]"
     ]
    },
    {
     "name": "stdout",
     "output_type": "stream",
     "text": [
      "Episode 100/100."
     ]
    },
    {
     "name": "stderr",
     "output_type": "stream",
     "text": [
      "\r",
      " 98%|███████████████████████████████████████████████████████████████████████████████▍ | 98/100 [00:07<00:00, 13.02it/s]"
     ]
    },
    {
     "name": "stdout",
     "output_type": "stream",
     "text": [
      "Episode 100/100."
     ]
    },
    {
     "name": "stderr",
     "output_type": "stream",
     "text": [
      "100%|████████████████████████████████████████████████████████████████████████████████| 100/100 [00:07<00:00, 13.06it/s]\n",
      "  0%|                                                                                          | 0/100 [00:00<?, ?it/s]"
     ]
    },
    {
     "name": "stdout",
     "output_type": "stream",
     "text": [
      "Episode 100/100."
     ]
    },
    {
     "name": "stderr",
     "output_type": "stream",
     "text": [
      "\r",
      "  2%|█▋                                                                                | 2/100 [00:00<00:06, 15.20it/s]"
     ]
    },
    {
     "name": "stdout",
     "output_type": "stream",
     "text": [
      "Episode 100/100."
     ]
    },
    {
     "name": "stderr",
     "output_type": "stream",
     "text": [
      "\r",
      "  4%|███▎                                                                              | 4/100 [00:00<00:06, 14.63it/s]"
     ]
    },
    {
     "name": "stdout",
     "output_type": "stream",
     "text": [
      "Episode 100/100."
     ]
    },
    {
     "name": "stderr",
     "output_type": "stream",
     "text": [
      "\r",
      "  6%|████▉                                                                             | 6/100 [00:00<00:06, 14.15it/s]"
     ]
    },
    {
     "name": "stdout",
     "output_type": "stream",
     "text": [
      "Episode 100/100."
     ]
    },
    {
     "name": "stderr",
     "output_type": "stream",
     "text": [
      "\r",
      "  8%|██████▌                                                                           | 8/100 [00:00<00:06, 13.74it/s]"
     ]
    },
    {
     "name": "stdout",
     "output_type": "stream",
     "text": [
      "Episode 100/100."
     ]
    },
    {
     "name": "stderr",
     "output_type": "stream",
     "text": [
      "\r",
      " 10%|████████                                                                         | 10/100 [00:00<00:06, 13.31it/s]"
     ]
    },
    {
     "name": "stdout",
     "output_type": "stream",
     "text": [
      "Episode 100/100."
     ]
    },
    {
     "name": "stderr",
     "output_type": "stream",
     "text": [
      "\r",
      " 12%|█████████▋                                                                       | 12/100 [00:00<00:06, 13.56it/s]"
     ]
    },
    {
     "name": "stdout",
     "output_type": "stream",
     "text": [
      "Episode 100/100."
     ]
    },
    {
     "name": "stderr",
     "output_type": "stream",
     "text": [
      "\r",
      " 14%|███████████▎                                                                     | 14/100 [00:01<00:06, 13.75it/s]"
     ]
    },
    {
     "name": "stdout",
     "output_type": "stream",
     "text": [
      "Episode 100/100."
     ]
    },
    {
     "name": "stderr",
     "output_type": "stream",
     "text": [
      "\r",
      " 16%|████████████▉                                                                    | 16/100 [00:01<00:06, 13.50it/s]"
     ]
    },
    {
     "name": "stdout",
     "output_type": "stream",
     "text": [
      "Episode 100/100."
     ]
    },
    {
     "name": "stderr",
     "output_type": "stream",
     "text": [
      "\r",
      " 18%|██████████████▌                                                                  | 18/100 [00:01<00:06, 12.63it/s]"
     ]
    },
    {
     "name": "stdout",
     "output_type": "stream",
     "text": [
      "Episode 100/100."
     ]
    },
    {
     "name": "stderr",
     "output_type": "stream",
     "text": [
      "\r",
      " 20%|████████████████▏                                                                | 20/100 [00:01<00:06, 12.83it/s]"
     ]
    },
    {
     "name": "stdout",
     "output_type": "stream",
     "text": [
      "Episode 100/100."
     ]
    },
    {
     "name": "stderr",
     "output_type": "stream",
     "text": [
      "\r",
      " 22%|█████████████████▊                                                               | 22/100 [00:01<00:05, 13.17it/s]"
     ]
    },
    {
     "name": "stdout",
     "output_type": "stream",
     "text": [
      "Episode 100/100."
     ]
    },
    {
     "name": "stderr",
     "output_type": "stream",
     "text": [
      "\r",
      " 24%|███████████████████▍                                                             | 24/100 [00:01<00:05, 13.32it/s]"
     ]
    },
    {
     "name": "stdout",
     "output_type": "stream",
     "text": [
      "Episode 100/100."
     ]
    },
    {
     "name": "stderr",
     "output_type": "stream",
     "text": [
      "\r",
      " 26%|█████████████████████                                                            | 26/100 [00:01<00:05, 13.42it/s]"
     ]
    },
    {
     "name": "stdout",
     "output_type": "stream",
     "text": [
      "Episode 100/100."
     ]
    },
    {
     "name": "stderr",
     "output_type": "stream",
     "text": [
      "\r",
      " 28%|██████████████████████▋                                                          | 28/100 [00:02<00:05, 13.38it/s]"
     ]
    },
    {
     "name": "stdout",
     "output_type": "stream",
     "text": [
      "Episode 100/100."
     ]
    },
    {
     "name": "stderr",
     "output_type": "stream",
     "text": [
      "\r",
      " 30%|████████████████████████▎                                                        | 30/100 [00:02<00:05, 13.31it/s]"
     ]
    },
    {
     "name": "stdout",
     "output_type": "stream",
     "text": [
      "Episode 100/100."
     ]
    },
    {
     "name": "stderr",
     "output_type": "stream",
     "text": [
      "\r",
      " 32%|█████████████████████████▉                                                       | 32/100 [00:02<00:05, 12.69it/s]"
     ]
    },
    {
     "name": "stdout",
     "output_type": "stream",
     "text": [
      "Episode 100/100."
     ]
    },
    {
     "name": "stderr",
     "output_type": "stream",
     "text": [
      "\r",
      " 34%|███████████████████████████▌                                                     | 34/100 [00:02<00:05, 13.12it/s]"
     ]
    },
    {
     "name": "stdout",
     "output_type": "stream",
     "text": [
      "Episode 100/100."
     ]
    },
    {
     "name": "stderr",
     "output_type": "stream",
     "text": [
      "\r",
      " 36%|█████████████████████████████▏                                                   | 36/100 [00:02<00:04, 13.05it/s]"
     ]
    },
    {
     "name": "stdout",
     "output_type": "stream",
     "text": [
      "Episode 100/100."
     ]
    },
    {
     "name": "stderr",
     "output_type": "stream",
     "text": [
      "\r",
      " 38%|██████████████████████████████▊                                                  | 38/100 [00:02<00:04, 13.16it/s]"
     ]
    },
    {
     "name": "stdout",
     "output_type": "stream",
     "text": [
      "Episode 100/100."
     ]
    },
    {
     "name": "stderr",
     "output_type": "stream",
     "text": [
      "\r",
      " 40%|████████████████████████████████▍                                                | 40/100 [00:02<00:04, 13.46it/s]"
     ]
    },
    {
     "name": "stdout",
     "output_type": "stream",
     "text": [
      "Episode 100/100."
     ]
    },
    {
     "name": "stderr",
     "output_type": "stream",
     "text": [
      "\r",
      " 42%|██████████████████████████████████                                               | 42/100 [00:03<00:04, 13.73it/s]"
     ]
    },
    {
     "name": "stdout",
     "output_type": "stream",
     "text": [
      "Episode 100/100."
     ]
    },
    {
     "name": "stderr",
     "output_type": "stream",
     "text": [
      "\r",
      " 44%|███████████████████████████████████▋                                             | 44/100 [00:03<00:04, 13.65it/s]"
     ]
    },
    {
     "name": "stdout",
     "output_type": "stream",
     "text": [
      "Episode 100/100."
     ]
    },
    {
     "name": "stderr",
     "output_type": "stream",
     "text": [
      "\r",
      " 46%|█████████████████████████████████████▎                                           | 46/100 [00:03<00:04, 13.31it/s]"
     ]
    },
    {
     "name": "stdout",
     "output_type": "stream",
     "text": [
      "Episode 100/100."
     ]
    },
    {
     "name": "stderr",
     "output_type": "stream",
     "text": [
      "\r",
      " 48%|██████████████████████████████████████▉                                          | 48/100 [00:03<00:03, 13.17it/s]"
     ]
    },
    {
     "name": "stdout",
     "output_type": "stream",
     "text": [
      "Episode 100/100."
     ]
    },
    {
     "name": "stderr",
     "output_type": "stream",
     "text": [
      "\r",
      " 50%|████████████████████████████████████████▌                                        | 50/100 [00:03<00:03, 13.34it/s]"
     ]
    },
    {
     "name": "stdout",
     "output_type": "stream",
     "text": [
      "Episode 100/100."
     ]
    },
    {
     "name": "stderr",
     "output_type": "stream",
     "text": [
      "\r",
      " 52%|██████████████████████████████████████████                                       | 52/100 [00:03<00:03, 13.45it/s]"
     ]
    },
    {
     "name": "stdout",
     "output_type": "stream",
     "text": [
      "Episode 100/100."
     ]
    },
    {
     "name": "stderr",
     "output_type": "stream",
     "text": [
      "\r",
      " 54%|███████████████████████████████████████████▋                                     | 54/100 [00:04<00:03, 13.67it/s]"
     ]
    },
    {
     "name": "stdout",
     "output_type": "stream",
     "text": [
      "Episode 100/100."
     ]
    },
    {
     "name": "stderr",
     "output_type": "stream",
     "text": [
      "\r",
      " 56%|█████████████████████████████████████████████▎                                   | 56/100 [00:04<00:03, 13.49it/s]"
     ]
    },
    {
     "name": "stdout",
     "output_type": "stream",
     "text": [
      "Episode 100/100."
     ]
    },
    {
     "name": "stderr",
     "output_type": "stream",
     "text": [
      "\r",
      " 58%|██████████████████████████████████████████████▉                                  | 58/100 [00:04<00:03, 13.17it/s]"
     ]
    },
    {
     "name": "stdout",
     "output_type": "stream",
     "text": [
      "Episode 100/100."
     ]
    },
    {
     "name": "stderr",
     "output_type": "stream",
     "text": [
      "\r",
      " 60%|████████████████████████████████████████████████▌                                | 60/100 [00:04<00:03, 12.90it/s]"
     ]
    },
    {
     "name": "stdout",
     "output_type": "stream",
     "text": [
      "Episode 100/100."
     ]
    },
    {
     "name": "stderr",
     "output_type": "stream",
     "text": [
      "\r",
      " 62%|██████████████████████████████████████████████████▏                              | 62/100 [00:04<00:02, 13.32it/s]"
     ]
    },
    {
     "name": "stdout",
     "output_type": "stream",
     "text": [
      "Episode 100/100."
     ]
    },
    {
     "name": "stderr",
     "output_type": "stream",
     "text": [
      "\r",
      " 64%|███████████████████████████████████████████████████▊                             | 64/100 [00:04<00:02, 13.29it/s]"
     ]
    },
    {
     "name": "stdout",
     "output_type": "stream",
     "text": [
      "Episode 100/100."
     ]
    },
    {
     "name": "stderr",
     "output_type": "stream",
     "text": [
      "\r",
      " 66%|█████████████████████████████████████████████████████▍                           | 66/100 [00:04<00:02, 12.89it/s]"
     ]
    },
    {
     "name": "stdout",
     "output_type": "stream",
     "text": [
      "Episode 100/100."
     ]
    },
    {
     "name": "stderr",
     "output_type": "stream",
     "text": [
      "\r",
      " 68%|███████████████████████████████████████████████████████                          | 68/100 [00:05<00:02, 13.05it/s]"
     ]
    },
    {
     "name": "stdout",
     "output_type": "stream",
     "text": [
      "Episode 100/100."
     ]
    },
    {
     "name": "stderr",
     "output_type": "stream",
     "text": [
      "\r",
      " 70%|████████████████████████████████████████████████████████▋                        | 70/100 [00:05<00:02, 12.77it/s]"
     ]
    },
    {
     "name": "stdout",
     "output_type": "stream",
     "text": [
      "Episode 100/100."
     ]
    },
    {
     "name": "stderr",
     "output_type": "stream",
     "text": [
      "\r",
      " 72%|██████████████████████████████████████████████████████████▎                      | 72/100 [00:05<00:02, 12.92it/s]"
     ]
    },
    {
     "name": "stdout",
     "output_type": "stream",
     "text": [
      "Episode 100/100."
     ]
    },
    {
     "name": "stderr",
     "output_type": "stream",
     "text": [
      "\r",
      " 74%|███████████████████████████████████████████████████████████▉                     | 74/100 [00:05<00:01, 13.31it/s]"
     ]
    },
    {
     "name": "stdout",
     "output_type": "stream",
     "text": [
      "Episode 100/100."
     ]
    },
    {
     "name": "stderr",
     "output_type": "stream",
     "text": [
      "\r",
      " 76%|█████████████████████████████████████████████████████████████▌                   | 76/100 [00:05<00:01, 13.81it/s]"
     ]
    },
    {
     "name": "stdout",
     "output_type": "stream",
     "text": [
      "Episode 100/100."
     ]
    },
    {
     "name": "stderr",
     "output_type": "stream",
     "text": [
      "\r",
      " 78%|███████████████████████████████████████████████████████████████▏                 | 78/100 [00:05<00:01, 13.91it/s]"
     ]
    },
    {
     "name": "stdout",
     "output_type": "stream",
     "text": [
      "Episode 100/100."
     ]
    },
    {
     "name": "stderr",
     "output_type": "stream",
     "text": [
      "\r",
      " 80%|████████████████████████████████████████████████████████████████▊                | 80/100 [00:06<00:01, 13.38it/s]"
     ]
    },
    {
     "name": "stdout",
     "output_type": "stream",
     "text": [
      "Episode 100/100."
     ]
    },
    {
     "name": "stderr",
     "output_type": "stream",
     "text": [
      "\r",
      " 82%|██████████████████████████████████████████████████████████████████▍              | 82/100 [00:06<00:01, 13.50it/s]"
     ]
    },
    {
     "name": "stdout",
     "output_type": "stream",
     "text": [
      "Episode 100/100."
     ]
    },
    {
     "name": "stderr",
     "output_type": "stream",
     "text": [
      "\r",
      " 84%|████████████████████████████████████████████████████████████████████             | 84/100 [00:06<00:01, 13.32it/s]"
     ]
    },
    {
     "name": "stdout",
     "output_type": "stream",
     "text": [
      "Episode 100/100."
     ]
    },
    {
     "name": "stderr",
     "output_type": "stream",
     "text": [
      "\r",
      " 86%|█████████████████████████████████████████████████████████████████████▋           | 86/100 [00:06<00:01, 12.98it/s]"
     ]
    },
    {
     "name": "stdout",
     "output_type": "stream",
     "text": [
      "Episode 100/100."
     ]
    },
    {
     "name": "stderr",
     "output_type": "stream",
     "text": [
      "\r",
      " 88%|███████████████████████████████████████████████████████████████████████▎         | 88/100 [00:06<00:00, 13.14it/s]"
     ]
    },
    {
     "name": "stdout",
     "output_type": "stream",
     "text": [
      "Episode 100/100."
     ]
    },
    {
     "name": "stderr",
     "output_type": "stream",
     "text": [
      "\r",
      " 90%|████████████████████████████████████████████████████████████████████████▉        | 90/100 [00:06<00:00, 13.35it/s]"
     ]
    },
    {
     "name": "stdout",
     "output_type": "stream",
     "text": [
      "Episode 100/100."
     ]
    },
    {
     "name": "stderr",
     "output_type": "stream",
     "text": [
      "\r",
      " 92%|██████████████████████████████████████████████████████████████████████████▌      | 92/100 [00:06<00:00, 13.47it/s]"
     ]
    },
    {
     "name": "stdout",
     "output_type": "stream",
     "text": [
      "Episode 100/100."
     ]
    },
    {
     "name": "stderr",
     "output_type": "stream",
     "text": [
      "\r",
      " 94%|████████████████████████████████████████████████████████████████████████████▏    | 94/100 [00:07<00:00, 13.66it/s]"
     ]
    },
    {
     "name": "stdout",
     "output_type": "stream",
     "text": [
      "Episode 100/100."
     ]
    },
    {
     "name": "stderr",
     "output_type": "stream",
     "text": [
      "\r",
      " 96%|█████████████████████████████████████████████████████████████████████████████▊   | 96/100 [00:07<00:00, 13.63it/s]"
     ]
    },
    {
     "name": "stdout",
     "output_type": "stream",
     "text": [
      "Episode 100/100."
     ]
    },
    {
     "name": "stderr",
     "output_type": "stream",
     "text": [
      "\r",
      " 98%|███████████████████████████████████████████████████████████████████████████████▍ | 98/100 [00:07<00:00, 12.88it/s]"
     ]
    },
    {
     "name": "stdout",
     "output_type": "stream",
     "text": [
      "Episode 100/100."
     ]
    },
    {
     "name": "stderr",
     "output_type": "stream",
     "text": [
      "100%|████████████████████████████████████████████████████████████████████████████████| 100/100 [00:07<00:00, 13.29it/s]\n",
      "  0%|                                                                                          | 0/100 [00:00<?, ?it/s]"
     ]
    },
    {
     "name": "stdout",
     "output_type": "stream",
     "text": [
      "Episode 100/100."
     ]
    },
    {
     "name": "stderr",
     "output_type": "stream",
     "text": [
      "\r",
      "  2%|█▋                                                                                | 2/100 [00:00<00:07, 13.65it/s]"
     ]
    },
    {
     "name": "stdout",
     "output_type": "stream",
     "text": [
      "Episode 100/100."
     ]
    },
    {
     "name": "stderr",
     "output_type": "stream",
     "text": [
      "\r",
      "  4%|███▎                                                                              | 4/100 [00:00<00:06, 13.87it/s]"
     ]
    },
    {
     "name": "stdout",
     "output_type": "stream",
     "text": [
      "Episode 100/100."
     ]
    },
    {
     "name": "stderr",
     "output_type": "stream",
     "text": [
      "\r",
      "  6%|████▉                                                                             | 6/100 [00:00<00:06, 13.59it/s]"
     ]
    },
    {
     "name": "stdout",
     "output_type": "stream",
     "text": [
      "Episode 100/100."
     ]
    },
    {
     "name": "stderr",
     "output_type": "stream",
     "text": [
      "\r",
      "  8%|██████▌                                                                           | 8/100 [00:00<00:06, 13.44it/s]"
     ]
    },
    {
     "name": "stdout",
     "output_type": "stream",
     "text": [
      "Episode 100/100."
     ]
    },
    {
     "name": "stderr",
     "output_type": "stream",
     "text": [
      "\r",
      " 10%|████████                                                                         | 10/100 [00:00<00:06, 13.77it/s]"
     ]
    },
    {
     "name": "stdout",
     "output_type": "stream",
     "text": [
      "Episode 100/100."
     ]
    },
    {
     "name": "stderr",
     "output_type": "stream",
     "text": [
      "\r",
      " 12%|█████████▋                                                                       | 12/100 [00:00<00:06, 13.76it/s]"
     ]
    },
    {
     "name": "stdout",
     "output_type": "stream",
     "text": [
      "Episode 100/100."
     ]
    },
    {
     "name": "stderr",
     "output_type": "stream",
     "text": [
      "\r",
      " 14%|███████████▎                                                                     | 14/100 [00:01<00:06, 13.36it/s]"
     ]
    },
    {
     "name": "stdout",
     "output_type": "stream",
     "text": [
      "Episode 100/100."
     ]
    },
    {
     "name": "stderr",
     "output_type": "stream",
     "text": [
      "\r",
      " 16%|████████████▉                                                                    | 16/100 [00:01<00:06, 13.41it/s]"
     ]
    },
    {
     "name": "stdout",
     "output_type": "stream",
     "text": [
      "Episode 100/100."
     ]
    },
    {
     "name": "stderr",
     "output_type": "stream",
     "text": [
      "\r",
      " 18%|██████████████▌                                                                  | 18/100 [00:01<00:06, 12.84it/s]"
     ]
    },
    {
     "name": "stdout",
     "output_type": "stream",
     "text": [
      "Episode 100/100."
     ]
    },
    {
     "name": "stderr",
     "output_type": "stream",
     "text": [
      "\r",
      " 20%|████████████████▏                                                                | 20/100 [00:01<00:06, 12.67it/s]"
     ]
    },
    {
     "name": "stdout",
     "output_type": "stream",
     "text": [
      "Episode 100/100."
     ]
    },
    {
     "name": "stderr",
     "output_type": "stream",
     "text": [
      "\r",
      " 22%|█████████████████▊                                                               | 22/100 [00:01<00:06, 12.83it/s]"
     ]
    },
    {
     "name": "stdout",
     "output_type": "stream",
     "text": [
      "Episode 100/100."
     ]
    },
    {
     "name": "stderr",
     "output_type": "stream",
     "text": [
      "\r",
      " 24%|███████████████████▍                                                             | 24/100 [00:01<00:06, 12.37it/s]"
     ]
    },
    {
     "name": "stdout",
     "output_type": "stream",
     "text": [
      "Episode 100/100."
     ]
    },
    {
     "name": "stderr",
     "output_type": "stream",
     "text": [
      "\r",
      " 26%|█████████████████████                                                            | 26/100 [00:01<00:05, 12.90it/s]"
     ]
    },
    {
     "name": "stdout",
     "output_type": "stream",
     "text": [
      "Episode 100/100."
     ]
    },
    {
     "name": "stderr",
     "output_type": "stream",
     "text": [
      "\r",
      " 28%|██████████████████████▋                                                          | 28/100 [00:02<00:05, 13.43it/s]"
     ]
    },
    {
     "name": "stdout",
     "output_type": "stream",
     "text": [
      "Episode 100/100."
     ]
    },
    {
     "name": "stderr",
     "output_type": "stream",
     "text": [
      "\r",
      " 30%|████████████████████████▎                                                        | 30/100 [00:02<00:05, 13.20it/s]"
     ]
    },
    {
     "name": "stdout",
     "output_type": "stream",
     "text": [
      "Episode 100/100."
     ]
    },
    {
     "name": "stderr",
     "output_type": "stream",
     "text": [
      "\r",
      " 32%|█████████████████████████▉                                                       | 32/100 [00:02<00:04, 13.74it/s]"
     ]
    },
    {
     "name": "stdout",
     "output_type": "stream",
     "text": [
      "Episode 100/100."
     ]
    },
    {
     "name": "stderr",
     "output_type": "stream",
     "text": [
      "\r",
      " 34%|███████████████████████████▌                                                     | 34/100 [00:02<00:04, 13.29it/s]"
     ]
    },
    {
     "name": "stdout",
     "output_type": "stream",
     "text": [
      "Episode 100/100."
     ]
    },
    {
     "name": "stderr",
     "output_type": "stream",
     "text": [
      "\r",
      " 36%|█████████████████████████████▏                                                   | 36/100 [00:02<00:04, 13.25it/s]"
     ]
    },
    {
     "name": "stdout",
     "output_type": "stream",
     "text": [
      "Episode 100/100."
     ]
    },
    {
     "name": "stderr",
     "output_type": "stream",
     "text": [
      "\r",
      " 38%|██████████████████████████████▊                                                  | 38/100 [00:02<00:04, 13.31it/s]"
     ]
    },
    {
     "name": "stdout",
     "output_type": "stream",
     "text": [
      "Episode 100/100."
     ]
    },
    {
     "name": "stderr",
     "output_type": "stream",
     "text": [
      "\r",
      " 40%|████████████████████████████████▍                                                | 40/100 [00:03<00:04, 13.12it/s]"
     ]
    },
    {
     "name": "stdout",
     "output_type": "stream",
     "text": [
      "Episode 100/100."
     ]
    },
    {
     "name": "stderr",
     "output_type": "stream",
     "text": [
      "\r",
      " 42%|██████████████████████████████████                                               | 42/100 [00:03<00:04, 12.91it/s]"
     ]
    },
    {
     "name": "stdout",
     "output_type": "stream",
     "text": [
      "Episode 100/100."
     ]
    },
    {
     "name": "stderr",
     "output_type": "stream",
     "text": [
      "\r",
      " 44%|███████████████████████████████████▋                                             | 44/100 [00:03<00:04, 13.29it/s]"
     ]
    },
    {
     "name": "stdout",
     "output_type": "stream",
     "text": [
      "Episode 100/100."
     ]
    },
    {
     "name": "stderr",
     "output_type": "stream",
     "text": [
      "\r",
      " 46%|█████████████████████████████████████▎                                           | 46/100 [00:03<00:03, 13.91it/s]"
     ]
    },
    {
     "name": "stdout",
     "output_type": "stream",
     "text": [
      "Episode 100/100."
     ]
    },
    {
     "name": "stderr",
     "output_type": "stream",
     "text": [
      "\r",
      " 48%|██████████████████████████████████████▉                                          | 48/100 [00:03<00:03, 14.04it/s]"
     ]
    },
    {
     "name": "stdout",
     "output_type": "stream",
     "text": [
      "Episode 100/100."
     ]
    },
    {
     "name": "stderr",
     "output_type": "stream",
     "text": [
      "\r",
      " 50%|████████████████████████████████████████▌                                        | 50/100 [00:03<00:03, 13.66it/s]"
     ]
    },
    {
     "name": "stdout",
     "output_type": "stream",
     "text": [
      "Episode 100/100."
     ]
    },
    {
     "name": "stderr",
     "output_type": "stream",
     "text": [
      "\r",
      " 52%|██████████████████████████████████████████                                       | 52/100 [00:03<00:03, 13.28it/s]"
     ]
    },
    {
     "name": "stdout",
     "output_type": "stream",
     "text": [
      "Episode 100/100."
     ]
    },
    {
     "name": "stderr",
     "output_type": "stream",
     "text": [
      "\r",
      " 54%|███████████████████████████████████████████▋                                     | 54/100 [00:04<00:03, 13.02it/s]"
     ]
    },
    {
     "name": "stdout",
     "output_type": "stream",
     "text": [
      "Episode 100/100."
     ]
    },
    {
     "name": "stderr",
     "output_type": "stream",
     "text": [
      "\r",
      " 56%|█████████████████████████████████████████████▎                                   | 56/100 [00:04<00:03, 13.43it/s]"
     ]
    },
    {
     "name": "stdout",
     "output_type": "stream",
     "text": [
      "Episode 100/100."
     ]
    },
    {
     "name": "stderr",
     "output_type": "stream",
     "text": [
      "\r",
      " 58%|██████████████████████████████████████████████▉                                  | 58/100 [00:04<00:03, 13.59it/s]"
     ]
    },
    {
     "name": "stdout",
     "output_type": "stream",
     "text": [
      "Episode 100/100."
     ]
    },
    {
     "name": "stderr",
     "output_type": "stream",
     "text": [
      "\r",
      " 60%|████████████████████████████████████████████████▌                                | 60/100 [00:04<00:02, 13.55it/s]"
     ]
    },
    {
     "name": "stdout",
     "output_type": "stream",
     "text": [
      "Episode 100/100."
     ]
    },
    {
     "name": "stderr",
     "output_type": "stream",
     "text": [
      "\r",
      " 62%|██████████████████████████████████████████████████▏                              | 62/100 [00:04<00:02, 13.81it/s]"
     ]
    },
    {
     "name": "stdout",
     "output_type": "stream",
     "text": [
      "Episode 100/100."
     ]
    },
    {
     "name": "stderr",
     "output_type": "stream",
     "text": [
      "\r",
      " 64%|███████████████████████████████████████████████████▊                             | 64/100 [00:04<00:02, 13.09it/s]"
     ]
    },
    {
     "name": "stdout",
     "output_type": "stream",
     "text": [
      "Episode 100/100."
     ]
    },
    {
     "name": "stderr",
     "output_type": "stream",
     "text": [
      "\r",
      " 66%|█████████████████████████████████████████████████████▍                           | 66/100 [00:04<00:02, 13.33it/s]"
     ]
    },
    {
     "name": "stdout",
     "output_type": "stream",
     "text": [
      "Episode 100/100."
     ]
    },
    {
     "name": "stderr",
     "output_type": "stream",
     "text": [
      "\r",
      " 68%|███████████████████████████████████████████████████████                          | 68/100 [00:05<00:02, 13.01it/s]"
     ]
    },
    {
     "name": "stdout",
     "output_type": "stream",
     "text": [
      "Episode 100/100."
     ]
    },
    {
     "name": "stderr",
     "output_type": "stream",
     "text": [
      "\r",
      " 70%|████████████████████████████████████████████████████████▋                        | 70/100 [00:05<00:02, 12.30it/s]"
     ]
    },
    {
     "name": "stdout",
     "output_type": "stream",
     "text": [
      "Episode 100/100."
     ]
    },
    {
     "name": "stderr",
     "output_type": "stream",
     "text": [
      "\r",
      " 72%|██████████████████████████████████████████████████████████▎                      | 72/100 [00:05<00:02, 12.02it/s]"
     ]
    },
    {
     "name": "stdout",
     "output_type": "stream",
     "text": [
      "Episode 100/100."
     ]
    },
    {
     "name": "stderr",
     "output_type": "stream",
     "text": [
      "\r",
      " 74%|███████████████████████████████████████████████████████████▉                     | 74/100 [00:05<00:02, 12.56it/s]"
     ]
    },
    {
     "name": "stdout",
     "output_type": "stream",
     "text": [
      "Episode 100/100."
     ]
    },
    {
     "name": "stderr",
     "output_type": "stream",
     "text": [
      "\r",
      " 76%|█████████████████████████████████████████████████████████████▌                   | 76/100 [00:05<00:01, 13.02it/s]"
     ]
    },
    {
     "name": "stdout",
     "output_type": "stream",
     "text": [
      "Episode 100/100."
     ]
    },
    {
     "name": "stderr",
     "output_type": "stream",
     "text": [
      "\r",
      " 78%|███████████████████████████████████████████████████████████████▏                 | 78/100 [00:05<00:01, 13.24it/s]"
     ]
    },
    {
     "name": "stdout",
     "output_type": "stream",
     "text": [
      "Episode 100/100."
     ]
    },
    {
     "name": "stderr",
     "output_type": "stream",
     "text": [
      "\r",
      " 80%|████████████████████████████████████████████████████████████████▊                | 80/100 [00:06<00:01, 13.54it/s]"
     ]
    },
    {
     "name": "stdout",
     "output_type": "stream",
     "text": [
      "Episode 100/100."
     ]
    },
    {
     "name": "stderr",
     "output_type": "stream",
     "text": [
      "\r",
      " 82%|██████████████████████████████████████████████████████████████████▍              | 82/100 [00:06<00:01, 13.40it/s]"
     ]
    },
    {
     "name": "stdout",
     "output_type": "stream",
     "text": [
      "Episode 100/100."
     ]
    },
    {
     "name": "stderr",
     "output_type": "stream",
     "text": [
      "\r",
      " 84%|████████████████████████████████████████████████████████████████████             | 84/100 [00:06<00:01, 13.45it/s]"
     ]
    },
    {
     "name": "stdout",
     "output_type": "stream",
     "text": [
      "Episode 100/100."
     ]
    },
    {
     "name": "stderr",
     "output_type": "stream",
     "text": [
      "\r",
      " 86%|█████████████████████████████████████████████████████████████████████▋           | 86/100 [00:06<00:01, 13.98it/s]"
     ]
    },
    {
     "name": "stdout",
     "output_type": "stream",
     "text": [
      "Episode 100/100."
     ]
    },
    {
     "name": "stderr",
     "output_type": "stream",
     "text": [
      "\r",
      " 88%|███████████████████████████████████████████████████████████████████████▎         | 88/100 [00:06<00:00, 13.71it/s]"
     ]
    },
    {
     "name": "stdout",
     "output_type": "stream",
     "text": [
      "Episode 100/100."
     ]
    },
    {
     "name": "stderr",
     "output_type": "stream",
     "text": [
      "\r",
      " 90%|████████████████████████████████████████████████████████████████████████▉        | 90/100 [00:06<00:00, 13.30it/s]"
     ]
    },
    {
     "name": "stdout",
     "output_type": "stream",
     "text": [
      "Episode 100/100."
     ]
    },
    {
     "name": "stderr",
     "output_type": "stream",
     "text": [
      "\r",
      " 92%|██████████████████████████████████████████████████████████████████████████▌      | 92/100 [00:06<00:00, 13.32it/s]"
     ]
    },
    {
     "name": "stdout",
     "output_type": "stream",
     "text": [
      "Episode 100/100."
     ]
    },
    {
     "name": "stderr",
     "output_type": "stream",
     "text": [
      "\r",
      " 94%|████████████████████████████████████████████████████████████████████████████▏    | 94/100 [00:07<00:00, 13.42it/s]"
     ]
    },
    {
     "name": "stdout",
     "output_type": "stream",
     "text": [
      "Episode 100/100."
     ]
    },
    {
     "name": "stderr",
     "output_type": "stream",
     "text": [
      "\r",
      " 96%|█████████████████████████████████████████████████████████████████████████████▊   | 96/100 [00:07<00:00, 14.10it/s]"
     ]
    },
    {
     "name": "stdout",
     "output_type": "stream",
     "text": [
      "Episode 100/100."
     ]
    },
    {
     "name": "stderr",
     "output_type": "stream",
     "text": [
      "\r",
      " 98%|███████████████████████████████████████████████████████████████████████████████▍ | 98/100 [00:07<00:00, 13.89it/s]"
     ]
    },
    {
     "name": "stdout",
     "output_type": "stream",
     "text": [
      "Episode 100/100."
     ]
    },
    {
     "name": "stderr",
     "output_type": "stream",
     "text": [
      "100%|████████████████████████████████████████████████████████████████████████████████| 100/100 [00:07<00:00, 13.27it/s]\n",
      "  0%|                                                                                          | 0/100 [00:00<?, ?it/s]"
     ]
    },
    {
     "name": "stdout",
     "output_type": "stream",
     "text": [
      "Episode 100/100."
     ]
    },
    {
     "name": "stderr",
     "output_type": "stream",
     "text": [
      "\r",
      "  2%|█▋                                                                                | 2/100 [00:00<00:07, 13.19it/s]"
     ]
    },
    {
     "name": "stdout",
     "output_type": "stream",
     "text": [
      "Episode 100/100."
     ]
    },
    {
     "name": "stderr",
     "output_type": "stream",
     "text": [
      "\r",
      "  4%|███▎                                                                              | 4/100 [00:00<00:07, 13.19it/s]"
     ]
    },
    {
     "name": "stdout",
     "output_type": "stream",
     "text": [
      "Episode 100/100."
     ]
    },
    {
     "name": "stderr",
     "output_type": "stream",
     "text": [
      "\r",
      "  6%|████▉                                                                             | 6/100 [00:00<00:07, 12.29it/s]"
     ]
    },
    {
     "name": "stdout",
     "output_type": "stream",
     "text": [
      "Episode 100/100."
     ]
    },
    {
     "name": "stderr",
     "output_type": "stream",
     "text": [
      "\r",
      "  8%|██████▌                                                                           | 8/100 [00:00<00:07, 12.60it/s]"
     ]
    },
    {
     "name": "stdout",
     "output_type": "stream",
     "text": [
      "Episode 100/100."
     ]
    },
    {
     "name": "stderr",
     "output_type": "stream",
     "text": [
      "\r",
      " 10%|████████                                                                         | 10/100 [00:00<00:07, 12.27it/s]"
     ]
    },
    {
     "name": "stdout",
     "output_type": "stream",
     "text": [
      "Episode 100/100."
     ]
    },
    {
     "name": "stderr",
     "output_type": "stream",
     "text": [
      "\r",
      " 12%|█████████▋                                                                       | 12/100 [00:00<00:06, 12.65it/s]"
     ]
    },
    {
     "name": "stdout",
     "output_type": "stream",
     "text": [
      "Episode 100/100."
     ]
    },
    {
     "name": "stderr",
     "output_type": "stream",
     "text": [
      "\r",
      " 14%|███████████▎                                                                     | 14/100 [00:01<00:07, 12.18it/s]"
     ]
    },
    {
     "name": "stdout",
     "output_type": "stream",
     "text": [
      "Episode 100/100."
     ]
    },
    {
     "name": "stderr",
     "output_type": "stream",
     "text": [
      "\r",
      " 16%|████████████▉                                                                    | 16/100 [00:01<00:07, 11.21it/s]"
     ]
    },
    {
     "name": "stdout",
     "output_type": "stream",
     "text": [
      "Episode 100/100."
     ]
    },
    {
     "name": "stderr",
     "output_type": "stream",
     "text": [
      "\r",
      " 18%|██████████████▌                                                                  | 18/100 [00:01<00:06, 11.76it/s]"
     ]
    },
    {
     "name": "stdout",
     "output_type": "stream",
     "text": [
      "Episode 100/100."
     ]
    },
    {
     "name": "stderr",
     "output_type": "stream",
     "text": [
      "\r",
      " 20%|████████████████▏                                                                | 20/100 [00:01<00:06, 12.13it/s]"
     ]
    },
    {
     "name": "stdout",
     "output_type": "stream",
     "text": [
      "Episode 100/100."
     ]
    },
    {
     "name": "stderr",
     "output_type": "stream",
     "text": [
      "\r",
      " 22%|█████████████████▊                                                               | 22/100 [00:01<00:06, 12.45it/s]"
     ]
    },
    {
     "name": "stdout",
     "output_type": "stream",
     "text": [
      "Episode 100/100."
     ]
    },
    {
     "name": "stderr",
     "output_type": "stream",
     "text": [
      "\r",
      " 24%|███████████████████▍                                                             | 24/100 [00:01<00:06, 12.58it/s]"
     ]
    },
    {
     "name": "stdout",
     "output_type": "stream",
     "text": [
      "Episode 100/100."
     ]
    },
    {
     "name": "stderr",
     "output_type": "stream",
     "text": [
      "\r",
      " 26%|█████████████████████                                                            | 26/100 [00:02<00:05, 13.00it/s]"
     ]
    },
    {
     "name": "stdout",
     "output_type": "stream",
     "text": [
      "Episode 100/100."
     ]
    },
    {
     "name": "stderr",
     "output_type": "stream",
     "text": [
      "\r",
      " 28%|██████████████████████▋                                                          | 28/100 [00:02<00:05, 12.75it/s]"
     ]
    },
    {
     "name": "stdout",
     "output_type": "stream",
     "text": [
      "Episode 100/100."
     ]
    },
    {
     "name": "stderr",
     "output_type": "stream",
     "text": [
      "\r",
      " 30%|████████████████████████▎                                                        | 30/100 [00:02<00:05, 13.01it/s]"
     ]
    },
    {
     "name": "stdout",
     "output_type": "stream",
     "text": [
      "Episode 100/100."
     ]
    },
    {
     "name": "stderr",
     "output_type": "stream",
     "text": [
      "\r",
      " 32%|█████████████████████████▉                                                       | 32/100 [00:02<00:05, 12.70it/s]"
     ]
    },
    {
     "name": "stdout",
     "output_type": "stream",
     "text": [
      "Episode 100/100."
     ]
    },
    {
     "name": "stderr",
     "output_type": "stream",
     "text": [
      "\r",
      " 34%|███████████████████████████▌                                                     | 34/100 [00:02<00:05, 12.68it/s]"
     ]
    },
    {
     "name": "stdout",
     "output_type": "stream",
     "text": [
      "Episode 100/100."
     ]
    },
    {
     "name": "stderr",
     "output_type": "stream",
     "text": [
      "\r",
      " 36%|█████████████████████████████▏                                                   | 36/100 [00:02<00:05, 11.88it/s]"
     ]
    },
    {
     "name": "stdout",
     "output_type": "stream",
     "text": [
      "Episode 100/100."
     ]
    },
    {
     "name": "stderr",
     "output_type": "stream",
     "text": [
      "\r",
      " 38%|██████████████████████████████▊                                                  | 38/100 [00:03<00:05, 11.63it/s]"
     ]
    },
    {
     "name": "stdout",
     "output_type": "stream",
     "text": [
      "Episode 100/100."
     ]
    },
    {
     "name": "stderr",
     "output_type": "stream",
     "text": [
      "\r",
      " 40%|████████████████████████████████▍                                                | 40/100 [00:03<00:05, 11.78it/s]"
     ]
    },
    {
     "name": "stdout",
     "output_type": "stream",
     "text": [
      "Episode 100/100."
     ]
    },
    {
     "name": "stderr",
     "output_type": "stream",
     "text": [
      "\r",
      " 42%|██████████████████████████████████                                               | 42/100 [00:03<00:04, 12.27it/s]"
     ]
    },
    {
     "name": "stdout",
     "output_type": "stream",
     "text": [
      "Episode 100/100."
     ]
    },
    {
     "name": "stderr",
     "output_type": "stream",
     "text": [
      "\r",
      " 44%|███████████████████████████████████▋                                             | 44/100 [00:03<00:04, 12.37it/s]"
     ]
    },
    {
     "name": "stdout",
     "output_type": "stream",
     "text": [
      "Episode 100/100."
     ]
    },
    {
     "name": "stderr",
     "output_type": "stream",
     "text": [
      "\r",
      " 46%|█████████████████████████████████████▎                                           | 46/100 [00:03<00:04, 12.80it/s]"
     ]
    },
    {
     "name": "stdout",
     "output_type": "stream",
     "text": [
      "Episode 100/100."
     ]
    },
    {
     "name": "stderr",
     "output_type": "stream",
     "text": [
      "\r",
      " 48%|██████████████████████████████████████▉                                          | 48/100 [00:03<00:04, 12.73it/s]"
     ]
    },
    {
     "name": "stdout",
     "output_type": "stream",
     "text": [
      "Episode 100/100."
     ]
    },
    {
     "name": "stderr",
     "output_type": "stream",
     "text": [
      "\r",
      " 50%|████████████████████████████████████████▌                                        | 50/100 [00:04<00:03, 12.63it/s]"
     ]
    },
    {
     "name": "stdout",
     "output_type": "stream",
     "text": [
      "Episode 100/100."
     ]
    },
    {
     "name": "stderr",
     "output_type": "stream",
     "text": [
      "\r",
      " 52%|██████████████████████████████████████████                                       | 52/100 [00:04<00:03, 12.95it/s]"
     ]
    },
    {
     "name": "stdout",
     "output_type": "stream",
     "text": [
      "Episode 100/100."
     ]
    },
    {
     "name": "stderr",
     "output_type": "stream",
     "text": [
      "\r",
      " 54%|███████████████████████████████████████████▋                                     | 54/100 [00:04<00:03, 12.58it/s]"
     ]
    },
    {
     "name": "stdout",
     "output_type": "stream",
     "text": [
      "Episode 100/100."
     ]
    },
    {
     "name": "stderr",
     "output_type": "stream",
     "text": [
      "\r",
      " 56%|█████████████████████████████████████████████▎                                   | 56/100 [00:04<00:03, 12.02it/s]"
     ]
    },
    {
     "name": "stdout",
     "output_type": "stream",
     "text": [
      "Episode 100/100."
     ]
    },
    {
     "name": "stderr",
     "output_type": "stream",
     "text": [
      "\r",
      " 58%|██████████████████████████████████████████████▉                                  | 58/100 [00:04<00:03, 12.04it/s]"
     ]
    },
    {
     "name": "stdout",
     "output_type": "stream",
     "text": [
      "Episode 100/100."
     ]
    },
    {
     "name": "stderr",
     "output_type": "stream",
     "text": [
      "\r",
      " 60%|████████████████████████████████████████████████▌                                | 60/100 [00:04<00:03, 12.31it/s]"
     ]
    },
    {
     "name": "stdout",
     "output_type": "stream",
     "text": [
      "Episode 100/100."
     ]
    },
    {
     "name": "stderr",
     "output_type": "stream",
     "text": [
      "\r",
      " 62%|██████████████████████████████████████████████████▏                              | 62/100 [00:05<00:03, 12.29it/s]"
     ]
    },
    {
     "name": "stdout",
     "output_type": "stream",
     "text": [
      "Episode 100/100."
     ]
    },
    {
     "name": "stderr",
     "output_type": "stream",
     "text": [
      "\r",
      " 64%|███████████████████████████████████████████████████▊                             | 64/100 [00:05<00:02, 12.49it/s]"
     ]
    },
    {
     "name": "stdout",
     "output_type": "stream",
     "text": [
      "Episode 100/100."
     ]
    },
    {
     "name": "stderr",
     "output_type": "stream",
     "text": [
      "\r",
      " 66%|█████████████████████████████████████████████████████▍                           | 66/100 [00:05<00:02, 12.49it/s]"
     ]
    },
    {
     "name": "stdout",
     "output_type": "stream",
     "text": [
      "Episode 100/100."
     ]
    },
    {
     "name": "stderr",
     "output_type": "stream",
     "text": [
      "\r",
      " 68%|███████████████████████████████████████████████████████                          | 68/100 [00:05<00:02, 12.70it/s]"
     ]
    },
    {
     "name": "stdout",
     "output_type": "stream",
     "text": [
      "Episode 100/100."
     ]
    },
    {
     "name": "stderr",
     "output_type": "stream",
     "text": [
      "\r",
      " 70%|████████████████████████████████████████████████████████▋                        | 70/100 [00:05<00:02, 12.74it/s]"
     ]
    },
    {
     "name": "stdout",
     "output_type": "stream",
     "text": [
      "Episode 100/100."
     ]
    },
    {
     "name": "stderr",
     "output_type": "stream",
     "text": [
      "\r",
      " 72%|██████████████████████████████████████████████████████████▎                      | 72/100 [00:05<00:02, 12.41it/s]"
     ]
    },
    {
     "name": "stdout",
     "output_type": "stream",
     "text": [
      "Episode 100/100."
     ]
    },
    {
     "name": "stderr",
     "output_type": "stream",
     "text": [
      "\r",
      " 74%|███████████████████████████████████████████████████████████▉                     | 74/100 [00:05<00:02, 12.87it/s]"
     ]
    },
    {
     "name": "stdout",
     "output_type": "stream",
     "text": [
      "Episode 100/100."
     ]
    },
    {
     "name": "stderr",
     "output_type": "stream",
     "text": [
      "\r",
      " 76%|█████████████████████████████████████████████████████████████▌                   | 76/100 [00:06<00:01, 12.92it/s]"
     ]
    },
    {
     "name": "stdout",
     "output_type": "stream",
     "text": [
      "Episode 100/100."
     ]
    },
    {
     "name": "stderr",
     "output_type": "stream",
     "text": [
      "\r",
      " 78%|███████████████████████████████████████████████████████████████▏                 | 78/100 [00:06<00:01, 13.20it/s]"
     ]
    },
    {
     "name": "stdout",
     "output_type": "stream",
     "text": [
      "Episode 100/100."
     ]
    },
    {
     "name": "stderr",
     "output_type": "stream",
     "text": [
      "\r",
      " 80%|████████████████████████████████████████████████████████████████▊                | 80/100 [00:06<00:01, 13.06it/s]"
     ]
    },
    {
     "name": "stdout",
     "output_type": "stream",
     "text": [
      "Episode 100/100."
     ]
    },
    {
     "name": "stderr",
     "output_type": "stream",
     "text": [
      "\r",
      " 82%|██████████████████████████████████████████████████████████████████▍              | 82/100 [00:06<00:01, 13.66it/s]"
     ]
    },
    {
     "name": "stdout",
     "output_type": "stream",
     "text": [
      "Episode 100/100."
     ]
    },
    {
     "name": "stderr",
     "output_type": "stream",
     "text": [
      "\r",
      " 84%|████████████████████████████████████████████████████████████████████             | 84/100 [00:06<00:01, 13.70it/s]"
     ]
    },
    {
     "name": "stdout",
     "output_type": "stream",
     "text": [
      "Episode 100/100."
     ]
    },
    {
     "name": "stderr",
     "output_type": "stream",
     "text": [
      "\r",
      " 86%|█████████████████████████████████████████████████████████████████████▋           | 86/100 [00:06<00:01, 13.06it/s]"
     ]
    },
    {
     "name": "stdout",
     "output_type": "stream",
     "text": [
      "Episode 100/100."
     ]
    },
    {
     "name": "stderr",
     "output_type": "stream",
     "text": [
      "\r",
      " 88%|███████████████████████████████████████████████████████████████████████▎         | 88/100 [00:07<00:00, 12.97it/s]"
     ]
    },
    {
     "name": "stdout",
     "output_type": "stream",
     "text": [
      "Episode 100/100."
     ]
    },
    {
     "name": "stderr",
     "output_type": "stream",
     "text": [
      "\r",
      " 90%|████████████████████████████████████████████████████████████████████████▉        | 90/100 [00:07<00:00, 12.85it/s]"
     ]
    },
    {
     "name": "stdout",
     "output_type": "stream",
     "text": [
      "Episode 100/100."
     ]
    },
    {
     "name": "stderr",
     "output_type": "stream",
     "text": [
      "\r",
      " 92%|██████████████████████████████████████████████████████████████████████████▌      | 92/100 [00:07<00:00, 12.81it/s]"
     ]
    },
    {
     "name": "stdout",
     "output_type": "stream",
     "text": [
      "Episode 100/100."
     ]
    },
    {
     "name": "stderr",
     "output_type": "stream",
     "text": [
      "\r",
      " 94%|████████████████████████████████████████████████████████████████████████████▏    | 94/100 [00:07<00:00, 12.78it/s]"
     ]
    },
    {
     "name": "stdout",
     "output_type": "stream",
     "text": [
      "Episode 100/100."
     ]
    },
    {
     "name": "stderr",
     "output_type": "stream",
     "text": [
      "\r",
      " 96%|█████████████████████████████████████████████████████████████████████████████▊   | 96/100 [00:07<00:00, 12.64it/s]"
     ]
    },
    {
     "name": "stdout",
     "output_type": "stream",
     "text": [
      "Episode 100/100."
     ]
    },
    {
     "name": "stderr",
     "output_type": "stream",
     "text": [
      "\r",
      " 98%|███████████████████████████████████████████████████████████████████████████████▍ | 98/100 [00:07<00:00, 12.63it/s]"
     ]
    },
    {
     "name": "stdout",
     "output_type": "stream",
     "text": [
      "Episode 100/100."
     ]
    },
    {
     "name": "stderr",
     "output_type": "stream",
     "text": [
      "100%|████████████████████████████████████████████████████████████████████████████████| 100/100 [00:07<00:00, 12.55it/s]\n",
      "  0%|                                                                                          | 0/100 [00:00<?, ?it/s]"
     ]
    },
    {
     "name": "stdout",
     "output_type": "stream",
     "text": [
      "\r",
      "Episode 100/100."
     ]
    },
    {
     "name": "stderr",
     "output_type": "stream",
     "text": [
      "\r",
      "  1%|▊                                                                                 | 1/100 [00:00<00:10,  9.51it/s]"
     ]
    },
    {
     "name": "stdout",
     "output_type": "stream",
     "text": [
      "Episode 100/100."
     ]
    },
    {
     "name": "stderr",
     "output_type": "stream",
     "text": [
      "\r",
      "  3%|██▍                                                                               | 3/100 [00:00<00:08, 11.96it/s]"
     ]
    },
    {
     "name": "stdout",
     "output_type": "stream",
     "text": [
      "Episode 100/100."
     ]
    },
    {
     "name": "stderr",
     "output_type": "stream",
     "text": [
      "\r",
      "  5%|████                                                                              | 5/100 [00:00<00:07, 12.54it/s]"
     ]
    },
    {
     "name": "stdout",
     "output_type": "stream",
     "text": [
      "Episode 100/100."
     ]
    },
    {
     "name": "stderr",
     "output_type": "stream",
     "text": [
      "\r",
      "  7%|█████▋                                                                            | 7/100 [00:00<00:07, 12.69it/s]"
     ]
    },
    {
     "name": "stdout",
     "output_type": "stream",
     "text": [
      "Episode 100/100."
     ]
    },
    {
     "name": "stderr",
     "output_type": "stream",
     "text": [
      "\r",
      "  9%|███████▍                                                                          | 9/100 [00:00<00:07, 12.88it/s]"
     ]
    },
    {
     "name": "stdout",
     "output_type": "stream",
     "text": [
      "Episode 100/100."
     ]
    },
    {
     "name": "stderr",
     "output_type": "stream",
     "text": [
      "\r",
      " 11%|████████▉                                                                        | 11/100 [00:00<00:07, 12.46it/s]"
     ]
    },
    {
     "name": "stdout",
     "output_type": "stream",
     "text": [
      "Episode 100/100."
     ]
    },
    {
     "name": "stderr",
     "output_type": "stream",
     "text": [
      "\r",
      " 13%|██████████▌                                                                      | 13/100 [00:01<00:06, 12.53it/s]"
     ]
    },
    {
     "name": "stdout",
     "output_type": "stream",
     "text": [
      "Episode 100/100."
     ]
    },
    {
     "name": "stderr",
     "output_type": "stream",
     "text": [
      "\r",
      " 15%|████████████▏                                                                    | 15/100 [00:01<00:06, 12.51it/s]"
     ]
    },
    {
     "name": "stdout",
     "output_type": "stream",
     "text": [
      "Episode 100/100."
     ]
    },
    {
     "name": "stderr",
     "output_type": "stream",
     "text": [
      "\r",
      " 17%|█████████████▊                                                                   | 17/100 [00:01<00:06, 12.52it/s]"
     ]
    },
    {
     "name": "stdout",
     "output_type": "stream",
     "text": [
      "Episode 100/100."
     ]
    },
    {
     "name": "stderr",
     "output_type": "stream",
     "text": [
      "\r",
      " 19%|███████████████▍                                                                 | 19/100 [00:01<00:06, 12.79it/s]"
     ]
    },
    {
     "name": "stdout",
     "output_type": "stream",
     "text": [
      "Episode 100/100."
     ]
    },
    {
     "name": "stderr",
     "output_type": "stream",
     "text": [
      "\r",
      " 21%|█████████████████                                                                | 21/100 [00:01<00:06, 12.79it/s]"
     ]
    },
    {
     "name": "stdout",
     "output_type": "stream",
     "text": [
      "Episode 100/100."
     ]
    },
    {
     "name": "stderr",
     "output_type": "stream",
     "text": [
      "\r",
      " 23%|██████████████████▋                                                              | 23/100 [00:01<00:05, 12.98it/s]"
     ]
    },
    {
     "name": "stdout",
     "output_type": "stream",
     "text": [
      "Episode 100/100."
     ]
    },
    {
     "name": "stderr",
     "output_type": "stream",
     "text": [
      "\r",
      " 25%|████████████████████▎                                                            | 25/100 [00:01<00:05, 13.10it/s]"
     ]
    },
    {
     "name": "stdout",
     "output_type": "stream",
     "text": [
      "Episode 100/100."
     ]
    },
    {
     "name": "stderr",
     "output_type": "stream",
     "text": [
      "\r",
      " 27%|█████████████████████▊                                                           | 27/100 [00:02<00:05, 13.35it/s]"
     ]
    },
    {
     "name": "stdout",
     "output_type": "stream",
     "text": [
      "Episode 100/100."
     ]
    },
    {
     "name": "stderr",
     "output_type": "stream",
     "text": [
      "\r",
      " 29%|███████████████████████▍                                                         | 29/100 [00:02<00:05, 13.03it/s]"
     ]
    },
    {
     "name": "stdout",
     "output_type": "stream",
     "text": [
      "Episode 100/100."
     ]
    },
    {
     "name": "stderr",
     "output_type": "stream",
     "text": [
      "\r",
      " 31%|█████████████████████████                                                        | 31/100 [00:02<00:05, 12.78it/s]"
     ]
    },
    {
     "name": "stdout",
     "output_type": "stream",
     "text": [
      "Episode 100/100."
     ]
    },
    {
     "name": "stderr",
     "output_type": "stream",
     "text": [
      "\r",
      " 33%|██████████████████████████▋                                                      | 33/100 [00:02<00:05, 12.54it/s]"
     ]
    },
    {
     "name": "stdout",
     "output_type": "stream",
     "text": [
      "Episode 100/100."
     ]
    },
    {
     "name": "stderr",
     "output_type": "stream",
     "text": [
      "\r",
      " 35%|████████████████████████████▎                                                    | 35/100 [00:02<00:05, 12.20it/s]"
     ]
    },
    {
     "name": "stdout",
     "output_type": "stream",
     "text": [
      "Episode 100/100."
     ]
    },
    {
     "name": "stderr",
     "output_type": "stream",
     "text": [
      "\r",
      " 37%|█████████████████████████████▉                                                   | 37/100 [00:02<00:05, 11.95it/s]"
     ]
    },
    {
     "name": "stdout",
     "output_type": "stream",
     "text": [
      "Episode 100/100."
     ]
    },
    {
     "name": "stderr",
     "output_type": "stream",
     "text": [
      "\r",
      " 39%|███████████████████████████████▌                                                 | 39/100 [00:03<00:04, 12.21it/s]"
     ]
    },
    {
     "name": "stdout",
     "output_type": "stream",
     "text": [
      "Episode 100/100."
     ]
    },
    {
     "name": "stderr",
     "output_type": "stream",
     "text": [
      "\r",
      " 41%|█████████████████████████████████▏                                               | 41/100 [00:03<00:04, 12.62it/s]"
     ]
    },
    {
     "name": "stdout",
     "output_type": "stream",
     "text": [
      "Episode 100/100."
     ]
    },
    {
     "name": "stderr",
     "output_type": "stream",
     "text": [
      "\r",
      " 43%|██████████████████████████████████▊                                              | 43/100 [00:03<00:04, 12.54it/s]"
     ]
    },
    {
     "name": "stdout",
     "output_type": "stream",
     "text": [
      "Episode 100/100."
     ]
    },
    {
     "name": "stderr",
     "output_type": "stream",
     "text": [
      "\r",
      " 45%|████████████████████████████████████▍                                            | 45/100 [00:03<00:04, 13.15it/s]"
     ]
    },
    {
     "name": "stdout",
     "output_type": "stream",
     "text": [
      "Episode 100/100."
     ]
    },
    {
     "name": "stderr",
     "output_type": "stream",
     "text": [
      "\r",
      " 47%|██████████████████████████████████████                                           | 47/100 [00:03<00:04, 13.03it/s]"
     ]
    },
    {
     "name": "stdout",
     "output_type": "stream",
     "text": [
      "Episode 100/100."
     ]
    },
    {
     "name": "stderr",
     "output_type": "stream",
     "text": [
      "\r",
      " 49%|███████████████████████████████████████▋                                         | 49/100 [00:03<00:03, 12.84it/s]"
     ]
    },
    {
     "name": "stdout",
     "output_type": "stream",
     "text": [
      "Episode 100/100."
     ]
    },
    {
     "name": "stderr",
     "output_type": "stream",
     "text": [
      "\r",
      " 51%|█████████████████████████████████████████▎                                       | 51/100 [00:04<00:03, 12.74it/s]"
     ]
    },
    {
     "name": "stdout",
     "output_type": "stream",
     "text": [
      "Episode 100/100."
     ]
    },
    {
     "name": "stderr",
     "output_type": "stream",
     "text": [
      "\r",
      " 53%|██████████████████████████████████████████▉                                      | 53/100 [00:04<00:03, 12.72it/s]"
     ]
    },
    {
     "name": "stdout",
     "output_type": "stream",
     "text": [
      "Episode 100/100."
     ]
    },
    {
     "name": "stderr",
     "output_type": "stream",
     "text": [
      "\r",
      " 55%|████████████████████████████████████████████▌                                    | 55/100 [00:04<00:03, 12.46it/s]"
     ]
    },
    {
     "name": "stdout",
     "output_type": "stream",
     "text": [
      "Episode 100/100."
     ]
    },
    {
     "name": "stderr",
     "output_type": "stream",
     "text": [
      "\r",
      " 57%|██████████████████████████████████████████████▏                                  | 57/100 [00:04<00:03, 12.56it/s]"
     ]
    },
    {
     "name": "stdout",
     "output_type": "stream",
     "text": [
      "Episode 100/100."
     ]
    },
    {
     "name": "stderr",
     "output_type": "stream",
     "text": [
      "\r",
      " 59%|███████████████████████████████████████████████▊                                 | 59/100 [00:04<00:03, 12.51it/s]"
     ]
    },
    {
     "name": "stdout",
     "output_type": "stream",
     "text": [
      "Episode 100/100."
     ]
    },
    {
     "name": "stderr",
     "output_type": "stream",
     "text": [
      "\r",
      " 61%|█████████████████████████████████████████████████▍                               | 61/100 [00:04<00:03, 12.51it/s]"
     ]
    },
    {
     "name": "stdout",
     "output_type": "stream",
     "text": [
      "Episode 100/100."
     ]
    },
    {
     "name": "stderr",
     "output_type": "stream",
     "text": [
      "\r",
      " 63%|███████████████████████████████████████████████████                              | 63/100 [00:05<00:03, 12.30it/s]"
     ]
    },
    {
     "name": "stdout",
     "output_type": "stream",
     "text": [
      "Episode 100/100."
     ]
    },
    {
     "name": "stderr",
     "output_type": "stream",
     "text": [
      "\r",
      " 65%|████████████████████████████████████████████████████▋                            | 65/100 [00:05<00:02, 12.11it/s]"
     ]
    },
    {
     "name": "stdout",
     "output_type": "stream",
     "text": [
      "Episode 100/100."
     ]
    },
    {
     "name": "stderr",
     "output_type": "stream",
     "text": [
      "\r",
      " 67%|██████████████████████████████████████████████████████▎                          | 67/100 [00:05<00:02, 12.10it/s]"
     ]
    },
    {
     "name": "stdout",
     "output_type": "stream",
     "text": [
      "Episode 100/100."
     ]
    },
    {
     "name": "stderr",
     "output_type": "stream",
     "text": [
      "\r",
      " 69%|███████████████████████████████████████████████████████▉                         | 69/100 [00:05<00:02, 12.39it/s]"
     ]
    },
    {
     "name": "stdout",
     "output_type": "stream",
     "text": [
      "Episode 100/100."
     ]
    },
    {
     "name": "stderr",
     "output_type": "stream",
     "text": [
      "\r",
      " 71%|█████████████████████████████████████████████████████████▌                       | 71/100 [00:05<00:02, 13.20it/s]"
     ]
    },
    {
     "name": "stdout",
     "output_type": "stream",
     "text": [
      "Episode 100/100."
     ]
    },
    {
     "name": "stderr",
     "output_type": "stream",
     "text": [
      "\r",
      " 73%|███████████████████████████████████████████████████████████▏                     | 73/100 [00:05<00:02, 13.16it/s]"
     ]
    },
    {
     "name": "stdout",
     "output_type": "stream",
     "text": [
      "Episode 100/100."
     ]
    },
    {
     "name": "stderr",
     "output_type": "stream",
     "text": [
      "\r",
      " 75%|████████████████████████████████████████████████████████████▊                    | 75/100 [00:05<00:01, 13.20it/s]"
     ]
    },
    {
     "name": "stdout",
     "output_type": "stream",
     "text": [
      "Episode 100/100."
     ]
    },
    {
     "name": "stderr",
     "output_type": "stream",
     "text": [
      "\r",
      " 77%|██████████████████████████████████████████████████████████████▎                  | 77/100 [00:06<00:01, 13.13it/s]"
     ]
    },
    {
     "name": "stdout",
     "output_type": "stream",
     "text": [
      "Episode 100/100."
     ]
    },
    {
     "name": "stderr",
     "output_type": "stream",
     "text": [
      "\r",
      " 79%|███████████████████████████████████████████████████████████████▉                 | 79/100 [00:06<00:01, 12.93it/s]"
     ]
    },
    {
     "name": "stdout",
     "output_type": "stream",
     "text": [
      "Episode 100/100."
     ]
    },
    {
     "name": "stderr",
     "output_type": "stream",
     "text": [
      "\r",
      " 81%|█████████████████████████████████████████████████████████████████▌               | 81/100 [00:06<00:01, 12.65it/s]"
     ]
    },
    {
     "name": "stdout",
     "output_type": "stream",
     "text": [
      "Episode 100/100."
     ]
    },
    {
     "name": "stderr",
     "output_type": "stream",
     "text": [
      "\r",
      " 83%|███████████████████████████████████████████████████████████████████▏             | 83/100 [00:06<00:01, 12.54it/s]"
     ]
    },
    {
     "name": "stdout",
     "output_type": "stream",
     "text": [
      "Episode 100/100."
     ]
    },
    {
     "name": "stderr",
     "output_type": "stream",
     "text": [
      "\r",
      " 85%|████████████████████████████████████████████████████████████████████▊            | 85/100 [00:06<00:01, 12.68it/s]"
     ]
    },
    {
     "name": "stdout",
     "output_type": "stream",
     "text": [
      "Episode 100/100."
     ]
    },
    {
     "name": "stderr",
     "output_type": "stream",
     "text": [
      "\r",
      " 87%|██████████████████████████████████████████████████████████████████████▍          | 87/100 [00:06<00:00, 13.31it/s]"
     ]
    },
    {
     "name": "stdout",
     "output_type": "stream",
     "text": [
      "Episode 100/100."
     ]
    },
    {
     "name": "stderr",
     "output_type": "stream",
     "text": [
      "\r",
      " 89%|████████████████████████████████████████████████████████████████████████         | 89/100 [00:07<00:00, 13.14it/s]"
     ]
    },
    {
     "name": "stdout",
     "output_type": "stream",
     "text": [
      "Episode 100/100."
     ]
    },
    {
     "name": "stderr",
     "output_type": "stream",
     "text": [
      "\r",
      " 91%|█████████████████████████████████████████████████████████████████████████▋       | 91/100 [00:07<00:00, 13.07it/s]"
     ]
    },
    {
     "name": "stdout",
     "output_type": "stream",
     "text": [
      "Episode 100/100."
     ]
    },
    {
     "name": "stderr",
     "output_type": "stream",
     "text": [
      "\r",
      " 93%|███████████████████████████████████████████████████████████████████████████▎     | 93/100 [00:07<00:00, 12.70it/s]"
     ]
    },
    {
     "name": "stdout",
     "output_type": "stream",
     "text": [
      "Episode 100/100."
     ]
    },
    {
     "name": "stderr",
     "output_type": "stream",
     "text": [
      "\r",
      " 95%|████████████████████████████████████████████████████████████████████████████▉    | 95/100 [00:07<00:00, 12.40it/s]"
     ]
    },
    {
     "name": "stdout",
     "output_type": "stream",
     "text": [
      "Episode 100/100."
     ]
    },
    {
     "name": "stderr",
     "output_type": "stream",
     "text": [
      "\r",
      " 97%|██████████████████████████████████████████████████████████████████████████████▌  | 97/100 [00:07<00:00, 12.56it/s]"
     ]
    },
    {
     "name": "stdout",
     "output_type": "stream",
     "text": [
      "Episode 100/100."
     ]
    },
    {
     "name": "stderr",
     "output_type": "stream",
     "text": [
      "\r",
      " 99%|████████████████████████████████████████████████████████████████████████████████▏| 99/100 [00:07<00:00, 12.70it/s]"
     ]
    },
    {
     "name": "stdout",
     "output_type": "stream",
     "text": [
      "\r",
      "Episode 100/100."
     ]
    },
    {
     "name": "stderr",
     "output_type": "stream",
     "text": [
      "100%|████████████████████████████████████████████████████████████████████████████████| 100/100 [00:07<00:00, 12.68it/s]\n"
     ]
    }
   ],
   "source": [
    "agents = [\n",
    "    \"Sarsa_learning\",\"q_learning\"\n",
    "]\n",
    "all_reward_sums = {}\n",
    "step_sizes = np.linspace(0.1,1.0,10)\n",
    "env = gym.make('TextFlappyBird-v0', height = 15, width = 20, pipe_gap = 4)\n",
    "env_info = {}\n",
    "num_runs = 100\n",
    "num_episodes = 100\n",
    "all_reward_sums = {}\n",
    "\n",
    "for algorithm in [\"Sarsa_learning\",\"q_learning\"]:\n",
    "    for step_size in step_sizes:\n",
    "        all_reward_sums[(algorithm, step_size)] = []\n",
    "        return_sum=0\n",
    "        for run in tqdm(range(num_runs)):\n",
    "            if algorithm=='q_learning':\n",
    "                Q_q,q_reward = q_learning(env,num_episodes,step_size)\n",
    "                return_sum+=np.mean(q_reward)\n",
    "            if algorithm =='Sarsa_learning':\n",
    "                Q_sarsa,s_reward = sarsa(env,num_episodes,step_size)\n",
    "                return_sum+=np.mean(s_reward)\n",
    "            all_reward_sums[(algorithm, step_size)].append(return_sum/num_episodes)\n"
   ]
  },
  {
   "cell_type": "code",
   "execution_count": 39,
   "id": "d965b946",
   "metadata": {},
   "outputs": [
    {
     "data": {
      "image/png": "[encoded data removed]",
      "text/plain": [
       "<Figure size 432x288 with 1 Axes>"
      ]
     },
     "metadata": {
      "needs_background": "light"
     },
     "output_type": "display_data"
    }
   ],
   "source": [
    "for algorithm in [\"Sarsa_learning\",\"q_learning\"]:\n",
    "    algorithm_means = np.array([np.mean(all_reward_sums[(algorithm, step_size)]) for step_size in step_sizes])\n",
    "    algorithm_stds = np.array([sem(all_reward_sums[(algorithm, step_size)]) for step_size in step_sizes])\n",
    "    plt.plot(step_sizes, algorithm_means, marker='o', linestyle='solid', label=algorithm)\n",
    "    plt.fill_between(step_sizes, algorithm_means + algorithm_stds, algorithm_means - algorithm_stds, alpha=0.2)\n",
    "\n",
    "plt.legend()\n",
    "plt.xlabel(\"Step-size\")\n",
    "plt.ylabel(\"Sum of\\n rewards\\n per episode\",rotation=0, labelpad=50)\n",
    "plt.xticks(step_sizes)\n",
    "plt.show()"
   ]
  },
  {
   "cell_type": "code",
   "execution_count": null,
   "id": "d8797bcf",
   "metadata": {},
   "outputs": [],
   "source": []
  }
 ],
 "metadata": {
  "kernelspec": {
   "display_name": "Python 3",
   "language": "python",
   "name": "python3"
  },
  "language_info": {
   "codemirror_mode": {
    "name": "ipython",
    "version": 3
   },
   "file_extension": ".py",
   "mimetype": "text/x-python",
   "name": "python",
   "nbconvert_exporter": "python",
   "pygments_lexer": "ipython3",
   "version": "3.8.8"
  }
 },
 "nbformat": 4,
 "nbformat_minor": 5
}
